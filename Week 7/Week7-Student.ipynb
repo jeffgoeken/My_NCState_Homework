{
 "cells": [
  {
   "cell_type": "markdown",
   "metadata": {},
   "source": [
    "# Workshop 7 [Student]\n",
    "\n",
    "This notebook will cover the following topics:\n",
    "\n",
    "1. Opening Files for use\n",
    "    - Reading\n",
    "    - Writing\n",
    "2. Cursors\n",
    "3. CSV Files\n",
    "4. Exception Handling\n",
    "5. Reading in files as classes\n",
    "6. Using JSON files"
   ]
  },
  {
   "cell_type": "markdown",
   "metadata": {},
   "source": [
    "## 7.1 OPENING FILES (Follow)\n",
    "\n",
    "**Learning Objectives:**\n",
    "\n",
    "1. Understand how to use files.\n",
    "2. Understand reading and writing in files.\n",
    "3. Understand Context Managers.\n",
    "4. Learn to manipulate file system."
   ]
  },
  {
   "cell_type": "code",
   "execution_count": null,
   "metadata": {},
   "outputs": [],
   "source": [
    "\"\"\"\n",
    "Add comments for you own reference\n",
    "\"\"\"\n",
    "# file read/write flags\n",
    "# 'r' read\n",
    "# 'r+' read/write\n",
    "# 'w' write\n",
    "# 'w+' write/read\n",
    "# 'a' append\n",
    "# 'a+' append/read\n",
    "\n",
    "def main():\n",
    "    file = open('test.txt', 'r')\n",
    "    print(file.read())\n",
    "    print()\n",
    "    file.close()\n",
    "    \n",
    "    file = open('test.txt', 'r')\n",
    "    lines = file.readlines()\n",
    "    print(lines)\n",
    "    print()\n",
    "    file.close()\n",
    "    \n",
    "    with open('test.txt', 'r') as file:\n",
    "        print(file.read())\n",
    "    \n",
    "main()"
   ]
  },
  {
   "cell_type": "code",
   "execution_count": null,
   "metadata": {},
   "outputs": [],
   "source": [
    "\"\"\"\n",
    "Add comments for you own reference\n",
    "\"\"\"\n",
    "\n",
    "def main():\n",
    "    with open('test2.txt', 'w+') as file:\n",
    "        file.write(\"This is a new file\\n\")\n",
    "        file.write(\"Lets change the text\\n\")\n",
    "    \n",
    "    file = open('test2.txt', 'r')\n",
    "    print(file.read())\n",
    "    file.close()\n",
    "    \n",
    "main()"
   ]
  },
  {
   "cell_type": "code",
   "execution_count": null,
   "metadata": {},
   "outputs": [],
   "source": [
    "\"\"\"\n",
    "Add comments for you own reference\n",
    "\"\"\"\n",
    "\n",
    "def main():\n",
    "    with open('test2.txt', 'a+') as file:\n",
    "        file.write(\"Lets Add to the file\\n\")\n",
    "        file.write(\"See what happens when you run the code again and again\\n\")\n",
    "    \n",
    "    file = open('test2.txt', 'r')\n",
    "    print(file.read())\n",
    "    file.close()\n",
    "    \n",
    "main()"
   ]
  },
  {
   "cell_type": "markdown",
   "metadata": {},
   "source": [
    "**Evaluation:**\n",
    "\n",
    "After running this program, think about and answer these questions:\n",
    "\n",
    "1. What would happen if files are not closed?\n",
    "2. What is the major pro and con of writing and appending?\n",
    "3. Try to read a file with different extension."
   ]
  },
  {
   "cell_type": "markdown",
   "metadata": {},
   "source": [
    "## 7.1 OPENING FILES (Group)\n",
    "\n",
    "Write a program that will do the following:\n",
    "\n",
    "1. Create a new file named 'Workshop.txt'\n",
    "2. Write a random number in the file\n",
    "3. Retrive the number by reading the file\n",
    "4. Append the multiplication table of the number (1 - 10) in the file"
   ]
  },
  {
   "cell_type": "code",
   "execution_count": null,
   "metadata": {},
   "outputs": [],
   "source": [
    "class FileHandling:\n",
    "    def __init__(self,FileName):\n",
    "        self.filename = FileName\n",
    "        self.data = None\n",
    "\n",
    "    def writeFile(self,Data):\n",
    "        with open(self.filename,'w') as file:\n",
    "            Data += '\\n'\n",
    "            file.write(Data)\n",
    "            \n",
    "\n",
    "    def AppendFile(self,Appended):\n",
    "        with open(self.filename,'a') as file:\n",
    "            file.write(Appended)\n",
    "               \n",
    "    \n",
    "\n",
    "    def readFile(self):\n",
    "        with open(self.filename,'r') as file:\n",
    "            self.data = int(file.read())\n",
    "            print(self.data)\n",
    "\n",
    "    def __str__(self):\n",
    "        with open(self.filename,'r') as file:\n",
    "            self.data = file.read()\n",
    "            return self.data       \n",
    "            \n",
    "\n",
    "    def multiply(self):\n",
    "        mlist = []\n",
    "        for i in range(11):\n",
    "            mlist.append(i*self.data)\n",
    "            output = f'The random number was {self.data}, the multiples of {self.data} are: \\n{mlist}'\n",
    "        self.AppendFile(str(output))\n",
    "\n",
    "    \n",
    "    def getData(self):\n",
    "        print(self.data)\n",
    "    \n",
    "myfile = FileHandling('Workshop.txt')\n",
    "myfile.writeFile('7')\n",
    "myfile.readFile()\n",
    "\n",
    "myfile.multiply()\n",
    "print(myfile)"
   ]
  },
  {
   "cell_type": "markdown",
   "metadata": {},
   "source": [
    "## 7.2 CURSORS (Follow)\n",
    "\n",
    "**Learning Objectives:**\n",
    "\n",
    "1. Understand how cursors work.\n",
    "2. Understand reading and writing with help of cursor.\n",
    "3. Understand seek and tell functions.\n",
    "4. Learn to manipulate cursor in a file."
   ]
  },
  {
   "cell_type": "code",
   "execution_count": null,
   "metadata": {},
   "outputs": [],
   "source": [
    "\"\"\"\n",
    "Add comments for you own reference\n",
    "\"\"\"\n",
    "\n",
    "def main():  \n",
    "    with open('test.txt', 'r') as file:\n",
    "        print(file.read())\n",
    "        print(\"\\nLets read again:\")\n",
    "        print(file.read())\n",
    "        file.close()\n",
    "    \n",
    "    print('-----------------------------')\n",
    "    with open('test2.txt', 'r') as file:\n",
    "        print(file.readline())\n",
    "        print(file.readline())\n",
    "        print(\"Continuing to READ:\\n\")\n",
    "        print(file.read(2))\n",
    "        print(file.read())\n",
    "main()"
   ]
  },
  {
   "cell_type": "code",
   "execution_count": null,
   "metadata": {},
   "outputs": [],
   "source": [
    "\"\"\"\n",
    "Add comments for you own reference\n",
    "\"\"\"\n",
    "\n",
    "def main():  \n",
    "    with open('test.txt', 'r') as file:\n",
    "        print(\"Cursor is at - \",file.tell())\n",
    "        print(file.readline())\n",
    "        print(\"Cursor is at - \",file.tell())\n",
    "        file.seek(12)\n",
    "        print(\"Cursor is at - \",file.tell())\n",
    "        print(file.readline())\n",
    "        print(\"Cursor is at - \",file.tell())\n",
    "\n",
    "main()"
   ]
  },
  {
   "cell_type": "markdown",
   "metadata": {},
   "source": [
    "**Evaluation:**\n",
    "\n",
    "After running this program, think about and answer these questions:\n",
    "\n",
    "1. What does the read() function do?\n",
    "2. What does the tell() function do?\n",
    "3. What does the seek() function do?"
   ]
  },
  {
   "cell_type": "markdown",
   "metadata": {},
   "source": [
    "## 7.2 CURSORS (Group)\n",
    "\n",
    "Write a program that will do the following:\n",
    "\n",
    "1. Use the file 'Workshop.txt'\n",
    "2. Read the file first to get the total number of characters in file.\n",
    "3. Use seek and tell to create a new file 'Workshop_rev.txt' that is a copy of the file in reverse order.\n",
    "4. Read and print 'Workshop_rev.txt'"
   ]
  },
  {
   "cell_type": "code",
   "execution_count": null,
   "metadata": {},
   "outputs": [],
   "source": [
    "class FileHandling:\n",
    "    def __init__(self,FileName):\n",
    "        self.filename = FileName\n",
    "        self.data = None\n",
    "\n",
    "    def writeFile(self,Data):\n",
    "        with open(self.filename,'w') as file:\n",
    "            Data += '\\n'\n",
    "            file.write(Data)\n",
    "            \n",
    "\n",
    "    def AppendFile(self,Appended):\n",
    "        with open(self.filename,'a') as file:\n",
    "            file.write(Appended)\n",
    "               \n",
    "    \n",
    "\n",
    "    def readFile(self):\n",
    "        with open(self.filename,'r') as file:\n",
    "            self.data = file.read()\n",
    "\n",
    "    def __str__(self):\n",
    "        with open(self.filename,'r') as file:\n",
    "            self.data = file.read()\n",
    "            return self.data       \n",
    "            \n",
    "\n",
    "    def multiply(self):\n",
    "        mlist = []\n",
    "        for i in range(13):\n",
    "            mlist.append(i*int(self.data))\n",
    "            output = f'The random number was {self.data}The multiples of {self.data} are: \\n{mlist}'\n",
    "        self.AppendFile(str(output))\n",
    "\n",
    "    \n",
    "    def CursorExample(self):\n",
    "        with open(self.filename,'r') as file:\n",
    "             file.read()\n",
    "             print(\"Cursor is at - \",file.tell())\n",
    "             print(self.data[::-1])\n",
    "             Workshop_rev = FileHandling('Workshop_rev.txt')\n",
    "             Workshop_rev.writeFile(self.data[::-1])\n",
    "\n",
    "\n",
    "            \n",
    "\n",
    "\n",
    "    \n",
    "myfile = FileHandling('Workshop.txt')\n",
    "myfile.readFile()\n",
    "myfile.CursorExample()\n"
   ]
  },
  {
   "cell_type": "markdown",
   "metadata": {},
   "source": [
    "## 7.3 CSV FILES (Follow)\n",
    "\n",
    "**Learning Objectives:**\n",
    "\n",
    "1. Understand how to read CSV files.\n",
    "2. Understand how to deal with CSV files.\n",
    "3. Understnad how to deal with non-standard encoded files.\n",
    "4. Learn to implement writer and reader from csv module."
   ]
  },
  {
   "cell_type": "code",
   "execution_count": null,
   "metadata": {},
   "outputs": [],
   "source": [
    "\"\"\"\n",
    "Add comments for you own reference\n",
    "\"\"\"\n",
    "\n",
    "import csv\n",
    "\n",
    "with open('grades.csv', mode = 'w', newline='') as grades:\n",
    "        writer = csv.writer(grades)\n",
    "        writer.writerow([1, 'Tom', 98])\n",
    "        writer.writerow([2, 'Matt', 75])\n",
    "        writer.writerow([3, 'Bob', 62])\n",
    "        writer.writerow([4, 'Kev', 45])\n",
    "        writer.writerow([5, 'Pam', 23])\n",
    "        writer.writerow([6, 'Sam', 100])\n",
    "        \n",
    "with open('grades.csv', 'r', newline='') as grades:\n",
    "    print(f'{\"ID\":<4}{\"Name\":<7}{\"Score\"}')\n",
    "    reader = csv.reader(grades)\n",
    "    for record in reader:\n",
    "        student_id, name, score = record\n",
    "        \n",
    "        print(f'{student_id:<4}{name:<7}{score}')"
   ]
  },
  {
   "cell_type": "markdown",
   "metadata": {},
   "source": [
    "**Evaluation:**\n",
    "\n",
    "After running this program, think about and answer these questions:\n",
    "\n",
    "1. What does the writer function do?\n",
    "2. What does the reader function do?\n",
    "3. How the the reader function read data?"
   ]
  },
  {
   "cell_type": "markdown",
   "metadata": {},
   "source": [
    "## 7.3 CSV FILES (Group)\n",
    "\n",
    "Write a program that will do the following:\n",
    "\n",
    "1. Use the same 'grades.csv' file\n",
    "2. Read the grades of the student and assign a Letter grade to them\n",
    "    - 90+ : A\n",
    "    - 70+ : B\n",
    "    - 60+ : C\n",
    "    - 40+ : D\n",
    "    - 40- : F\n",
    "3. Create a new file 'updated_grades.csv' and write the new data in the file.\n",
    "4. Display the contents of the file 'updated_grades.csv'"
   ]
  },
  {
   "cell_type": "code",
   "execution_count": null,
   "metadata": {},
   "outputs": [],
   "source": [
    "import csv\n",
    "class csv73():\n",
    "    def __init__(self,Filename):\n",
    "        self.studentData = []\n",
    "        self.filename = Filename\n",
    "        self.data = None\n",
    "    \n",
    "    def readCSV(self):\n",
    "        with open(self.filename, 'r', newline='') as grades:\n",
    "            print(f'{\"ID\":<4}{\"Name\":<7}{\"Score\"}')\n",
    "            reader = csv.reader(grades)\n",
    "            for record in reader:\n",
    "                student_id, name, score = record\n",
    "                letterGrade = self.assignLetterGrade(score)\n",
    "                self.studentData.append([student_id, name, score,letterGrade])\n",
    "                #print(f'{student_id:<4}{name:<7}{score}')\n",
    "\n",
    "    def assignLetterGrade(self,v):\n",
    "        if int(v) > 89:\n",
    "            return 'A'\n",
    "        elif int(v) < 90 and int(v) > 69:\n",
    "            return 'B'\n",
    "        elif int(v) < 70 and int(v) > 59:\n",
    "            return 'C'\n",
    "        elif int(v) < 60 and int(v) > 39:\n",
    "            return 'D'\n",
    "        else:\n",
    "            return 'F'\n",
    "\n",
    "    def writeCSV(self,outFileName):\n",
    "        with open(outFileName, mode = 'w', newline='') as grades:\n",
    "            writer = csv.writer(grades)\n",
    "            for record in self.studentData:\n",
    "                writer.writerow(record)\n",
    "                \n",
    "            \n",
    " \n",
    "    def __str__(self):\n",
    "        return f'{self.studentData}'\n"
   ]
  },
  {
   "cell_type": "code",
   "execution_count": null,
   "metadata": {},
   "outputs": [],
   "source": [
    "myfile = csv73('grades.csv')\n",
    "myfile.readCSV()\n",
    "print(myfile)\n",
    "myfile.writeCSV('test.csv')\n"
   ]
  },
  {
   "cell_type": "markdown",
   "metadata": {},
   "source": [
    "## 7.4 EXCEPTIONS (Follow)\n",
    "\n",
    "**Learning Objectives:**\n",
    "\n",
    "1. Understand the types of exceptions that can arise while file handling.\n",
    "2. Learn to deal with exceptions.\n",
    "3. Understand what is the importance and meaning of different file handling exceptions."
   ]
  },
  {
   "cell_type": "code",
   "execution_count": null,
   "metadata": {},
   "outputs": [],
   "source": [
    "\"\"\"\n",
    "Add comments for you own reference\n",
    "\"\"\"\n",
    "\n",
    "import io\n",
    "\n",
    "def main():\n",
    "    name = input(\"Enter file name: \")\n",
    "    try:\n",
    "        file = open(name,'r')\n",
    "        print(file.read())\n",
    "#         file.write(\"HEY\")\n",
    "        file.close()\n",
    "    except FileNotFoundError:\n",
    "        print(\"No such file exists !\")\n",
    "    except PermissionError:\n",
    "        print(\"You do not have access here\")\n",
    "    except io.UnsupportedOperation:\n",
    "        print(\"File opened in read mode !\")\n",
    "main()"
   ]
  },
  {
   "cell_type": "markdown",
   "metadata": {},
   "source": [
    "**Evaluation:**\n",
    "\n",
    "After running this program, think about and answer these questions:\n",
    "\n",
    "1. What kind of other exceptions can arise?\n",
    "2. Lookup the exceptions in the above code and describe them briefly below.\n",
    "3. Can using context Manager avoid any exceptions or errors?"
   ]
  },
  {
   "cell_type": "markdown",
   "metadata": {},
   "source": [
    "## 7.4 EXCEPTIONS (Group)\n",
    "\n",
    "Write a program that will do the following:\n",
    "\n",
    "1. Use the code snippet above\n",
    "2. Ask the user the mode of opening the file and open the file in requested mode.\n",
    "3. Give user option to read, write or append after opening the file.\n",
    "4. Handle any exception during this process.\n",
    "5. Dont forget to close the file."
   ]
  },
  {
   "cell_type": "code",
   "execution_count": null,
   "metadata": {},
   "outputs": [],
   "source": [
    "import csv\n"
   ]
  },
  {
   "cell_type": "markdown",
   "metadata": {},
   "source": [
    "## 7.5  Reading in files as classes (Follow):  \n",
    "\n",
    "**Learning Objectives:**\n",
    "\n",
    "    1. Understand how to read a file in as a class.\n",
    "    2. Understand why reading a file as a class can be useful."
   ]
  },
  {
   "cell_type": "code",
   "execution_count": null,
   "metadata": {},
   "outputs": [],
   "source": [
    "# add comments to the code\n",
    "\n",
    "import csv\n",
    "\n",
    "class Athlete:\n",
    "    def __init__(self, name, sex, age, height, weight, team, noc, games, year, season, city, sport, event, medal):\n",
    "        self.__name = name\n",
    "        self.__sex = sex\n",
    "        self.__age = age\n",
    "        self.__height = height\n",
    "        self.__weight = weight\n",
    "        self.__team = team\n",
    "        self.__noc = noc\n",
    "        self.__games = games\n",
    "        self.__year = year\n",
    "        self.__season = season\n",
    "        self.__city = city\n",
    "        self.__sport = sport\n",
    "        self.__event = event\n",
    "        self.__medal = medal\n",
    "        \n",
    "        \n",
    "    def get_age(self):\n",
    "        try:\n",
    "            if int(self.__age) > 0:\n",
    "                return int(self.__age)\n",
    "        except:\n",
    "            pass\n",
    "            return 0\n",
    "        \n",
    "        "
   ]
  },
  {
   "cell_type": "code",
   "execution_count": null,
   "metadata": {},
   "outputs": [],
   "source": [
    "athlete_list = []\n",
    "age_total = 0\n",
    "\n",
    "with open('athlete_events_short.csv', 'r', newline='') as athletes:\n",
    "    reader = csv.reader(athletes)\n",
    "    \n",
    "    header = next(reader)\n",
    "    \n",
    "    for line in reader:\n",
    "        new_athlete = Athlete(line[1], line[2], line[3], line[4], line[5], line[6], \n",
    "            line[7], line[8], line[9], line[10], line[11], line[12], line[13], line[14])\n",
    "        athlete_list.append(new_athlete)\n",
    "        \n",
    "for athlete in athlete_list:\n",
    "    age_total += athlete.get_age()\n",
    "    \n",
    "print(\" Average age in years for all olympians = \", age_total/len(athlete_list))"
   ]
  },
  {
   "cell_type": "markdown",
   "metadata": {},
   "source": [
    "### As the above code executes, think about the following questions:\n",
    "\n",
    "1. What is this program doing?\n",
    "2. What does the newline='' do in line 4 above?\n",
    "3. What doe line 7 do?  Why is it there?\n",
    "4. Why did I implement a try/except block in 21-27 in the above code example?\n",
    "5. Am I actually finding the average age?  Explain."
   ]
  },
  {
   "cell_type": "markdown",
   "metadata": {},
   "source": [
    "## 7.5  Reading in files as classes (Group):  \n",
    "\n",
    "**Write a program that will do the following:**\n",
    "\n",
    "    1. Take the code above in 7.5 and extend it.  \n",
    "    2. Read in the file and compute the average weight and average height.\n",
    "    3. Also try to find the maximum height of all athletes.\n",
    "    4. Report the findings to the console."
   ]
  },
  {
   "cell_type": "code",
   "execution_count": null,
   "metadata": {},
   "outputs": [],
   "source": [
    "\n"
   ]
  },
  {
   "cell_type": "code",
   "execution_count": null,
   "metadata": {},
   "outputs": [],
   "source": [
    "\n"
   ]
  },
  {
   "cell_type": "markdown",
   "metadata": {},
   "source": [
    "## 7.6  Using JSON files (Follow):  \n",
    "\n",
    "**Learning Objectives:**\n",
    "\n",
    "    1. Understand what a JSON file is.\n",
    "    2. Understand how to use JSON files."
   ]
  },
  {
   "cell_type": "code",
   "execution_count": null,
   "metadata": {},
   "outputs": [],
   "source": [
    "import json\n",
    "  \n",
    "f = open('example.json')\n",
    "  \n",
    "data = json.load(f)\n",
    "  \n",
    "for i in data:\n",
    "    print(i, ':', data[i])\n",
    "  \n",
    "print('\\n', json.dumps(data, indent = 4, sort_keys=False))\n",
    "\n",
    "f.close()"
   ]
  },
  {
   "cell_type": "markdown",
   "metadata": {},
   "source": [
    "### As the above code executes, think about the following questions:\n",
    "\n",
    "1. What does a JSON file contain?\n",
    "2. How could we use a JSON file?\n",
    "3. Where do JSON files come from?"
   ]
  },
  {
   "cell_type": "markdown",
   "metadata": {},
   "source": [
    "## 7.6 Using JSON files. (Group):  \n",
    "\n",
    "**Write a program that will do the following:**\n",
    "\n",
    "    1. Create a JSON file from a dictionary.\n",
    "    2. Open the JSON file just like you open a text file.  \n",
    "    3. Just make sure you name the file with a .JSON file extension.\n",
    "    4. Create the dictionary from some context in your life or work.\n",
    "    5. Use the json.dump command from above to write to the file."
   ]
  },
  {
   "cell_type": "code",
   "execution_count": null,
   "metadata": {},
   "outputs": [],
   "source": [
    "\n"
   ]
  }
 ],
 "metadata": {
  "kernelspec": {
   "display_name": "Python 3",
   "language": "python",
   "name": "python3"
  },
  "language_info": {
   "codemirror_mode": {
    "name": "ipython",
    "version": 3
   },
   "file_extension": ".py",
   "mimetype": "text/x-python",
   "name": "python",
   "nbconvert_exporter": "python",
   "pygments_lexer": "ipython3",
   "version": "3.7.7"
  },
  "vscode": {
   "interpreter": {
    "hash": "5109d816b82be14675a6b11f8e0f0d2e80f029176ed3710d54e125caa8520dfd"
   }
  }
 },
 "nbformat": 4,
 "nbformat_minor": 2
}
