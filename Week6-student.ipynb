{
 "cells": [
  {
   "cell_type": "markdown",
   "metadata": {},
   "source": [
    "# Workshop 6 [Student]\n",
    "\n",
    "This notebook will cover the following topics:\n",
    "\n",
    "1. Graphs\n",
    "2. Trees\n",
    "4. Binary Trees\n",
    "5. Traversals\n",
    "6. Searching\n",
    "    - BFS\n",
    "    - DFS"
   ]
  },
  {
   "cell_type": "markdown",
   "metadata": {},
   "source": [
    "## 6.1 GRAPHS AND TREES (NETWORKX) (Follow)\n",
    "\n",
    "**Learning Objectives:**\n",
    "\n",
    "1. Understand the structure of graphs.\n",
    "2. Understand how to create graphs.\n",
    "3. Understand the network X library in python.\n",
    "4. Learn to use network X"
   ]
  },
  {
   "cell_type": "code",
   "execution_count": null,
   "metadata": {},
   "outputs": [],
   "source": [
    "pip install networkx"
   ]
  },
  {
   "cell_type": "code",
   "execution_count": null,
   "metadata": {},
   "outputs": [],
   "source": [
    "\"\"\"\n",
    "Add comments for you own reference\n",
    "\n",
    "Code Reference: \n",
    "https://networkx.org/documentation/stable/reference/introduction.html\n",
    "\"\"\"\n",
    "import numpy\n",
    "numpy.random.seed(42)\n",
    "\n",
    "import networkx as nx\n",
    "\n",
    "G = nx.Graph()\n",
    "G.add_node(1)\n",
    "G.add_node(2)\n",
    "G.add_nodes_from([3, 4, 5])\n",
    "\n",
    "G.add_edge(1, 2)\n",
    "G.add_edge(1, 3)\n",
    "G.add_edge(3, 4)\n",
    "G.add_edge(3, 5)\n",
    "G.add_edge(2, 5)\n",
    "G.add_edge(1, 5)\n",
    "\n",
    "nx.draw(G, with_labels = True)\n",
    "\n",
    "print(\"The number of nodes in the graph = \", G.number_of_nodes())\n",
    "print(\"The number of edges in the graph = \", G.number_of_edges())"
   ]
  },
  {
   "cell_type": "code",
   "execution_count": null,
   "metadata": {},
   "outputs": [],
   "source": [
    "\"\"\"\n",
    "Add comments for you own reference\n",
    "\n",
    "Code Reference: \n",
    "https://networkx.org/documentation/stable/reference/introduction.html\n",
    "\"\"\"\n",
    "\n",
    "import networkx as nx\n",
    "numpy.random.seed(42)\n",
    "\n",
    "G = nx.Graph()\n",
    "elist = [('a', 'b'), ('a', 'c'),('a', 'x'),('b', 'd'), ('b', 'g'),('c', 'e'), ('c', 'f')]\n",
    "G.add_edges_from(elist)\n",
    "\n",
    "nx.draw(G, with_labels = True)\n",
    "\n",
    "print(\"The number of nodes in the tree = \", G.number_of_nodes())\n",
    "print(\"The number of edges in the tree = \", G.number_of_edges())\n",
    "print(\"The Root of tree = a\")"
   ]
  },
  {
   "cell_type": "markdown",
   "metadata": {},
   "source": [
    "**Evaluation:**\n",
    "\n",
    "After running this program, think about and answer these questions:\n",
    "\n",
    "1. How the graph is defined?\n",
    "2. What is the difference between adding nodes and edges serpeately and adding via edge list?\n",
    "3. How does visualization of graph help?"
   ]
  },
  {
   "cell_type": "markdown",
   "metadata": {},
   "source": []
  },
  {
   "cell_type": "markdown",
   "metadata": {},
   "source": [
    "## 6.1 GRAPHS AND TREES (NETWORKX) (Group)\n",
    "\n",
    "Write a program that will do the following:\n",
    "\n",
    "1. Create a graph based on user input\n",
    "2. Take number of nodes from user and ask user to enter edges (you can get creative in taking inputs)\n",
    "3. (Optional) Get labels of each node\n",
    "4. Use networkx to create a graph / tree as required by the user.\n",
    "5. Display the graph\n"
   ]
  },
  {
   "cell_type": "code",
   "execution_count": null,
   "metadata": {},
   "outputs": [],
   "source": [
    "import networkx as nx\n",
    "\n",
    "num_nodes = input(\"Enter the number of nodes in the graph: \")\n",
    "G = nx.Graph()\n",
    "elist = []\n",
    "for i in range(int(num_nodes)):\n",
    "    elist.append(tuple(input('please enter space seperated values for the edge: ').split() ))\n",
    "\n",
    "print(elist)\n",
    "G.add_edges_from(elist)\n",
    "nx.draw(G, with_labels = True)\n"
   ]
  },
  {
   "cell_type": "markdown",
   "metadata": {},
   "source": [
    "## 6.2 GRAPHS AND TREES (Follow)\n",
    "**Learning Objectives:**\n",
    "\n",
    "1. Understand Graph as a class.\n",
    "2. Learn to naviagate Graphs and trees.\n",
    "3. Understand the defaultdict in Python.\n",
    "4. Learn to use Graph class to perform graph operations"
   ]
  },
  {
   "cell_type": "code",
   "execution_count": null,
   "metadata": {},
   "outputs": [],
   "source": [
    "\"\"\"\n",
    "Add comments for you own reference\n",
    "\"\"\"\n",
    "\n",
    "from collections import defaultdict\n",
    "import networkx as nx\n",
    " \n",
    "class Graph:\n",
    "    def __init__(self):\n",
    "        self.graph = defaultdict(list)\n",
    " \n",
    "    def addEdge(self,u,v):\n",
    "        self.graph[u].append(v)\n",
    "        print(self.graph)\n",
    "    \n",
    "    def plotGraph(self):\n",
    "        plot = nx.Graph()\n",
    "        elist = []\n",
    "        for i in self.graph:\n",
    "            for j in self.graph[i]:\n",
    "                elist.append((i,j))\n",
    "        plot.add_edges_from(elist)\n",
    "        nx.draw(plot, with_labels = True)\n",
    "\n",
    "\n",
    "\n",
    "            "
   ]
  },
  {
   "cell_type": "code",
   "execution_count": null,
   "metadata": {},
   "outputs": [],
   "source": [
    "\"\"\"\n",
    "Add comments for you own reference\n",
    "\"\"\"\n",
    "\n",
    "g = Graph()\n",
    "g.addEdge(1, 2)\n",
    "g.addEdge(1, 3)\n",
    "g.addEdge(3, 4)\n",
    "g.addEdge(3, 5)\n",
    "g.addEdge(2, 5)\n",
    "g.addEdge(1, 5)\n",
    "g.plotGraph()"
   ]
  },
  {
   "cell_type": "code",
   "execution_count": null,
   "metadata": {},
   "outputs": [],
   "source": [
    "\"\"\"\n",
    "Add comments for you own reference\n",
    "\"\"\"\n",
    "\n",
    "t = Graph()\n",
    "t.addEdge('a', 'b')\n",
    "t.addEdge('a', 'c')\n",
    "t.addEdge('a', 'x')\n",
    "t.addEdge('b', 'd')\n",
    "t.addEdge('b', 'g')\n",
    "t.addEdge('c', 'e')\n",
    "t.addEdge('c', 'f')\n",
    "t.plotGraph()"
   ]
  },
  {
   "cell_type": "markdown",
   "metadata": {},
   "source": [
    "**Evaluation:**\n",
    "\n",
    "After running this program, think about and answer these questions:\n",
    "\n",
    "1. How does class structure store nodes and edges?\n",
    "2. What is the use of this class structure?\n",
    "3. Try plotting different graphs."
   ]
  },
  {
   "cell_type": "markdown",
   "metadata": {},
   "source": [
    "## 6.2 GRAPHS AND TREES (Group)\n",
    "\n",
    "Write a program that will do the following:\n",
    "\n",
    "1. Use the Class Graph to create a random graph\n",
    "2. Get number of nodes and number of edges from the user.\n",
    "3. Randomly assign edges to the graph (e > number of nodes)\n",
    "4. Display the resulting graph."
   ]
  },
  {
   "cell_type": "code",
   "execution_count": null,
   "metadata": {},
   "outputs": [],
   "source": [
    "from collections import defaultdict\n",
    "import networkx as nx\n",
    "import random\n",
    " \n",
    "class Graph:\n",
    "    def __init__(self,Nodes):\n",
    "        self.__nodes = Nodes\n",
    "        self.__edges = []\n",
    "\n",
    " \n",
    "    def setEdges(self):\n",
    "        for node in range(self.__nodes):\n",
    "            self.__edges.append((self.randomizeEdges(), self.randomizeEdges()))\n",
    "              \n",
    "    \n",
    "    def randomizeEdges(self):\n",
    "        return random.randint(1, self.__nodes)\n",
    "    def __str__(self):\n",
    "        return f'{self.__nodes} Number of Nodes\\n{self.__edges} Number of edges'\n",
    "\n",
    "    def PlotGraph(self):\n",
    "        plot = nx.Graph()\n",
    "        plot.add_nodes_from(range(1,self.__nodes+1))\n",
    "        plot.add_edges_from(self.__edges)\n",
    "        nx.draw(plot, with_labels = True)\n",
    "    \n",
    "g = Graph(5)\n",
    "g.setEdges()\n",
    "g.PlotGraph()\n",
    "print(g)\n"
   ]
  },
  {
   "cell_type": "markdown",
   "metadata": {},
   "source": [
    "## 6.3 BINARY TREES (Follow)\n",
    "**Learning Objectives:**\n",
    "\n",
    "1. Understand binary trees.\n",
    "2. Understand binary tree structure.\n",
    "3. Understand the necessity for binary trees."
   ]
  },
  {
   "cell_type": "code",
   "execution_count": 3,
   "metadata": {},
   "outputs": [
    {
     "name": "stdout",
     "output_type": "stream",
     "text": [
      "\n",
      " a -> ['b', 'c']\n",
      " b -> ['d', 'g']\n",
      " c -> ['e', 'f']\n",
      " f -> ['i', 'h']\n",
      " e -> ['j', 'k']\n"
     ]
    },
    {
     "data": {
      "image/png": "[encoded data removed]",
      "text/plain": [
       "<Figure size 640x480 with 1 Axes>"
      ]
     },
     "metadata": {},
     "output_type": "display_data"
    }
   ],
   "source": [
    "\"\"\"\n",
    "Add comments for you own reference\n",
    "\"\"\"\n",
    "\n",
    "from collections import defaultdict\n",
    "import networkx as nx\n",
    " \n",
    "class Tree:\n",
    "    def __init__(self):\n",
    "        self.tree = defaultdict(list)\n",
    "    \n",
    "    def __str__(self):\n",
    "        s = \"\"\n",
    "        for i in self.tree:\n",
    "            s += f'\\n {i} -> {self.tree[i]}'\n",
    "        return s\n",
    " \n",
    "    def addEdge(self,u,v):\n",
    "        self.tree[u].append(v)\n",
    "    \n",
    "    def plotTree(self):\n",
    "        plot = nx.Graph()\n",
    "        elist = []\n",
    "        for i in self.tree:\n",
    "            for j in self.tree[i]:\n",
    "                elist.append((i,j))\n",
    "        plot.add_edges_from(elist)\n",
    "        nx.draw(plot, with_labels = True)\n",
    "\n",
    "def main():\n",
    "    t = Tree()\n",
    "    t.addEdge('a', 'b')\n",
    "    t.addEdge('a', 'c')\n",
    "    t.addEdge('b', 'd')\n",
    "    t.addEdge('b', 'g')\n",
    "    t.addEdge('c', 'e')\n",
    "    t.addEdge('c', 'f')\n",
    "    t.addEdge('f', 'i')\n",
    "    t.addEdge('f', 'h')\n",
    "    t.addEdge('e', 'j')\n",
    "    t.addEdge('e', 'k')\n",
    "\n",
    "    t.plotTree()\n",
    "    print(t)\n",
    "\n",
    "main()"
   ]
  },
  {
   "cell_type": "code",
   "execution_count": null,
   "metadata": {},
   "outputs": [],
   "source": [
    "\"\"\"\n",
    "Add comments for you own reference\n",
    "\"\"\"\n",
    "\n",
    "t = Tree()\n",
    "t.addEdge('a', 'b')\n",
    "t.addEdge('a', 'c')\n",
    "t.addEdge('b', 'd')\n",
    "t.addEdge('b', 'g')\n",
    "t.addEdge('c', 'e')\n",
    "t.addEdge('c', 'f')\n",
    "t.addEdge('f', 'i')\n",
    "t.addEdge('f', 'h')\n",
    "t.addEdge('e', 'j')\n",
    "t.addEdge('e', 'k')\n",
    "\n",
    "t.plotTree()\n",
    "print(t)"
   ]
  },
  {
   "cell_type": "markdown",
   "metadata": {},
   "source": [
    "**Evaluation:**\n",
    "\n",
    "After running this program, think about and answer these questions:\n",
    "\n",
    "1. What differentiates a binary tree?\n",
    "2. What is the use of a binary tree?\n",
    "3. How can you check if a given tree is binary or not?"
   ]
  },
  {
   "cell_type": "markdown",
   "metadata": {},
   "source": [
    "## 6.3 BINARY TREES (Group)\n",
    "\n",
    "Write a program that will do the following:\n",
    "\n",
    "1. Use the tree class to generate a tree\n",
    "2. Create a function that checks if a tree is binary\n",
    "3. Take input from user for generating a tree\n",
    "4. Check if user given tree is binary tree or not\n"
   ]
  },
  {
   "cell_type": "code",
   "execution_count": null,
   "metadata": {},
   "outputs": [],
   "source": [
    "\n"
   ]
  },
  {
   "cell_type": "markdown",
   "metadata": {},
   "source": [
    "## 6.4 TRAVERSALS (Follow)\n",
    "**Learning Objectives:**\n",
    "\n",
    "1. Understand how to traverse a graph.\n",
    "2. Understand the different kinds of graph traversals.\n",
    "3. Learn algorithms for Depth First and Breadth first Traversals"
   ]
  },
  {
   "cell_type": "code",
   "execution_count": null,
   "metadata": {},
   "outputs": [],
   "source": [
    "\"\"\"\n",
    "Add comments for you own reference\n",
    "\"\"\"\n",
    "\n",
    "from collections import defaultdict\n",
    "import networkx as nx\n",
    " \n",
    "class Tree:\n",
    "    def __init__(self):\n",
    "        self.tree = defaultdict(list)\n",
    "    \n",
    "    def __str__(self):\n",
    "        s = \"\"\n",
    "        for i in self.tree:\n",
    "            s += f'\\n {i} -> {self.tree[i]}'\n",
    "        return s\n",
    " \n",
    "    def addEdge(self,u,v):\n",
    "        self.tree[u].append(v)\n",
    "    \n",
    "    def plotTree(self):\n",
    "        plot = nx.Graph()\n",
    "        elist = []\n",
    "        for i in self.tree:\n",
    "            for j in self.tree[i]:\n",
    "                elist.append((i,j))\n",
    "        plot.add_edges_from(elist)\n",
    "        nx.draw(plot, with_labels = True)\n",
    "        \n",
    "    def inorder_traversal(self,root):\n",
    "        if not self.tree[root]:\n",
    "            if root!=' ':\n",
    "                print(root)\n",
    "        else:\n",
    "            self.inorder_traversal(self.tree[root][0])\n",
    "            print(root)\n",
    "            if len(self.tree[root]) > 1:\n",
    "                self.inorder_traversal(self.tree[root][1])\n",
    "                \n",
    "\n",
    "         \n",
    "    def preorder_traversal(self,root):\n",
    "        if not self.tree[root]:\n",
    "            if root!=' ':\n",
    "                print(root)\n",
    "        else:\n",
    "            print(root)\n",
    "            self.preorder_traversal(self.tree[root][0])\n",
    "            if len(self.tree[root]) > 1:\n",
    "                self.preorder_traversal(self.tree[root][1])"
   ]
  },
  {
   "cell_type": "code",
   "execution_count": null,
   "metadata": {},
   "outputs": [],
   "source": [
    "\"\"\"\n",
    "Add comments for you own reference\n",
    "\"\"\"\n",
    "\n",
    "t = Tree()\n",
    "t.addEdge('f', 'b')\n",
    "t.addEdge('f', 'g')\n",
    "t.addEdge('b', 'a')\n",
    "t.addEdge('b', 'd')\n",
    "t.addEdge('d', 'c')\n",
    "t.addEdge('d', 'e')\n",
    "t.addEdge('g', ' ')\n",
    "t.addEdge('g', 'i')\n",
    "t.addEdge('i', 'h')\n",
    "\n",
    "t.plotTree()\n",
    "#print(t)\n",
    "print(\"INORDER TRAVERSAL\")\n",
    "t.inorder_traversal('f')\n",
    "print()\n",
    "\n",
    "print(\"PREORDER TRAVERSAL\")\n",
    "t.preorder_traversal('f')\n",
    "print()"
   ]
  },
  {
   "cell_type": "markdown",
   "metadata": {},
   "source": [
    "**Evaluation:**\n",
    "\n",
    "After running this program, think about and answer these questions:\n",
    "\n",
    "1. Try to understand the difference between different traversals.\n",
    "2. What is the pro of each kind of traversal?\n",
    "3. How would you traverse breadth first?"
   ]
  },
  {
   "cell_type": "markdown",
   "metadata": {},
   "source": [
    "## 6.4 TRAVERSALS (Group)\n",
    "\n",
    "Write a program that will do the following:\n",
    "\n",
    "1. Use the code above as reference to create a new tree class\n",
    "2. Add function to traverse post order \n",
    "3. Make sure to use the same tree structure\n",
    "4. Add functionality to the program by making it traverse an N size tree.\n"
   ]
  },
  {
   "cell_type": "code",
   "execution_count": null,
   "metadata": {},
   "outputs": [],
   "source": [
    "\n",
    "        "
   ]
  },
  {
   "cell_type": "markdown",
   "metadata": {},
   "source": [
    "## 6.5 SEARCHING (Follow)\n",
    "**Learning Objectives:**\n",
    "\n",
    "1. Understand how to search in a graph.\n",
    "2. Understand the different kinds of graph searchs.\n",
    "3. Learn algorithms for Depth First and Breadth first Searching\n",
    "4. Understand the necessity of Graph searching."
   ]
  },
  {
   "cell_type": "code",
   "execution_count": null,
   "metadata": {},
   "outputs": [],
   "source": [
    "\"\"\"\n",
    "Add comments for you own reference\n",
    "\"\"\"\n",
    "\n",
    "from collections import defaultdict\n",
    "import networkx as nx\n",
    "\n",
    "\n",
    "class Graph:\n",
    "    def __init__(self):\n",
    "        self.graph = defaultdict(list)\n",
    " \n",
    "    def addEdge(self,u,v):\n",
    "        self.graph[u].append(v)\n",
    "    \n",
    "    def plotGraph(self):\n",
    "        plot = nx.DiGraph()\n",
    "        elist = []\n",
    "        for i in self.graph:\n",
    "            for j in self.graph[i]:\n",
    "                elist.append((i,j))\n",
    "        plot.add_edges_from(elist)\n",
    "        nx.draw(plot, with_labels = True)\n",
    "    \n",
    "    \n",
    "    def BFS(self, s, g):\n",
    "        visited_queue = []\n",
    "        BFS_queue = []\n",
    " \n",
    "        BFS_queue.append(s)\n",
    "        visited_queue.append(s)\n",
    "        if s == g:\n",
    "            print(\"Goal found!\", visited_queue)\n",
    "            return\n",
    "            \n",
    "        while BFS_queue:\n",
    "            s = BFS_queue.pop(0)\n",
    " \n",
    "            for i in self.graph[s]:\n",
    "                if i not in visited_queue:\n",
    "                    BFS_queue.append(i)\n",
    "                    visited_queue.append(i)\n",
    "                    if i == g:\n",
    "                        print(\"Goal found!\", visited_queue)\n",
    "                        return\n",
    "                    \n",
    "                    \n",
    "    def DFS(self, s, g):\n",
    "        visited_list = []\n",
    "        DFS_stack = []\n",
    " \n",
    "        DFS_stack.append(s)\n",
    "        visited_list.append(s)\n",
    "        if s == g:\n",
    "            print(\"Goal found!\", visited_list)\n",
    "            return\n",
    "    \n",
    "        while DFS_stack:\n",
    "            s = DFS_stack.pop(-1)\n",
    "\n",
    "            for i in self.graph[s]:\n",
    "                if i not in visited_list:\n",
    "                    DFS_stack.append(i)\n",
    "                    visited_list.append(i)\n",
    "                    if i == g:\n",
    "                        print(\"Goal found!\", visited_list)\n",
    "                        return"
   ]
  },
  {
   "cell_type": "code",
   "execution_count": null,
   "metadata": {},
   "outputs": [],
   "source": [
    "\"\"\"\n",
    "Add comments for you own reference\n",
    "\"\"\"\n",
    "\n",
    "g = Graph()\n",
    "g.addEdge(0, 1)\n",
    "g.addEdge(0, 2)\n",
    "g.addEdge(1, 2)\n",
    "g.addEdge(2, 0)\n",
    "g.addEdge(2, 3)\n",
    "g.addEdge(3, 4)\n",
    "\n",
    "start_node = 2\n",
    "goal_node = 4\n",
    "\n",
    "print (f\"Breadth First Tree Search (starting from node {start_node})\")\n",
    "g.BFS(start_node, goal_node)\n",
    "\n",
    "g.plotGraph()"
   ]
  },
  {
   "cell_type": "code",
   "execution_count": null,
   "metadata": {},
   "outputs": [],
   "source": [
    "\"\"\"\n",
    "Add comments for you own reference\n",
    "\"\"\"\n",
    "\n",
    "g = Graph()\n",
    "g.addEdge(0, 1)\n",
    "g.addEdge(0, 2)\n",
    "g.addEdge(1, 2)\n",
    "g.addEdge(2, 0)\n",
    "g.addEdge(2, 3)\n",
    "g.addEdge(3, 4)\n",
    " \n",
    "start_node = 2\n",
    "goal_node = 4\n",
    "\n",
    "print(f\"Following is DFS from (starting from node {start_node})\")\n",
    "g.DFS(start_node, goal_node)\n",
    "\n",
    "g.plotGraph()"
   ]
  },
  {
   "cell_type": "markdown",
   "metadata": {},
   "source": [
    "**Evaluation:**\n",
    "\n",
    "After running this program, think about and answer these questions:\n",
    "\n",
    "1. Try to understand the difference between different Searches.\n",
    "2. What is the use case of each type of search?\n",
    "3. How are BFS and DFS different from regular searching algothms?"
   ]
  },
  {
   "cell_type": "markdown",
   "metadata": {},
   "source": [
    "## 6.5 SEARCHING (Group)\n",
    "\n",
    "Write a program that will do the following:\n",
    "\n",
    "1. Implement depth first search and breadth first search.\n",
    "2. Implement a class Node.\n",
    "3. Node class should have attributes value, and parent.\n",
    "4. Graph class should **not** inherit the node class.\n",
    "5. Create a graph object and use the add edge function to create a graph of nodes.  \n",
    "6. Create at least 5 or 6 nodes.\n",
    "7. Perform DFS and print the results of DFS and BFS.\n",
    "8. As an added challenge, create a function to keep track of the parents of each node.\n",
    "9. If you create the function, try printing these parents.\n"
   ]
  },
  {
   "cell_type": "code",
   "execution_count": null,
   "metadata": {},
   "outputs": [],
   "source": [
    "\n"
   ]
  }
 ],
 "metadata": {
  "kernelspec": {
   "display_name": "Python 3",
   "language": "python",
   "name": "python3"
  },
  "language_info": {
   "codemirror_mode": {
    "name": "ipython",
    "version": 3
   },
   "file_extension": ".py",
   "mimetype": "text/x-python",
   "name": "python",
   "nbconvert_exporter": "python",
   "pygments_lexer": "ipython3",
   "version": "3.11.1"
  },
  "vscode": {
   "interpreter": {
    "hash": "5238573367df39f7286bb46f9ff5f08f63a01a80960060ce41e3c79b190280fa"
   }
  }
 },
 "nbformat": 4,
 "nbformat_minor": 2
}
