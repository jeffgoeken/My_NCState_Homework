{
 "cells": [
  {
   "attachments": {},
   "cell_type": "markdown",
   "id": "91738b61",
   "metadata": {
    "id": "c3e413d5"
   },
   "source": [
    "# Workshop 4 [Student]\n",
    "\n",
    "This notebook will cover the following topics:\n",
    "\n",
    "1. Composition   \n",
    "2. Encapsulation\n",
    "3. Public v/s Private\n",
    "4. Dunder Methods\n",
    "5. Inheritance\n",
    "6. Mini Project\n"
   ]
  },
  {
   "cell_type": "markdown",
   "id": "67399032",
   "metadata": {
    "id": "41e9aaec"
   },
   "source": [
    "## 4.1 COMPOSITION (Follow):  \n",
    "\n",
    "**Learning Objectives:**\n",
    "\n",
    "1. Understand what things can be placed inside objects\n",
    "2. Understand how to implement an object\n",
    "3. Understand what a program can do with those things inside objects\n",
    "4. Understand what constructors are"
   ]
  },
  {
   "cell_type": "code",
   "execution_count": null,
   "id": "ff229155",
   "metadata": {
    "id": "4da24d64"
   },
   "outputs": [],
   "source": [
    "\"\"\"\n",
    "Add comments for you own reference\n",
    "\"\"\"\n",
    "\n",
    "class Pet:\n",
    "    def __init__(self, name, animal_type, age):\n",
    "        self.name = name \n",
    "        self.animal_type = animal_type\n",
    "        self.age = age\n",
    "        "
   ]
  },
  {
   "cell_type": "code",
   "execution_count": null,
   "id": "64cd7937",
   "metadata": {
    "id": "af3e33de",
    "outputId": "6d0b848e-ac3d-4cc7-e0d6-d4c349d24ed2"
   },
   "outputs": [],
   "source": [
    "\"\"\"\n",
    "Add comments for you own reference\n",
    "\"\"\"\n",
    "\n",
    "def main():\n",
    "    \n",
    "    age = 5\n",
    "    name = \"Spot\"\n",
    "    animal_type = \"Goldfish\"\n",
    "    \n",
    "    mypet = Pet(name, animal_type, age)\n",
    "\n",
    "    print_object(mypet)\n",
    "    \n",
    "    \n",
    "def print_object(object_name):\n",
    "    print(object_name.name)\n",
    "    print(object_name.age)\n",
    "    print(object_name.animal_type)\n",
    "    \n",
    "    \n",
    "main()"
   ]
  },
  {
   "cell_type": "markdown",
   "id": "b4c3f7b5",
   "metadata": {
    "id": "8de49e9a"
   },
   "source": [
    "### As the above code executes, think about the following questions:\n",
    "\n",
    "1. What does the __init__ function do?\n",
    "2. What does the __ in front of a vairable do?\n",
    "3. What is a class?\n",
    "4. How could you use a class in programming?"
   ]
  },
  {
   "cell_type": "markdown",
   "id": "a62520e8",
   "metadata": {
    "id": "c53381e8"
   },
   "source": [
    "## 4.1 Composition (Group): \n",
    "\n",
    "**Write a program that will do the following:**\n",
    "\n",
    "1. Implement a class car.\n",
    "2. The class car will have the following attributes: year, make, and model.\n",
    "3. The user can input the information or it may be hard coded.\n",
    "4. The program will create an object of type car and store this information.\n",
    "5. Print the information stored in the object."
   ]
  },
  {
   "cell_type": "code",
   "execution_count": 2,
   "id": "170d8999",
   "metadata": {
    "id": "012e22e3",
    "outputId": "f6dc1283-624f-4402-f806-7e4e1cbaae43"
   },
   "outputs": [],
   "source": [
    "class car:\n",
    "    def __init__(self,make,model,year,color):\n",
    "        self.make = make\n",
    "        self.model = model\n",
    "        self.year = year\n",
    "        self.color = color\n"
   ]
  },
  {
   "cell_type": "code",
   "execution_count": 16,
   "id": "eef6c185",
   "metadata": {},
   "outputs": [
    {
     "name": "stdout",
     "output_type": "stream",
     "text": [
      "Ford\n",
      "Slate Gray\n"
     ]
    }
   ],
   "source": [
    "mycar = car('Ford','Mustang',2013,'black')\n",
    "mycar2 = car('Chevy','Silverado',2008,'Slate Gray')\n",
    "print(mycar.make)\n",
    "print(mycar2.color)\n"
   ]
  },
  {
   "cell_type": "markdown",
   "id": "aa213e60",
   "metadata": {
    "id": "df0073c0"
   },
   "source": [
    "## 4.2 Encapsulation (Follow):\n",
    "\n",
    "**Learning Objectives:**\n",
    "\n",
    "1. Understand how functions behave inside classes\n",
    "2. Understand how to call functions on classes\n",
    "3. Understand how to manipulate date using function inside classes\n",
    "4. Understand what can and cannot be called inside functions "
   ]
  },
  {
   "cell_type": "code",
   "execution_count": null,
   "id": "06af37ab",
   "metadata": {
    "id": "e32ec1ff"
   },
   "outputs": [],
   "source": [
    "\"\"\"\n",
    "Add comments for you own reference\n",
    "\"\"\"\n",
    "\n",
    "class BankAccount:\n",
    "\n",
    "    def __init__(self, bal):\n",
    "        self.__balance = bal \n",
    "\n",
    "    def deposit(self, amount):\n",
    "        self.__balance += amount\n",
    "\n",
    "    def withdraw(self, amount):\n",
    "        if self.__balance >= amount:\n",
    "            self.__balance -= amount\n",
    "        else:\n",
    "            print('Error: Insufficient funds')\n",
    "\n",
    "    def get_balance(self):\n",
    "        return self.__balance\n",
    "    "
   ]
  },
  {
   "cell_type": "code",
   "execution_count": null,
   "id": "d83c2b91",
   "metadata": {
    "id": "aa637898",
    "outputId": "08a1c213-80c0-434e-d150-9358d6f193cb"
   },
   "outputs": [],
   "source": [
    "\"\"\"\n",
    "Add comments for you own reference\n",
    "\"\"\"\n",
    "\n",
    "if __name__ == '__main__':\n",
    "\n",
    "    start_bal = float(input('Enter your starting balance: '))\n",
    "\n",
    "    savings = BankAccount(start_bal)\n",
    "\n",
    "    pay = float(input('How much were you paid this week? '))\n",
    "    print('I will deposit that into your account.')\n",
    "    savings.deposit(pay)\n",
    "\n",
    "    balance = savings.get_balance()\n",
    "    print(balance)\n",
    "\n",
    "    cash = float(input('How much would you like to withdraw? '))\n",
    "    print('I will withdraw that from your account.')\n",
    "    savings.withdraw(cash)\n",
    "\n",
    "    print(savings.get_balance())\n",
    "    "
   ]
  },
  {
   "cell_type": "markdown",
   "id": "bac88999",
   "metadata": {
    "id": "137bac34"
   },
   "source": [
    "### As the above code executes, think about the following questions:\n",
    "\n",
    "1. What are the \"__\" for in python?\n",
    "2. Can you directly return the balance from the account?  Explain.\n",
    "3. What does the \"if __ name __ == '__ main __':\" line do?\n",
    "4. How do you call functions inside classes?"
   ]
  },
  {
   "cell_type": "markdown",
   "id": "eda93b4d",
   "metadata": {
    "id": "0f1d2448"
   },
   "source": [
    "## 4.2 Encapsulation (Group): \n",
    "\n",
    "**Write a program that will do the following:**\n",
    "\n",
    "1. Create class information.\n",
    "2. The information class' attributes are name, address, age, and phone number.\n",
    "3. Provide methods to modify and print attributes.\n",
    "4. Outside of the class, accept input from the console to instantiate at least three information objects.  Alternatively, you may hard code these objects.  \n",
    "5. Print the contents to the screen.  "
   ]
  },
  {
   "cell_type": "code",
   "execution_count": 47,
   "id": "bc4b60a8",
   "metadata": {
    "id": "370bb894"
   },
   "outputs": [],
   "source": [
    "\n",
    "class person:\n",
    "    def __init__ (self,name,address,age):\n",
    "        self.name = name\n",
    "        self.address = address\n",
    "        self.age = age\n",
    "        self.__phone = '702.398.9800'\n",
    "    \n",
    "    def ChangePhone(self):\n",
    "        self.__phone = '509.308.1010'\n",
    "    def NewPhone(self):\n",
    "        print(f\"Old Phone is :{self.__phone}\")\n",
    "        self.ChangePhone()\n",
    "        print(f\"New Phone is :{self.__phone}\")\n",
    "        \n",
    "    def __str__(self):\n",
    "        return (f'Name:{self.name} \\n Age: {self.age} \\n Address {self.address} \\nPhone: {self.__phone}\\n')\n",
    "        \n",
    "    "
   ]
  },
  {
   "cell_type": "code",
   "execution_count": 48,
   "id": "065d4d44",
   "metadata": {
    "id": "6bb3392b",
    "outputId": "50d4a25f-080c-4231-e316-a0fcdf68e227"
   },
   "outputs": [
    {
     "name": "stdout",
     "output_type": "stream",
     "text": [
      "Name:Jeff \n",
      " Age: 36 \n",
      " Address 7208 EagleGate \n",
      "Phone: 702.398.9800\n",
      "\n",
      "Old Phone is :702.398.9800\n",
      "New Phone is :509.308.1010\n",
      "Name:Jeff \n",
      " Age: 36 \n",
      " Address 7208 EagleGate \n",
      "Phone: 509.308.1010\n",
      "\n"
     ]
    }
   ],
   "source": [
    "me = person('Jeff','7208 EagleGate',36)\n",
    "print(me)\n",
    "me.NewPhone()\n",
    "print(me)"
   ]
  },
  {
   "cell_type": "markdown",
   "id": "85e90bfe",
   "metadata": {},
   "source": [
    "## 4.3 PUBLIC VS PRIVATE (Follow):\n",
    "\n",
    "**Learning Objectives:**\n",
    "\n",
    "1. Understand how public and private scope work with classes\n",
    "2. Learn how to use public and private entities\n",
    "3. Understand the requirement of private and public methods"
   ]
  },
  {
   "cell_type": "code",
   "execution_count": null,
   "id": "e9bb712d",
   "metadata": {},
   "outputs": [],
   "source": []
  },
  {
   "cell_type": "code",
   "execution_count": null,
   "id": "ac42562d",
   "metadata": {},
   "outputs": [],
   "source": [
    "\n",
    "\"\"\"\n",
    "Add comments for you own reference\n",
    "\"\"\"\n",
    "\n",
    "class Car:\n",
    "    def __init__(self, year, color):\n",
    "        self.year = year\n",
    "        self.color = color\n",
    "        self.__engineNum = 101\n",
    "    def changeColor(self,color):\n",
    "        self.color = color \n",
    "    def __newEngine(self):\n",
    "        self.__engineNum = 202  \n",
    "    def changeEngine(self):\n",
    "        print(\"Old Engine=\", self.__engineNum)\n",
    "        self.__newEngine()\n",
    "        print(\"New Engine=\", self.__engineNum)"
   ]
  },
  {
   "cell_type": "code",
   "execution_count": null,
   "id": "03be8175",
   "metadata": {},
   "outputs": [],
   "source": [
    "\"\"\"\n",
    "Add comments for you own reference\n",
    "\"\"\"\n",
    "\n",
    "car1 = Car(2002,'Black')\n",
    "print(car1.year,\"-\",car1.color)\n",
    "car1.changeColor(\"Blue\")\n",
    "print(car1.year,\"-\",car1.color)\n",
    "car1.changeEngine()\n",
    "#print(car1.__engineNum)\n",
    "\n",
    "\n",
    "print(dir(car1))\n",
    "car1._Car_engineNum = 1\n",
    "print(car1._Car__engineNum)"
   ]
  },
  {
   "cell_type": "markdown",
   "id": "f25c33ac",
   "metadata": {},
   "source": [
    "### As the above code executes, think about the following questions:\n",
    "\n",
    "1. Which methods are public and which are private?\n",
    "2. What is the use for private methods and variables?\n",
    "3. What is the difference between a public and private variable?"
   ]
  },
  {
   "cell_type": "markdown",
   "id": "47d52d1e",
   "metadata": {},
   "source": [
    "## 4.3 PUBLIC VS PRIVATE (Group):\n",
    "\n",
    "**Write a program that will do the following:**\n",
    "\n",
    "1. Create a class that is capable of catergorizing football teams.\n",
    "2. The class should have at least three attributes.\n",
    "3. All of these attributes should be private.\n",
    "4. The class should have functions to print all attributes.\n",
    "5. All functions should be public.\n",
    "6. Create three to four different team objects and print the attributes for each team."
   ]
  },
  {
   "cell_type": "code",
   "execution_count": null,
   "id": "58555258",
   "metadata": {},
   "outputs": [],
   "source": [
    "class nfl:\n",
    "    def __init__(self):\n",
    "        self.__city = 'Las Vegas'\n",
    "        self.__name = 'Raiders'\n",
    "        self.__division = 'AFC'\n",
    "        \n",
    "        def __changeName(self):\n",
    "            self.__name = 'Seahawks'\n",
    "        def __changeCity (self):\n",
    "            self.__city = 'Seattle'\n",
    "        def __changeDivision():\n",
    "            self.__division = 'NFC'"
   ]
  },
  {
   "cell_type": "code",
   "execution_count": null,
   "id": "181b2e43",
   "metadata": {},
   "outputs": [],
   "source": []
  },
  {
   "cell_type": "markdown",
   "id": "576c8a4b",
   "metadata": {},
   "source": [
    "## 4.4 DUNDER METHODS (Follow)\n",
    "\n",
    "**Learning Objectives:**\n",
    "\n",
    "1. Understand how functions behave inside classes\n",
    "2. Understand how to call functions on classes\n",
    "3. Understand how to manipulate date using function inside classes\n",
    "4. Understand what can and cannot be called inside functions "
   ]
  },
  {
   "cell_type": "code",
   "execution_count": null,
   "id": "6f33ea93",
   "metadata": {},
   "outputs": [],
   "source": [
    "\"\"\"\n",
    "Add comments for you own reference\n",
    "\"\"\"\n",
    "\n",
    "class Car:\n",
    "    def __init__(self, year, model, color):\n",
    "        self.year = year\n",
    "        self.model = model\n",
    "        self.color = color\n",
    "    def __str__(self):\n",
    "        return f\"A {self.year}-{self.model} in {self.color}\"\n",
    "\n",
    "this_car = Car(2002,\"BMW\",\"black\")\n",
    "print(dir(this_car))\n"
   ]
  },
  {
   "cell_type": "markdown",
   "id": "8ccd5ba6",
   "metadata": {},
   "source": [
    "**Evaluation:**\n",
    "\n",
    "After running this program, think about and answer these questions:\n",
    "\n",
    "1. What other dunder methods exist?\n",
    "2. What is the use for dunder methods?"
   ]
  },
  {
   "cell_type": "markdown",
   "id": "50b30740",
   "metadata": {},
   "source": [
    "# 4.4 DUNDER METHODS (Group)\n",
    "\n",
    "**Write a program that will do the following:**\n",
    "\n",
    "1. Create class Library\n",
    "2. All meta data about the book must be private\n",
    "3. When an object is displayed, it should display important details of a library\n",
    "    - Name\n",
    "    - Number of Books\n",
    "    - List of Books and details\n",
    "4. User should be able to add books by addBook() function of library"
   ]
  },
  {
   "cell_type": "code",
   "execution_count": null,
   "id": "ed6d9f84",
   "metadata": {},
   "outputs": [],
   "source": [
    "\n"
   ]
  },
  {
   "cell_type": "code",
   "execution_count": null,
   "id": "0199c945",
   "metadata": {},
   "outputs": [],
   "source": [
    "\n"
   ]
  },
  {
   "cell_type": "markdown",
   "id": "fc469214",
   "metadata": {
    "id": "b9f5681d"
   },
   "source": [
    "## 4.5 INHERITANCE (Follow):  \n",
    "\n",
    "**Learning Objectives:**\n",
    "\n",
    "1. Understand how inheritance works\n",
    "2. Understand how to declare inheritance\n",
    "3. Understand what is inherited by a class"
   ]
  },
  {
   "cell_type": "code",
   "execution_count": null,
   "id": "0eb6d562",
   "metadata": {
    "id": "a386b86c"
   },
   "outputs": [],
   "source": [
    "\"\"\"\n",
    "Add comments for you own reference\n",
    "\"\"\"\n",
    "\n",
    "class Automobile:\n",
    "    \n",
    "    def __init__(self, make, model, mileage, price):\n",
    "        self.__make = make\n",
    "        self.__model = model\n",
    "        self.__mileage = mileage\n",
    "        self.__price = price\n",
    "\n",
    "    \n",
    "    def set_make(self, make):\n",
    "        self.__make = make\n",
    "\n",
    "    def set_model(self, model):\n",
    "        self.__model = model\n",
    "\n",
    "    def set_mileage(self, mileage):\n",
    "        self.__mileage = mileage\n",
    "\n",
    "    def set_price(self, price):\n",
    "        self.__price = price\n",
    "\n",
    "    \n",
    "    def get_make(self):\n",
    "        return self.__make\n",
    "\n",
    "    def get_model(self):\n",
    "        return self.__model\n",
    "\n",
    "    def get_mileage(self):\n",
    "        return self.__mileage\n",
    "\n",
    "    def get_price(self):\n",
    "        return self.__price\n"
   ]
  },
  {
   "cell_type": "code",
   "execution_count": null,
   "id": "d0fda477",
   "metadata": {
    "id": "7q6wI8HygYO8"
   },
   "outputs": [],
   "source": [
    "\"\"\"\n",
    "Add comments for you own reference\n",
    "\"\"\"\n",
    "\n",
    "class Car(Automobile):\n",
    "    \n",
    "    def __init__(self, make, model, mileage, price, doors):\n",
    "\n",
    "        Automobile.__init__(self, make, model, mileage, price)\n",
    "        self.__doors = doors\n",
    "\n",
    "    \n",
    "    def set_doors(self, doors):\n",
    "        self.__doors = doors\n",
    "\n",
    "    def get_doors(self):\n",
    "        return self.__doors\n",
    "    \n",
    "    #def get_make(self):\n",
    "     #   return self.__make\n"
   ]
  },
  {
   "cell_type": "code",
   "execution_count": null,
   "id": "918e0b42",
   "metadata": {
    "id": "uCYc3kZ3giy7"
   },
   "outputs": [],
   "source": [
    "\"\"\"\n",
    "Add comments for you own reference\n",
    "\"\"\"\n",
    "\n",
    "class Truck(Automobile):\n",
    "    \n",
    "    def __init__(self, make, model, mileage, price, drive_type):\n",
    "        Automobile.__init__(self, make, model, mileage, price)\n",
    "        \n",
    "        self.__drive_type = drive_type\n",
    "\n",
    "    \n",
    "    def set_drive_type(self, drive_type):\n",
    "        self.__drive_type = drive_type\n",
    "\n",
    "    def get_drive_type(self):\n",
    "        return self.__drive_type\n"
   ]
  },
  {
   "cell_type": "code",
   "execution_count": null,
   "id": "8082f33e",
   "metadata": {
    "id": "XePI46Evgqbv"
   },
   "outputs": [],
   "source": [
    "\"\"\"\n",
    "Add comments for you own reference\n",
    "\"\"\"\n",
    "\n",
    "class SUV(Automobile):\n",
    "    \n",
    "    def __init__(self, make, model, mileage, price, pass_cap):\n",
    "        Automobile.__init__(self, make, model, mileage, price)\n",
    "        \n",
    "        self.__pass_cap = pass_cap\n",
    "\n",
    "    \n",
    "    def set_pass_cap(self, pass_cap):\n",
    "        self.__pass_cap = pass_cap\n",
    "\n",
    "    def get_pass_cap(self):\n",
    "        return self.__pass_cap"
   ]
  },
  {
   "cell_type": "code",
   "execution_count": null,
   "id": "edf2bca1",
   "metadata": {
    "id": "2cc062ca"
   },
   "outputs": [],
   "source": [
    "\"\"\"\n",
    "Add comments for you own reference\n",
    "\"\"\"\n",
    "\n",
    "used_car = Car('Audi', 2007, 12500, 21500.00, 4)\n",
    "\n",
    "print('Make:', used_car.get_make())\n",
    "print('Model:', used_car.get_model())\n",
    "print('Mileage:', used_car.get_mileage())\n",
    "print('Price:', used_car.get_price())\n",
    "print('Number of doors:', used_car.get_doors())\n",
    "\n",
    "print(dir(used_car))\n"
   ]
  },
  {
   "cell_type": "markdown",
   "id": "896760e1",
   "metadata": {
    "id": "dQaOC50_hhvk"
   },
   "source": [
    "### As the above code executes, think about the following questions:\n",
    "\n",
    "1. Create objects for the truck and SUV classes for the above code.\n",
    "2. Print the information for each created object.\n",
    "3. What does putting Automobile in parenthesis do? "
   ]
  },
  {
   "cell_type": "markdown",
   "id": "6e3f529a",
   "metadata": {
    "id": "ff0066ba"
   },
   "source": [
    "# 4.5 Inheritance (Group):  \n",
    "\n",
    "**Write a program that will do the following:**\n",
    "\n",
    "1. Create a savings account base class.\n",
    "2. Create a class CD which inherits class savings.\n",
    "3. The savings class should contain account number, interest rate, and balance.\n",
    "4. CD class should contain maturity date along with all inherited attributes.\n",
    "5. Both classes should have functions to access and change all attributes.\n",
    "6. Write some code to access and change the attributes."
   ]
  },
  {
   "cell_type": "code",
   "execution_count": 10,
   "id": "bfd25b84",
   "metadata": {
    "executionInfo": {
     "elapsed": 4,
     "status": "ok",
     "timestamp": 1643218896122,
     "user": {
      "displayName": "Travis Martin",
      "photoUrl": "https://lh3.googleusercontent.com/a/default-user=s64",
      "userId": "17005528951968776844"
     },
     "user_tz": 360
    },
    "id": "ab1742b9"
   },
   "outputs": [
    {
     "name": "stdout",
     "output_type": "stream",
     "text": [
      "[2, 4, 4, 5, 8, 8, 67]\n"
     ]
    }
   ],
   "source": [
    "\n",
    "list = [4,8,2,67,8,4,5]\n",
    "print(sorted(list))"
   ]
  },
  {
   "cell_type": "code",
   "execution_count": null,
   "id": "29654b20",
   "metadata": {
    "executionInfo": {
     "elapsed": 406,
     "status": "ok",
     "timestamp": 1643218901215,
     "user": {
      "displayName": "Travis Martin",
      "photoUrl": "https://lh3.googleusercontent.com/a/default-user=s64",
      "userId": "17005528951968776844"
     },
     "user_tz": 360
    },
    "id": "bWN9I3ndeLh7"
   },
   "outputs": [],
   "source": [
    "\n"
   ]
  },
  {
   "cell_type": "code",
   "execution_count": null,
   "id": "9b9b9da4",
   "metadata": {
    "colab": {
     "base_uri": "https://localhost:8080/"
    },
    "executionInfo": {
     "elapsed": 41205,
     "status": "ok",
     "timestamp": 1643218945139,
     "user": {
      "displayName": "Travis Martin",
      "photoUrl": "https://lh3.googleusercontent.com/a/default-user=s64",
      "userId": "17005528951968776844"
     },
     "user_tz": 360
    },
    "id": "3779d26c",
    "outputId": "68e7a265-18f0-41cd-ce13-f22a48bfa8c4"
   },
   "outputs": [],
   "source": [
    "\n"
   ]
  },
  {
   "cell_type": "markdown",
   "id": "71a1fabb",
   "metadata": {
    "id": "Lv4WoegwSfcq"
   },
   "source": [
    "## Week 4 MINI PROJECT\n",
    "\n",
    "The project should be created to be useful in your life.  Here are some guidelines for the project.\n",
    "\n",
    "1. Create a class employee.\n",
    "2. Class employee should contain 2 to 3 attributes.\n",
    "3. Create 1-2 other classes that inherit employee class.\n",
    "4. Each of the sub classes should have 2-3 attributes.\n",
    "5. Make sure to write functions that can both change and print attributes."
   ]
  },
  {
   "cell_type": "code",
   "execution_count": null,
   "id": "5b4bae5b",
   "metadata": {
    "executionInfo": {
     "elapsed": 155,
     "status": "ok",
     "timestamp": 1643222178342,
     "user": {
      "displayName": "Travis Martin",
      "photoUrl": "https://lh3.googleusercontent.com/a/default-user=s64",
      "userId": "17005528951968776844"
     },
     "user_tz": 360
    },
    "id": "4evC8OBxTUsd"
   },
   "outputs": [],
   "source": [
    "\n"
   ]
  },
  {
   "cell_type": "code",
   "execution_count": null,
   "id": "7de08046",
   "metadata": {
    "executionInfo": {
     "elapsed": 164,
     "status": "ok",
     "timestamp": 1643222303421,
     "user": {
      "displayName": "Travis Martin",
      "photoUrl": "https://lh3.googleusercontent.com/a/default-user=s64",
      "userId": "17005528951968776844"
     },
     "user_tz": 360
    },
    "id": "OY70eOxeqjyv"
   },
   "outputs": [],
   "source": [
    "\n"
   ]
  },
  {
   "cell_type": "code",
   "execution_count": null,
   "id": "a7932885",
   "metadata": {
    "colab": {
     "base_uri": "https://localhost:8080/"
    },
    "executionInfo": {
     "elapsed": 6633,
     "status": "ok",
     "timestamp": 1643222312321,
     "user": {
      "displayName": "Travis Martin",
      "photoUrl": "https://lh3.googleusercontent.com/a/default-user=s64",
      "userId": "17005528951968776844"
     },
     "user_tz": 360
    },
    "id": "sMUtesyxqnCX",
    "outputId": "1d9d149f-fb69-47af-d962-535336147288"
   },
   "outputs": [],
   "source": [
    "\n"
   ]
  }
 ],
 "metadata": {
  "colab": {
   "collapsed_sections": [],
   "name": "WSK Week 4 Solutions.ipynb",
   "provenance": []
  },
  "kernelspec": {
   "display_name": "base",
   "language": "python",
   "name": "python3"
  },
  "language_info": {
   "codemirror_mode": {
    "name": "ipython",
    "version": 3
   },
   "file_extension": ".py",
   "mimetype": "text/x-python",
   "name": "python",
   "nbconvert_exporter": "python",
   "pygments_lexer": "ipython3",
   "version": "3.9.12 (main, Apr  5 2022, 01:53:17) \n[Clang 12.0.0 ]"
  },
  "vscode": {
   "interpreter": {
    "hash": "9b1e51001b4a79ac77a09287b57a2f952f9949a3262b36a5f5e48e3a3f37f547"
   }
  }
 },
 "nbformat": 4,
 "nbformat_minor": 5
}
