{
 "cells": [
  {
   "cell_type": "markdown",
   "metadata": {},
   "source": [
    "# Workshop 8 [Student]\n",
    "\n",
    "This notebook will cover the following topics:\n",
    "\n",
    "1. Numpy Array\n",
    "2. Attributes and Operations\n",
    "3. Reading data from CSV\n",
    "4. Statistics\n",
    "5. Indexing\n",
    "6. Copy vs View\n",
    "7. Modifications"
   ]
  },
  {
   "cell_type": "markdown",
   "metadata": {},
   "source": [
    "## 8.1 NUMPY ARRAY (Follow)\n",
    "\n",
    "**Learning Objectives:**\n",
    "\n",
    "1. Understand the numpy module.\n",
    "2. Understand numpy arrays.\n",
    "3. Understand Array creation and basic functions.\n",
    "4. Learn to manipulate arrays"
   ]
  },
  {
   "cell_type": "code",
   "execution_count": null,
   "metadata": {},
   "outputs": [],
   "source": [
    "#https://numpy.org/doc/stable/reference/arrays.dtypes.html\n",
    "\"\"\"\n",
    "Add comments for you own reference\n",
    "\"\"\"\n",
    "\n",
    "import numpy as np\n",
    "x = np.array([[1,2,3,4,5],\n",
    "                 [6,7,8,9,0],\n",
    "                 [5,4,3,2,1]])\n",
    "print(x)\n",
    "print(\"Type -\",type(x))\n",
    "print(\"Data Type -\",x.dtype)\n",
    "print(\"Size -\",x.size)\n",
    "print(\"ItemSize -\",x.itemsize)\n",
    "print(\"Dimensions -\",x.ndim)\n",
    "print(\"Shape -\",x.shape)"
   ]
  },
  {
   "cell_type": "code",
   "execution_count": null,
   "metadata": {},
   "outputs": [],
   "source": [
    "\"\"\"\n",
    "Add comments for you own reference\n",
    "\"\"\"\n",
    "\n",
    "import numpy as np\n",
    "x = np.full(5,3)\n",
    "print(\"Full:\\n\",x)\n",
    "x = np.zeros((2,4))\n",
    "print(\"Zeros:\\n\",x)\n",
    "x = np.ones((2,5))\n",
    "print(\"Ones:\\n\",x)\n",
    "x = np.arange(1,7)\n",
    "print(\"Range:\\n\",x)\n",
    "x = np.linspace(1,5,6)\n",
    "print(\"LinSpace:\\n\",x)"
   ]
  },
  {
   "cell_type": "code",
   "execution_count": null,
   "metadata": {},
   "outputs": [],
   "source": [
    "\"\"\"\n",
    "Add comments for you own reference\n",
    "\"\"\"\n",
    "\n",
    "import numpy as np\n",
    "x = np.arange(1,10)\n",
    "print(\"Array X:\\n\",x,\"\\n\")\n",
    "print(\"Multiplication:\\n\",x*2,\"\\n\")\n",
    "print(\"Substraction:\\n\",x-2,\"\\n\")\n",
    "y = np.arange(3,12)\n",
    "print(\"Array Y:\\n\",y,\"\\n\")\n",
    "print(\"SHAPES -\",x.shape,y.shape,\"\\n\")\n",
    "print(\"Addition:\\n\",x+y,\"\\n\")\n",
    "print(\"Multiplication:\\n\",x*y,\"\\n\")"
   ]
  },
  {
   "attachments": {},
   "cell_type": "markdown",
   "metadata": {},
   "source": [
    "**Evaluation:**\n",
    "\n",
    "After running this program, think about and answer these questions:\n",
    "\n",
    "1. What does the arange function do? creates a Numpy array\n",
    "2. What is the use of 1s and 0s function? Create a numpy array with either 0's or 1's\n",
    "3. What will happen if shapes of arrays are not same? ValueError: operands could not be broadcast together with shapes (8,) (9,) \n",
    "4. Try to add more dimentions to the arrays."
   ]
  },
  {
   "cell_type": "markdown",
   "metadata": {},
   "source": [
    "## 8.1 NUMPY ARRAY (Group)\n",
    "\n",
    "Write a program that will do the following:\n",
    "\n",
    "1. Create 3 Arrays:\n",
    "    - X : containing Multiples of 5\n",
    "    - Y : in range of 100 to 150\n",
    "    - Z : containg all n (taken from user) \n",
    "2. Make sure that Shapes of arrays are equal.\n",
    "3. Perform:\n",
    "    - X + Y\n",
    "    - X * Z\n",
    "    - Z - Y\n",
    "    - X + Y + Z"
   ]
  },
  {
   "cell_type": "code",
   "execution_count": null,
   "metadata": {},
   "outputs": [],
   "source": [
    "import numpy as np\n",
    "\n",
    "class NumpyArray:\n",
    "    def __init__(self,*z):\n",
    "        self.z = np.array(z)\n",
    "        self.x = np.arange(5,5*len(self.z)+1,5)\n",
    "        self.y = np.random.randint(100,150,(len(self.z)))   \n",
    "        \n",
    "    \n",
    "    def AddXY(self):\n",
    "        print( self.x + self.y)\n",
    "\n",
    "    def MultiplyXZ(self):\n",
    "        print (self.x * self.z)\n",
    "\n",
    "    def SubtractZY(self):\n",
    "        print (self.z-self.y)\n",
    "\n",
    "    def addXYZ(self):\n",
    "        print (self.x + self.y + self.z)\n",
    "\n",
    "    def getShapes(self):\n",
    "        print (f'The shape of X is {np.shape(self.x)}. The shape of Y is {np.shape(self.y)}. The shape of Z is {np.shape(self.z)}')\n",
    "     \n"
   ]
  },
  {
   "cell_type": "code",
   "execution_count": null,
   "metadata": {},
   "outputs": [],
   "source": [
    "\n",
    "myArray = NumpyArray(1,3,5,6)\n",
    "print(myArray.x)\n",
    "print(myArray.z)\n",
    "print(myArray.y)\n",
    "myArray.getShapes()\n",
    "myArray.AddXY()\n",
    "myArray.MultiplyXZ()\n",
    "myArray.SubtractZY()\n",
    "myArray.addXYZ()\n"
   ]
  },
  {
   "cell_type": "markdown",
   "metadata": {},
   "source": [
    "## 8.2 READING CSV (Follow)\n",
    "\n",
    "**Learning Objectives:**\n",
    "\n",
    "1. Understand how to read CSV into arrays.\n",
    "2. Understand the data type of csv files.\n",
    "3. Learn to manipulate CSV data."
   ]
  },
  {
   "cell_type": "code",
   "execution_count": null,
   "metadata": {},
   "outputs": [],
   "source": [
    "\"\"\"\n",
    "Add comments for you own reference\n",
    "\"\"\"\n",
    "\n",
    "import numpy as np\n",
    "\n",
    "data = np.loadtxt(\"test.csv\",delimiter=\",\", dtype=int)\n",
    "print(data)"
   ]
  },
  {
   "cell_type": "code",
   "execution_count": null,
   "metadata": {},
   "outputs": [],
   "source": [
    "\"\"\"\n",
    "Add comments for you own reference\n",
    "\"\"\"\n",
    "\n",
    "print(\"Type -\",type(data))\n",
    "print(\"Data Type -\",data.dtype)\n",
    "print(\"Size -\",data.size)\n",
    "print(\"ItemSize -\",data.itemsize)\n",
    "print(\"Dimensions -\",data.ndim)\n",
    "print(\"Shape -\",data.shape)"
   ]
  },
  {
   "cell_type": "markdown",
   "metadata": {},
   "source": [
    "**Evaluation:**\n",
    "\n",
    "After running this program, think about and answer these questions:\n",
    "\n",
    "1. What does astype() function do?\n",
    "2. Search for alternate methods of loading.\n",
    "3. What is the use of delimiter parameter?"
   ]
  },
  {
   "cell_type": "markdown",
   "metadata": {},
   "source": [
    "## 8.2 READING CSV (Group)\n",
    "\n",
    "Write a program that will do the following:\n",
    "\n",
    "1. Read csv file 'test.csv'\n",
    "2. Perform basic operations on 'test.csv'\n",
    "    - Multiply each value by 2\n",
    "    - Subtract each value by 50\n",
    "3. Create an array X with same shape and random numbers\n",
    "4. Add X to data\n",
    "   "
   ]
  },
  {
   "cell_type": "code",
   "execution_count": null,
   "metadata": {},
   "outputs": [],
   "source": [
    "import numpy as np\n",
    "\n",
    "class reading_CSV:\n",
    "    def __init__(self,Filename):\n",
    "        self.__filename = Filename\n",
    "        self.__data = np.loadtxt(self.__filename,delimiter=\",\", dtype=int)\n",
    "        self.__x =None\n",
    "        \n",
    "    def csvX2(self):\n",
    "        self.__twos = np.full(self.__data.shape,2)\n",
    "        print(self.__twos*self.__data)\n",
    "\n",
    "    def csvMinus50(self):\n",
    "        self.__fiftys = np.full(self.__data.shape,50)\n",
    "        print(self.__data-self.__fiftys)\n",
    "\n",
    "    def rndmX(self):\n",
    "        self.__x = np.random.randint(1,99,self.__data.shape)\n",
    "        print(self.__x)\n",
    "\n",
    "    def AppendX(self):\n",
    "        self.rndmX()\n",
    "        print(self.__x.shape)\n",
    "        newArr = np.concatenate((self.__data,self.__x),axis=0, out=None, dtype=int, casting=\"same_kind\")\n",
    "        print(newArr.shape)\n",
    "        np.savetxt('appendCSV.csv',newArr,delimiter=\",\")\n",
    "\n",
    "    def __str__(self):\n",
    "        return f'{self.__data.shape}'"
   ]
  },
  {
   "cell_type": "code",
   "execution_count": null,
   "metadata": {},
   "outputs": [],
   "source": [
    "myCSV = reading_CSV('test.csv')\n",
    "#myCSV.csvX2()\n",
    "#myCSV.csvMinus50()\n",
    "\n",
    "myCSV.AppendX()"
   ]
  },
  {
   "cell_type": "markdown",
   "metadata": {},
   "source": [
    "## 8.3 STATISTICS (Follow)\n",
    "\n",
    "**Learning Objectives:**\n",
    "\n",
    "1. Learn to perform statistical functions on Arrays.\n",
    "2. Understand how arrays provide statistical analysis.\n",
    "3. Understand how to perform statistical analysis of different dimensions of an array."
   ]
  },
  {
   "cell_type": "code",
   "execution_count": null,
   "metadata": {},
   "outputs": [],
   "source": [
    "\"\"\"\n",
    "Add comments for you own reference\n",
    "\"\"\"\n",
    "\n",
    "import numpy as np\n",
    "\n",
    "data = np.loadtxt(\"test.csv\",delimiter=\",\", dtype=int)\n",
    "\n",
    "print(\"Mean -\")\n",
    "print(data.mean())\n",
    "print(\"Median -\")\n",
    "print(np.median(data))\n",
    "print(\"Sum -\")\n",
    "print(np.sum(data[0]))\n",
    "print(\"Standard Deviation -\")\n",
    "print(np.std(data))\n",
    "print(\"Variation -\")\n",
    "print(np.var(data))"
   ]
  },
  {
   "cell_type": "code",
   "execution_count": null,
   "metadata": {},
   "outputs": [],
   "source": [
    "#https://railsware.com/blog/python-for-machine-learning-pandas-axis-explained/#:~:text=%E2%80%9Caxis%200%E2%80%9D%20represents%20rows%20and,it%20goes%20along%20rows%20direction.\n",
    "\"\"\"\n",
    "Add comments for you own reference\n",
    "\"\"\"\n",
    "\n",
    "print(\"Mean by Rows-\")\n",
    "print(data.mean(axis=0))\n",
    "print(\"Mean by Column-\")\n",
    "print(data.mean(axis=1))"
   ]
  },
  {
   "cell_type": "markdown",
   "metadata": {},
   "source": [
    "**Evaluation:**\n",
    "\n",
    "After running this program, think about and answer these questions:\n",
    "\n",
    "1. What other functions are readily available?\n",
    "2. What does axis parameter do?\n",
    "3. How will different functions react to changes in dimensions of the array?"
   ]
  },
  {
   "cell_type": "markdown",
   "metadata": {},
   "source": [
    "## 8.3 STATISTICS (Group)\n",
    "\n",
    "Write a program that will do the following:\n",
    "\n",
    "1. Get a number n from User (10-30)\n",
    "2. Print the statistic information for every nth row of the 'test.csv'\n",
    "    - Mean\n",
    "    - Median\n",
    "    - Sum\n",
    "    - SD\n",
    "    - Variation\n"
   ]
  },
  {
   "cell_type": "code",
   "execution_count": null,
   "metadata": {},
   "outputs": [],
   "source": []
  },
  {
   "cell_type": "code",
   "execution_count": null,
   "metadata": {},
   "outputs": [],
   "source": [
    "import numpy as np\n",
    "\n",
    "class reading_CSV:\n",
    "    def __init__(self,Filename):\n",
    "        self.__filename = Filename\n",
    "        self.__data = np.loadtxt(self.__filename,delimiter=\",\", dtype=int)\n",
    "        self.__x =None\n",
    "\n",
    "    def PullNthRow(self):\n",
    "        N = int(input('Please enter a number between 1 and 30'))\n",
    "        I = N\n",
    "        while (I <= self.__data.shape[0]):\n",
    "            print(f'for row {I}: {self.__data[I]}\\nMean - {self.__data[I].mean()}, Median - {np.median(self.__data[I])}, Sum - {np.sum(self.__data[I])}, Standard Dev - {np.std(self.__data[I])}, Variation - {np.var(self.__data[I])}')\n",
    "            I += N\n",
    "    \n",
    "    def __str__(self):\n",
    "        return f'{self.__data.shape}'\n"
   ]
  },
  {
   "cell_type": "code",
   "execution_count": null,
   "metadata": {},
   "outputs": [],
   "source": [
    "myCSV = reading_CSV('test.csv')\n",
    "myCSV.PullNthRow()"
   ]
  },
  {
   "cell_type": "markdown",
   "metadata": {},
   "source": [
    "## 8.4 INDEXING (Follow)\n",
    "\n",
    "**Learning Objectives:**\n",
    "\n",
    "1. Understand how Indexing in arrays works.\n",
    "2. Understand how slicing in arrays works.\n",
    "3. Learn to extract relevant information from numpy array."
   ]
  },
  {
   "cell_type": "code",
   "execution_count": 29,
   "metadata": {},
   "outputs": [
    {
     "name": "stdout",
     "output_type": "stream",
     "text": [
      "[66 97  7 18 39 84  4 26 21 81]\n",
      "Item at index (20,4):\n",
      " 39 \n",
      "\n"
     ]
    }
   ],
   "source": [
    "\"\"\"\n",
    "Add comments for you own reference\n",
    "\"\"\"\n",
    "\n",
    "import numpy as np\n",
    "\n",
    "data = np.loadtxt(\"test.csv\",delimiter=\",\", dtype=int)\n",
    "print(data[20])\n",
    "print('Item at index (20,4):\\n',data[20,4],'\\n')"
   ]
  },
  {
   "cell_type": "code",
   "execution_count": 30,
   "metadata": {},
   "outputs": [
    {
     "name": "stdout",
     "output_type": "stream",
     "text": [
      "Slice of rows 20 - 25:\n",
      " [[66 97  7 18 39 84  4 26 21 81]\n",
      " [20 66 56 59 66 53  2 64 73 12]\n",
      " [89  8 26 29 49 82 39 22 31 33]\n",
      " [49 76 11 30 28 21 18 57 95 69]\n",
      " [92 81 85 26 21  7 58 48 47 56]] \n",
      "\n",
      "Specific rows (multiples of 10):\n",
      " [[53 28 85 13 57 72 46 31 73 32]\n",
      " [40  9 25 88 61 86 93 77 74 73]\n",
      " [66 97  7 18 39 84  4 26 21 81]\n",
      " [86 18 80 32 77 54  2 17 75 35]\n",
      " [42  8 78 74 99  5  3  3 48 13]\n",
      " [45 99 25 94 38 80 22 15 59 67]\n",
      " [17  8 24 88 35 17 45 62  2 15]\n",
      " [26 69  9 85 20 51 66  7 81 10]\n",
      " [97 90 69 73 28 13 68 41 12 64]\n",
      " [59 70 25 94 67  2 87 65 53 62]] \n",
      "\n"
     ]
    }
   ],
   "source": [
    "\"\"\"\n",
    "Add comments for you own reference\n",
    "\"\"\"\n",
    "\n",
    "print('Slice of rows 20 - 25:\\n',data[20:25],'\\n')\n",
    "print('Specific rows (multiples of 10):\\n',data[[i for i in range(0,100,10)]],'\\n')"
   ]
  },
  {
   "cell_type": "code",
   "execution_count": 36,
   "metadata": {},
   "outputs": [
    {
     "name": "stdout",
     "output_type": "stream",
     "text": [
      "Slice of columns 5 - 8:\n",
      " [[97 76 21]\n",
      " [55 63 42]\n",
      " [93 41 75]\n",
      " [74 11  7]] \n",
      "\n",
      "Specific columns (multiples of 2):\n",
      " [[53 85 57 46 73]\n",
      " [50 87 82 86  2]\n",
      " [74 77 69 76 75]\n",
      " [61  7  6 63 77]\n",
      " [58 77 68 41 77]\n",
      " [59 52 12 11 84]\n",
      " [12 46 85 73 31]\n",
      " [77 56 21 30 83]\n",
      " [24 21 72 16 51]\n",
      " [63 95 69 81 92]\n",
      " [40 25 61 93 74]\n",
      " [81 13 41 50 90]\n",
      " [87 73 10 21 68]\n",
      " [33 82 92 83 58]\n",
      " [61 64 19 44 78]\n",
      " [51 46 13 48 19]\n",
      " [33 58 41 22 40]\n",
      " [37 10 89 12  1]\n",
      " [96 80  6 34 80]\n",
      " [67 93 73 47 73]\n",
      " [66  7 39  4 21]\n",
      " [20 56 66  2 73]\n",
      " [89 26 49 39 31]\n",
      " [49 11 28 18 95]\n",
      " [92 85 21 58 47]\n",
      " [37 41 59 85 68]\n",
      " [26 31 23 18 67]\n",
      " [83 30 92 76 33]\n",
      " [69 46 42 67 26]\n",
      " [83 82 30 34 64]\n",
      " [86 80 77  2 75]\n",
      " [56 47 23 66 15]\n",
      " [10 79 79  6 16]\n",
      " [31 35 54 92  1]\n",
      " [21 18 46 16 61]\n",
      " [59 29 40 10 42]\n",
      " [10 53 63 32 83]\n",
      " [85 59 62 91 74]\n",
      " [75 87 31 51 51]\n",
      " [93  5 14 17 26]\n",
      " [42 78 99  3 48]\n",
      " [61 30 27 62 87]\n",
      " [55 43 17 77 92]\n",
      " [11 85 62 75 17]\n",
      " [10 91 81  1 59]\n",
      " [69  3 38 60 21]\n",
      " [95 88 50  2 59]\n",
      " [76 58 22 22 63]\n",
      " [21 76 35 36 11]\n",
      " [80 53 83 40  9]\n",
      " [45 25 38 22 59]\n",
      " [22 29 47 24 59]\n",
      " [45 88 15 16 66]\n",
      " [34 15 22 23 39]\n",
      " [62 33 65 46 80]\n",
      " [13 84 12  7 19]\n",
      " [76 87 16 69  3]\n",
      " [ 4  4 90 96 93]\n",
      " [55 51 68 62 62]\n",
      " [83 47 39 65  4]\n",
      " [17 24 35 45  2]\n",
      " [49 20  3  4 66]\n",
      " [54 83 53 83 48]\n",
      " [72 78 84  5 99]\n",
      " [61 67 43 88 63]\n",
      " [41 12 89 81 66]\n",
      " [31 63 78 13 66]\n",
      " [88 70 87 93 89]\n",
      " [56 87 16 82 35]\n",
      " [68 70 41 87 13]\n",
      " [26  9 20 66 81]\n",
      " [38 20 83 38 29]\n",
      " [17 33 88 18 75]\n",
      " [25 42 61 98 59]\n",
      " [ 5 90  4 64 65]\n",
      " [ 8 40 20 46 17]\n",
      " [72 19 83 68 10]\n",
      " [89 87 62 26 22]\n",
      " [ 5 66 76 25 36]\n",
      " [95 55  7 84 70]\n",
      " [97 69 28 68 12]\n",
      " [83 23 69 99 23]\n",
      " [62 75 77 63 10]\n",
      " [37 11 52 14  4]\n",
      " [42 83 20 66  6]\n",
      " [34 63 19 29 18]\n",
      " [21 72 99  4 87]\n",
      " [ 1 60 67 19 97]\n",
      " [90 18 79 50  3]\n",
      " [50  6 23 89 76]\n",
      " [59 25 67 87 53]\n",
      " [61 41 70 40 30]\n",
      " [65 24 48 79  5]\n",
      " [25 69  9 96 82]\n",
      " [37 19 39 85 42]\n",
      " [ 6 11  9 34 47]\n",
      " [46 22 44 59 93]\n",
      " [85 65 34 72 20]\n",
      " [90 25  6 50 88]\n",
      " [58 75 25 51 33]] \n",
      "\n"
     ]
    }
   ],
   "source": [
    "\"\"\"\n",
    "Add comments for you own reference\n",
    "\"\"\"\n",
    "\n",
    "print('Slice of columns 5 - 8:\\n',data[2:6:,5:8],'\\n')\n",
    "print('Specific columns (multiples of 2):\\n',data[:,[i for i in range(0,10,2)]],'\\n')"
   ]
  },
  {
   "cell_type": "code",
   "execution_count": null,
   "metadata": {},
   "outputs": [],
   "source": [
    "\"\"\"\n",
    "Add comments for you own reference\n",
    "\"\"\"\n",
    "\n",
    "print('Slice of rows 20-25 & columns 5 - 8:\\n',data[20:25,5:8],'\\n')"
   ]
  },
  {
   "cell_type": "markdown",
   "metadata": {},
   "source": [
    "**Evaluation:**\n",
    "\n",
    "After running this program, think about and answer these questions:\n",
    "\n",
    "1. What is the use case for slicing and indexing?\n",
    "2. Try to manipulate the array by slicing differently."
   ]
  },
  {
   "cell_type": "markdown",
   "metadata": {},
   "source": [
    "## 8.4 INDEXING (Group)\n",
    "\n",
    "Write a program that will do the following:\n",
    "\n",
    "1. Use 'test.csv' \n",
    "2. Get a row and column number from the user and display the value at the index\n",
    "3. Get a range of rows and columns from the user and display all rows in column range and all columns in row range and also all data in row and column range\n",
    "4. Add rows 10-15 with rows 50-55 and display output"
   ]
  },
  {
   "cell_type": "code",
   "execution_count": 66,
   "metadata": {},
   "outputs": [],
   "source": [
    "import numpy as np\n",
    "\n",
    "class reading_CSV:\n",
    "    def __init__(self,Filename):\n",
    "        self.__filename = Filename\n",
    "        self.__data = np.loadtxt(self.__filename,delimiter=\",\", dtype=int)  \n",
    "\n",
    "    #Get a row and column number from the user and display the value at the index\n",
    "    def Indexing_1(self,x,y): \n",
    "        print(f'Item at index {x},{y}:\\n',self.__data[x,y],'\\n')\n",
    "\n",
    "    #Get a range of rows and columns from the user and display all rows \n",
    "    def Indexing_2(self,x,y): \n",
    "        print(f'Item range [{x}:{y}]:\\n',self.__data[x:y],'\\n')\n",
    "    \n",
    "    #Get a range of rows and columns from the user and display all rows in column range and all columns in row range and also all data in row and column range\n",
    "    def Indexing_3(self,x1,x2,y1,y2): \n",
    "        self.Indexing_2(x1,x2)\n",
    "        print(f'Slice of rows {x1}-{x2} amd columns {y1}-{y2}:\\n',data[x1:x2:,y1:y2],'\\n')    \n",
    "\n",
    "    def Indexing_4(self): \n",
    "        print(self.__data[10:16])\n",
    "        print(self.__data[50:56])\n",
    "        print(self.__data[10:16]+self.__data[50:56])\n",
    "        "
   ]
  },
  {
   "cell_type": "code",
   "execution_count": 67,
   "metadata": {},
   "outputs": [
    {
     "name": "stdout",
     "output_type": "stream",
     "text": [
      "[[40  9 25 88 61 86 93 77 74 73]\n",
      " [81 58 13 30 41 41 50 44 90  1]\n",
      " [87 37 73 14 10 11 21 84 68 22]\n",
      " [33  6 82 37 92 32 83  1 58 79]\n",
      " [61 53 64 77 19 56 44 31 78 93]\n",
      " [51 34 46 54 13 72 48 65 19 83]]\n",
      "[[45 99 25 94 38 80 22 15 59 67]\n",
      " [22 43 29 21 47 69 24 76 59 23]\n",
      " [45 91 88 49 15 61 16 68 66  4]\n",
      " [34 14 15 78 22 55 23 68 39 40]\n",
      " [62 71 33 69 65 66 46 24 80 87]\n",
      " [13 61 84 52 12 74  7 86 19  7]]\n",
      "[[ 85 108  50 182  99 166 115  92 133 140]\n",
      " [103 101  42  51  88 110  74 120 149  24]\n",
      " [132 128 161  63  25  72  37 152 134  26]\n",
      " [ 67  20  97 115 114  87 106  69  97 119]\n",
      " [123 124  97 146  84 122  90  55 158 180]\n",
      " [ 64  95 130 106  25 146  55 151  38  90]]\n"
     ]
    }
   ],
   "source": [
    "myCSV = reading_CSV('test.csv')\n",
    "myCSV.Indexing_4()\n"
   ]
  },
  {
   "cell_type": "code",
   "execution_count": 43,
   "metadata": {},
   "outputs": [
    {
     "name": "stdout",
     "output_type": "stream",
     "text": [
      "Item range [5:10]:\n",
      " [[59 55 52 63 12 74 11  7 84 40]\n",
      " [12 11 46 30 85 46 73 79 31 35]\n",
      " [77 20 56 32 21 83 30 32 83 24]\n",
      " [24 80 21 79 72 18 16 44 51 61]\n",
      " [63 64 95 29 69 52 81 64 92 65]] \n",
      "\n"
     ]
    }
   ],
   "source": [
    "myCSV.Indexing_2(5,10)\n"
   ]
  },
  {
   "cell_type": "code",
   "execution_count": 44,
   "metadata": {},
   "outputs": [
    {
     "name": "stdout",
     "output_type": "stream",
     "text": [
      "Item range [5:10]:\n",
      " [[59 55 52 63 12 74 11  7 84 40]\n",
      " [12 11 46 30 85 46 73 79 31 35]\n",
      " [77 20 56 32 21 83 30 32 83 24]\n",
      " [24 80 21 79 72 18 16 44 51 61]\n",
      " [63 64 95 29 69 52 81 64 92 65]] \n",
      "\n",
      "Slice of rows 5-10 amd columns 3-5:\n",
      " [[63 12]\n",
      " [30 85]\n",
      " [32 21]\n",
      " [79 72]\n",
      " [29 69]] \n",
      "\n"
     ]
    }
   ],
   "source": [
    "myCSV.Indexing_3(5,10,3,5)\n"
   ]
  },
  {
   "cell_type": "code",
   "execution_count": null,
   "metadata": {},
   "outputs": [],
   "source": [
    "\n"
   ]
  },
  {
   "cell_type": "markdown",
   "metadata": {},
   "source": [
    "## 8.5 COPY VS VIEW (Follow)\n",
    "\n",
    "**Learning Objectives:**\n",
    "\n",
    "1. Understand the difference between a copy and a view.\n",
    "2. Understand how the original array is affected when deling with views.\n",
    "3. Understand how the original array is affected when deling with copies.\n",
    "4. Learn to manipulate data using copies and views"
   ]
  },
  {
   "cell_type": "code",
   "execution_count": 4,
   "metadata": {},
   "outputs": [
    {
     "name": "stdout",
     "output_type": "stream",
     "text": [
      "Original Before -\n",
      "[1 2 3 4 5]\n",
      "Original for view -\n",
      "[9 2 3 4 5]\n",
      "View -\n",
      "[9 2 3 4 5]\n",
      "Original for copy -\n",
      "[9 2 3 4 5]\n",
      "Copy -\n",
      "[9 8 3 4 5]\n"
     ]
    }
   ],
   "source": [
    "\"\"\"\n",
    "Add comments for you own reference\n",
    "\"\"\"\n",
    "import numpy as np\n",
    "arr = np.array([1,2,3,4,5])\n",
    "print(\"Original Before -\")\n",
    "print(arr)\n",
    "x = arr.view()\n",
    "x[0] = 9\n",
    "print(\"Original for view -\")\n",
    "print(arr)\n",
    "print(\"View -\")\n",
    "print(x)\n",
    "y = arr.copy()\n",
    "y[1] = 8\n",
    "print(\"Original for copy -\")\n",
    "print(arr)\n",
    "print(\"Copy -\")\n",
    "print(y)"
   ]
  },
  {
   "cell_type": "code",
   "execution_count": 10,
   "metadata": {},
   "outputs": [
    {
     "name": "stdout",
     "output_type": "stream",
     "text": [
      "Original Before -\n",
      "[[59 55 52 63 12 74 11  7 84 40]\n",
      " [12 11 46 30 85 46 73 79 31 35]\n",
      " [77 20 56 32 21 83 30 32 83 24]\n",
      " [24 80 21 79 72 18 16 44 51 61]\n",
      " [63 64 95 29 69 52 81 64 92 65]]\n",
      "Original for view -\n",
      "[[10 10 10 10 10 10 10 10 10 10]\n",
      " [12 11 46 30 85 46 73 79 31 35]\n",
      " [10 10 10 10 10 10 10 10 10 10]\n",
      " [24 80 21 79 72 18 16 44 51 61]\n",
      " [10 10 10 10 10 10 10 10 10 10]]\n",
      "View -\n",
      "[[10 10 10 10 10 10 10 10 10 10]\n",
      " [12 11 46 30 85 46 73 79 31 35]\n",
      " [10 10 10 10 10 10 10 10 10 10]\n",
      " [24 80 21 79 72 18 16 44 51 61]\n",
      " [10 10 10 10 10 10 10 10 10 10]]\n",
      "Original for copy -\n",
      "[[10 10 10 10 10 10 10 10 10 10]\n",
      " [12 11 46 30 85 46 73 79 31 35]\n",
      " [10 10 10 10 10 10 10 10 10 10]\n",
      " [24 80 21 79 72 18 16 44 51 61]\n",
      " [10 10 10 10 10 10 10 10 10 10]]\n",
      "Copy -\n",
      "[[10 10 10 10 10 10 10 10 10 10]\n",
      " [ 8  8  8  8  8  8  8  8  8  8]\n",
      " [10 10 10 10 10 10 10 10 10 10]\n",
      " [ 8  8  8  8  8  8  8  8  8  8]\n",
      " [10 10 10 10 10 10 10 10 10 10]]\n"
     ]
    }
   ],
   "source": [
    "\"\"\"\n",
    "Add comments for you own reference\n",
    "\"\"\"\n",
    "\n",
    "data = np.loadtxt(\"test.csv\",delimiter=\",\", dtype=int)\n",
    "data = data[5:10]\n",
    "\n",
    "print(\"Original Before -\")\n",
    "print(data)\n",
    "x = data.view()\n",
    "x[0::2] = 10\n",
    "print(\"Original for view -\")\n",
    "print(data)\n",
    "print(\"View -\")\n",
    "print(x)\n",
    "y = data.copy()\n",
    "y[1::2] = 8\n",
    "print(\"Original for copy -\")\n",
    "print(data)\n",
    "print(\"Copy -\")\n",
    "print(y)"
   ]
  },
  {
   "cell_type": "markdown",
   "metadata": {},
   "source": [
    "**Evaluation:**\n",
    "\n",
    "After running this program, think about and answer these questions:\n",
    "\n",
    "1. What does the copy() function do?\n",
    "2. What does the view() function do?\n",
    "3. How is the original array affected by manipulating views / copies?\n",
    "4. What is the best use case for views?\n",
    "5. What is the best use case for copies?"
   ]
  },
  {
   "cell_type": "markdown",
   "metadata": {},
   "source": [
    "## 8.5 COPY VS VIEW (Group)\n",
    "\n",
    "Write a program that will do the following:\n",
    "\n",
    "1. Read 'test.csv' \n",
    "2. Make a copy and a view of the data\n",
    "3. Convert even rows of view to all 5\n",
    "4. Convert odd rows of copy to all 10\n",
    "5. Add Copy to view\n",
    "6. Display all three Arrays"
   ]
  },
  {
   "cell_type": "code",
   "execution_count": 26,
   "metadata": {},
   "outputs": [],
   "source": [
    "import numpy as np\n",
    "\n",
    "class reading_CSV:\n",
    "    def __init__(self,Filename):\n",
    "        self.__filename = Filename\n",
    "        self.__data = np.loadtxt(self.__filename,delimiter=\",\", dtype=int)\n",
    "        self.__datacp = None\n",
    "        self.__datavw = None\n",
    "\n",
    "    def getData(self):\n",
    "        print(self.__data[0:5])\n",
    "\n",
    "    def Copydata(self):\n",
    "        self.__datacp = self.__data[0:5].copy()\n",
    "        self.__datacp[0::2] = 10\n",
    "        print (self.__datacp)\n",
    "\n",
    "    def ViewData(self):\n",
    "        self.__datavw = self.__data[0:5].view()\n",
    "        self.__datavw[1::2] = 5\n",
    "        print (self.__datavw)\n",
    "\n",
    "    def CopyView(self):\n",
    "        copyView = self.__datavw.copy()\n",
    "        print(copyView.base)\n",
    "        print(copyView)\n",
    "        #print(f'the Base of the origonal array is: {self.__data.base}\\nThe Base of the view is: {self.__datavw.base}\\n The Base of the copy is: {self.__datacp.base}')\n",
    "\n",
    "\n",
    "    #Get a row and column number from the user and display the value at the index\n",
    "    def Indexing_1(self,x,y): \n",
    "        print(f'Item at index {x},{y}:\\n',self.__data[x,y],'\\n')\n",
    "\n",
    "    #Get a range of rows and columns from the user and display all rows \n",
    "    def Indexing_2(self,x,y): \n",
    "        print(f'Item range [{x}:{y}]:\\n',self.__data[x:y],'\\n')\n",
    "    \n",
    "    #Get a range of rows and columns from the user and display all rows in column range and all columns in row range and also all data in row and column range\n",
    "    def Indexing_3(self,x1,x2,y1,y2): \n",
    "        self.Indexing_2(x1,x2)\n",
    "        print(f'Slice of rows {x1}-{x2} amd columns {y1}-{y2}:\\n',data[x1:x2:,y1:y2],'\\n')    \n",
    "\n",
    "    def Indexing_4(self): \n",
    "        print(self.__data[10:16])\n",
    "        print(self.__data[50:56])\n",
    "        print(self.__data[10:16]+self.__data[50:56])\n"
   ]
  },
  {
   "cell_type": "code",
   "execution_count": 27,
   "metadata": {},
   "outputs": [
    {
     "name": "stdout",
     "output_type": "stream",
     "text": [
      "[[53 28 85 13 57 72 46 31 73 32]\n",
      " [50 90 87 98 82 35 86 30  2 43]\n",
      " [74 53 77  1 69 97 76 21 75  3]\n",
      " [61 67  7 21  6 55 63 42 77  6]\n",
      " [58 82 77  7 68 93 41 75 77 19]]\n",
      "[[10 10 10 10 10 10 10 10 10 10]\n",
      " [50 90 87 98 82 35 86 30  2 43]\n",
      " [10 10 10 10 10 10 10 10 10 10]\n",
      " [61 67  7 21  6 55 63 42 77  6]\n",
      " [10 10 10 10 10 10 10 10 10 10]]\n",
      "[[53 28 85 13 57 72 46 31 73 32]\n",
      " [ 5  5  5  5  5  5  5  5  5  5]\n",
      " [74 53 77  1 69 97 76 21 75  3]\n",
      " [ 5  5  5  5  5  5  5  5  5  5]\n",
      " [58 82 77  7 68 93 41 75 77 19]]\n"
     ]
    }
   ],
   "source": [
    "mynumpy = reading_CSV('test.csv')\n",
    "mynumpy.getData()\n",
    "mynumpy.Copydata()\n",
    "mynumpy.ViewData()"
   ]
  },
  {
   "cell_type": "code",
   "execution_count": null,
   "metadata": {},
   "outputs": [],
   "source": [
    "\n"
   ]
  },
  {
   "cell_type": "markdown",
   "metadata": {},
   "source": [
    "## 8.6 MODIFICATION (Follow)\n",
    "\n",
    "**Learning Objectives:**\n",
    "\n",
    "1. Understand how to modify an array.\n",
    "2. Learn modification functions.\n",
    "3. Understand the use of array modification"
   ]
  },
  {
   "cell_type": "code",
   "execution_count": 28,
   "metadata": {},
   "outputs": [
    {
     "name": "stdout",
     "output_type": "stream",
     "text": [
      "[[1 2 3]\n",
      " [4 5 6]] \n",
      "\n",
      "[[1 2]\n",
      " [3 4]\n",
      " [5 6]] \n",
      "\n",
      "[[88  2]\n",
      " [ 3  4]\n",
      " [ 5  6]] \n",
      "\n",
      "[99  2  3  4  5  6] \n",
      "\n",
      "[88  2  3  4  5  6] \n",
      "\n",
      "[[88  3  5]\n",
      " [ 2  4  6]] \n",
      "\n"
     ]
    }
   ],
   "source": [
    "\"\"\"\n",
    "Add comments for you own reference\n",
    "\"\"\"\n",
    "\n",
    "import numpy as np\n",
    "arr = np.array([1,2,3,4,5,6])\n",
    "arr.resize(2,3)\n",
    "print(arr,\"\\n\")\n",
    "x = arr.reshape(3,2)\n",
    "print(x,\"\\n\")\n",
    "y = x.flatten()\n",
    "z = x.ravel()\n",
    "y[0] = 99\n",
    "z[0] = 88\n",
    "print(x,\"\\n\")\n",
    "print(y,\"\\n\")\n",
    "print(z,\"\\n\")\n",
    "print(x.transpose(),\"\\n\")"
   ]
  },
  {
   "cell_type": "code",
   "execution_count": 29,
   "metadata": {},
   "outputs": [
    {
     "name": "stdout",
     "output_type": "stream",
     "text": [
      "[[37 80]\n",
      " [41 91]\n",
      " [59 28]\n",
      " [85  6]\n",
      " [68 74]\n",
      " [26 90]\n",
      " [31 28]\n",
      " [23 45]\n",
      " [18 23]\n",
      " [67 53]\n",
      " [83 17]\n",
      " [30 50]\n",
      " [92 23]\n",
      " [76  7]\n",
      " [33 67]\n",
      " [69 20]\n",
      " [46 89]\n",
      " [42 30]\n",
      " [67 36]\n",
      " [26 49]\n",
      " [83 61]\n",
      " [82  6]\n",
      " [30 22]\n",
      " [34 75]\n",
      " [64 78]] \n",
      "\n",
      "[[37 80 41 91 59]\n",
      " [28 85  6 68 74]\n",
      " [26 90 31 28 23]\n",
      " [45 18 23 67 53]\n",
      " [83 17 30 50 92]\n",
      " [23 76  7 33 67]\n",
      " [69 20 46 89 42]\n",
      " [30 67 36 26 49]\n",
      " [83 61 82  6 30]\n",
      " [22 34 75 64 78]] \n",
      "\n",
      "[[88 80 41 91 59]\n",
      " [28 85  6 68 74]\n",
      " [26 90 31 28 23]\n",
      " [45 18 23 67 53]\n",
      " [83 17 30 50 92]\n",
      " [23 76  7 33 67]\n",
      " [69 20 46 89 42]\n",
      " [30 67 36 26 49]\n",
      " [83 61 82  6 30]\n",
      " [22 34 75 64 78]] \n",
      "\n",
      "[99 80 41 91 59 28 85  6 68 74 26 90 31 28 23 45 18 23 67 53 83 17 30 50\n",
      " 92 23 76  7 33 67 69 20 46 89 42 30 67 36 26 49 83 61 82  6 30 22 34 75\n",
      " 64 78] \n",
      "\n",
      "[88 80 41 91 59 28 85  6 68 74 26 90 31 28 23 45 18 23 67 53 83 17 30 50\n",
      " 92 23 76  7 33 67 69 20 46 89 42 30 67 36 26 49 83 61 82  6 30 22 34 75\n",
      " 64 78] \n",
      "\n",
      "[[88 28 26 45 83 23 69 30 83 22]\n",
      " [80 85 90 18 17 76 20 67 61 34]\n",
      " [41  6 31 23 30  7 46 36 82 75]\n",
      " [91 68 28 67 50 33 89 26  6 64]\n",
      " [59 74 23 53 92 67 42 49 30 78]] \n",
      "\n"
     ]
    }
   ],
   "source": [
    "\"\"\"\n",
    "Add comments for you own reference\n",
    "\"\"\"\n",
    "\n",
    "data = np.loadtxt(\"test.csv\",delimiter=\",\", dtype=str).astype(int)\n",
    "data = data[25:30]\n",
    "\n",
    "data.resize(25,2)\n",
    "print(data,\"\\n\")\n",
    "x = data.reshape(10,5)\n",
    "print(x,\"\\n\")\n",
    "y = x.flatten()\n",
    "z = x.ravel()\n",
    "y[0] = 99\n",
    "z[0] = 88\n",
    "print(x,\"\\n\")\n",
    "print(y,\"\\n\")\n",
    "print(z,\"\\n\")\n",
    "print(x.transpose(),\"\\n\")"
   ]
  },
  {
   "cell_type": "markdown",
   "metadata": {},
   "source": [
    "**Evaluation:**\n",
    "\n",
    "After running this program, think about and answer these questions:\n",
    "\n",
    "1. What is the difference between resize and reshape?\n",
    "2. What is the difference between ravel and flatten?\n",
    "3. What does transpose() function do?\n",
    "4. How are these functions helpful in data analysis or statistics?"
   ]
  },
  {
   "cell_type": "markdown",
   "metadata": {},
   "source": [
    "## 8.6 MODIFICATION (Group)\n",
    "\n",
    "Write a program that will do the following:\n",
    "\n",
    "1. Read 'test.csv' \n",
    "2. Slice a 5:8 grid from the array (X)\n",
    "3. Make a copy and transpose (X)\n",
    "4. Reshape both arrays to (4,10)\n",
    "5. Multiply the arrays and display the Output\n",
    "6. Try to display each step"
   ]
  },
  {
   "cell_type": "code",
   "execution_count": 50,
   "metadata": {},
   "outputs": [],
   "source": [
    "import numpy as np\n",
    "\n",
    "class reading_CSV:\n",
    "    def __init__(self,Filename):\n",
    "        self.__filename = Filename\n",
    "        self.__data = np.loadtxt(self.__filename,delimiter=\",\", dtype=int)\n",
    "        self.__datacp = None\n",
    "        self.__datavw = None\n",
    "\n",
    "    #Get a range of rows and columns from the user and display all rows \n",
    "    def Slice5X8(self): \n",
    "        print('Read in Test.csv and slice a 5X8 portion of it. name the slice x.\\nx = self.__data[:5:, :8].copy() ')\n",
    "        x = self.__data[:5:, :8].copy()\n",
    "        print(x)\n",
    "        print('X into y and reshape y to 4X10\\ny = x.reshape(4,10)')\n",
    "        y = x.transpose()\n",
    "        y = y.reshape(4,10)\n",
    "        print(y)\n",
    "        print('Reshape x to 4X10') \n",
    "        x.reshape(4,10)\n",
    "        print(x)\n",
    "        print('Multiply x and y:')\n",
    "        print(x.reshape(4,10)*y)\n",
    "\n",
    "    def Copydata(self):\n",
    "        self.__datacp = self.__data[:20:2].copy()\n",
    "        print (self.__datacp)\n",
    "    \n",
    "    #Get a range of rows and columns from the user and display all rows in column range and all columns in row range and also all data in row and column range\n",
    "    def Indexing_3(self,x1,x2,y1,y2): \n",
    "        self.Indexing_2(x1,x2)\n",
    "        print(f'Slice of rows {x1}-{x2} amd columns {y1}-{y2}:\\n',data[x1:x2:,y1:y2],'\\n')    \n",
    "\n",
    "    def Indexing_4(self): \n",
    "        print(self.__data[10:16])\n",
    "        print(self.__data[50:56])\n",
    "        print(self.__data[10:16]+self.__data[50:56])\n",
    "\n"
   ]
  },
  {
   "cell_type": "code",
   "execution_count": 51,
   "metadata": {},
   "outputs": [
    {
     "name": "stdout",
     "output_type": "stream",
     "text": [
      "Read in Test.csv and slice a 5X8 portion of it. name the slice x.\n",
      "x = self.__data[:5:, :8].copy() \n",
      "[[53 28 85 13 57 72 46 31]\n",
      " [50 90 87 98 82 35 86 30]\n",
      " [74 53 77  1 69 97 76 21]\n",
      " [61 67  7 21  6 55 63 42]\n",
      " [58 82 77  7 68 93 41 75]]\n",
      "X into y and reshape y to 4X10\n",
      "y = x.reshape(4,10)\n",
      "[[53 50 74 61 58 28 90 53 67 82]\n",
      " [85 87 77  7 77 13 98  1 21  7]\n",
      " [57 82 69  6 68 72 35 97 55 93]\n",
      " [46 86 76 63 41 31 30 21 42 75]]\n",
      "Reshape x to 4X10\n",
      "[[53 28 85 13 57 72 46 31]\n",
      " [50 90 87 98 82 35 86 30]\n",
      " [74 53 77  1 69 97 76 21]\n",
      " [61 67  7 21  6 55 63 42]\n",
      " [58 82 77  7 68 93 41 75]]\n",
      "Multiply x and y:\n",
      "[[2809 1400 6290  793 3306 2016 4140 1643 3350 7380]\n",
      " [7395 8526 6314  245 6622  390 7252   53 1617    7]\n",
      " [3933 7954 5244  126 4148 4824  245 2037  330 5115]\n",
      " [2898 3612 4408 5166 3157  217 2040 1953 1722 5625]]\n"
     ]
    }
   ],
   "source": [
    "mynumpy = reading_CSV('test.csv')\n",
    "mynumpy.Slice5X8()\n"
   ]
  }
 ],
 "metadata": {
  "kernelspec": {
   "display_name": "Python 3",
   "language": "python",
   "name": "python3"
  },
  "language_info": {
   "codemirror_mode": {
    "name": "ipython",
    "version": 3
   },
   "file_extension": ".py",
   "mimetype": "text/x-python",
   "name": "python",
   "nbconvert_exporter": "python",
   "pygments_lexer": "ipython3",
   "version": "3.11.2"
  },
  "vscode": {
   "interpreter": {
    "hash": "5238573367df39f7286bb46f9ff5f08f63a01a80960060ce41e3c79b190280fa"
   }
  }
 },
 "nbformat": 4,
 "nbformat_minor": 2
}
