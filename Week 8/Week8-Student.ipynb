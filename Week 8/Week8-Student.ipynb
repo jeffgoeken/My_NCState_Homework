{
 "cells": [
  {
   "cell_type": "markdown",
   "metadata": {},
   "source": [
    "# Workshop 8 [Student]\n",
    "\n",
    "This notebook will cover the following topics:\n",
    "\n",
    "1. Numpy Array\n",
    "2. Attributes and Operations\n",
    "3. Reading data from CSV\n",
    "4. Statistics\n",
    "5. Indexing\n",
    "6. Copy vs View\n",
    "7. Modifications"
   ]
  },
  {
   "cell_type": "markdown",
   "metadata": {},
   "source": [
    "## 8.1 NUMPY ARRAY (Follow)\n",
    "\n",
    "**Learning Objectives:**\n",
    "\n",
    "1. Understand the numpy module.\n",
    "2. Understand numpy arrays.\n",
    "3. Understand Array creation and basic functions.\n",
    "4. Learn to manipulate arrays"
   ]
  },
  {
   "cell_type": "code",
   "execution_count": null,
   "metadata": {},
   "outputs": [],
   "source": [
    "#https://numpy.org/doc/stable/reference/arrays.dtypes.html\n",
    "\"\"\"\n",
    "Add comments for you own reference\n",
    "\"\"\"\n",
    "\n",
    "import numpy as np\n",
    "x = np.array([[1,2,3,4,5],\n",
    "                 [6,7,8,9,0],\n",
    "                 [5,4,3,2,1]])\n",
    "print(x)\n",
    "print(\"Type -\",type(x))\n",
    "print(\"Data Type -\",x.dtype)\n",
    "print(\"Size -\",x.size)\n",
    "print(\"ItemSize -\",x.itemsize)\n",
    "print(\"Dimensions -\",x.ndim)\n",
    "print(\"Shape -\",x.shape)"
   ]
  },
  {
   "cell_type": "code",
   "execution_count": null,
   "metadata": {},
   "outputs": [],
   "source": [
    "\"\"\"\n",
    "Add comments for you own reference\n",
    "\"\"\"\n",
    "\n",
    "import numpy as np\n",
    "x = np.full(5,3)\n",
    "print(\"Full:\\n\",x)\n",
    "x = np.zeros((2,4))\n",
    "print(\"Zeros:\\n\",x)\n",
    "x = np.ones((2,5))\n",
    "print(\"Ones:\\n\",x)\n",
    "x = np.arange(1,7)\n",
    "print(\"Range:\\n\",x)\n",
    "x = np.linspace(1,5,6)\n",
    "print(\"LinSpace:\\n\",x)"
   ]
  },
  {
   "cell_type": "code",
   "execution_count": null,
   "metadata": {},
   "outputs": [],
   "source": [
    "\"\"\"\n",
    "Add comments for you own reference\n",
    "\"\"\"\n",
    "\n",
    "import numpy as np\n",
    "x = np.arange(1,10)\n",
    "print(\"Array X:\\n\",x,\"\\n\")\n",
    "print(\"Multiplication:\\n\",x*2,\"\\n\")\n",
    "print(\"Substraction:\\n\",x-2,\"\\n\")\n",
    "y = np.arange(3,12)\n",
    "print(\"Array Y:\\n\",y,\"\\n\")\n",
    "print(\"SHAPES -\",x.shape,y.shape,\"\\n\")\n",
    "print(\"Addition:\\n\",x+y,\"\\n\")\n",
    "print(\"Multiplication:\\n\",x*y,\"\\n\")"
   ]
  },
  {
   "attachments": {},
   "cell_type": "markdown",
   "metadata": {},
   "source": [
    "**Evaluation:**\n",
    "\n",
    "After running this program, think about and answer these questions:\n",
    "\n",
    "1. What does the arange function do? creates a Numpy array\n",
    "2. What is the use of 1s and 0s function? Create a numpy array with either 0's or 1's\n",
    "3. What will happen if shapes of arrays are not same? ValueError: operands could not be broadcast together with shapes (8,) (9,) \n",
    "4. Try to add more dimentions to the arrays."
   ]
  },
  {
   "cell_type": "markdown",
   "metadata": {},
   "source": [
    "## 8.1 NUMPY ARRAY (Group)\n",
    "\n",
    "Write a program that will do the following:\n",
    "\n",
    "1. Create 3 Arrays:\n",
    "    - X : containing Multiples of 5\n",
    "    - Y : in range of 100 to 150\n",
    "    - Z : containg all n (taken from user) \n",
    "2. Make sure that Shapes of arrays are equal.\n",
    "3. Perform:\n",
    "    - X + Y\n",
    "    - X * Z\n",
    "    - Z - Y\n",
    "    - X + Y + Z"
   ]
  },
  {
   "cell_type": "code",
   "execution_count": null,
   "metadata": {},
   "outputs": [],
   "source": [
    "import numpy as np\n",
    "\n",
    "class NumpyArray:\n",
    "    def __init__(self,*z):\n",
    "        self.z = np.array(z)\n",
    "        self.x = np.arange(5,5*len(self.z)+1,5)\n",
    "        self.y = np.random.randint(100,150,(len(self.z)))   \n",
    "        \n",
    "    \n",
    "    def AddXY(self):\n",
    "        print( self.x + self.y)\n",
    "\n",
    "    def MultiplyXZ(self):\n",
    "        print (self.x * self.z)\n",
    "\n",
    "    def SubtractZY(self):\n",
    "        print (self.z-self.y)\n",
    "\n",
    "    def addXYZ(self):\n",
    "        print (self.x + self.y + self.z)\n",
    "\n",
    "    def getShapes(self):\n",
    "        print (f'The shape of X is {np.shape(self.x)}. The shape of Y is {np.shape(self.y)}. The shape of Z is {np.shape(self.z)}')\n",
    "     \n"
   ]
  },
  {
   "cell_type": "code",
   "execution_count": null,
   "metadata": {},
   "outputs": [],
   "source": [
    "\n",
    "myArray = NumpyArray(1,3,5,6)\n",
    "print(myArray.x)\n",
    "print(myArray.z)\n",
    "print(myArray.y)\n",
    "myArray.getShapes()\n",
    "myArray.AddXY()\n",
    "myArray.MultiplyXZ()\n",
    "myArray.SubtractZY()\n",
    "myArray.addXYZ()\n"
   ]
  },
  {
   "cell_type": "markdown",
   "metadata": {},
   "source": [
    "## 8.2 READING CSV (Follow)\n",
    "\n",
    "**Learning Objectives:**\n",
    "\n",
    "1. Understand how to read CSV into arrays.\n",
    "2. Understand the data type of csv files.\n",
    "3. Learn to manipulate CSV data."
   ]
  },
  {
   "cell_type": "code",
   "execution_count": null,
   "metadata": {},
   "outputs": [],
   "source": [
    "\"\"\"\n",
    "Add comments for you own reference\n",
    "\"\"\"\n",
    "\n",
    "import numpy as np\n",
    "\n",
    "data = np.loadtxt(\"test.csv\",delimiter=\",\", dtype=int)\n",
    "print(data)"
   ]
  },
  {
   "cell_type": "code",
   "execution_count": null,
   "metadata": {},
   "outputs": [],
   "source": [
    "\"\"\"\n",
    "Add comments for you own reference\n",
    "\"\"\"\n",
    "\n",
    "print(\"Type -\",type(data))\n",
    "print(\"Data Type -\",data.dtype)\n",
    "print(\"Size -\",data.size)\n",
    "print(\"ItemSize -\",data.itemsize)\n",
    "print(\"Dimensions -\",data.ndim)\n",
    "print(\"Shape -\",data.shape)"
   ]
  },
  {
   "cell_type": "markdown",
   "metadata": {},
   "source": [
    "**Evaluation:**\n",
    "\n",
    "After running this program, think about and answer these questions:\n",
    "\n",
    "1. What does astype() function do?\n",
    "2. Search for alternate methods of loading.\n",
    "3. What is the use of delimiter parameter?"
   ]
  },
  {
   "cell_type": "markdown",
   "metadata": {},
   "source": [
    "## 8.2 READING CSV (Group)\n",
    "\n",
    "Write a program that will do the following:\n",
    "\n",
    "1. Read csv file 'test.csv'\n",
    "2. Perform basic operations on 'test.csv'\n",
    "    - Multiply each value by 2\n",
    "    - Subtract each value by 50\n",
    "3. Create an array X with same shape and random numbers\n",
    "4. Add X to data\n",
    "   "
   ]
  },
  {
   "cell_type": "code",
   "execution_count": 4,
   "metadata": {},
   "outputs": [],
   "source": [
    "import numpy as np\n",
    "\n",
    "class reading_CSV:\n",
    "    def __init__(self,Filename):\n",
    "        self.__filename = Filename\n",
    "        self.__data = np.loadtxt(self.__filename,delimiter=\",\", dtype=int)\n",
    "        self.__x =None\n",
    "        \n",
    "    def csvX2(self):\n",
    "        self.__twos = np.full(self.__data.shape,2)\n",
    "        print(self.__twos*self.__data)\n",
    "\n",
    "    def csvMinus50(self):\n",
    "        self.__fiftys = np.full(self.__data.shape,50)\n",
    "        print(self.__data-self.__fiftys)\n",
    "\n",
    "    def rndmX(self):\n",
    "        self.__x = np.random.randint(1,99,self.__data.shape)\n",
    "        print(self.__x)\n",
    "\n",
    "    def AppendX(self):\n",
    "        self.rndmX()\n",
    "        print(self.__x.shape)\n",
    "        newArr = np.concatenate((self.__data,self.__x),axis=0, out=None, dtype=int, casting=\"same_kind\")\n",
    "        print(newArr.shape)\n",
    "        np.savetxt('appendCSV.csv',newArr,delimiter=\",\")\n",
    "\n",
    "    def __str__(self):\n",
    "        return f'{self.__data.shape}'"
   ]
  },
  {
   "cell_type": "code",
   "execution_count": 5,
   "metadata": {},
   "outputs": [
    {
     "name": "stdout",
     "output_type": "stream",
     "text": [
      "(100, 10)\n",
      "[[73 36 20 79  8 64 58 75 77  2]\n",
      " [83 26 73 12 55 68 36 23 75 45]\n",
      " [ 2 96 76 64 38 63 12 79 94  4]\n",
      " [38 89 18 72 96 46 35 45 63 71]\n",
      " [51 68 35 27 76 86 31 12  2 39]\n",
      " [96 37 32 25 43 23 72 66 34 77]\n",
      " [78 13 66 73 94 20 34 90 32 30]\n",
      " [39 36 55 87 86 90 39 74 10 48]\n",
      " [35 25  1 72 24  7 40  2 50  5]\n",
      " [38  1 67 31 50 94 81 82 13 63]\n",
      " [91 83 31 53 35  2 16 95 90  7]\n",
      " [71 40 82 41 23 37 94  1 81 45]\n",
      " [17 51 55 51 68 23 34 84 44 78]\n",
      " [82 63 72  4 55 73 14  6 19 59]\n",
      " [12 16 41 49 46 25 83 90 40 39]\n",
      " [ 1 26 76 71 70 62 69 12  3 38]\n",
      " [47 18 54 41 15 85 85 16 39 27]\n",
      " [ 8 63 67 28 65 64 94 27 34 12]\n",
      " [77 97 35 39 72 97 61 11 63  1]\n",
      " [ 6 47 77 75 64 27 26 28  5 16]\n",
      " [46 85 17 16 81 25 43 59 69 51]\n",
      " [76 19 52 55 25 92 64 29 35 63]\n",
      " [91 40 42 54 24 58 18 95 37 64]\n",
      " [29  5 35 45 59 21 81 20  1 77]\n",
      " [92 52 54 67 53 53 78 27 78 30]\n",
      " [77  2 16 22 86 68 76 54 77  7]\n",
      " [17 60 37  7 92 71 97 97 90 28]\n",
      " [45 75 81 27 58 57  5 54 69 85]\n",
      " [91 85 67  7 26 15 43 56 33 90]\n",
      " [63  6 25 19 84 25 12 22 80 39]\n",
      " [90 18 78 65 35 98 67 41 83 61]\n",
      " [10 52 84 10  6 33 50 57 86 69]\n",
      " [17  6 52 68 67  4 93 82 84 11]\n",
      " [28 96 12 84 95 66  4 87 85 14]\n",
      " [51 98  4 37 83 88 33 28 27 85]\n",
      " [97  6 79 62 10 87  1 76 63 15]\n",
      " [91 53 60  7 29 74 85 44 86 36]\n",
      " [71 37 90 61 90  6 36  4 60 72]\n",
      " [35 12 23 50 20 15 45 78 21 44]\n",
      " [47  5 39  9 49 27 38 15 13 55]\n",
      " [36 62 75 49 45 94 97 80 35  8]\n",
      " [81 28 21 57 79 30 44 32 97 19]\n",
      " [25 22 92 82 20 22 93 91 29  1]\n",
      " [43 53 63 34 35 91 35 83 71  9]\n",
      " [29 10 86 81 67 45 69 34 63 57]\n",
      " [41 50 66  5 87 23 61  2 25 13]\n",
      " [20 86 36 20 45 55  2 93 41 71]\n",
      " [41 29 64 45 50 62 28 28 75 12]\n",
      " [23 27  4 35 16 80 22 27 13 77]\n",
      " [ 9 86 15 55 67  2 83 51 92 10]\n",
      " [36 21 57 78 72 69  7 80 20  4]\n",
      " [29 94 68 94 53 18 62 38 59 25]\n",
      " [89 24 70 53 82 54 20 96 83 63]\n",
      " [41 35 53 26 78 94 89 87 36 82]\n",
      " [93  9 98 75 42 62 15 67 85 28]\n",
      " [15 18  1 88 79 85 64 89 66 56]\n",
      " [74 64 95 82 79 56 27 80 24 72]\n",
      " [74 73 36 20 86 31 68  4 60 45]\n",
      " [90 63 84  5 34 93 56  9 87 25]\n",
      " [65 89 47 18 78 79 66 67 66 37]\n",
      " [30 93  3  5 26  6 79 13 74 31]\n",
      " [19 50 25 45 46 72 36 65 66 38]\n",
      " [24 35 11 20 68 27 73 37 54 54]\n",
      " [67 11 10 30 86  4 91 51 89 11]\n",
      " [31 76 47  7 87 55 46 90 51 65]\n",
      " [43 61 56 50 77 36 44 92 94 55]\n",
      " [77 53 37 58 21 85 61  4 45 77]\n",
      " [30 45 98 74 89 36 91 94 46  3]\n",
      " [35 88  6 85 78 18 54 68 87 48]\n",
      " [ 2 95  2 74 21 97 28 25  2 59]\n",
      " [ 1 79 35 93 47 18 78 76 45 62]\n",
      " [49 54 70 62 18 37 72 65 85 19]\n",
      " [33 77 33 45 37 13 14 93 66 85]\n",
      " [61 66 25 37 87 70 75 46 12 86]\n",
      " [71 73 95 49 95 77 20  3 55 38]\n",
      " [53 67 42 46 90 73 13  2 97 45]\n",
      " [10 32 91 18 33 28 93 27 50  6]\n",
      " [11 67 28 23  7 44 61 34 94 22]\n",
      " [85  3  4 17  3 93 84 59 80  9]\n",
      " [98 26 61 61 53 47 32 90  7 12]\n",
      " [78 82 61 83 35 54 75 48 40 26]\n",
      " [ 6 19 69 73 37 89 78 66 18 89]\n",
      " [77  3 97 48 64 94  4 94 68 81]\n",
      " [31  8 88 53 35 79 44 93 51 98]\n",
      " [59 63 38  2  4  3 60 46 26  1]\n",
      " [94 57 57 70 56 84 20 70 84 75]\n",
      " [33 19 89 29 29  1 40 13 32 69]\n",
      " [19 62 19 22  4 21 74 39 42 46]\n",
      " [65 23 39 68 38 65 90 76 34 45]\n",
      " [ 6 88 21  2 95 77 93 55  2 67]\n",
      " [ 6 31 46 59 52 15 80 10 18 54]\n",
      " [ 7 68 68 83 53 39 49 11 94 97]\n",
      " [61  1 79 29  2 95 38 10 17 26]\n",
      " [12 72 91 84 68 79 52  3 97 74]\n",
      " [87 77 33 41 69 15 33 77  6 97]\n",
      " [44  6 70 81 87 25 49 83 68 22]\n",
      " [95 34 14 93 53 71 42 12 90 66]\n",
      " [62 79 98  2 48 74 61 17 43 54]\n",
      " [68  8 24 26 49 76 58  7 77 83]\n",
      " [51 37 16 49 32 83 11 49 22 45]]\n",
      "(100, 10)\n",
      "(200, 10)\n"
     ]
    }
   ],
   "source": [
    "myCSV = reading_CSV('test.csv')\n",
    "#myCSV.csvX2()\n",
    "#myCSV.csvMinus50()\n",
    "\n",
    "myCSV.AppendX()"
   ]
  },
  {
   "cell_type": "markdown",
   "metadata": {},
   "source": [
    "## 8.3 STATISTICS (Follow)\n",
    "\n",
    "**Learning Objectives:**\n",
    "\n",
    "1. Learn to perform statistical functions on Arrays.\n",
    "2. Understand how arrays provide statistical analysis.\n",
    "3. Understand how to perform statistical analysis of different dimensions of an array."
   ]
  },
  {
   "cell_type": "code",
   "execution_count": null,
   "metadata": {},
   "outputs": [],
   "source": [
    "\"\"\"\n",
    "Add comments for you own reference\n",
    "\"\"\"\n",
    "\n",
    "import numpy as np\n",
    "\n",
    "data = np.loadtxt(\"test.csv\",delimiter=\",\", dtype=int)\n",
    "\n",
    "print(\"Mean -\")\n",
    "print(data.mean())\n",
    "print(\"Median -\")\n",
    "print(np.median(data))\n",
    "print(\"Sum -\")\n",
    "print(np.sum(data[0]))\n",
    "print(\"Standard Deviation -\")\n",
    "print(np.std(data))\n",
    "print(\"Variation -\")\n",
    "print(np.var(data))"
   ]
  },
  {
   "cell_type": "code",
   "execution_count": null,
   "metadata": {},
   "outputs": [],
   "source": [
    "#https://railsware.com/blog/python-for-machine-learning-pandas-axis-explained/#:~:text=%E2%80%9Caxis%200%E2%80%9D%20represents%20rows%20and,it%20goes%20along%20rows%20direction.\n",
    "\"\"\"\n",
    "Add comments for you own reference\n",
    "\"\"\"\n",
    "\n",
    "print(\"Mean by Rows-\")\n",
    "print(data.mean(axis=0))\n",
    "print(\"Mean by Column-\")\n",
    "print(data.mean(axis=1))"
   ]
  },
  {
   "cell_type": "markdown",
   "metadata": {},
   "source": [
    "**Evaluation:**\n",
    "\n",
    "After running this program, think about and answer these questions:\n",
    "\n",
    "1. What other functions are readily available?\n",
    "2. What does axis parameter do?\n",
    "3. How will different functions react to changes in dimensions of the array?"
   ]
  },
  {
   "cell_type": "markdown",
   "metadata": {},
   "source": [
    "## 8.3 STATISTICS (Group)\n",
    "\n",
    "Write a program that will do the following:\n",
    "\n",
    "1. Get a number n from User (10-30)\n",
    "2. Print the statistic information for every nth row of the 'test.csv'\n",
    "    - Mean\n",
    "    - Median\n",
    "    - Sum\n",
    "    - SD\n",
    "    - Variation\n"
   ]
  },
  {
   "cell_type": "code",
   "execution_count": 33,
   "metadata": {},
   "outputs": [],
   "source": [
    "import numpy as np\n",
    "\n",
    "class reading_CSV:\n",
    "    def __init__(self,Filename):\n",
    "        self.__filename = Filename\n",
    "        self.__data = np.loadtxt(self.__filename,delimiter=\",\", dtype=int)\n",
    "        self.__x =None\n",
    "    \n",
    "    def PullNthRow(self):\n",
    "        N = input('Please enter a number between 1 and 30')\n",
    "        while (int(N) < self.__data.size):\n",
    "            print(\"Mean -\")\n",
    "            print(self.__data.mean())\n",
    "            print(\"Median -\")\n",
    "            print(np.median(self.__data))\n",
    "            print(\"Sum -\")\n",
    "            print(np.sum(self.__data[0]))\n",
    "            print(\"Standard Deviation -\")\n",
    "            print(np.std(self.__data))\n",
    "            print(\"Variation -\")\n",
    "            print(np.var(self.__data))\n",
    "            N += N\n",
    "    \n",
    "    def __str__(self):\n",
    "        return f'{self.__data.shape}'\n"
   ]
  },
  {
   "cell_type": "code",
   "execution_count": 35,
   "metadata": {},
   "outputs": [
    {
     "name": "stdout",
     "output_type": "stream",
     "text": [
      "Mean -\n",
      "49.305\n",
      "Median -\n",
      "51.0\n",
      "Sum -\n",
      "490\n",
      "Standard Deviation -\n",
      "28.376398203436604\n",
      "Variation -\n",
      "805.2199750000001\n"
     ]
    }
   ],
   "source": [
    "myCSV = reading_CSV('test.csv')\n",
    "myCSV.PullNthRow()"
   ]
  },
  {
   "cell_type": "markdown",
   "metadata": {},
   "source": [
    "## 8.4 INDEXING (Follow)\n",
    "\n",
    "**Learning Objectives:**\n",
    "\n",
    "1. Understand how Indexing in arrays works.\n",
    "2. Understand how slicing in arrays works.\n",
    "3. Learn to extract relevant information from numpy array."
   ]
  },
  {
   "cell_type": "code",
   "execution_count": null,
   "metadata": {},
   "outputs": [],
   "source": [
    "\"\"\"\n",
    "Add comments for you own reference\n",
    "\"\"\"\n",
    "\n",
    "import numpy as np\n",
    "\n",
    "data = np.loadtxt(\"test.csv\",delimiter=\",\", dtype=int)\n",
    "\n",
    "print('Item at index (20,4):\\n',data[20,4],'\\n')"
   ]
  },
  {
   "cell_type": "code",
   "execution_count": null,
   "metadata": {},
   "outputs": [],
   "source": [
    "\"\"\"\n",
    "Add comments for you own reference\n",
    "\"\"\"\n",
    "\n",
    "print('Slice of rows 20 - 25:\\n',data[20:25],'\\n')\n",
    "print('Specific rows (multiples of 10):\\n',data[[i for i in range(0,100,10)]],'\\n')"
   ]
  },
  {
   "cell_type": "code",
   "execution_count": null,
   "metadata": {},
   "outputs": [],
   "source": [
    "\"\"\"\n",
    "Add comments for you own reference\n",
    "\"\"\"\n",
    "\n",
    "print('Slice of columns 5 - 8:\\n',data[:,5:8],'\\n')\n",
    "print('Specific columns (multiples of 2):\\n',data[:,[i for i in range(0,10,2)]],'\\n')"
   ]
  },
  {
   "cell_type": "code",
   "execution_count": null,
   "metadata": {},
   "outputs": [],
   "source": [
    "\"\"\"\n",
    "Add comments for you own reference\n",
    "\"\"\"\n",
    "\n",
    "print('Slice of rows 20-25 & columns 5 - 8:\\n',data[20:25,5:8],'\\n')"
   ]
  },
  {
   "cell_type": "markdown",
   "metadata": {},
   "source": [
    "**Evaluation:**\n",
    "\n",
    "After running this program, think about and answer these questions:\n",
    "\n",
    "1. What is the use case for slicing and indexing?\n",
    "2. Try to manipulate the array by slicing differently."
   ]
  },
  {
   "cell_type": "markdown",
   "metadata": {},
   "source": [
    "## 8.4 INDEXING (Group)\n",
    "\n",
    "Write a program that will do the following:\n",
    "\n",
    "1. Use 'test.csv' \n",
    "2. Get a row and column number from the user and display the value at the index\n",
    "3. Get a range of rows and columns from the user and display all rows in column range and all columns in row range and also all data in row and column range\n",
    "4. Add rows 10-15 with rows 50-55 and display output"
   ]
  },
  {
   "cell_type": "code",
   "execution_count": null,
   "metadata": {},
   "outputs": [],
   "source": [
    "\n"
   ]
  },
  {
   "cell_type": "code",
   "execution_count": null,
   "metadata": {},
   "outputs": [],
   "source": [
    "\n"
   ]
  },
  {
   "cell_type": "code",
   "execution_count": null,
   "metadata": {},
   "outputs": [],
   "source": [
    "\n"
   ]
  },
  {
   "cell_type": "code",
   "execution_count": null,
   "metadata": {},
   "outputs": [],
   "source": [
    "\n"
   ]
  },
  {
   "cell_type": "code",
   "execution_count": null,
   "metadata": {},
   "outputs": [],
   "source": [
    "\n"
   ]
  },
  {
   "cell_type": "markdown",
   "metadata": {},
   "source": [
    "## 8.5 COPY VS VIEW (Follow)\n",
    "\n",
    "**Learning Objectives:**\n",
    "\n",
    "1. Understand the difference between a copy and a view.\n",
    "2. Understand how the original array is affected when deling with views.\n",
    "3. Understand how the original array is affected when deling with copies.\n",
    "4. Learn to manipulate data using copies and views"
   ]
  },
  {
   "cell_type": "code",
   "execution_count": null,
   "metadata": {},
   "outputs": [],
   "source": [
    "\"\"\"\n",
    "Add comments for you own reference\n",
    "\"\"\"\n",
    "\n",
    "arr = np.array([1,2,3,4,5])\n",
    "print(\"Original Before -\")\n",
    "print(arr)\n",
    "x = arr.view()\n",
    "x[0] = 9\n",
    "print(\"Original for view -\")\n",
    "print(arr)\n",
    "print(\"View -\")\n",
    "print(x)\n",
    "y = arr.copy()\n",
    "y[1] = 8\n",
    "print(\"Original for copy -\")\n",
    "print(arr)\n",
    "print(\"Copy -\")\n",
    "print(y)"
   ]
  },
  {
   "cell_type": "code",
   "execution_count": null,
   "metadata": {},
   "outputs": [],
   "source": [
    "\"\"\"\n",
    "Add comments for you own reference\n",
    "\"\"\"\n",
    "\n",
    "data = np.loadtxt(\"test.csv\",delimiter=\",\", dtype=int)\n",
    "data = data[5:10]\n",
    "\n",
    "print(\"Original Before -\")\n",
    "print(data)\n",
    "x = data.view()\n",
    "x[0] = 9\n",
    "print(\"Original for view -\")\n",
    "print(data)\n",
    "print(\"View -\")\n",
    "print(x)\n",
    "y = data.copy()\n",
    "y[1] = 8\n",
    "print(\"Original for copy -\")\n",
    "print(data)\n",
    "print(\"Copy -\")\n",
    "print(y)"
   ]
  },
  {
   "cell_type": "markdown",
   "metadata": {},
   "source": [
    "**Evaluation:**\n",
    "\n",
    "After running this program, think about and answer these questions:\n",
    "\n",
    "1. What does the copy() function do?\n",
    "2. What does the view() function do?\n",
    "3. How is the original array affected by manipulating views / copies?\n",
    "4. What is the best use case for views?\n",
    "5. What is the best use case for copies?"
   ]
  },
  {
   "cell_type": "markdown",
   "metadata": {},
   "source": [
    "## 8.5 COPY VS VIEW (Group)\n",
    "\n",
    "Write a program that will do the following:\n",
    "\n",
    "1. Read 'test.csv' \n",
    "2. Make a copy and a view of the data\n",
    "3. Convert even rows of view to all 5\n",
    "4. Convert odd rows of copy to all 10\n",
    "5. Add Copy to view\n",
    "6. Display all three Arrays"
   ]
  },
  {
   "cell_type": "code",
   "execution_count": null,
   "metadata": {},
   "outputs": [],
   "source": [
    "\n"
   ]
  },
  {
   "cell_type": "code",
   "execution_count": null,
   "metadata": {},
   "outputs": [],
   "source": [
    "\n"
   ]
  },
  {
   "cell_type": "code",
   "execution_count": null,
   "metadata": {},
   "outputs": [],
   "source": [
    "\n"
   ]
  },
  {
   "cell_type": "markdown",
   "metadata": {},
   "source": [
    "## 8.6 MODIFICATION (Follow)\n",
    "\n",
    "**Learning Objectives:**\n",
    "\n",
    "1. Understand how to modify an array.\n",
    "2. Learn modification functions.\n",
    "3. Understand the use of array modification"
   ]
  },
  {
   "cell_type": "code",
   "execution_count": null,
   "metadata": {},
   "outputs": [],
   "source": [
    "\"\"\"\n",
    "Add comments for you own reference\n",
    "\"\"\"\n",
    "\n",
    "import numpy as np\n",
    "arr = np.array([1,2,3,4,5,6])\n",
    "arr.resize(2,3)\n",
    "print(arr,\"\\n\")\n",
    "x = arr.reshape(3,2)\n",
    "print(x,\"\\n\")\n",
    "y = x.flatten()\n",
    "z = x.ravel()\n",
    "y[0] = 99\n",
    "z[0] = 88\n",
    "print(x,\"\\n\")\n",
    "print(y,\"\\n\")\n",
    "print(z,\"\\n\")\n",
    "print(x.transpose(),\"\\n\")"
   ]
  },
  {
   "cell_type": "code",
   "execution_count": null,
   "metadata": {},
   "outputs": [],
   "source": [
    "\"\"\"\n",
    "Add comments for you own reference\n",
    "\"\"\"\n",
    "\n",
    "data = np.loadtxt(\"test.csv\",delimiter=\",\", dtype=str).astype(int)\n",
    "data = data[25:30]\n",
    "\n",
    "data.resize(25,2)\n",
    "print(data,\"\\n\")\n",
    "x = data.reshape(10,5)\n",
    "print(x,\"\\n\")\n",
    "y = x.flatten()\n",
    "z = x.ravel()\n",
    "y[0] = 99\n",
    "z[0] = 88\n",
    "print(x,\"\\n\")\n",
    "print(y,\"\\n\")\n",
    "print(z,\"\\n\")\n",
    "print(x.transpose(),\"\\n\")"
   ]
  },
  {
   "cell_type": "markdown",
   "metadata": {},
   "source": [
    "**Evaluation:**\n",
    "\n",
    "After running this program, think about and answer these questions:\n",
    "\n",
    "1. What is the difference between resize and reshape?\n",
    "2. What is the difference between ravel and flatten?\n",
    "3. What does transpose() function do?\n",
    "4. How are these functions helpful in data analysis or statistics?"
   ]
  },
  {
   "cell_type": "markdown",
   "metadata": {},
   "source": [
    "## 8.6 MODIFICATION (Group)\n",
    "\n",
    "Write a program that will do the following:\n",
    "\n",
    "1. Read 'test.csv' \n",
    "2. Slice a 5:8 grid from the array (X)\n",
    "3. Make a copy and transpose (X)\n",
    "4. Reshape both arrays to (4,10)\n",
    "5. Multiply the arrays and display the Output\n",
    "6. Try to display each step"
   ]
  },
  {
   "cell_type": "code",
   "execution_count": null,
   "metadata": {},
   "outputs": [],
   "source": [
    "\n"
   ]
  },
  {
   "cell_type": "code",
   "execution_count": null,
   "metadata": {},
   "outputs": [],
   "source": [
    "\n"
   ]
  }
 ],
 "metadata": {
  "kernelspec": {
   "display_name": "Python 3",
   "language": "python",
   "name": "python3"
  },
  "language_info": {
   "codemirror_mode": {
    "name": "ipython",
    "version": 3
   },
   "file_extension": ".py",
   "mimetype": "text/x-python",
   "name": "python",
   "nbconvert_exporter": "python",
   "pygments_lexer": "ipython3",
   "version": "3.11.2"
  },
  "vscode": {
   "interpreter": {
    "hash": "5238573367df39f7286bb46f9ff5f08f63a01a80960060ce41e3c79b190280fa"
   }
  }
 },
 "nbformat": 4,
 "nbformat_minor": 2
}
