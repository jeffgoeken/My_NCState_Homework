{
 "cells": [
  {
   "cell_type": "markdown",
   "metadata": {},
   "source": [
    "# Workshop 8 [Student]\n",
    "\n",
    "This notebook will cover the following topics:\n",
    "\n",
    "1. Numpy Array\n",
    "2. Attributes and Operations\n",
    "3. Reading data from CSV\n",
    "4. Statistics\n",
    "5. Indexing\n",
    "6. Copy vs View\n",
    "7. Modifications"
   ]
  },
  {
   "cell_type": "markdown",
   "metadata": {},
   "source": [
    "## 8.1 NUMPY ARRAY (Follow)\n",
    "\n",
    "**Learning Objectives:**\n",
    "\n",
    "1. Understand the numpy module.\n",
    "2. Understand numpy arrays.\n",
    "3. Understand Array creation and basic functions.\n",
    "4. Learn to manipulate arrays"
   ]
  },
  {
   "cell_type": "code",
   "execution_count": null,
   "metadata": {},
   "outputs": [],
   "source": [
    "#https://numpy.org/doc/stable/reference/arrays.dtypes.html\n",
    "\"\"\"\n",
    "Add comments for you own reference\n",
    "\"\"\"\n",
    "\n",
    "import numpy as np\n",
    "x = np.array([[1,2,3,4,5],\n",
    "                 [6,7,8,9,0],\n",
    "                 [5,4,3,2,1]])\n",
    "print(x)\n",
    "print(\"Type -\",type(x))\n",
    "print(\"Data Type -\",x.dtype)\n",
    "print(\"Size -\",x.size)\n",
    "print(\"ItemSize -\",x.itemsize)\n",
    "print(\"Dimensions -\",x.ndim)\n",
    "print(\"Shape -\",x.shape)"
   ]
  },
  {
   "cell_type": "code",
   "execution_count": null,
   "metadata": {},
   "outputs": [],
   "source": [
    "\"\"\"\n",
    "Add comments for you own reference\n",
    "\"\"\"\n",
    "\n",
    "import numpy as np\n",
    "x = np.full(5,3)\n",
    "print(\"Full:\\n\",x)\n",
    "x = np.zeros((2,4))\n",
    "print(\"Zeros:\\n\",x)\n",
    "x = np.ones((2,5))\n",
    "print(\"Ones:\\n\",x)\n",
    "x = np.arange(1,7)\n",
    "print(\"Range:\\n\",x)\n",
    "x = np.linspace(1,5,6)\n",
    "print(\"LinSpace:\\n\",x)"
   ]
  },
  {
   "cell_type": "code",
   "execution_count": null,
   "metadata": {},
   "outputs": [],
   "source": [
    "\"\"\"\n",
    "Add comments for you own reference\n",
    "\"\"\"\n",
    "\n",
    "import numpy as np\n",
    "x = np.arange(1,10)\n",
    "print(\"Array X:\\n\",x,\"\\n\")\n",
    "print(\"Multiplication:\\n\",x*2,\"\\n\")\n",
    "print(\"Substraction:\\n\",x-2,\"\\n\")\n",
    "y = np.arange(3,12)\n",
    "print(\"Array Y:\\n\",y,\"\\n\")\n",
    "print(\"SHAPES -\",x.shape,y.shape,\"\\n\")\n",
    "print(\"Addition:\\n\",x+y,\"\\n\")\n",
    "print(\"Multiplication:\\n\",x*y,\"\\n\")"
   ]
  },
  {
   "attachments": {},
   "cell_type": "markdown",
   "metadata": {},
   "source": [
    "**Evaluation:**\n",
    "\n",
    "After running this program, think about and answer these questions:\n",
    "\n",
    "1. What does the arange function do? creates a Numpy array\n",
    "2. What is the use of 1s and 0s function? Create a numpy array with either 0's or 1's\n",
    "3. What will happen if shapes of arrays are not same? ValueError: operands could not be broadcast together with shapes (8,) (9,) \n",
    "4. Try to add more dimentions to the arrays."
   ]
  },
  {
   "cell_type": "markdown",
   "metadata": {},
   "source": [
    "## 8.1 NUMPY ARRAY (Group)\n",
    "\n",
    "Write a program that will do the following:\n",
    "\n",
    "1. Create 3 Arrays:\n",
    "    - X : containing Multiples of 5\n",
    "    - Y : in range of 100 to 150\n",
    "    - Z : containg all n (taken from user) \n",
    "2. Make sure that Shapes of arrays are equal.\n",
    "3. Perform:\n",
    "    - X + Y\n",
    "    - X * Z\n",
    "    - Z - Y\n",
    "    - X + Y + Z"
   ]
  },
  {
   "cell_type": "code",
   "execution_count": null,
   "metadata": {},
   "outputs": [],
   "source": [
    "import numpy as np\n",
    "\n",
    "class NumpyArray:\n",
    "    def __init__(self,*z):\n",
    "        self.z = np.array(z)\n",
    "        self.x = np.arange(5,5*len(self.z)+1,5)\n",
    "        self.y = np.random.randint(100,150,(len(self.z)))   \n",
    "        \n",
    "    \n",
    "    def AddXY(self):\n",
    "        print( self.x + self.y)\n",
    "\n",
    "    def MultiplyXZ(self):\n",
    "        print (self.x * self.z)\n",
    "\n",
    "    def SubtractZY(self):\n",
    "        print (self.z-self.y)\n",
    "\n",
    "    def addXYZ(self):\n",
    "        print (self.x + self.y + self.z)\n",
    "\n",
    "    def getShapes(self):\n",
    "        print (f'The shape of X is {np.shape(self.x)}. The shape of Y is {np.shape(self.y)}. The shape of Z is {np.shape(self.z)}')\n",
    "     \n"
   ]
  },
  {
   "cell_type": "code",
   "execution_count": null,
   "metadata": {},
   "outputs": [],
   "source": [
    "\n",
    "myArray = NumpyArray(1,3,5,6)\n",
    "print(myArray.x)\n",
    "print(myArray.z)\n",
    "print(myArray.y)\n",
    "myArray.getShapes()\n",
    "myArray.AddXY()\n",
    "myArray.MultiplyXZ()\n",
    "myArray.SubtractZY()\n",
    "myArray.addXYZ()\n"
   ]
  },
  {
   "cell_type": "markdown",
   "metadata": {},
   "source": [
    "## 8.2 READING CSV (Follow)\n",
    "\n",
    "**Learning Objectives:**\n",
    "\n",
    "1. Understand how to read CSV into arrays.\n",
    "2. Understand the data type of csv files.\n",
    "3. Learn to manipulate CSV data."
   ]
  },
  {
   "cell_type": "code",
   "execution_count": null,
   "metadata": {},
   "outputs": [],
   "source": [
    "\"\"\"\n",
    "Add comments for you own reference\n",
    "\"\"\"\n",
    "\n",
    "import numpy as np\n",
    "\n",
    "data = np.loadtxt(\"test.csv\",delimiter=\",\", dtype=int)\n",
    "print(data)"
   ]
  },
  {
   "cell_type": "code",
   "execution_count": null,
   "metadata": {},
   "outputs": [],
   "source": [
    "\"\"\"\n",
    "Add comments for you own reference\n",
    "\"\"\"\n",
    "\n",
    "print(\"Type -\",type(data))\n",
    "print(\"Data Type -\",data.dtype)\n",
    "print(\"Size -\",data.size)\n",
    "print(\"ItemSize -\",data.itemsize)\n",
    "print(\"Dimensions -\",data.ndim)\n",
    "print(\"Shape -\",data.shape)"
   ]
  },
  {
   "cell_type": "markdown",
   "metadata": {},
   "source": [
    "**Evaluation:**\n",
    "\n",
    "After running this program, think about and answer these questions:\n",
    "\n",
    "1. What does astype() function do?\n",
    "2. Search for alternate methods of loading.\n",
    "3. What is the use of delimiter parameter?"
   ]
  },
  {
   "cell_type": "markdown",
   "metadata": {},
   "source": [
    "## 8.2 READING CSV (Group)\n",
    "\n",
    "Write a program that will do the following:\n",
    "\n",
    "1. Read csv file 'test.csv'\n",
    "2. Perform basic operations on 'test.csv'\n",
    "    - Multiply each value by 2\n",
    "    - Subtract each value by 50\n",
    "3. Create an array X with same shape and random numbers\n",
    "4. Add X to data\n",
    "   "
   ]
  },
  {
   "cell_type": "code",
   "execution_count": 37,
   "metadata": {},
   "outputs": [],
   "source": [
    "class reading_CSV:\n",
    "    def __init__(self,Filename):\n",
    "        self.__data = np.loadtxt(Filename,delimiter=\",\", dtype=int)\n",
    "\n",
    "    def csvX2(self):\n",
    "        print(self.__data.shape)\n",
    "        #arrTwos = np.full(self.__data.__len(),2)\n",
    "        #print(np.shape(arrTwos))\n",
    "    \n",
    "    def __str__(self):\n",
    "        return f'{self.__data}'"
   ]
  },
  {
   "cell_type": "code",
   "execution_count": 39,
   "metadata": {},
   "outputs": [
    {
     "ename": "AttributeError",
     "evalue": "'reading_CSV' object has no attribute 'data'",
     "output_type": "error",
     "traceback": [
      "\u001b[1;31m---------------------------------------------------------------------------\u001b[0m",
      "\u001b[1;31mAttributeError\u001b[0m                            Traceback (most recent call last)",
      "Cell \u001b[1;32mIn[39], line 3\u001b[0m\n\u001b[0;32m      1\u001b[0m myCSV \u001b[39m=\u001b[39m reading_CSV(\u001b[39m'\u001b[39m\u001b[39mtest.csv\u001b[39m\u001b[39m'\u001b[39m)\n\u001b[0;32m      2\u001b[0m \u001b[39m#print(myCSV)\u001b[39;00m\n\u001b[1;32m----> 3\u001b[0m \u001b[39mprint\u001b[39m(myCSV\u001b[39m.\u001b[39;49mdata\u001b[39m.\u001b[39mshape)\n\u001b[0;32m      4\u001b[0m myCSV\u001b[39m.\u001b[39mcsvX2\n",
      "\u001b[1;31mAttributeError\u001b[0m: 'reading_CSV' object has no attribute 'data'"
     ]
    }
   ],
   "source": [
    "myCSV = reading_CSV('test.csv')\n",
    "#print(myCSV)\n",
    "print(myCSV.data.shape)\n",
    "myCSV.csvX2"
   ]
  },
  {
   "cell_type": "markdown",
   "metadata": {},
   "source": [
    "## 8.3 STATISTICS (Follow)\n",
    "\n",
    "**Learning Objectives:**\n",
    "\n",
    "1. Learn to perform statistical functions on Arrays.\n",
    "2. Understand how arrays provide statistical analysis.\n",
    "3. Understand how to perform statistical analysis of different dimensions of an array."
   ]
  },
  {
   "cell_type": "code",
   "execution_count": null,
   "metadata": {},
   "outputs": [],
   "source": [
    "\"\"\"\n",
    "Add comments for you own reference\n",
    "\"\"\"\n",
    "\n",
    "import numpy as np\n",
    "\n",
    "data = np.loadtxt(\"test.csv\",delimiter=\",\", dtype=int)\n",
    "\n",
    "print(\"Mean -\")\n",
    "print(data.mean())\n",
    "print(\"Median -\")\n",
    "print(np.median(data))\n",
    "print(\"Sum -\")\n",
    "print(np.sum(data[0]))\n",
    "print(\"Standard Deviation -\")\n",
    "print(np.std(data))\n",
    "print(\"Variation -\")\n",
    "print(np.var(data))"
   ]
  },
  {
   "cell_type": "code",
   "execution_count": null,
   "metadata": {},
   "outputs": [],
   "source": [
    "#https://railsware.com/blog/python-for-machine-learning-pandas-axis-explained/#:~:text=%E2%80%9Caxis%200%E2%80%9D%20represents%20rows%20and,it%20goes%20along%20rows%20direction.\n",
    "\"\"\"\n",
    "Add comments for you own reference\n",
    "\"\"\"\n",
    "\n",
    "print(\"Mean by Rows-\")\n",
    "print(data.mean(axis=0))\n",
    "print(\"Mean by Column-\")\n",
    "print(data.mean(axis=1))"
   ]
  },
  {
   "cell_type": "markdown",
   "metadata": {},
   "source": [
    "**Evaluation:**\n",
    "\n",
    "After running this program, think about and answer these questions:\n",
    "\n",
    "1. What other functions are readily available?\n",
    "2. What does axis parameter do?\n",
    "3. How will different functions react to changes in dimensions of the array?"
   ]
  },
  {
   "cell_type": "markdown",
   "metadata": {},
   "source": [
    "## 8.3 STATISTICS (Group)\n",
    "\n",
    "Write a program that will do the following:\n",
    "\n",
    "1. Get a number n from User (10-30)\n",
    "2. Print the statistic information for every nth row of the 'test.csv'\n",
    "    - Mean\n",
    "    - Median\n",
    "    - Sum\n",
    "    - SD\n",
    "    - Variation\n"
   ]
  },
  {
   "cell_type": "code",
   "execution_count": null,
   "metadata": {},
   "outputs": [],
   "source": [
    "\n"
   ]
  },
  {
   "cell_type": "markdown",
   "metadata": {},
   "source": [
    "## 8.4 INDEXING (Follow)\n",
    "\n",
    "**Learning Objectives:**\n",
    "\n",
    "1. Understand how Indexing in arrays works.\n",
    "2. Understand how slicing in arrays works.\n",
    "3. Learn to extract relevant information from numpy array."
   ]
  },
  {
   "cell_type": "code",
   "execution_count": null,
   "metadata": {},
   "outputs": [],
   "source": [
    "\"\"\"\n",
    "Add comments for you own reference\n",
    "\"\"\"\n",
    "\n",
    "import numpy as np\n",
    "\n",
    "data = np.loadtxt(\"test.csv\",delimiter=\",\", dtype=int)\n",
    "\n",
    "print('Item at index (20,4):\\n',data[20,4],'\\n')"
   ]
  },
  {
   "cell_type": "code",
   "execution_count": null,
   "metadata": {},
   "outputs": [],
   "source": [
    "\"\"\"\n",
    "Add comments for you own reference\n",
    "\"\"\"\n",
    "\n",
    "print('Slice of rows 20 - 25:\\n',data[20:25],'\\n')\n",
    "print('Specific rows (multiples of 10):\\n',data[[i for i in range(0,100,10)]],'\\n')"
   ]
  },
  {
   "cell_type": "code",
   "execution_count": null,
   "metadata": {},
   "outputs": [],
   "source": [
    "\"\"\"\n",
    "Add comments for you own reference\n",
    "\"\"\"\n",
    "\n",
    "print('Slice of columns 5 - 8:\\n',data[:,5:8],'\\n')\n",
    "print('Specific columns (multiples of 2):\\n',data[:,[i for i in range(0,10,2)]],'\\n')"
   ]
  },
  {
   "cell_type": "code",
   "execution_count": null,
   "metadata": {},
   "outputs": [],
   "source": [
    "\"\"\"\n",
    "Add comments for you own reference\n",
    "\"\"\"\n",
    "\n",
    "print('Slice of rows 20-25 & columns 5 - 8:\\n',data[20:25,5:8],'\\n')"
   ]
  },
  {
   "cell_type": "markdown",
   "metadata": {},
   "source": [
    "**Evaluation:**\n",
    "\n",
    "After running this program, think about and answer these questions:\n",
    "\n",
    "1. What is the use case for slicing and indexing?\n",
    "2. Try to manipulate the array by slicing differently."
   ]
  },
  {
   "cell_type": "markdown",
   "metadata": {},
   "source": [
    "## 8.4 INDEXING (Group)\n",
    "\n",
    "Write a program that will do the following:\n",
    "\n",
    "1. Use 'test.csv' \n",
    "2. Get a row and column number from the user and display the value at the index\n",
    "3. Get a range of rows and columns from the user and display all rows in column range and all columns in row range and also all data in row and column range\n",
    "4. Add rows 10-15 with rows 50-55 and display output"
   ]
  },
  {
   "cell_type": "code",
   "execution_count": null,
   "metadata": {},
   "outputs": [],
   "source": [
    "\n"
   ]
  },
  {
   "cell_type": "code",
   "execution_count": null,
   "metadata": {},
   "outputs": [],
   "source": [
    "\n"
   ]
  },
  {
   "cell_type": "code",
   "execution_count": null,
   "metadata": {},
   "outputs": [],
   "source": [
    "\n"
   ]
  },
  {
   "cell_type": "code",
   "execution_count": null,
   "metadata": {},
   "outputs": [],
   "source": [
    "\n"
   ]
  },
  {
   "cell_type": "code",
   "execution_count": null,
   "metadata": {},
   "outputs": [],
   "source": [
    "\n"
   ]
  },
  {
   "cell_type": "markdown",
   "metadata": {},
   "source": [
    "## 8.5 COPY VS VIEW (Follow)\n",
    "\n",
    "**Learning Objectives:**\n",
    "\n",
    "1. Understand the difference between a copy and a view.\n",
    "2. Understand how the original array is affected when deling with views.\n",
    "3. Understand how the original array is affected when deling with copies.\n",
    "4. Learn to manipulate data using copies and views"
   ]
  },
  {
   "cell_type": "code",
   "execution_count": null,
   "metadata": {},
   "outputs": [],
   "source": [
    "\"\"\"\n",
    "Add comments for you own reference\n",
    "\"\"\"\n",
    "\n",
    "arr = np.array([1,2,3,4,5])\n",
    "print(\"Original Before -\")\n",
    "print(arr)\n",
    "x = arr.view()\n",
    "x[0] = 9\n",
    "print(\"Original for view -\")\n",
    "print(arr)\n",
    "print(\"View -\")\n",
    "print(x)\n",
    "y = arr.copy()\n",
    "y[1] = 8\n",
    "print(\"Original for copy -\")\n",
    "print(arr)\n",
    "print(\"Copy -\")\n",
    "print(y)"
   ]
  },
  {
   "cell_type": "code",
   "execution_count": null,
   "metadata": {},
   "outputs": [],
   "source": [
    "\"\"\"\n",
    "Add comments for you own reference\n",
    "\"\"\"\n",
    "\n",
    "data = np.loadtxt(\"test.csv\",delimiter=\",\", dtype=int)\n",
    "data = data[5:10]\n",
    "\n",
    "print(\"Original Before -\")\n",
    "print(data)\n",
    "x = data.view()\n",
    "x[0] = 9\n",
    "print(\"Original for view -\")\n",
    "print(data)\n",
    "print(\"View -\")\n",
    "print(x)\n",
    "y = data.copy()\n",
    "y[1] = 8\n",
    "print(\"Original for copy -\")\n",
    "print(data)\n",
    "print(\"Copy -\")\n",
    "print(y)"
   ]
  },
  {
   "cell_type": "markdown",
   "metadata": {},
   "source": [
    "**Evaluation:**\n",
    "\n",
    "After running this program, think about and answer these questions:\n",
    "\n",
    "1. What does the copy() function do?\n",
    "2. What does the view() function do?\n",
    "3. How is the original array affected by manipulating views / copies?\n",
    "4. What is the best use case for views?\n",
    "5. What is the best use case for copies?"
   ]
  },
  {
   "cell_type": "markdown",
   "metadata": {},
   "source": [
    "## 8.5 COPY VS VIEW (Group)\n",
    "\n",
    "Write a program that will do the following:\n",
    "\n",
    "1. Read 'test.csv' \n",
    "2. Make a copy and a view of the data\n",
    "3. Convert even rows of view to all 5\n",
    "4. Convert odd rows of copy to all 10\n",
    "5. Add Copy to view\n",
    "6. Display all three Arrays"
   ]
  },
  {
   "cell_type": "code",
   "execution_count": null,
   "metadata": {},
   "outputs": [],
   "source": [
    "\n"
   ]
  },
  {
   "cell_type": "code",
   "execution_count": null,
   "metadata": {},
   "outputs": [],
   "source": [
    "\n"
   ]
  },
  {
   "cell_type": "code",
   "execution_count": null,
   "metadata": {},
   "outputs": [],
   "source": [
    "\n"
   ]
  },
  {
   "cell_type": "markdown",
   "metadata": {},
   "source": [
    "## 8.6 MODIFICATION (Follow)\n",
    "\n",
    "**Learning Objectives:**\n",
    "\n",
    "1. Understand how to modify an array.\n",
    "2. Learn modification functions.\n",
    "3. Understand the use of array modification"
   ]
  },
  {
   "cell_type": "code",
   "execution_count": null,
   "metadata": {},
   "outputs": [],
   "source": [
    "\"\"\"\n",
    "Add comments for you own reference\n",
    "\"\"\"\n",
    "\n",
    "import numpy as np\n",
    "arr = np.array([1,2,3,4,5,6])\n",
    "arr.resize(2,3)\n",
    "print(arr,\"\\n\")\n",
    "x = arr.reshape(3,2)\n",
    "print(x,\"\\n\")\n",
    "y = x.flatten()\n",
    "z = x.ravel()\n",
    "y[0] = 99\n",
    "z[0] = 88\n",
    "print(x,\"\\n\")\n",
    "print(y,\"\\n\")\n",
    "print(z,\"\\n\")\n",
    "print(x.transpose(),\"\\n\")"
   ]
  },
  {
   "cell_type": "code",
   "execution_count": null,
   "metadata": {},
   "outputs": [],
   "source": [
    "\"\"\"\n",
    "Add comments for you own reference\n",
    "\"\"\"\n",
    "\n",
    "data = np.loadtxt(\"test.csv\",delimiter=\",\", dtype=str).astype(int)\n",
    "data = data[25:30]\n",
    "\n",
    "data.resize(25,2)\n",
    "print(data,\"\\n\")\n",
    "x = data.reshape(10,5)\n",
    "print(x,\"\\n\")\n",
    "y = x.flatten()\n",
    "z = x.ravel()\n",
    "y[0] = 99\n",
    "z[0] = 88\n",
    "print(x,\"\\n\")\n",
    "print(y,\"\\n\")\n",
    "print(z,\"\\n\")\n",
    "print(x.transpose(),\"\\n\")"
   ]
  },
  {
   "cell_type": "markdown",
   "metadata": {},
   "source": [
    "**Evaluation:**\n",
    "\n",
    "After running this program, think about and answer these questions:\n",
    "\n",
    "1. What is the difference between resize and reshape?\n",
    "2. What is the difference between ravel and flatten?\n",
    "3. What does transpose() function do?\n",
    "4. How are these functions helpful in data analysis or statistics?"
   ]
  },
  {
   "cell_type": "markdown",
   "metadata": {},
   "source": [
    "## 8.6 MODIFICATION (Group)\n",
    "\n",
    "Write a program that will do the following:\n",
    "\n",
    "1. Read 'test.csv' \n",
    "2. Slice a 5:8 grid from the array (X)\n",
    "3. Make a copy and transpose (X)\n",
    "4. Reshape both arrays to (4,10)\n",
    "5. Multiply the arrays and display the Output\n",
    "6. Try to display each step"
   ]
  },
  {
   "cell_type": "code",
   "execution_count": null,
   "metadata": {},
   "outputs": [],
   "source": [
    "\n"
   ]
  },
  {
   "cell_type": "code",
   "execution_count": null,
   "metadata": {},
   "outputs": [],
   "source": [
    "\n"
   ]
  }
 ],
 "metadata": {
  "kernelspec": {
   "display_name": "Python 3",
   "language": "python",
   "name": "python3"
  },
  "language_info": {
   "codemirror_mode": {
    "name": "ipython",
    "version": 3
   },
   "file_extension": ".py",
   "mimetype": "text/x-python",
   "name": "python",
   "nbconvert_exporter": "python",
   "pygments_lexer": "ipython3",
   "version": "3.11.2"
  },
  "vscode": {
   "interpreter": {
    "hash": "5238573367df39f7286bb46f9ff5f08f63a01a80960060ce41e3c79b190280fa"
   }
  }
 },
 "nbformat": 4,
 "nbformat_minor": 2
}
