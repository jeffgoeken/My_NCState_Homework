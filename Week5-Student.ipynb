{
 "cells": [
  {
   "cell_type": "markdown",
   "id": "9135f7a2",
   "metadata": {
    "id": "mdVuQT1mpQFy"
   },
   "source": [
    "# Workshop 5 [Student]\n",
    "\n",
    "This notebook will cover the following topics:\n",
    "\n",
    "1. Types of inheritance\n",
    "    - Multiple Inheritance\n",
    "    - Multilevel Inheritance\n",
    "    - Method Resolution Order (MRO)\n",
    "4. Polymorphism\n",
    "    - Method Overriding\n",
    "6. Advanced Object Composition\n",
    "7. Queue & Stack"
   ]
  },
  {
   "cell_type": "markdown",
   "id": "c071b82e",
   "metadata": {},
   "source": [
    "## 5.1 TYPES OF INHERTANCE (Follow)\n",
    "\n",
    "**Learning Objectives:**\n",
    "\n",
    "1. Understand how a class can have more than one parent\n",
    "2. Learn how to use methods of multiple parent classes\n",
    "3. Learn how to use methods of multilevel parent classes\n",
    "4. Understand inhertance in depth\n",
    "5. Understand Method Resolution Order"
   ]
  },
  {
   "cell_type": "markdown",
   "id": "9bd78d34",
   "metadata": {},
   "source": [
    "### 5.1.1 MULTIPLE INHERITANCE"
   ]
  },
  {
   "cell_type": "code",
   "execution_count": 1,
   "id": "be14a36a",
   "metadata": {},
   "outputs": [],
   "source": [
    "\"\"\"\n",
    "Add comments for you own reference\n",
    "\"\"\"\n",
    "\n",
    "class Animal():\n",
    "    def __init__(self, AnimalType):\n",
    "        self.type = AnimalType\n",
    "    \n",
    "    def isAnimal(self):\n",
    "        print(self.type, \"is an animal\")\n",
    "\n",
    "class Transport():\n",
    "    def __init__(self, AnimalType):\n",
    "        self.type = AnimalType\n",
    "        \n",
    "    def canTravel(self):\n",
    "        print(self.type, \"can be used for transport\")\n",
    "\n",
    "class Horse(Animal,Transport):\n",
    "    def __init__(self, AnimalType):\n",
    "        #super().__init__(AnimalType)\n",
    "        Animal.__init__(self, AnimalType)\n",
    "        Transport.__init__(self, AnimalType)   \n",
    "        \n",
    "    def describe(self):\n",
    "        print(\"This is a Horse\")"
   ]
  },
  {
   "cell_type": "code",
   "execution_count": 4,
   "id": "36bc8cd5",
   "metadata": {},
   "outputs": [
    {
     "name": "stdout",
     "output_type": "stream",
     "text": [
      "This is a Horse\n",
      "Wilbur is an animal\n",
      "Wilbur can be used for transport\n"
     ]
    }
   ],
   "source": [
    "\"\"\"\n",
    "Add comments for you own reference\n",
    "\"\"\"\n",
    "\n",
    "h = Horse('Wilbur')\n",
    "\n",
    "h.describe()\n",
    "h.isAnimal()\n",
    "h.canTravel()"
   ]
  },
  {
   "attachments": {},
   "cell_type": "markdown",
   "id": "f22fee13",
   "metadata": {},
   "source": [
    "**Evaluation:**\n",
    "\n",
    "After running this program, think about and answer these questions:\n",
    "\n",
    "1. What are the parent and child classes?Parent classes are animal and transport\n",
    "2. What methods are inherited? Can Travel andis animal\n",
    "3. Why is modularisation of this level required?"
   ]
  },
  {
   "cell_type": "markdown",
   "id": "e563ed80",
   "metadata": {},
   "source": [
    "### 5.1.2 MULTILEVEL INHERITANCE"
   ]
  },
  {
   "cell_type": "code",
   "execution_count": 5,
   "id": "a21553d4",
   "metadata": {},
   "outputs": [],
   "source": [
    "\"\"\"\n",
    "Add comments for you own reference\n",
    "\"\"\"\n",
    "\n",
    "class Transport():\n",
    "    def canTravel(self):\n",
    "        print(\"Can be used for transport\")\n",
    "\n",
    "class GroundVehicle(Transport):\n",
    "    def terrain(self):\n",
    "        print(\"Travels on ground\")\n",
    "        \n",
    "class Car(GroundVehicle):\n",
    "    def describe(self):\n",
    "        print(\"This is a Car\")\n"
   ]
  },
  {
   "cell_type": "code",
   "execution_count": 6,
   "id": "3a9d6190",
   "metadata": {},
   "outputs": [
    {
     "name": "stdout",
     "output_type": "stream",
     "text": [
      "This is a Car\n",
      "Can be used for transport\n",
      "Travels on ground\n"
     ]
    }
   ],
   "source": [
    "\"\"\"\n",
    "Add comments for you own reference\n",
    "\"\"\"\n",
    "\n",
    "c = Car()\n",
    "\n",
    "c.describe()\n",
    "c.canTravel()\n",
    "c.terrain()"
   ]
  },
  {
   "cell_type": "markdown",
   "id": "37af3847",
   "metadata": {},
   "source": [
    "**Evaluation:**\n",
    "\n",
    "After running this program, think about and answer these questions:\n",
    "\n",
    "1. What are the parent and child classes?\n",
    "2. What methods are inherited?\n",
    "3. Why is modularisation of this level required?"
   ]
  },
  {
   "cell_type": "markdown",
   "id": "70af7180",
   "metadata": {},
   "source": [
    "## 5.1 TYPES OF INHERTANCE (Group)\n",
    "\n",
    "Write a program that will do the following:\n",
    "\n",
    "1. Create classes for animal kingdom\n",
    " - Mammal\n",
    " - Aquatic\n",
    " - Carnivorous\n",
    "2. Create classes for animals\n",
    " - Cat\n",
    " - Lion\n",
    " - Whale\n",
    " - Shark\n",
    " - Deer\n",
    "3. Use types of inheritance to form a modular structure for animal kingdom.\n"
   ]
  },
  {
   "cell_type": "code",
   "execution_count": 18,
   "id": "ac4b6cc1",
   "metadata": {},
   "outputs": [
    {
     "name": "stdout",
     "output_type": "stream",
     "text": [
      "Pita  is a mammal\n",
      "This animal eats meat\n",
      "This animal is a cat\n"
     ]
    }
   ],
   "source": [
    "class mammal:\n",
    "    def __init__(self, animalname):\n",
    "        self.a_name = animalname\n",
    "\n",
    "    def isMammal(self):\n",
    "        print(self.a_name, \" is a mammal\")\n",
    "        \n",
    "class aquatic:\n",
    "    def __init__(self,animalName):\n",
    "        self.a_name = animalName\n",
    "        \n",
    "    def getHabitat(self):\n",
    "        print(self.a_name, \" lives in water\")\n",
    "        \n",
    "class carnivorous:\n",
    "    def __init__(self,animalName):\n",
    "        self.a_name = animalName\n",
    "    def eatsMeat(self):\n",
    "        print(\"This animal eats meat\")\n",
    "\n",
    "class cat(mammal,carnivorous):\n",
    "    def __init__(self,animalName):\n",
    "        mammal.__init__(self,animalName)\n",
    "        carnivorous.__init__(self,animalName)\n",
    "    def getDescription(self):    \n",
    "        print(\"This animal is a cat\")\n",
    "\n",
    "class lion(mammal,carnivorous):\n",
    "    def __init__(self,animalName):\n",
    "        mammal.__init__(self,animalName)\n",
    "        carnivorous.__init__(self,animalName)\n",
    "    def getDescription(self):    \n",
    "        print(\"This animal is a Lion\")\n",
    "\n",
    "class whale(mammal,carnivorous,aquatic):\n",
    "    def __init__(self,animalName):\n",
    "        mammal.__init__(self,animalName)\n",
    "        carnivorous.__init__(self,animalName)\n",
    "        aquatic.__init__(self,animalName)\n",
    "    def getDescription(self):    \n",
    "        print(\"This animal is a Whale\")\n",
    "\n",
    "class shark(aquatic,carnivorous):\n",
    "    def __init__(self,animalName):\n",
    "        aquatic.__init__(self,animalName)\n",
    "        carnivorous.__init__(self,animalName)\n",
    "    def getDescription(self):    \n",
    "        print(\"This animal is a Shark\")\n",
    "class deer(mammal):\n",
    "    def __init__(self,animalName):\n",
    "        mammal.__init__(self,animalName)\n",
    "    def getDescription(self):    \n",
    "        print(\"This animal is a Deer\")\n",
    "\n",
    "\n",
    "Pita = cat(\"Pita\")\n",
    "Pita.isMammal()\n",
    "Pita.eatsMeat()\n",
    "Pita.getDescription()\n",
    "\n"
   ]
  },
  {
   "cell_type": "code",
   "execution_count": 17,
   "id": "ac669776",
   "metadata": {},
   "outputs": [
    {
     "name": "stdout",
     "output_type": "stream",
     "text": [
      "MobyDick  lives in water\n",
      "MobyDick  is a mammal\n",
      "This animal eats meat\n",
      "This animal is a Whale\n"
     ]
    }
   ],
   "source": [
    "MobyDick = whale('MobyDick')\n",
    "MobyDick.getHabitat()\n",
    "MobyDick.isMammal()\n",
    "MobyDick.eatsMeat()\n",
    "MobyDick.getDescription()"
   ]
  },
  {
   "cell_type": "code",
   "execution_count": 14,
   "id": "66c502b0",
   "metadata": {},
   "outputs": [
    {
     "name": "stdout",
     "output_type": "stream",
     "text": [
      "Simba  is a mammal\n",
      "This animal eats meat\n",
      "This animal is a Lion\n"
     ]
    }
   ],
   "source": [
    "Simba = lion(\"Simba\")\n",
    "Simba.isMammal()\n",
    "Simba.eatsMeat()\n",
    "Simba.getDescription()"
   ]
  },
  {
   "cell_type": "code",
   "execution_count": 19,
   "id": "2a98cac1",
   "metadata": {},
   "outputs": [
    {
     "name": "stdout",
     "output_type": "stream",
     "text": [
      "Bambi  is a mammal\n"
     ]
    }
   ],
   "source": [
    "Bambi = deer(\"Bambi\")\n",
    "Bambi.isMammal()"
   ]
  },
  {
   "cell_type": "code",
   "execution_count": 10,
   "id": "9a92e1e7",
   "metadata": {},
   "outputs": [
    {
     "name": "stdout",
     "output_type": "stream",
     "text": [
      "Jaws  lives in water\n",
      "This animal eats meat\n",
      "This animal is a Shark\n"
     ]
    }
   ],
   "source": [
    "Jaws = shark(\"Jaws\")\n",
    "Jaws.getHabitat()\n",
    "Jaws.eatsMeat()\n",
    "Jaws.getDescription()"
   ]
  },
  {
   "cell_type": "markdown",
   "id": "96cbb3a2",
   "metadata": {
    "id": "njm6M9m0q_u7"
   },
   "source": [
    "## 5.2 POLYMORPHISM:  (Follow)  \n",
    "\n",
    "**Learning Objectives:**\n",
    "\n",
    "1. Understand how functions can have the same name but do different things\n",
    "2. Understand how functions are called in inherited classes\n",
    "3. Understand function overloading"
   ]
  },
  {
   "cell_type": "code",
   "execution_count": 20,
   "id": "133691b1",
   "metadata": {},
   "outputs": [
    {
     "name": "stdout",
     "output_type": "stream",
     "text": [
      "Area of a shape is dependant on the shape type\n",
      "2500*pi\n",
      "100\n",
      "(<class '__main__.Circle'>, <class '__main__.shape'>, <class 'object'>)\n"
     ]
    }
   ],
   "source": [
    "\"\"\"\n",
    "Add comments for you own reference\n",
    "\"\"\"\n",
    "class shape():\n",
    "    def area(self):\n",
    "        return \"Area of a shape is dependant on the shape type\"\n",
    "\n",
    "class Rectangle(shape):\n",
    "    def area(self,l,w):\n",
    "        return l*w\n",
    "    \n",
    "class Circle(shape):\n",
    "    def area(self,rad):\n",
    "        return str(rad*rad)+\"*pi\"\n",
    "\n",
    "s = shape()\n",
    "c = Circle()\n",
    "r = Rectangle()\n",
    "print(s.area())\n",
    "print(c.area(50))\n",
    "print(r.area(2,50))\n",
    "\n",
    "print(Circle.__mro__)"
   ]
  },
  {
   "cell_type": "markdown",
   "id": "1ee02cc9",
   "metadata": {},
   "source": [
    "**Evaluation:**\n",
    "\n",
    "After running this program, think about and answer these questions:\n",
    "\n",
    "1. How does the code understand the difference between 2 methods?\n",
    "2. Why is polymorphism required?\n",
    "3. What would happen for mupltiple objects?\n",
    "4. how would polymorphism fit with inhertance?"
   ]
  },
  {
   "cell_type": "markdown",
   "id": "3d088cae",
   "metadata": {},
   "source": [
    "### 5.2 METHOD OVERRIDING"
   ]
  },
  {
   "cell_type": "code",
   "execution_count": 51,
   "id": "888ca2fd",
   "metadata": {
    "id": "376b166d"
   },
   "outputs": [],
   "source": [
    "\"\"\"\n",
    "Add comments for you own reference\n",
    "\"\"\"\n",
    "\n",
    "class Mammal:\n",
    "    def __init__(self, species):\n",
    "        self.__species = species\n",
    "    \n",
    "    def show_species(self):\n",
    "        print('I am a', self.__species)\n",
    "    \n",
    "    def make_sound(self):\n",
    "        print('Grrrrr')\n",
    "\n",
    "\n",
    "class Dog(Mammal):\n",
    "    def __init__(self):\n",
    "        #super().__init__('Dog')\n",
    "        Mammal.__init__(self, 'Dog')\n",
    "    \n",
    "    def make_sound(self):\n",
    "        print('Woof! Woof!')\n",
    "        #super().make_sound()\n",
    "\n",
    "class Cat(Mammal):\n",
    "    def __init__(self):\n",
    "        Mammal.__init__(self, 'Cat')\n",
    "        \n",
    "        \n",
    "class Kitten(Cat):\n",
    "    def __init__(self):\n",
    "        Cat.__init__(self)\n",
    "        \n",
    "    def make_sound(self):\n",
    "        print(\"Quiet Meow\")\n",
    "        #self.make_sound()\n",
    "        #super().make_sound()\n",
    "        #Cat.make_sound(self)"
   ]
  },
  {
   "cell_type": "code",
   "execution_count": 52,
   "id": "3f00e3e2",
   "metadata": {
    "colab": {
     "base_uri": "https://localhost:8080/"
    },
    "id": "bn-0BalZpowQ",
    "outputId": "95a46b74-00cc-4dd8-82da-9c925f16d722"
   },
   "outputs": [
    {
     "name": "stdout",
     "output_type": "stream",
     "text": [
      "Here are some animals and\n",
      "the sounds they make.\n",
      "--------------------------\n",
      "I am a regular animal\n",
      "Grrrrr\n",
      "\n",
      "I am a Dog\n",
      "Woof! Woof!\n",
      "\n",
      "I am a Cat\n",
      "Grrrrr\n",
      "\n",
      "I am a Cat\n",
      "Quiet Meow\n"
     ]
    }
   ],
   "source": [
    "\"\"\"\n",
    "Add comments for you own reference\n",
    "\"\"\"\n",
    "\n",
    "def main():\n",
    "\n",
    "    mammal = Mammal('regular animal')\n",
    "    dog = Dog()\n",
    "    cat = Cat()\n",
    "    kitten = Kitten()\n",
    "\n",
    "    print('Here are some animals and')\n",
    "    print('the sounds they make.')\n",
    "    print('--------------------------')\n",
    "    show_mammal_info(mammal)\n",
    "    print()\n",
    "    show_mammal_info(dog)\n",
    "    print()\n",
    "    show_mammal_info(cat)\n",
    "    print()\n",
    "    show_mammal_info(kitten)\n",
    "\n",
    "    #print(Kitten.__mro__)\n",
    "\n",
    "def show_mammal_info(creature):\n",
    "    creature.show_species()\n",
    "    creature.make_sound()\n",
    "\n",
    "if __name__ == \"__main__\":\n",
    "    main()\n",
    "\n",
    " "
   ]
  },
  {
   "cell_type": "markdown",
   "id": "dadecb1d",
   "metadata": {
    "id": "rjZZfD35sEuc"
   },
   "source": [
    "**Evaluation:**\n",
    "\n",
    "After running this program, think about and answer these questions:\n",
    "\n",
    "1. Which make sound function gets executed when?\n",
    "2. What does the mammal.__init() function do in the dog and cat class?\n",
    "3. Write a function named show_species in the cat or dog class and have it do something different than the parent function."
   ]
  },
  {
   "cell_type": "markdown",
   "id": "68eb969a",
   "metadata": {
    "id": "Cl71XkItrBEj"
   },
   "source": [
    "## 5.2 POLYMORPHISM:  (Group) \n",
    "\n",
    "**Write a program that will do the following:**\n",
    "\n",
    "1. Create a class person\n",
    "2. Create a class customer\n",
    "3. Person class has attributes name, address, and phone number\n",
    "4. Customer class should have attributes customer number, purchase amount\n",
    "5. All classes should have get and set methods for all attributes.\n",
    "6. Use the super init method inside the customer class\n",
    "7. Create a get info function for both classes that return everything in the object.\n",
    "8. All attributes should be private."
   ]
  },
  {
   "cell_type": "code",
   "execution_count": null,
   "id": "9587a894",
   "metadata": {
    "id": "3dec9c0e"
   },
   "outputs": [],
   "source": [
    "\n"
   ]
  },
  {
   "cell_type": "code",
   "execution_count": null,
   "id": "4ff2fb6a",
   "metadata": {
    "colab": {
     "base_uri": "https://localhost:8080/"
    },
    "id": "7gmulm3MprjY",
    "outputId": "33be9df5-176f-4f1e-86b2-5f302c97d7fa"
   },
   "outputs": [],
   "source": [
    "\n"
   ]
  },
  {
   "cell_type": "markdown",
   "id": "8bc0fbcc",
   "metadata": {
    "id": "iLlWETsapgvY"
   },
   "source": [
    "## 5.3 ADVANCED OBJECT COMPOSITION  (Follow)\n",
    "\n",
    "**Learning Objectives:**\n",
    "\n",
    "1. Understand how objects can reference other objects\n",
    "2. Understand that objects can call functions inside other objects "
   ]
  },
  {
   "cell_type": "code",
   "execution_count": null,
   "id": "ff0416e1",
   "metadata": {
    "id": "SjA7vcSRp1E5"
   },
   "outputs": [],
   "source": [
    "\"\"\"\n",
    "Add comments for you own reference\n",
    "\"\"\"\n",
    "\n",
    "class Person:\n",
    "    def __init__(self, name, age, weight):\n",
    "        self.__name = name\n",
    "        self.__age = age\n",
    "        self.__weight = weight\n",
    "\n",
    "\n",
    "class F1_Driver:\n",
    "    def __init__(self, name, age, weight, team, wins):\n",
    "        self.__person = Person(name, age, weight)\n",
    "        self.__team = team\n",
    "        self.__wins = wins\n",
    "\n",
    "    def get_team(self):\n",
    "        return self.__team\n",
    "\n",
    "    def get_wins(self):\n",
    "        return self.__wins"
   ]
  },
  {
   "cell_type": "code",
   "execution_count": null,
   "id": "185ee765",
   "metadata": {
    "colab": {
     "base_uri": "https://localhost:8080/"
    },
    "id": "AwD-Hjs8p115",
    "outputId": "1da44dca-2afe-4b9e-ad7f-58659b731390"
   },
   "outputs": [],
   "source": [
    "\"\"\"\n",
    "Add comments for you own reference\n",
    "\"\"\"\n",
    "\n",
    "if __name__ == \"__main__\":\n",
    "\n",
    "    name1 = \"Lewis Hamilton\"\n",
    "    name2 = \"Max Verstappen\"\n",
    "\n",
    "    age1 = 37\n",
    "    age2 = 24\n",
    "\n",
    "    weight1 = 146\n",
    "    weight2 = 144\n",
    "\n",
    "    team1 = \"Mercedes\"\n",
    "    team2 = \"Red Bull\"\n",
    "\n",
    "    wins1 = 103\n",
    "    wins2 = 20\n",
    "\n",
    "    GOAT = F1_Driver(name1, age1, weight1, team1, wins1)\n",
    "    Youngster = F1_Driver(name2, age2, weight2, team2, wins2)\n",
    "\n",
    "    print(GOAT.get_team())"
   ]
  },
  {
   "cell_type": "markdown",
   "id": "f0b2bd0b",
   "metadata": {
    "id": "AMl2yXaksT_t"
   },
   "source": [
    "**Evaluation:**\n",
    "\n",
    "After running this program, think about and answer these questions:\n",
    "\n",
    "1. write functions in the appropriate places to return name, age, and weight.  Why did you have to put them there?\n",
    "2. Write a function to increment the number of wins for the driver.\n",
    "3. Write another function to return all known values for one object.  How did you accomplish this?"
   ]
  },
  {
   "cell_type": "markdown",
   "id": "ef45ad7c",
   "metadata": {
    "id": "tWuOZ03Zp2Ls"
   },
   "source": [
    "## 5.3 ADVANCED OBJECT COMPOSITION  (Group)\n",
    "\n",
    "**Write a program that will do the following:**\n",
    "\n",
    "1. Create a salary class.\n",
    "2. The salary class should have attributes monthly income and bonus.\n",
    "3. Create an employee class.\n",
    "4. The employee class should have attributes employee ID, Object Salary, and job title\n",
    "5. Create get and set methods for all variables.\n",
    "6. Create a couple of objects and print the contents to the screen.\n",
    "    \n",
    "    "
   ]
  },
  {
   "cell_type": "code",
   "execution_count": null,
   "id": "cfc30295",
   "metadata": {
    "id": "QXqJ9WCyqBR1"
   },
   "outputs": [],
   "source": [
    "class salary:\n",
    "    def __init__(self,income,bonus):\n",
    "        self.__income = income\n",
    "        self.__bonus = bonus\n",
    "\n",
    "class writeAttributes(salary):\n",
    "    def __init__(self):\n",
    "        salary.__init__(self)\n",
    "    def writeAttributes(self):\n",
    "        print(self.__income)\n"
   ]
  },
  {
   "cell_type": "code",
   "execution_count": 21,
   "id": "b4eeadbd",
   "metadata": {
    "colab": {
     "base_uri": "https://localhost:8080/"
    },
    "id": "UUfsmbTKqDLJ",
    "outputId": "ec5973ed-74c2-47d0-d276-a011171fe77b"
   },
   "outputs": [
    {
     "ename": "NameError",
     "evalue": "name 'salary' is not defined",
     "output_type": "error",
     "traceback": [
      "\u001b[1;31m---------------------------------------------------------------------------\u001b[0m",
      "\u001b[1;31mNameError\u001b[0m                                 Traceback (most recent call last)",
      "\u001b[1;32m~\\AppData\\Local\\Temp\\ipykernel_3684\\3560061596.py\u001b[0m in \u001b[0;36m<module>\u001b[1;34m\u001b[0m\n\u001b[1;32m----> 1\u001b[1;33m \u001b[0mme\u001b[0m \u001b[1;33m=\u001b[0m \u001b[0msalary\u001b[0m\u001b[1;33m(\u001b[0m\u001b[1;36m10000\u001b[0m\u001b[1;33m,\u001b[0m\u001b[1;36m200\u001b[0m\u001b[1;33m)\u001b[0m\u001b[1;33m\u001b[0m\u001b[1;33m\u001b[0m\u001b[0m\n\u001b[0m\u001b[0;32m      2\u001b[0m \u001b[0mme\u001b[0m\u001b[1;33m.\u001b[0m\u001b[0mwriteAttributes\u001b[0m\u001b[1;33m(\u001b[0m\u001b[1;33m)\u001b[0m\u001b[1;33m\u001b[0m\u001b[1;33m\u001b[0m\u001b[0m\n",
      "\u001b[1;31mNameError\u001b[0m: name 'salary' is not defined"
     ]
    }
   ],
   "source": [
    "me = salary(10000,200)\n",
    "me.writeAttributes()\n"
   ]
  },
  {
   "cell_type": "markdown",
   "id": "db48e3e0",
   "metadata": {
    "id": "Z21hzYZNrMo3"
   },
   "source": [
    "## 5.4 QUEUES AND STACKS:  (Follow)\n",
    "\n",
    "**Learning Objectives:**\n",
    "\n",
    "1. Understand how stacks are implemented.\n",
    "2. Understand how queques are implemented.\n",
    "3. Understand the importance of stacks and queues in programming."
   ]
  },
  {
   "cell_type": "markdown",
   "id": "688ea9d2",
   "metadata": {},
   "source": [
    "### 5.4.1 QUEUES"
   ]
  },
  {
   "cell_type": "code",
   "execution_count": null,
   "id": "4beade6a",
   "metadata": {},
   "outputs": [],
   "source": [
    "\"\"\"\n",
    "Add comments for you own reference\n",
    "\"\"\"\n",
    "\n",
    "class Queue():\n",
    "    def __init__(self,elements):\n",
    "        self.queue = elements\n",
    "\n",
    "    def enqueue(self,element):\n",
    "        self.queue.append(element)\n",
    "\n",
    "    def dequeue(self):\n",
    "        return self.queue.pop(0)\n",
    "        \n",
    "    def size(self):\n",
    "        print(len(self.queue))\n",
    "    \n",
    "    def front(self):\n",
    "        print(self.queue[0])\n",
    "    \n",
    "    def rear(self):\n",
    "        print(self.queue[-1])"
   ]
  },
  {
   "cell_type": "code",
   "execution_count": null,
   "id": "4789f948",
   "metadata": {},
   "outputs": [],
   "source": [
    "\"\"\"\n",
    "Add comments for you own reference\n",
    "\"\"\"\n",
    "\n",
    "q = Queue([])\n",
    "\n",
    "q.enqueue(5)\n",
    "q.enqueue(1)\n",
    "q.enqueue(2)\n",
    "q.enqueue(3)\n",
    "print(q.queue)\n",
    "\n",
    "q.size()\n",
    "\n",
    "q.front()\n",
    "\n",
    "q.rear()\n",
    "\n",
    "value = q.dequeue()\n",
    "print(q.queue)"
   ]
  },
  {
   "cell_type": "markdown",
   "id": "5bca0b85",
   "metadata": {},
   "source": [
    "### 5.4.2 STACKS"
   ]
  },
  {
   "cell_type": "code",
   "execution_count": null,
   "id": "9aaa91f2",
   "metadata": {},
   "outputs": [],
   "source": [
    "\"\"\"\n",
    "Add comments for you own reference\n",
    "\"\"\"\n",
    "\n",
    "class Stack():\n",
    "    def __init__(self,elements):\n",
    "        self.stack = elements\n",
    "\n",
    "    def push(self,element):\n",
    "        self.stack.append(element)\n",
    "\n",
    "    def pop(self):\n",
    "        return self.stack.pop()\n",
    "        \n",
    "    def size(self):\n",
    "        print(len(self.stack))\n",
    "    \n",
    "    def top(self):\n",
    "        print(self.stack[-1])"
   ]
  },
  {
   "cell_type": "code",
   "execution_count": null,
   "id": "0ae4e089",
   "metadata": {},
   "outputs": [],
   "source": [
    "\"\"\"\n",
    "Add comments for you own reference\n",
    "\"\"\"\n",
    "s = Stack([])\n",
    "\n",
    "s.push(5)\n",
    "s.push(1)\n",
    "s.push(2)\n",
    "s.push(3)\n",
    "print(s.stack)\n",
    "\n",
    "s.size()\n",
    "\n",
    "s.top()\n",
    "\n",
    "value = s.pop()\n",
    "value = s.pop()\n",
    "print(s.stack)"
   ]
  },
  {
   "cell_type": "markdown",
   "id": "2e0db181",
   "metadata": {
    "id": "tmprS5USsZB_"
   },
   "source": [
    "**Evaluation:**\n",
    "\n",
    "After running this program, think about and answer these questions:\n",
    "\n",
    "1. Put print statements between each pop and explain the results.\n",
    "2. Where is an example you have seen a stack or queue used in real-life?\n",
    "3. What is the order that the items are put into the queue/stack and taken out?\n"
   ]
  },
  {
   "cell_type": "markdown",
   "id": "80ce4ca9",
   "metadata": {
    "id": "WoDukkV3rbRw"
   },
   "source": [
    "## 5.4 QUEUES AND STACKS:  (Group)\n",
    "\n",
    "**Write a program that will do the following:**\n",
    "\n",
    "1. Create an employee class.\n",
    "2. The employee class should have attributes name and employee ID\n",
    "3. Create at least three employee objects.\n",
    "4. Push the objects into a queue and stack.\n",
    "5. Remove the employees from the stack and queue until both are empty.\n",
    "6. Print the orders of both employee objects. "
   ]
  },
  {
   "cell_type": "code",
   "execution_count": null,
   "id": "d0e5ccdf",
   "metadata": {
    "id": "utKkoMXkreOu"
   },
   "outputs": [],
   "source": [
    "\n"
   ]
  },
  {
   "cell_type": "code",
   "execution_count": null,
   "id": "02865cc6",
   "metadata": {
    "colab": {
     "base_uri": "https://localhost:8080/"
    },
    "id": "sD5qnkuYrfRP",
    "outputId": "219ed508-a740-4177-bf97-40a13b04c578"
   },
   "outputs": [],
   "source": [
    "\n"
   ]
  },
  {
   "cell_type": "markdown",
   "id": "838cb3d1",
   "metadata": {},
   "source": [
    "## 5.5 Mini Project (Group):  \n",
    "\n",
    "**Write a program that will do the following:**\n",
    "\n",
    "    1. Try to use the material you have been learning to create a program that will be usefule to your life/work.\n",
    "    2. Try to use classes and objects.\n",
    "    3. Try to use these objects to store and process information."
   ]
  },
  {
   "cell_type": "code",
   "execution_count": null,
   "id": "9e97845c",
   "metadata": {},
   "outputs": [],
   "source": []
  },
  {
   "cell_type": "code",
   "execution_count": null,
   "id": "0494d79d",
   "metadata": {},
   "outputs": [],
   "source": []
  }
 ],
 "metadata": {
  "colab": {
   "collapsed_sections": [],
   "name": "WSK Week 5 Solutions.ipynb",
   "provenance": []
  },
  "kernelspec": {
   "display_name": "Python 3",
   "language": "python",
   "name": "python3"
  },
  "language_info": {
   "codemirror_mode": {
    "name": "ipython",
    "version": 3
   },
   "file_extension": ".py",
   "mimetype": "text/x-python",
   "name": "python",
   "nbconvert_exporter": "python",
   "pygments_lexer": "ipython3",
   "version": "3.7.7"
  },
  "vscode": {
   "interpreter": {
    "hash": "5109d816b82be14675a6b11f8e0f0d2e80f029176ed3710d54e125caa8520dfd"
   }
  }
 },
 "nbformat": 4,
 "nbformat_minor": 5
}
