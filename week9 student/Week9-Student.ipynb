{
 "cells": [
  {
   "cell_type": "markdown",
   "metadata": {},
   "source": [
    "# Workshop 9 [Student]\n",
    "\n",
    "This notebook will cover the following topics:\n",
    "\n",
    "1. Series\n",
    "    - Indexing\n",
    "    - Modification\n",
    "2. Dataframe\n",
    "    - Read CSV to Dataframe\n",
    "    - Informative Functions\n",
    "    - Modification Functions\n",
    "    - Selection Functions\n",
    "4. Handling Missing Data"
   ]
  },
  {
   "cell_type": "markdown",
   "metadata": {},
   "source": [
    "## 9.1 SERIES (Follow)\n",
    "\n",
    "**Learning Objectives:**\n",
    "\n",
    "1. Understand Series in Pandas.\n",
    "2. Understand attributes of Series.\n",
    "3. Understand modification functions for Series.\n",
    "4. Manipulate data using Series."
   ]
  },
  {
   "cell_type": "code",
   "execution_count": 6,
   "metadata": {},
   "outputs": [
    {
     "name": "stdout",
     "output_type": "stream",
     "text": [
      "A    40\n",
      "B    50\n",
      "C    60\n",
      "Name: Values, dtype: int64 \n",
      "\n",
      "50 \n",
      "\n",
      "B    50\n",
      "C    60\n",
      "Name: Values, dtype: int64 \n",
      "\n",
      "60 \n",
      "\n"
     ]
    }
   ],
   "source": [
    "\"\"\"\n",
    "Add comments for you own reference\n",
    "\"\"\"\n",
    "\n",
    "import pandas as pd\n",
    "s = pd.Series([40, 50, 60])\n",
    "s.index = ['A','B','C']\n",
    "s.name = 'Values'\n",
    "print(s,\"\\n\")\n",
    "print(s['B'],\"\\n\")\n",
    "print(s[1:],\"\\n\")\n",
    "print(s[-1],\"\\n\")"
   ]
  },
  {
   "cell_type": "code",
   "execution_count": 37,
   "metadata": {},
   "outputs": [
    {
     "name": "stdout",
     "output_type": "stream",
     "text": [
      "A    10\n",
      "B    50\n",
      "C    60\n",
      "Name: Values, dtype: int64\n",
      "X    10\n",
      "B    50\n",
      "C    60\n",
      "Name: Values, dtype: int64\n",
      "X    10\n",
      "B    50\n",
      "C    60\n",
      "Name: Values, dtype: int64\n"
     ]
    }
   ],
   "source": [
    "\"\"\"\n",
    "Add comments for you own reference\n",
    "\"\"\"\n",
    "\n",
    "s.update(pd.Series([10], index=['A']))\n",
    "print(s)\n",
    "s.rename({'A': 'X'},inplace=True)\n",
    "print(s)\n",
    "s.replace(20,15,inplace=True)\n",
    "print(s)"
   ]
  },
  {
   "cell_type": "markdown",
   "metadata": {},
   "source": [
    "**Evaluation:**\n",
    "\n",
    "After running this program, think about and answer these questions:\n",
    "\n",
    "1. What is the use of Index and Name?\n",
    "2. Try to understand how slicing works in Series.\n",
    "3. What does the update() function do?\n",
    "3. What does the rename() function do?\n",
    "3. What does the replace() function do?"
   ]
  },
  {
   "cell_type": "markdown",
   "metadata": {},
   "source": [
    "## 9.1 SERIES (Group)\n",
    "\n",
    "Write a program that will do the following:\n",
    "\n",
    "1. Generate a series of grades for 10 Students (referenced by student ID)\n",
    "2. Add a 10 point boost to all grades\n",
    "3. Change the student IDs to contain a prefix ST\n",
    "4. Replace all grades below 50 to 0"
   ]
  },
  {
   "cell_type": "code",
   "execution_count": 138,
   "metadata": {},
   "outputs": [],
   "source": [
    "import pandas as pd\n",
    "import random\n",
    "\n",
    "class Students:\n",
    "    def __init__(self):\n",
    "        self.grades = []\n",
    "        self.StudentIDs = []\n",
    "        self.df= None\n",
    "\n",
    "    def setRandomGrades(self):\n",
    "        for i in range(10):\n",
    "            self.grades.append(random.randint(20,100))\n",
    "\n",
    "    def setStudentIDs(self):\n",
    "        for i in range (1001,1011):\n",
    "            self.StudentIDs.append(i)\n",
    "    \n",
    "    def BuildDataFrame(self):\n",
    "        self.df = pd.DataFrame({'StudentID':self.StudentIDs,'Grades':self.grades})\n",
    "        #print(self.df)\n",
    "\n",
    "    def AddTentoGrades(self):\n",
    "        self.df['Grades']+=10\n",
    "        #print(self.df)\n",
    "        \n",
    "    def prependST(self):\n",
    "        newlist = []    \n",
    "        for i in  self.StudentIDs:\n",
    "            newlist.append( str(f'ST{i}'))\n",
    "        self.StudentIDs = newlist\n",
    "        self.df.update({'StudentID':self.StudentIDs,'Grades':self.grades})\n",
    "\n",
    "    def findLT50(self):\n",
    "        Failed = self.df['Grades'] <50\n",
    "        self.df.loc[Failed,'Grades'] =0\n",
    "\n",
    "    def __str__(self):\n",
    "        return f'{self.df}'\n",
    "    \n"
   ]
  },
  {
   "cell_type": "code",
   "execution_count": 139,
   "metadata": {},
   "outputs": [
    {
     "name": "stdout",
     "output_type": "stream",
     "text": [
      "  StudentID  Grades\n",
      "0    ST1001      90\n",
      "1    ST1002      45\n",
      "2    ST1003      62\n",
      "3    ST1004      61\n",
      "4    ST1005      28\n",
      "5    ST1006      70\n",
      "6    ST1007      31\n",
      "7    ST1008      44\n",
      "8    ST1009      43\n",
      "9    ST1010      82\n",
      "  StudentID  Grades\n",
      "0    ST1001      90\n",
      "1    ST1002       0\n",
      "2    ST1003      62\n",
      "3    ST1004      61\n",
      "4    ST1005       0\n",
      "5    ST1006      70\n",
      "6    ST1007       0\n",
      "7    ST1008       0\n",
      "8    ST1009       0\n",
      "9    ST1010      82\n"
     ]
    }
   ],
   "source": [
    "myClass = Students()\n",
    "myClass.setRandomGrades()\n",
    "myClass.setStudentIDs()\n",
    "myClass.BuildDataFrame()\n",
    "myClass.AddTentoGrades()\n",
    "myClass.prependST()\n",
    "print(myClass)\n",
    "myClass.findLT50()\n",
    "print(myClass)"
   ]
  },
  {
   "cell_type": "markdown",
   "metadata": {},
   "source": [
    "## 9.2 DATAFRAME (Follow)\n",
    "\n",
    "**Learning Objectives:**\n",
    "\n",
    "1. Understand Dataframe in Pandas.\n",
    "2. Understand attributes of a Dataframe."
   ]
  },
  {
   "cell_type": "code",
   "execution_count": null,
   "metadata": {},
   "outputs": [],
   "source": [
    "\"\"\"\n",
    "Add comments for you own reference\n",
    "\"\"\"\n",
    "\n",
    "import pandas as pd\n",
    "\n",
    "df = pd.DataFrame([10,20,30])\n",
    "print(df)\n",
    "print(type(df))\n",
    "\n",
    "df = pd.DataFrame({'Name':['A','B','C'],'Age':[10,20,30]})\n",
    "print(df)\n",
    "print(type(df['Age'][0]))\n"
   ]
  },
  {
   "cell_type": "code",
   "execution_count": null,
   "metadata": {},
   "outputs": [],
   "source": [
    "\"\"\"\n",
    "Add comments for you own reference\n",
    "\"\"\"\n",
    "\n",
    "import pandas as pd\n",
    "import numpy as np\n",
    "\n",
    "df = pd.DataFrame(\n",
    "{\n",
    "        \"A\": 1.0,\n",
    "        \"B\": pd.Timestamp(\"20220102\"),\n",
    "        \"C\": pd.Series(1, index=list(range(4)), dtype=\"float32\"),\n",
    "        \"D\": np.array([3] * 4, dtype=\"int32\"),\n",
    "        \"E\": pd.Categorical([\"test\", \"train\", \"test\", \"train\"]),\n",
    "        \"F\": \"foo\"\n",
    " })\n",
    "print(df)\n",
    "print(type(df['E'][0]))"
   ]
  },
  {
   "cell_type": "markdown",
   "metadata": {},
   "source": [
    "**Evaluation:**\n",
    "\n",
    "After running this program, think about and answer these questions:\n",
    "\n",
    "1. How many dimentions does a dataframe have?\n",
    "2. How to Convert List into Dataframe?\n",
    "3. What types of data can a dataframe hold?\n",
    "4. How does Dataframe index its elements?"
   ]
  },
  {
   "cell_type": "markdown",
   "metadata": {},
   "source": [
    "## 9.2 DATAFRAME (Group)\n",
    "\n",
    "**Write a program that will do the following:**\n",
    "\n",
    "1. Create a dataframe with employees, job title, salary, and years worked.\n",
    "2. There should be at least 5 entries.\n",
    "3. Add indexes to the rows so when you print the dataframe it will display properly.\n",
    "4. Try exploring the pandas library writing commands from the library.\n",
    "5. You may be asked to share things you did."
   ]
  },
  {
   "cell_type": "code",
   "execution_count": 164,
   "metadata": {},
   "outputs": [],
   "source": [
    "import pandas as pd\n",
    "import random\n",
    "\n",
    "class Employees:\n",
    "    def __init__(self):\n",
    "        self.EmployeeName = []\n",
    "        self.EmployeeIDs = []\n",
    "        self.JobTitle = []\n",
    "        self.Salary = []\n",
    "        self.yearsworked = []\n",
    "        self.EmployeeIDs = []\n",
    "        self.df= None\n",
    "\n",
    "    def addEmployee(self,EID,name,JobTitle,Salary,YearsWorked):\n",
    "        self.EmployeeIDs.append(EID)\n",
    "        self.EmployeeName.append(name)\n",
    "        self.JobTitle.append(JobTitle)\n",
    "        self.Salary.append(Salary)\n",
    "        self.yearsworked.append(YearsWorked)\n",
    "\n",
    "    def setRandom(self,start,stop):\n",
    "        return random.randint(int(start),int(stop))\n",
    "\n",
    "    def BuildDF(self):\n",
    "        self.df = pd.DataFrame({'Name':self.EmployeeName,'Job Title':self.JobTitle,'Salary':self.Salary,'Years Worked':self.yearsworked},index=self.EmployeeIDs)\n",
    "        print(self.df)    \n",
    "\n",
    "    def __str__(self):\n",
    "        return f'{self.df}'\n",
    "    \n",
    "\n"
   ]
  },
  {
   "cell_type": "code",
   "execution_count": 1,
   "metadata": {},
   "outputs": [
    {
     "ename": "NameError",
     "evalue": "name 'Employees' is not defined",
     "output_type": "error",
     "traceback": [
      "\u001b[1;31m---------------------------------------------------------------------------\u001b[0m",
      "\u001b[1;31mNameError\u001b[0m                                 Traceback (most recent call last)",
      "\u001b[1;32m~\\AppData\\Local\\Temp\\ipykernel_5888\\4129451099.py\u001b[0m in \u001b[0;36m<module>\u001b[1;34m\u001b[0m\n\u001b[1;32m----> 1\u001b[1;33m \u001b[0mMyEmployee\u001b[0m \u001b[1;33m=\u001b[0m \u001b[0mEmployees\u001b[0m\u001b[1;33m(\u001b[0m\u001b[1;33m)\u001b[0m\u001b[1;33m\u001b[0m\u001b[1;33m\u001b[0m\u001b[0m\n\u001b[0m\u001b[0;32m      2\u001b[0m \u001b[0mMyEmployee\u001b[0m\u001b[1;33m.\u001b[0m\u001b[0maddEmployee\u001b[0m\u001b[1;33m(\u001b[0m\u001b[1;36m1000\u001b[0m\u001b[1;33m,\u001b[0m\u001b[1;34m'Jeff'\u001b[0m\u001b[1;33m,\u001b[0m\u001b[1;34m'El Jefe'\u001b[0m\u001b[1;33m,\u001b[0m\u001b[1;34m'10000000'\u001b[0m\u001b[1;33m,\u001b[0m\u001b[1;36m1\u001b[0m\u001b[1;33m)\u001b[0m\u001b[1;33m\u001b[0m\u001b[1;33m\u001b[0m\u001b[0m\n\u001b[0;32m      3\u001b[0m \u001b[0mMyEmployee\u001b[0m\u001b[1;33m.\u001b[0m\u001b[0maddEmployee\u001b[0m\u001b[1;33m(\u001b[0m\u001b[1;36m1002\u001b[0m\u001b[1;33m,\u001b[0m\u001b[1;34m'Lori'\u001b[0m\u001b[1;33m,\u001b[0m\u001b[1;34m'My Wife'\u001b[0m\u001b[1;33m,\u001b[0m\u001b[1;36m0\u001b[0m\u001b[1;33m,\u001b[0m\u001b[0mMyEmployee\u001b[0m\u001b[1;33m.\u001b[0m\u001b[0msetRandom\u001b[0m\u001b[1;33m(\u001b[0m\u001b[1;36m1\u001b[0m\u001b[1;33m,\u001b[0m\u001b[1;36m18\u001b[0m\u001b[1;33m)\u001b[0m\u001b[1;33m)\u001b[0m\u001b[1;33m\u001b[0m\u001b[1;33m\u001b[0m\u001b[0m\n\u001b[0;32m      4\u001b[0m \u001b[0mMyEmployee\u001b[0m\u001b[1;33m.\u001b[0m\u001b[0maddEmployee\u001b[0m\u001b[1;33m(\u001b[0m\u001b[1;36m1003\u001b[0m\u001b[1;33m,\u001b[0m\u001b[1;34m'Ryan'\u001b[0m\u001b[1;33m,\u001b[0m\u001b[1;34m'My Son'\u001b[0m\u001b[1;33m,\u001b[0m\u001b[1;34m'Owes me!'\u001b[0m\u001b[1;33m,\u001b[0m\u001b[1;36m25\u001b[0m\u001b[1;33m)\u001b[0m\u001b[1;33m\u001b[0m\u001b[1;33m\u001b[0m\u001b[0m\n\u001b[0;32m      5\u001b[0m \u001b[0mMyEmployee\u001b[0m\u001b[1;33m.\u001b[0m\u001b[0maddEmployee\u001b[0m\u001b[1;33m(\u001b[0m\u001b[1;36m1004\u001b[0m\u001b[1;33m,\u001b[0m\u001b[1;34m'Rufus'\u001b[0m\u001b[1;33m,\u001b[0m\u001b[1;34m'My Dog'\u001b[0m\u001b[1;33m,\u001b[0m\u001b[1;36m0\u001b[0m\u001b[1;33m,\u001b[0m\u001b[1;36m3\u001b[0m\u001b[1;33m)\u001b[0m\u001b[1;33m\u001b[0m\u001b[1;33m\u001b[0m\u001b[0m\n",
      "\u001b[1;31mNameError\u001b[0m: name 'Employees' is not defined"
     ]
    }
   ],
   "source": [
    "MyEmployee = Employees()\n",
    "MyEmployee.addEmployee(1000,'Jeff','El Jefe','10000000',1)\n",
    "MyEmployee.addEmployee(1002,'Lori','My Wife',0,MyEmployee.setRandom(1,18))\n",
    "MyEmployee.addEmployee(1003,'Ryan','My Son','Owes me!',25)\n",
    "MyEmployee.addEmployee(1004,'Rufus','My Dog',0,3)\n",
    "MyEmployee.addEmployee(1005,'Smokey','My Cat',0,18)\n",
    "\n",
    "MyEmployee.BuildDF()\n",
    "\n",
    "\n",
    "\n"
   ]
  },
  {
   "cell_type": "markdown",
   "metadata": {},
   "source": [
    "## 9.3 READING a CSV (Follow)\n",
    "1. Learn to import CSV in dataframe.\n",
    "2. Understand Descriptive functions for Dataframe.\n",
    "3. Understand Modification functions for Dataframe.\n",
    "4. Understand Selection functions for Dataframe.\n",
    "5. Manipulate data using Dataframe."
   ]
  },
  {
   "cell_type": "code",
   "execution_count": null,
   "metadata": {},
   "outputs": [],
   "source": [
    "\"\"\"\n",
    "Add comments for you own reference\n",
    "\"\"\"\n",
    "\n",
    "import pandas as pd\n",
    "\n",
    "df = pd.read_csv(\"Iris.csv\")\n",
    "print(df)"
   ]
  },
  {
   "cell_type": "code",
   "execution_count": null,
   "metadata": {},
   "outputs": [],
   "source": [
    "print(df.shape)"
   ]
  },
  {
   "cell_type": "code",
   "execution_count": null,
   "metadata": {},
   "outputs": [],
   "source": [
    "print(df.head())"
   ]
  },
  {
   "cell_type": "code",
   "execution_count": null,
   "metadata": {},
   "outputs": [],
   "source": [
    "print(df.tail())"
   ]
  },
  {
   "cell_type": "code",
   "execution_count": null,
   "metadata": {},
   "outputs": [],
   "source": [
    "print(df.describe())"
   ]
  },
  {
   "cell_type": "code",
   "execution_count": null,
   "metadata": {},
   "outputs": [],
   "source": [
    "\"\"\"\n",
    "Add comments for you own reference\n",
    "\"\"\"\n",
    "\n",
    "print(df.shape)\n",
    "dt = df.transpose()\n",
    "print(dt.shape)\n",
    "print(dt.head())"
   ]
  },
  {
   "cell_type": "code",
   "execution_count": null,
   "metadata": {},
   "outputs": [],
   "source": [
    "di = df.sort_index(axis=1, ascending=False)\n",
    "print(di.head())\n",
    "print(di.tail())"
   ]
  },
  {
   "cell_type": "code",
   "execution_count": null,
   "metadata": {},
   "outputs": [],
   "source": [
    "di = df.sort_values(by=\"SepalWidthCm\")\n",
    "print(di.head())\n",
    "print(di.tail())"
   ]
  },
  {
   "cell_type": "markdown",
   "metadata": {},
   "source": [
    "**Evaluation:**\n",
    "\n",
    "After running this program, think about and answer these questions:\n",
    "\n",
    "1. What does head() function do?\n",
    "2. What does tail() function do?\n",
    "3. What information does describe() give?\n",
    "4. What does transpose() function do?\n",
    "5. What is the difference between sort_index and sort_values?"
   ]
  },
  {
   "cell_type": "markdown",
   "metadata": {},
   "source": [
    "## 9.3 READING a CSV (Group)\n",
    "\n",
    "Write a program that will do the following:\n",
    "\n",
    "1. Use 'heart.csv' Data set.\n",
    "2. Perform all the above operations on the data set to understand the data"
   ]
  },
  {
   "cell_type": "code",
   "execution_count": null,
   "metadata": {},
   "outputs": [],
   "source": [
    "\n"
   ]
  },
  {
   "cell_type": "code",
   "execution_count": null,
   "metadata": {},
   "outputs": [],
   "source": [
    "\n"
   ]
  },
  {
   "cell_type": "code",
   "execution_count": null,
   "metadata": {},
   "outputs": [],
   "source": [
    "\n"
   ]
  },
  {
   "cell_type": "code",
   "execution_count": null,
   "metadata": {},
   "outputs": [],
   "source": [
    "\n"
   ]
  },
  {
   "cell_type": "markdown",
   "metadata": {},
   "source": [
    "## 9.4 Location functions in Pandas (Follow)\n",
    "1. Understand how to use loc and iloc in pandas.\n",
    "2. Understand what loc and iloc do in a dataframe."
   ]
  },
  {
   "cell_type": "code",
   "execution_count": null,
   "metadata": {},
   "outputs": [],
   "source": [
    "\"\"\"\n",
    "Add comments for you own reference\n",
    "\"\"\"\n",
    "import pandas as pd\n",
    "\n",
    "df = pd.read_csv(\"Iris.csv\")\n",
    "\n",
    "ds = df.loc[70]\n",
    "print(ds)"
   ]
  },
  {
   "cell_type": "code",
   "execution_count": null,
   "metadata": {},
   "outputs": [],
   "source": [
    "ds = df.iloc[70]\n",
    "print(ds)"
   ]
  },
  {
   "cell_type": "code",
   "execution_count": null,
   "metadata": {},
   "outputs": [],
   "source": [
    "ds = df.at[70,'SepalWidthCm']\n",
    "print(ds)"
   ]
  },
  {
   "cell_type": "code",
   "execution_count": null,
   "metadata": {},
   "outputs": [],
   "source": [
    "ds = df.iat[70,2]\n",
    "print(ds)"
   ]
  },
  {
   "cell_type": "code",
   "execution_count": null,
   "metadata": {},
   "outputs": [],
   "source": [
    "ds = df[df['SepalLengthCm']>7]\n",
    "print(ds.head())"
   ]
  },
  {
   "cell_type": "code",
   "execution_count": null,
   "metadata": {},
   "outputs": [],
   "source": [
    "ds = df[df['SepalLengthCm'].isin([5,6,7])]\n",
    "print(ds.head())"
   ]
  },
  {
   "cell_type": "code",
   "execution_count": null,
   "metadata": {},
   "outputs": [],
   "source": [
    "da = df.iloc[:,:-1].apply(lambda x: x.max()-x.min())\n",
    "print(da)"
   ]
  },
  {
   "cell_type": "markdown",
   "metadata": {},
   "source": [
    "**Evaluation:**\n",
    "\n",
    "After running this program, think about and answer these questions:\n",
    "\n",
    "1. What does loc() and at() do?\n",
    "2. What does iloc() and it() do?\n",
    "3. What is the difference between all selection functions?"
   ]
  },
  {
   "cell_type": "markdown",
   "metadata": {},
   "source": [
    "## 9.4 Location functions in Pandas (Group)\n",
    "\n",
    "Write a program that will do the following:\n",
    "\n",
    "1. Use Heart.csv Data set.\n",
    "2. Print the column names and number of rows in data\n",
    "2. Get a row number from the user.\n",
    "3. Get a column name from the user.\n",
    "4. Print:\n",
    "    - Row.\n",
    "    - Column.\n",
    "    - Row X Column"
   ]
  },
  {
   "cell_type": "code",
   "execution_count": null,
   "metadata": {},
   "outputs": [],
   "source": [
    "\n"
   ]
  },
  {
   "cell_type": "markdown",
   "metadata": {},
   "source": [
    "## 9.5 MISSING DATA (Follow)\n",
    "\n",
    "**Learning Objectives:**\n",
    "\n",
    "1. Understand the concept of Missing Data.\n",
    "2. Learn to point out missing data.\n",
    "3. Understand how to deal with missing data.\n",
    "4. Learn different functions to deal with missing data."
   ]
  },
  {
   "cell_type": "code",
   "execution_count": null,
   "metadata": {},
   "outputs": [],
   "source": [
    "\"\"\"\n",
    "Add comments for you own reference\n",
    "\"\"\"\n",
    "\n",
    "import pandas as pd\n",
    "\n",
    "df = pd.read_csv(\"mamograph.csv\",na_values='NaN')\n",
    "print(df.head())"
   ]
  },
  {
   "cell_type": "code",
   "execution_count": null,
   "metadata": {},
   "outputs": [],
   "source": [
    "dn = df.copy()\n",
    "print(dn.shape)\n",
    "dx = dn.dropna()\n",
    "print(dx.shape)\n",
    "print(dx.head())"
   ]
  },
  {
   "cell_type": "code",
   "execution_count": null,
   "metadata": {},
   "outputs": [],
   "source": [
    "dn2 = df.copy()\n",
    "print(dn2.shape)\n",
    "dx2 = dn2.fillna(3.0)\n",
    "print(dx2.shape)\n",
    "print(dx2.head())"
   ]
  },
  {
   "cell_type": "code",
   "execution_count": null,
   "metadata": {},
   "outputs": [],
   "source": [
    "print(pd.isna(df).head())"
   ]
  },
  {
   "cell_type": "markdown",
   "metadata": {},
   "source": [
    "**Evaluation:**\n",
    "\n",
    "After running this program, think about and answer these questions:\n",
    "\n",
    "1. What does dropna() function do?\n",
    "1. What does fillna() function do?\n",
    "1. What does isna() function return?"
   ]
  },
  {
   "cell_type": "markdown",
   "metadata": {},
   "source": [
    "## 9.5 MISSING DATA (Group)\n",
    "\n",
    "Write a program that will do the following:\n",
    "\n",
    "1. Use 'marketing.csv'\n",
    "2. Perform these tasks seperately\n",
    "    - Drop all rows with NaN\n",
    "    - Replace NaN values in marketing.csv column with mean of each column."
   ]
  },
  {
   "cell_type": "code",
   "execution_count": null,
   "metadata": {},
   "outputs": [],
   "source": [
    "\n"
   ]
  },
  {
   "cell_type": "code",
   "execution_count": null,
   "metadata": {},
   "outputs": [],
   "source": [
    "\n"
   ]
  },
  {
   "cell_type": "code",
   "execution_count": null,
   "metadata": {},
   "outputs": [],
   "source": [
    "\n"
   ]
  },
  {
   "cell_type": "markdown",
   "metadata": {},
   "source": [
    "## 9.6 Pandas project (Group)\n",
    "\n",
    "**Write a program that will do the following:**\n",
    "1. Read in the teamsummaries.csv dataset included.  \n",
    "2. Do some basic statistical analysis.  \n",
    "3. Try to create an argument to determine the best NBA team of all time.  \n",
    "4. You may also use a different dataset and do a different analysis. \n",
    "5. Use the pandas library in your project."
   ]
  },
  {
   "cell_type": "code",
   "execution_count": null,
   "metadata": {},
   "outputs": [],
   "source": []
  },
  {
   "cell_type": "code",
   "execution_count": null,
   "metadata": {},
   "outputs": [],
   "source": []
  }
 ],
 "metadata": {
  "kernelspec": {
   "display_name": "Python 3",
   "language": "python",
   "name": "python3"
  },
  "language_info": {
   "codemirror_mode": {
    "name": "ipython",
    "version": 3
   },
   "file_extension": ".py",
   "mimetype": "text/x-python",
   "name": "python",
   "nbconvert_exporter": "python",
   "pygments_lexer": "ipython3",
   "version": "3.7.7"
  },
  "vscode": {
   "interpreter": {
    "hash": "5109d816b82be14675a6b11f8e0f0d2e80f029176ed3710d54e125caa8520dfd"
   }
  }
 },
 "nbformat": 4,
 "nbformat_minor": 2
}
