{
 "cells": [
  {
   "cell_type": "markdown",
   "metadata": {},
   "source": [
    "# Workshop 9 [Student]\n",
    "\n",
    "This notebook will cover the following topics:\n",
    "\n",
    "1. Series\n",
    "    - Indexing\n",
    "    - Modification\n",
    "2. Dataframe\n",
    "    - Read CSV to Dataframe\n",
    "    - Informative Functions\n",
    "    - Modification Functions\n",
    "    - Selection Functions\n",
    "4. Handling Missing Data"
   ]
  },
  {
   "cell_type": "markdown",
   "metadata": {},
   "source": [
    "## 9.1 SERIES (Follow)\n",
    "\n",
    "**Learning Objectives:**\n",
    "\n",
    "1. Understand Series in Pandas.\n",
    "2. Understand attributes of Series.\n",
    "3. Understand modification functions for Series.\n",
    "4. Manipulate data using Series."
   ]
  },
  {
   "cell_type": "code",
   "execution_count": null,
   "metadata": {},
   "outputs": [],
   "source": [
    "\"\"\"\n",
    "Add comments for you own reference\n",
    "\"\"\"\n",
    "\n",
    "import pandas as pd\n",
    "s = pd.Series([40, 50, 60])\n",
    "s.index = ['A', 'B', 'C']\n",
    "s.name = 'Values'\n",
    "print(s, \"\\n\")\n",
    "print(s['B'], \"\\n\")\n",
    "print(s[1:], \"\\n\")\n",
    "print(s[-1], \"\\n\")\n"
   ]
  },
  {
   "cell_type": "code",
   "execution_count": null,
   "metadata": {},
   "outputs": [],
   "source": [
    "\"\"\"\n",
    "Add comments for you own reference\n",
    "\"\"\"\n",
    "\n",
    "s.update(pd.Series([10], index=['A']))\n",
    "print(s)\n",
    "s.rename({'A': 'X'}, inplace=True)\n",
    "print(s)\n",
    "s.replace(20, 15, inplace=True)\n",
    "print(s)\n"
   ]
  },
  {
   "cell_type": "markdown",
   "metadata": {},
   "source": [
    "**Evaluation:**\n",
    "\n",
    "After running this program, think about and answer these questions:\n",
    "\n",
    "1. What is the use of Index and Name?\n",
    "2. Try to understand how slicing works in Series.\n",
    "3. What does the update() function do?\n",
    "3. What does the rename() function do?\n",
    "3. What does the replace() function do?"
   ]
  },
  {
   "cell_type": "markdown",
   "metadata": {},
   "source": [
    "## 9.1 SERIES (Group)\n",
    "\n",
    "Write a program that will do the following:\n",
    "\n",
    "1. Generate a series of grades for 10 Students (referenced by student ID)\n",
    "2. Add a 10 point boost to all grades\n",
    "3. Change the student IDs to contain a prefix ST\n",
    "4. Replace all grades below 50 to 0"
   ]
  },
  {
   "cell_type": "code",
   "execution_count": null,
   "metadata": {},
   "outputs": [],
   "source": [
    "import pandas as pd\n",
    "import random\n",
    "\n",
    "\n",
    "class Students:\n",
    "    def __init__(self):\n",
    "        self.grades = []\n",
    "        self.StudentIDs = []\n",
    "        self.df = None\n",
    "\n",
    "    def setRandomGrades(self):\n",
    "        for i in range(10):\n",
    "            self.grades.append(random.randint(20, 100))\n",
    "\n",
    "    def setStudentIDs(self):\n",
    "        for i in range(1001, 1011):\n",
    "            self.StudentIDs.append(i)\n",
    "\n",
    "    def BuildDataFrame(self):\n",
    "        self.df = pd.DataFrame(\n",
    "            {'StudentID': self.StudentIDs, 'Grades': self.grades})\n",
    "        # print(self.df)\n",
    "\n",
    "    def AddTentoGrades(self):\n",
    "        self.df['Grades'] += 10\n",
    "        # print(self.df)\n",
    "\n",
    "    def prependST(self):\n",
    "        newlist = []\n",
    "        for i in self.StudentIDs:\n",
    "            newlist.append(str(f'ST{i}'))\n",
    "        self.StudentIDs = newlist\n",
    "        self.df.update({'StudentID': self.StudentIDs, 'Grades': self.grades})\n",
    "\n",
    "    def findLT50(self):\n",
    "        Failed = self.df['Grades'] < 50\n",
    "        self.df.loc[Failed, 'Grades'] = 0\n",
    "\n",
    "    def __str__(self):\n",
    "        return f'{self.df}'\n"
   ]
  },
  {
   "cell_type": "code",
   "execution_count": null,
   "metadata": {},
   "outputs": [],
   "source": [
    "myClass = Students()\n",
    "myClass.setRandomGrades()\n",
    "myClass.setStudentIDs()\n",
    "myClass.BuildDataFrame()\n",
    "myClass.AddTentoGrades()\n",
    "myClass.prependST()\n",
    "print(myClass)\n",
    "myClass.findLT50()\n",
    "print(myClass)\n"
   ]
  },
  {
   "cell_type": "markdown",
   "metadata": {},
   "source": [
    "## 9.2 DATAFRAME (Follow)\n",
    "\n",
    "**Learning Objectives:**\n",
    "\n",
    "1. Understand Dataframe in Pandas.\n",
    "2. Understand attributes of a Dataframe."
   ]
  },
  {
   "cell_type": "code",
   "execution_count": null,
   "metadata": {},
   "outputs": [],
   "source": [
    "\"\"\"\n",
    "Add comments for you own reference\n",
    "\"\"\"\n",
    "\n",
    "import pandas as pd\n",
    "\n",
    "df = pd.DataFrame([10, 20, 30])\n",
    "print(df)\n",
    "print(type(df))\n",
    "\n",
    "df = pd.DataFrame({'Name': ['A', 'B', 'C'], 'Age': [10, 20, 30]})\n",
    "print(df)\n",
    "print(type(df['Age'][0]))\n"
   ]
  },
  {
   "cell_type": "code",
   "execution_count": null,
   "metadata": {},
   "outputs": [],
   "source": [
    "\"\"\"\n",
    "Add comments for you own reference\n",
    "\"\"\"\n",
    "\n",
    "import pandas as pd\n",
    "import numpy as np\n",
    "\n",
    "df = pd.DataFrame(\n",
    "    {\n",
    "        \"A\": 1.0,\n",
    "        \"B\": pd.Timestamp(\"20220102\"),\n",
    "        \"C\": pd.Series(1, index=list(range(4)), dtype=\"float32\"),\n",
    "        \"D\": np.array([3] * 4, dtype=\"int32\"),\n",
    "        \"E\": pd.Categorical([\"test\", \"train\", \"test\", \"train\"]),\n",
    "        \"F\": \"foo\"\n",
    "    })\n",
    "print(df)\n",
    "print(type(df['E'][0]))\n"
   ]
  },
  {
   "cell_type": "markdown",
   "metadata": {},
   "source": [
    "**Evaluation:**\n",
    "\n",
    "After running this program, think about and answer these questions:\n",
    "\n",
    "1. How many dimentions does a dataframe have?\n",
    "2. How to Convert List into Dataframe?\n",
    "3. What types of data can a dataframe hold?\n",
    "4. How does Dataframe index its elements?"
   ]
  },
  {
   "cell_type": "markdown",
   "metadata": {},
   "source": [
    "## 9.2 DATAFRAME (Group)\n",
    "\n",
    "**Write a program that will do the following:**\n",
    "\n",
    "1. Create a dataframe with employees, job title, salary, and years worked.\n",
    "2. There should be at least 5 entries.\n",
    "3. Add indexes to the rows so when you print the dataframe it will display properly.\n",
    "4. Try exploring the pandas library writing commands from the library.\n",
    "5. You may be asked to share things you did."
   ]
  },
  {
   "cell_type": "code",
   "execution_count": null,
   "metadata": {},
   "outputs": [],
   "source": [
    "import pandas as pd\n",
    "import random\n",
    "\n",
    "\n",
    "class Employees:\n",
    "    def __init__(self):\n",
    "        self.EmployeeName = []\n",
    "        self.EmployeeIDs = []\n",
    "        self.JobTitle = []\n",
    "        self.Salary = []\n",
    "        self.yearsworked = []\n",
    "        self.EmployeeIDs = []\n",
    "        self.df = None\n",
    "\n",
    "    def addEmployee(self, EID, name, JobTitle, Salary, YearsWorked):\n",
    "        self.EmployeeIDs.append(EID)\n",
    "        self.EmployeeName.append(name)\n",
    "        self.JobTitle.append(JobTitle)\n",
    "        self.Salary.append(Salary)\n",
    "        self.yearsworked.append(YearsWorked)\n",
    "\n",
    "    def setRandom(self, start, stop):\n",
    "        return random.randint(int(start), int(stop))\n",
    "\n",
    "    def BuildDF(self):\n",
    "        self.df = pd.DataFrame({\n",
    "                'Name': self.EmployeeName,\n",
    "                'Job Title': self.JobTitle,\n",
    "                'Salary': self.Salary,\n",
    "                'Years Worked': self.yearsworked},\n",
    "            index=self.EmployeeIDs)\n",
    "        print(self.df)\n",
    "\n",
    "    def __str__(self):\n",
    "        return f'{self.df}'\n"
   ]
  },
  {
   "cell_type": "code",
   "execution_count": null,
   "metadata": {},
   "outputs": [],
   "source": [
    "MyEmployee = Employees()\n",
    "MyEmployee.addEmployee(1000, 'Jeff', 'El Jefe', '10000000', 1)\n",
    "MyEmployee.addEmployee(1002, 'Lori', 'My Wife', 0, MyEmployee.setRandom(1, 18))\n",
    "MyEmployee.addEmployee(1003, 'Ryan', 'My Son', 'Owes me!', 25)\n",
    "MyEmployee.addEmployee(1004, 'Rufus', 'My Dog', 0, 3)\n",
    "MyEmployee.addEmployee(1005, 'Smokey', 'My Cat', 0, 18)\n",
    "\n",
    "MyEmployee.BuildDF()\n"
   ]
  },
  {
   "cell_type": "markdown",
   "metadata": {},
   "source": [
    "## 9.3 READING a CSV (Follow)\n",
    "1. Learn to import CSV in dataframe.\n",
    "2. Understand Descriptive functions for Dataframe.\n",
    "3. Understand Modification functions for Dataframe.\n",
    "4. Understand Selection functions for Dataframe.\n",
    "5. Manipulate data using Dataframe."
   ]
  },
  {
   "cell_type": "code",
   "execution_count": null,
   "metadata": {},
   "outputs": [],
   "source": [
    "\"\"\"\n",
    "Add comments for you own reference\n",
    "\"\"\"\n",
    "\n",
    "import pandas as pd\n",
    "\n",
    "df = pd.read_csv(\"Iris.csv\")\n",
    "print(df)\n"
   ]
  },
  {
   "cell_type": "code",
   "execution_count": null,
   "metadata": {},
   "outputs": [],
   "source": [
    "print(df.shape)\n"
   ]
  },
  {
   "cell_type": "code",
   "execution_count": null,
   "metadata": {},
   "outputs": [],
   "source": [
    "print(df.head())\n"
   ]
  },
  {
   "cell_type": "code",
   "execution_count": null,
   "metadata": {},
   "outputs": [],
   "source": [
    "print(df.tail())\n"
   ]
  },
  {
   "cell_type": "code",
   "execution_count": null,
   "metadata": {},
   "outputs": [],
   "source": [
    "print(df.describe())\n"
   ]
  },
  {
   "cell_type": "code",
   "execution_count": null,
   "metadata": {},
   "outputs": [],
   "source": [
    "\"\"\"\n",
    "Add comments for you own reference\n",
    "\"\"\"\n",
    "\n",
    "print(df.shape)\n",
    "dt = df.transpose()\n",
    "print(dt.shape)\n",
    "print(dt.head())\n"
   ]
  },
  {
   "cell_type": "code",
   "execution_count": null,
   "metadata": {},
   "outputs": [],
   "source": [
    "di = df.sort_index(axis=1, ascending=False)\n",
    "print(di.head())\n",
    "print(di.tail())\n"
   ]
  },
  {
   "cell_type": "code",
   "execution_count": null,
   "metadata": {},
   "outputs": [],
   "source": [
    "di = df.sort_values(by=\"SepalWidthCm\")\n",
    "print(di.head())\n",
    "print(di.tail())\n"
   ]
  },
  {
   "cell_type": "markdown",
   "metadata": {},
   "source": [
    "**Evaluation:**\n",
    "\n",
    "After running this program, think about and answer these questions:\n",
    "\n",
    "1. What does head() function do?\n",
    "2. What does tail() function do?\n",
    "3. What information does describe() give?\n",
    "4. What does transpose() function do?\n",
    "5. What is the difference between sort_index and sort_values?"
   ]
  },
  {
   "cell_type": "markdown",
   "metadata": {},
   "source": [
    "## 9.3 READING a CSV (Group)\n",
    "\n",
    "Write a program that will do the following:\n",
    "\n",
    "1. Use 'heart.csv' Data set.\n",
    "2. Perform all the above operations on the data set to understand the data"
   ]
  },
  {
   "cell_type": "code",
   "execution_count": null,
   "metadata": {},
   "outputs": [],
   "source": [
    "import pandas as pd\n",
    "\n",
    "class ReadingACSV():\n",
    "    def __init__(self,Filename):\n",
    "        self.df  = pd.read_csv(Filename)\n",
    "\n",
    "    def getShape(self):\n",
    "        print(self.df.shape)\n",
    "\n",
    "    def getHead(self):\n",
    "        print(self.df.head())\n",
    "\n",
    "    def getTail(self):\n",
    "        print(self.df.tail())\n",
    "\n",
    "    def getDescription(self):\n",
    "        print(self.df.describe())\n",
    "\n",
    "    def TransposeDemo(self):\n",
    "        print(self.df.shape)\n",
    "        dt = self.df.transpose()\n",
    "        print(dt.shape)\n",
    "        print(dt.head())\n",
    "\n",
    "    def SortDemo(self,Axis,Ascending):\n",
    "        di = self.df.sort_index(axis=Axis, ascending=Ascending)\n",
    "        print(di.head())\n",
    "        print(di.tail())\n",
    "\n",
    "\n",
    "myCSV = ReadingACSV('heart.csv')"
   ]
  },
  {
   "cell_type": "code",
   "execution_count": null,
   "metadata": {},
   "outputs": [],
   "source": [
    "myCSV.getShape()"
   ]
  },
  {
   "cell_type": "code",
   "execution_count": null,
   "metadata": {},
   "outputs": [],
   "source": [
    "myCSV.TransposeDemo()"
   ]
  },
  {
   "cell_type": "code",
   "execution_count": null,
   "metadata": {},
   "outputs": [],
   "source": [
    "myCSV.getHead()"
   ]
  },
  {
   "cell_type": "code",
   "execution_count": null,
   "metadata": {},
   "outputs": [],
   "source": [
    "myCSV.getDescription()"
   ]
  },
  {
   "cell_type": "code",
   "execution_count": null,
   "metadata": {},
   "outputs": [],
   "source": [
    "myCSV.SortDemo(0,True)"
   ]
  },
  {
   "cell_type": "markdown",
   "metadata": {},
   "source": [
    "## 9.4 Location functions in Pandas (Follow)\n",
    "1. Understand how to use loc and iloc in pandas.\n",
    "2. Understand what loc and iloc do in a dataframe."
   ]
  },
  {
   "cell_type": "code",
   "execution_count": null,
   "metadata": {},
   "outputs": [],
   "source": [
    "\"\"\"\n",
    "Add comments for you own reference\n",
    "\"\"\"\n",
    "import pandas as pd\n",
    "\n",
    "df = pd.read_csv(\"Iris.csv\")\n",
    "\n",
    "ds = df.loc[70]\n",
    "print(ds)\n"
   ]
  },
  {
   "cell_type": "code",
   "execution_count": null,
   "metadata": {},
   "outputs": [],
   "source": [
    "ds = df.iloc[0]\n",
    "print(ds)\n"
   ]
  },
  {
   "cell_type": "code",
   "execution_count": null,
   "metadata": {},
   "outputs": [],
   "source": [
    "ds = df.at[70, 'SepalWidthCm']\n",
    "print(ds)\n"
   ]
  },
  {
   "cell_type": "code",
   "execution_count": null,
   "metadata": {},
   "outputs": [],
   "source": [
    "ds = df.iat[70, 2]\n",
    "print(ds)\n"
   ]
  },
  {
   "cell_type": "code",
   "execution_count": null,
   "metadata": {},
   "outputs": [],
   "source": [
    "ds = df[df['SepalLengthCm'] > 7]\n",
    "print(ds.head())\n"
   ]
  },
  {
   "cell_type": "code",
   "execution_count": null,
   "metadata": {},
   "outputs": [],
   "source": [
    "ds = df[df['SepalLengthCm'].isin([5, 6, 7])]\n",
    "print(ds.head())\n"
   ]
  },
  {
   "cell_type": "code",
   "execution_count": null,
   "metadata": {},
   "outputs": [],
   "source": [
    "da = df.iloc[:, :-1].apply(lambda x: x.max()-x.min())\n",
    "print(da)\n"
   ]
  },
  {
   "attachments": {},
   "cell_type": "markdown",
   "metadata": {},
   "source": [
    "**Evaluation:**\n",
    "\n",
    "After running this program, think about and answer these questions:\n",
    "\n",
    "1. What does loc() and at() do?loc and at uses Row, column names to find data\n",
    "2. What does iloc() and it() do?Iloc and Iat uses numerical indexes to find data\n",
    "3. What is the difference between all selection functions?"
   ]
  },
  {
   "cell_type": "markdown",
   "metadata": {},
   "source": [
    "## 9.4 Location functions in Pandas (Group)\n",
    "\n",
    "Write a program that will do the following:\n",
    "\n",
    "1. Use Heart.csv Data set.\n",
    "2. Print the column names and number of rows in data\n",
    "2. Get a row number from the user.\n",
    "3. Get a column name from the user.\n",
    "4. Print:\n",
    "    - Row.\n",
    "    - Column.\n",
    "    - Row X Column"
   ]
  },
  {
   "cell_type": "code",
   "execution_count": null,
   "metadata": {},
   "outputs": [],
   "source": [
    "import pandas as pd\n",
    "\n",
    "class ReadingACSV():\n",
    "    def __init__(self,Filename):\n",
    "        self.df  = pd.read_csv(Filename)\n",
    "    \n",
    "    def listColumns(self):\n",
    "        print(list(self.df.columns))\n",
    "        print(self.df.shape[0],\" rows\")\n",
    "\n",
    "    def getLocation(self,Row,ColumnName):\n",
    "        print(\"Row Data:\\n\",self.df.iloc[Row].head())\n",
    "        print('column Data:\\n',self.df.loc[:,ColumnName].head())\n",
    "        print(self.df.loc[Row,ColumnName])\n",
    "\n",
    "        \n",
    "\n",
    "myCSV = ReadingACSV('Heart.csv')\n"
   ]
  },
  {
   "cell_type": "code",
   "execution_count": null,
   "metadata": {},
   "outputs": [],
   "source": [
    "#myCSV.listColumns()\n",
    "myCSV.getLocation(0,'age')"
   ]
  },
  {
   "cell_type": "markdown",
   "metadata": {},
   "source": [
    "## 9.5 MISSING DATA (Follow)\n",
    "\n",
    "**Learning Objectives:**\n",
    "\n",
    "1. Understand the concept of Missing Data.\n",
    "2. Learn to point out missing data.\n",
    "3. Understand how to deal with missing data.\n",
    "4. Learn different functions to deal with missing data."
   ]
  },
  {
   "cell_type": "code",
   "execution_count": null,
   "metadata": {},
   "outputs": [],
   "source": [
    "\"\"\"\n",
    "Add comments for you own reference\n",
    "\"\"\"\n",
    "\n",
    "import pandas as pd\n",
    "\n",
    "df = pd.read_csv(\"mamograph.csv\", na_values='NaN')\n",
    "print(df.head())\n"
   ]
  },
  {
   "cell_type": "code",
   "execution_count": null,
   "metadata": {},
   "outputs": [],
   "source": [
    "dn = df.copy()\n",
    "print(dn.shape)\n",
    "dx = dn.dropna()\n",
    "print(dx.shape)\n",
    "print(dx.head())\n"
   ]
  },
  {
   "cell_type": "code",
   "execution_count": null,
   "metadata": {},
   "outputs": [],
   "source": [
    "dn2 = df.copy()\n",
    "print(dn2.shape)\n",
    "dx2 = dn2.fillna(3.0)\n",
    "print(dx2.shape)\n",
    "print(dx2.head())\n"
   ]
  },
  {
   "cell_type": "code",
   "execution_count": null,
   "metadata": {},
   "outputs": [],
   "source": [
    "print(pd.isna(df).head())\n"
   ]
  },
  {
   "cell_type": "markdown",
   "metadata": {},
   "source": [
    "**Evaluation:**\n",
    "\n",
    "After running this program, think about and answer these questions:\n",
    "\n",
    "1. What does dropna() function do?\n",
    "1. What does fillna() function do?\n",
    "1. What does isna() function return?"
   ]
  },
  {
   "cell_type": "markdown",
   "metadata": {},
   "source": [
    "## 9.5 MISSING DATA (Group)\n",
    "\n",
    "Write a program that will do the following:\n",
    "\n",
    "1. Use 'marketing.csv'\n",
    "2. Perform these tasks seperately\n",
    "    - Drop all rows with NaN\n",
    "    - Replace NaN values in marketing.csv column with mean of each column."
   ]
  },
  {
   "cell_type": "code",
   "execution_count": null,
   "metadata": {},
   "outputs": [],
   "source": [
    "import pandas as pd\n",
    "\n",
    "class ReadingACSV():\n",
    "    def __init__(self,Filename):\n",
    "        self.df  = pd.read_csv(Filename)\n",
    "        self.df.slice = self.df.iloc[0:5,0:6]\n",
    "\n",
    "    def getCSVHead(self):\n",
    "        print(self.df.slice.head())\n",
    "\n",
    "    def RemoveNAN(self):\n",
    "        print(self.df.slice.dropna().head())\n",
    "\n",
    "    def fillNAN(self):\n",
    "        print(self.df.slice.fillna(self.df.slice.mean()))        \n",
    "\n",
    "myCSV = ReadingACSV('Marketing.csv')"
   ]
  },
  {
   "cell_type": "code",
   "execution_count": null,
   "metadata": {},
   "outputs": [],
   "source": [
    "print(myCSV.df.slice.iloc[:,4].mean())"
   ]
  },
  {
   "cell_type": "code",
   "execution_count": null,
   "metadata": {},
   "outputs": [],
   "source": [
    "myCSV.getCSVHead()\n",
    "myCSV.RemoveNAN()\n",
    "myCSV.fillNAN()\n"
   ]
  },
  {
   "cell_type": "code",
   "execution_count": null,
   "metadata": {},
   "outputs": [],
   "source": []
  },
  {
   "cell_type": "markdown",
   "metadata": {},
   "source": [
    "## 9.6 Pandas project (Group)\n",
    "\n",
    "**Write a program that will do the following:**\n",
    "1. Read in the teamsummaries.csv dataset included.  \n",
    "2. Do some basic statistical analysis.  \n",
    "3. Try to create an argument to determine the best NBA team of all time.  \n",
    "4. You may also use a different dataset and do a different analysis. \n",
    "5. Use the pandas library in your project."
   ]
  },
  {
   "cell_type": "code",
   "execution_count": null,
   "metadata": {},
   "outputs": [],
   "source": []
  },
  {
   "cell_type": "code",
   "execution_count": null,
   "metadata": {},
   "outputs": [],
   "source": []
  }
 ],
 "metadata": {
  "kernelspec": {
   "display_name": "base",
   "language": "python",
   "name": "python3"
  },
  "language_info": {
   "codemirror_mode": {
    "name": "ipython",
    "version": 3
   },
   "file_extension": ".py",
   "mimetype": "text/x-python",
   "name": "python",
   "nbconvert_exporter": "python",
   "pygments_lexer": "ipython3",
   "version": "3.9.12"
  },
  "vscode": {
   "interpreter": {
    "hash": "9b1e51001b4a79ac77a09287b57a2f952f9949a3262b36a5f5e48e3a3f37f547"
   }
  }
 },
 "nbformat": 4,
 "nbformat_minor": 2
}
