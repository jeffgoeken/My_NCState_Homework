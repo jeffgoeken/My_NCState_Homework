{
 "cells": [
  {
   "cell_type": "markdown",
   "metadata": {},
   "source": [
    "# Workshop 9 [Student]\n",
    "\n",
    "This notebook will cover the following topics:\n",
    "\n",
    "1. Series\n",
    "    - Indexing\n",
    "    - Modification\n",
    "2. Dataframe\n",
    "    - Read CSV to Dataframe\n",
    "    - Informative Functions\n",
    "    - Modification Functions\n",
    "    - Selection Functions\n",
    "4. Handling Missing Data"
   ]
  },
  {
   "cell_type": "markdown",
   "metadata": {},
   "source": [
    "## 9.1 SERIES (Follow)\n",
    "\n",
    "**Learning Objectives:**\n",
    "\n",
    "1. Understand Series in Pandas.\n",
    "2. Understand attributes of Series.\n",
    "3. Understand modification functions for Series.\n",
    "4. Manipulate data using Series."
   ]
  },
  {
   "cell_type": "code",
   "execution_count": null,
   "metadata": {},
   "outputs": [],
   "source": [
    "\"\"\"\n",
    "Add comments for you own reference\n",
    "\"\"\"\n",
    "\n",
    "import pandas as pd\n",
    "s = pd.Series([40, 50, 60])\n",
    "s.index = ['A', 'B', 'C']\n",
    "s.name = 'Values'\n",
    "print(s, \"\\n\")\n",
    "print(s['B'], \"\\n\")\n",
    "print(s[1:], \"\\n\")\n",
    "print(s[-1], \"\\n\")\n"
   ]
  },
  {
   "cell_type": "code",
   "execution_count": null,
   "metadata": {},
   "outputs": [],
   "source": [
    "\"\"\"\n",
    "Add comments for you own reference\n",
    "\"\"\"\n",
    "\n",
    "s.update(pd.Series([10], index=['A']))\n",
    "print(s)\n",
    "s.rename({'A': 'X'}, inplace=True)\n",
    "print(s)\n",
    "s.replace(20, 15, inplace=True)\n",
    "print(s)\n"
   ]
  },
  {
   "cell_type": "markdown",
   "metadata": {},
   "source": [
    "**Evaluation:**\n",
    "\n",
    "After running this program, think about and answer these questions:\n",
    "\n",
    "1. What is the use of Index and Name?\n",
    "2. Try to understand how slicing works in Series.\n",
    "3. What does the update() function do?\n",
    "3. What does the rename() function do?\n",
    "3. What does the replace() function do?"
   ]
  },
  {
   "cell_type": "markdown",
   "metadata": {},
   "source": [
    "## 9.1 SERIES (Group)\n",
    "\n",
    "Write a program that will do the following:\n",
    "\n",
    "1. Generate a series of grades for 10 Students (referenced by student ID)\n",
    "2. Add a 10 point boost to all grades\n",
    "3. Change the student IDs to contain a prefix ST\n",
    "4. Replace all grades below 50 to 0"
   ]
  },
  {
   "cell_type": "code",
   "execution_count": null,
   "metadata": {},
   "outputs": [],
   "source": [
    "import pandas as pd\n",
    "import random\n",
    "\n",
    "\n",
    "class Students:\n",
    "    def __init__(self):\n",
    "        self.grades = []\n",
    "        self.StudentIDs = []\n",
    "        self.df = None\n",
    "\n",
    "    def setRandomGrades(self):\n",
    "        for i in range(10):\n",
    "            self.grades.append(random.randint(20, 100))\n",
    "\n",
    "    def setStudentIDs(self):\n",
    "        for i in range(1001, 1011):\n",
    "            self.StudentIDs.append(i)\n",
    "\n",
    "    def BuildDataFrame(self):\n",
    "        self.df = pd.DataFrame(\n",
    "            {'StudentID': self.StudentIDs, 'Grades': self.grades})\n",
    "        # print(self.df)\n",
    "\n",
    "    def AddTentoGrades(self):\n",
    "        self.df['Grades'] += 10\n",
    "        # print(self.df)\n",
    "\n",
    "    def prependST(self):\n",
    "        newlist = []\n",
    "        for i in self.StudentIDs:\n",
    "            newlist.append(str(f'ST{i}'))\n",
    "        self.StudentIDs = newlist\n",
    "        self.df.update({'StudentID': self.StudentIDs, 'Grades': self.grades})\n",
    "\n",
    "    def findLT50(self):\n",
    "        Failed = self.df['Grades'] < 50\n",
    "        self.df.loc[Failed, 'Grades'] = 0\n",
    "\n",
    "    def __str__(self):\n",
    "        return f'{self.df}'\n"
   ]
  },
  {
   "cell_type": "code",
   "execution_count": null,
   "metadata": {},
   "outputs": [],
   "source": [
    "myClass = Students()\n",
    "myClass.setRandomGrades()\n",
    "myClass.setStudentIDs()\n",
    "myClass.BuildDataFrame()\n",
    "myClass.AddTentoGrades()\n",
    "myClass.prependST()\n",
    "print(myClass)\n",
    "myClass.findLT50()\n",
    "print(myClass)\n"
   ]
  },
  {
   "cell_type": "markdown",
   "metadata": {},
   "source": [
    "## 9.2 DATAFRAME (Follow)\n",
    "\n",
    "**Learning Objectives:**\n",
    "\n",
    "1. Understand Dataframe in Pandas.\n",
    "2. Understand attributes of a Dataframe."
   ]
  },
  {
   "cell_type": "code",
   "execution_count": null,
   "metadata": {},
   "outputs": [],
   "source": [
    "\"\"\"\n",
    "Add comments for you own reference\n",
    "\"\"\"\n",
    "\n",
    "import pandas as pd\n",
    "\n",
    "df = pd.DataFrame([10, 20, 30])\n",
    "print(df)\n",
    "print(type(df))\n",
    "\n",
    "df = pd.DataFrame({'Name': ['A', 'B', 'C'], 'Age': [10, 20, 30]})\n",
    "print(df)\n",
    "print(type(df['Age'][0]))\n"
   ]
  },
  {
   "cell_type": "code",
   "execution_count": null,
   "metadata": {},
   "outputs": [],
   "source": [
    "\"\"\"\n",
    "Add comments for you own reference\n",
    "\"\"\"\n",
    "\n",
    "import pandas as pd\n",
    "import numpy as np\n",
    "\n",
    "df = pd.DataFrame(\n",
    "    {\n",
    "        \"A\": 1.0,\n",
    "        \"B\": pd.Timestamp(\"20220102\"),\n",
    "        \"C\": pd.Series(1, index=list(range(4)), dtype=\"float32\"),\n",
    "        \"D\": np.array([3] * 4, dtype=\"int32\"),\n",
    "        \"E\": pd.Categorical([\"test\", \"train\", \"test\", \"train\"]),\n",
    "        \"F\": \"foo\"\n",
    "    })\n",
    "print(df)\n",
    "print(type(df['E'][0]))\n"
   ]
  },
  {
   "cell_type": "markdown",
   "metadata": {},
   "source": [
    "**Evaluation:**\n",
    "\n",
    "After running this program, think about and answer these questions:\n",
    "\n",
    "1. How many dimentions does a dataframe have?\n",
    "2. How to Convert List into Dataframe?\n",
    "3. What types of data can a dataframe hold?\n",
    "4. How does Dataframe index its elements?"
   ]
  },
  {
   "cell_type": "markdown",
   "metadata": {},
   "source": [
    "## 9.2 DATAFRAME (Group)\n",
    "\n",
    "**Write a program that will do the following:**\n",
    "\n",
    "1. Create a dataframe with employees, job title, salary, and years worked.\n",
    "2. There should be at least 5 entries.\n",
    "3. Add indexes to the rows so when you print the dataframe it will display properly.\n",
    "4. Try exploring the pandas library writing commands from the library.\n",
    "5. You may be asked to share things you did."
   ]
  },
  {
   "cell_type": "code",
   "execution_count": null,
   "metadata": {},
   "outputs": [],
   "source": [
    "import pandas as pd\n",
    "import random\n",
    "\n",
    "\n",
    "class Employees:\n",
    "    def __init__(self):\n",
    "        self.EmployeeName = []\n",
    "        self.EmployeeIDs = []\n",
    "        self.JobTitle = []\n",
    "        self.Salary = []\n",
    "        self.yearsworked = []\n",
    "        self.EmployeeIDs = []\n",
    "        self.df = None\n",
    "\n",
    "    def addEmployee(self, EID, name, JobTitle, Salary, YearsWorked):\n",
    "        self.EmployeeIDs.append(EID)\n",
    "        self.EmployeeName.append(name)\n",
    "        self.JobTitle.append(JobTitle)\n",
    "        self.Salary.append(Salary)\n",
    "        self.yearsworked.append(YearsWorked)\n",
    "\n",
    "    def setRandom(self, start, stop):\n",
    "        return random.randint(int(start), int(stop))\n",
    "\n",
    "    def BuildDF(self):\n",
    "        self.df = pd.DataFrame({\n",
    "                'Name': self.EmployeeName,\n",
    "                'Job Title': self.JobTitle,\n",
    "                'Salary': self.Salary,\n",
    "                'Years Worked': self.yearsworked},\n",
    "            index=self.EmployeeIDs)\n",
    "        print(self.df)\n",
    "\n",
    "    def __str__(self):\n",
    "        return f'{self.df}'\n"
   ]
  },
  {
   "cell_type": "code",
   "execution_count": null,
   "metadata": {},
   "outputs": [],
   "source": [
    "MyEmployee = Employees()\n",
    "MyEmployee.addEmployee(1000, 'Jeff', 'El Jefe', '10000000', 1)\n",
    "MyEmployee.addEmployee(1002, 'Lori', 'My Wife', 0, MyEmployee.setRandom(1, 18))\n",
    "MyEmployee.addEmployee(1003, 'Ryan', 'My Son', 'Owes me!', 25)\n",
    "MyEmployee.addEmployee(1004, 'Rufus', 'My Dog', 0, 3)\n",
    "MyEmployee.addEmployee(1005, 'Smokey', 'My Cat', 0, 18)\n",
    "\n",
    "MyEmployee.BuildDF()\n"
   ]
  },
  {
   "cell_type": "markdown",
   "metadata": {},
   "source": [
    "## 9.3 READING a CSV (Follow)\n",
    "1. Learn to import CSV in dataframe.\n",
    "2. Understand Descriptive functions for Dataframe.\n",
    "3. Understand Modification functions for Dataframe.\n",
    "4. Understand Selection functions for Dataframe.\n",
    "5. Manipulate data using Dataframe."
   ]
  },
  {
   "cell_type": "code",
   "execution_count": 26,
   "metadata": {},
   "outputs": [
    {
     "name": "stdout",
     "output_type": "stream",
     "text": [
      "      Id  SepalLengthCm  SepalWidthCm  PetalLengthCm  PetalWidthCm  \\\n",
      "0      1            5.1           3.5            1.4           0.2   \n",
      "1      2            4.9           3.0            1.4           0.2   \n",
      "2      3            4.7           3.2            1.3           0.2   \n",
      "3      4            4.6           3.1            1.5           0.2   \n",
      "4      5            5.0           3.6            1.4           0.2   \n",
      "..   ...            ...           ...            ...           ...   \n",
      "145  146            6.7           3.0            5.2           2.3   \n",
      "146  147            6.3           2.5            5.0           1.9   \n",
      "147  148            6.5           3.0            5.2           2.0   \n",
      "148  149            6.2           3.4            5.4           2.3   \n",
      "149  150            5.9           3.0            5.1           1.8   \n",
      "\n",
      "            Species  \n",
      "0       Iris-setosa  \n",
      "1       Iris-setosa  \n",
      "2       Iris-setosa  \n",
      "3       Iris-setosa  \n",
      "4       Iris-setosa  \n",
      "..              ...  \n",
      "145  Iris-virginica  \n",
      "146  Iris-virginica  \n",
      "147  Iris-virginica  \n",
      "148  Iris-virginica  \n",
      "149  Iris-virginica  \n",
      "\n",
      "[150 rows x 6 columns]\n"
     ]
    }
   ],
   "source": [
    "\"\"\"\n",
    "Add comments for you own reference\n",
    "\"\"\"\n",
    "\n",
    "import pandas as pd\n",
    "\n",
    "df = pd.read_csv(\"Iris.csv\")\n",
    "print(df)\n"
   ]
  },
  {
   "cell_type": "code",
   "execution_count": null,
   "metadata": {},
   "outputs": [],
   "source": [
    "print(df.shape)\n"
   ]
  },
  {
   "cell_type": "code",
   "execution_count": null,
   "metadata": {},
   "outputs": [],
   "source": [
    "print(df.head())\n"
   ]
  },
  {
   "cell_type": "code",
   "execution_count": null,
   "metadata": {},
   "outputs": [],
   "source": [
    "print(df.tail())\n"
   ]
  },
  {
   "cell_type": "code",
   "execution_count": null,
   "metadata": {},
   "outputs": [],
   "source": [
    "print(df.describe())\n"
   ]
  },
  {
   "cell_type": "code",
   "execution_count": null,
   "metadata": {},
   "outputs": [],
   "source": [
    "\"\"\"\n",
    "Add comments for you own reference\n",
    "\"\"\"\n",
    "\n",
    "print(df.shape)\n",
    "dt = df.transpose()\n",
    "print(dt.shape)\n",
    "print(dt.head())\n"
   ]
  },
  {
   "cell_type": "code",
   "execution_count": 28,
   "metadata": {},
   "outputs": [
    {
     "name": "stdout",
     "output_type": "stream",
     "text": [
      "       Species  SepalWidthCm  SepalLengthCm  PetalWidthCm  PetalLengthCm  Id\n",
      "0  Iris-setosa           3.5            5.1           0.2            1.4   1\n",
      "1  Iris-setosa           3.0            4.9           0.2            1.4   2\n",
      "2  Iris-setosa           3.2            4.7           0.2            1.3   3\n",
      "3  Iris-setosa           3.1            4.6           0.2            1.5   4\n",
      "4  Iris-setosa           3.6            5.0           0.2            1.4   5\n",
      "            Species  SepalWidthCm  SepalLengthCm  PetalWidthCm  PetalLengthCm  \\\n",
      "145  Iris-virginica           3.0            6.7           2.3            5.2   \n",
      "146  Iris-virginica           2.5            6.3           1.9            5.0   \n",
      "147  Iris-virginica           3.0            6.5           2.0            5.2   \n",
      "148  Iris-virginica           3.4            6.2           2.3            5.4   \n",
      "149  Iris-virginica           3.0            5.9           1.8            5.1   \n",
      "\n",
      "      Id  \n",
      "145  146  \n",
      "146  147  \n",
      "147  148  \n",
      "148  149  \n",
      "149  150  \n"
     ]
    }
   ],
   "source": [
    "di = df.sort_index(axis=1, ascending=False)\n",
    "print(di.head())\n",
    "print(di.tail())\n"
   ]
  },
  {
   "cell_type": "code",
   "execution_count": 29,
   "metadata": {},
   "outputs": [
    {
     "name": "stdout",
     "output_type": "stream",
     "text": [
      "      Id  SepalLengthCm  SepalWidthCm  PetalLengthCm  PetalWidthCm  \\\n",
      "60    61            5.0           2.0            3.5           1.0   \n",
      "62    63            6.0           2.2            4.0           1.0   \n",
      "119  120            6.0           2.2            5.0           1.5   \n",
      "68    69            6.2           2.2            4.5           1.5   \n",
      "41    42            4.5           2.3            1.3           0.3   \n",
      "\n",
      "             Species  \n",
      "60   Iris-versicolor  \n",
      "62   Iris-versicolor  \n",
      "119   Iris-virginica  \n",
      "68   Iris-versicolor  \n",
      "41       Iris-setosa  \n",
      "    Id  SepalLengthCm  SepalWidthCm  PetalLengthCm  PetalWidthCm      Species\n",
      "16  17            5.4           3.9            1.3           0.4  Iris-setosa\n",
      "14  15            5.8           4.0            1.2           0.2  Iris-setosa\n",
      "32  33            5.2           4.1            1.5           0.1  Iris-setosa\n",
      "33  34            5.5           4.2            1.4           0.2  Iris-setosa\n",
      "15  16            5.7           4.4            1.5           0.4  Iris-setosa\n"
     ]
    }
   ],
   "source": [
    "di = df.sort_values(by=\"SepalWidthCm\")\n",
    "print(di.head())\n",
    "print(di.tail())\n"
   ]
  },
  {
   "cell_type": "markdown",
   "metadata": {},
   "source": [
    "**Evaluation:**\n",
    "\n",
    "After running this program, think about and answer these questions:\n",
    "\n",
    "1. What does head() function do?\n",
    "2. What does tail() function do?\n",
    "3. What information does describe() give?\n",
    "4. What does transpose() function do?\n",
    "5. What is the difference between sort_index and sort_values?"
   ]
  },
  {
   "cell_type": "markdown",
   "metadata": {},
   "source": [
    "## 9.3 READING a CSV (Group)\n",
    "\n",
    "Write a program that will do the following:\n",
    "\n",
    "1. Use 'heart.csv' Data set.\n",
    "2. Perform all the above operations on the data set to understand the data"
   ]
  },
  {
   "cell_type": "code",
   "execution_count": 20,
   "metadata": {},
   "outputs": [],
   "source": [
    "import pandas as pd\n",
    "\n",
    "class ReadingACSV():\n",
    "    def __init__(self,Filename):\n",
    "        self.df  = pd.read_csv(Filename)\n",
    "\n",
    "    def getShape(self):\n",
    "        print(self.df.shape)\n",
    "\n",
    "    def getHead(self):\n",
    "        print(self.df.head())\n",
    "\n",
    "    def getTail(self):\n",
    "        print(self.df.tail())\n",
    "\n",
    "    def getDescription(self):\n",
    "        print(self.df.describe())\n",
    "\n",
    "    def TransposeDemo(self):\n",
    "        print(self.df.shape)\n",
    "        dt = self.df.transpose()\n",
    "        print(dt.shape)\n",
    "        print(dt.head())\n",
    "\n",
    "    def SortDemo(self,Axis,Ascending):\n",
    "        di = self.df.sort_index(axis=Axis, ascending=Ascending)\n",
    "        print(di.head())\n",
    "        print(di.tail())\n",
    "\n",
    "\n",
    "myCSV = ReadingACSV('heart.csv')"
   ]
  },
  {
   "cell_type": "code",
   "execution_count": 18,
   "metadata": {},
   "outputs": [
    {
     "name": "stdout",
     "output_type": "stream",
     "text": [
      "(1025, 14)\n",
      "(1025, 14)\n",
      "(14, 1025)\n",
      "           0      1      2      3      4      5      6      7      8     \\\n",
      "age        52.0   53.0   70.0   61.0   62.0   58.0   58.0   55.0   46.0   \n",
      "sex         1.0    1.0    1.0    1.0    0.0    0.0    1.0    1.0    1.0   \n",
      "cp          0.0    0.0    0.0    0.0    0.0    0.0    0.0    0.0    0.0   \n",
      "trestbps  125.0  140.0  145.0  148.0  138.0  100.0  114.0  160.0  120.0   \n",
      "chol      212.0  203.0  174.0  203.0  294.0  248.0  318.0  289.0  249.0   \n",
      "\n",
      "           9     ...   1015   1016   1017   1018   1019   1020   1021   1022  \\\n",
      "age        54.0  ...   58.0   65.0   53.0   41.0   47.0   59.0   60.0   47.0   \n",
      "sex         1.0  ...    1.0    1.0    1.0    1.0    1.0    1.0    1.0    1.0   \n",
      "cp          0.0  ...    0.0    3.0    0.0    0.0    0.0    1.0    0.0    0.0   \n",
      "trestbps  122.0  ...  128.0  138.0  123.0  110.0  112.0  140.0  125.0  110.0   \n",
      "chol      286.0  ...  216.0  282.0  282.0  172.0  204.0  221.0  258.0  275.0   \n",
      "\n",
      "           1023   1024  \n",
      "age        50.0   54.0  \n",
      "sex         0.0    1.0  \n",
      "cp          0.0    0.0  \n",
      "trestbps  110.0  120.0  \n",
      "chol      254.0  188.0  \n",
      "\n",
      "[5 rows x 1025 columns]\n"
     ]
    }
   ],
   "source": [
    "myCSV.getShape()"
   ]
  },
  {
   "cell_type": "code",
   "execution_count": null,
   "metadata": {},
   "outputs": [],
   "source": [
    "myCSV.TransposeDemo()"
   ]
  },
  {
   "cell_type": "code",
   "execution_count": 30,
   "metadata": {},
   "outputs": [
    {
     "name": "stdout",
     "output_type": "stream",
     "text": [
      "   age  sex  cp  trestbps  chol  fbs  restecg  thalach  exang  oldpeak  slope  \\\n",
      "0   52    1   0       125   212    0        1      168      0      1.0      2   \n",
      "1   53    1   0       140   203    1        0      155      1      3.1      0   \n",
      "2   70    1   0       145   174    0        1      125      1      2.6      0   \n",
      "3   61    1   0       148   203    0        1      161      0      0.0      2   \n",
      "4   62    0   0       138   294    1        1      106      0      1.9      1   \n",
      "\n",
      "   ca  thal  target  \n",
      "0   2     3       0  \n",
      "1   0     3       0  \n",
      "2   0     3       0  \n",
      "3   1     3       0  \n",
      "4   3     2       0  \n"
     ]
    }
   ],
   "source": [
    "myCSV.getHead()"
   ]
  },
  {
   "cell_type": "code",
   "execution_count": null,
   "metadata": {},
   "outputs": [],
   "source": [
    "myCSV.getDescription()"
   ]
  },
  {
   "cell_type": "code",
   "execution_count": 31,
   "metadata": {},
   "outputs": [
    {
     "name": "stdout",
     "output_type": "stream",
     "text": [
      "   age  sex  cp  trestbps  chol  fbs  restecg  thalach  exang  oldpeak  slope  \\\n",
      "0   52    1   0       125   212    0        1      168      0      1.0      2   \n",
      "1   53    1   0       140   203    1        0      155      1      3.1      0   \n",
      "2   70    1   0       145   174    0        1      125      1      2.6      0   \n",
      "3   61    1   0       148   203    0        1      161      0      0.0      2   \n",
      "4   62    0   0       138   294    1        1      106      0      1.9      1   \n",
      "\n",
      "   ca  thal  target  \n",
      "0   2     3       0  \n",
      "1   0     3       0  \n",
      "2   0     3       0  \n",
      "3   1     3       0  \n",
      "4   3     2       0  \n",
      "      age  sex  cp  trestbps  chol  fbs  restecg  thalach  exang  oldpeak  \\\n",
      "1020   59    1   1       140   221    0        1      164      1      0.0   \n",
      "1021   60    1   0       125   258    0        0      141      1      2.8   \n",
      "1022   47    1   0       110   275    0        0      118      1      1.0   \n",
      "1023   50    0   0       110   254    0        0      159      0      0.0   \n",
      "1024   54    1   0       120   188    0        1      113      0      1.4   \n",
      "\n",
      "      slope  ca  thal  target  \n",
      "1020      2   0     2       1  \n",
      "1021      1   1     3       0  \n",
      "1022      1   1     2       0  \n",
      "1023      2   0     2       1  \n",
      "1024      1   1     3       0  \n"
     ]
    }
   ],
   "source": [
    "myCSV.SortDemo(0,True)"
   ]
  },
  {
   "cell_type": "markdown",
   "metadata": {},
   "source": [
    "## 9.4 Location functions in Pandas (Follow)\n",
    "1. Understand how to use loc and iloc in pandas.\n",
    "2. Understand what loc and iloc do in a dataframe."
   ]
  },
  {
   "cell_type": "code",
   "execution_count": 32,
   "metadata": {},
   "outputs": [
    {
     "name": "stdout",
     "output_type": "stream",
     "text": [
      "Id                            71\n",
      "SepalLengthCm                5.9\n",
      "SepalWidthCm                 3.2\n",
      "PetalLengthCm                4.8\n",
      "PetalWidthCm                 1.8\n",
      "Species          Iris-versicolor\n",
      "Name: 70, dtype: object\n"
     ]
    }
   ],
   "source": [
    "\"\"\"\n",
    "Add comments for you own reference\n",
    "\"\"\"\n",
    "import pandas as pd\n",
    "\n",
    "df = pd.read_csv(\"Iris.csv\")\n",
    "\n",
    "ds = df.loc[70]\n",
    "print(ds)\n"
   ]
  },
  {
   "cell_type": "code",
   "execution_count": 46,
   "metadata": {},
   "outputs": [
    {
     "name": "stdout",
     "output_type": "stream",
     "text": [
      "Id                         1\n",
      "SepalLengthCm            5.1\n",
      "SepalWidthCm             3.5\n",
      "PetalLengthCm            1.4\n",
      "PetalWidthCm             0.2\n",
      "Species          Iris-setosa\n",
      "Name: 0, dtype: object\n"
     ]
    }
   ],
   "source": [
    "ds = df.iloc[0]\n",
    "print(ds)\n"
   ]
  },
  {
   "cell_type": "code",
   "execution_count": 35,
   "metadata": {},
   "outputs": [
    {
     "name": "stdout",
     "output_type": "stream",
     "text": [
      "3.2\n"
     ]
    }
   ],
   "source": [
    "ds = df.at[70, 'SepalWidthCm']\n",
    "print(ds)\n"
   ]
  },
  {
   "cell_type": "code",
   "execution_count": 36,
   "metadata": {},
   "outputs": [
    {
     "name": "stdout",
     "output_type": "stream",
     "text": [
      "3.2\n"
     ]
    }
   ],
   "source": [
    "ds = df.iat[70, 2]\n",
    "print(ds)\n"
   ]
  },
  {
   "cell_type": "code",
   "execution_count": null,
   "metadata": {},
   "outputs": [],
   "source": [
    "ds = df[df['SepalLengthCm'] > 7]\n",
    "print(ds.head())\n"
   ]
  },
  {
   "cell_type": "code",
   "execution_count": 57,
   "metadata": {},
   "outputs": [
    {
     "name": "stdout",
     "output_type": "stream",
     "text": [
      "15\n"
     ]
    }
   ],
   "source": [
    "ds = df[df['SepalLengthCm'].isin([5, 6, 7])]\n",
    "print(ds.head())\n"
   ]
  },
  {
   "cell_type": "code",
   "execution_count": 53,
   "metadata": {},
   "outputs": [
    {
     "name": "stdout",
     "output_type": "stream",
     "text": [
      "Id               149.0\n",
      "SepalLengthCm      3.6\n",
      "SepalWidthCm       2.4\n",
      "PetalLengthCm      5.9\n",
      "PetalWidthCm       2.4\n",
      "dtype: float64\n"
     ]
    }
   ],
   "source": [
    "da = df.iloc[:, :-1].apply(lambda x: x.max()-x.min())\n",
    "print(da)\n"
   ]
  },
  {
   "attachments": {},
   "cell_type": "markdown",
   "metadata": {},
   "source": [
    "**Evaluation:**\n",
    "\n",
    "After running this program, think about and answer these questions:\n",
    "\n",
    "1. What does loc() and at() do?loc and at uses Row, column names to find data\n",
    "2. What does iloc() and it() do?Iloc and Iat uses numerical indexes to find data\n",
    "3. What is the difference between all selection functions?"
   ]
  },
  {
   "cell_type": "markdown",
   "metadata": {},
   "source": [
    "## 9.4 Location functions in Pandas (Group)\n",
    "\n",
    "Write a program that will do the following:\n",
    "\n",
    "1. Use Heart.csv Data set.\n",
    "2. Print the column names and number of rows in data\n",
    "2. Get a row number from the user.\n",
    "3. Get a column name from the user.\n",
    "4. Print:\n",
    "    - Row.\n",
    "    - Column.\n",
    "    - Row X Column"
   ]
  },
  {
   "cell_type": "code",
   "execution_count": null,
   "metadata": {},
   "outputs": [],
   "source": [
    "import pandas as pd\n",
    "\n",
    "class ReadingACSV():\n",
    "    def __init__(self,Filename):\n",
    "        self.df  = pd.read_csv(Filename)\n",
    "\n"
   ]
  },
  {
   "cell_type": "code",
   "execution_count": 52,
   "metadata": {},
   "outputs": [
    {
     "name": "stdout",
     "output_type": "stream",
     "text": [
      "age          52.0\n",
      "sex           1.0\n",
      "cp            0.0\n",
      "trestbps    125.0\n",
      "chol        212.0\n",
      "fbs           0.0\n",
      "restecg       1.0\n",
      "thalach     168.0\n",
      "exang         0.0\n",
      "oldpeak       1.0\n",
      "slope         2.0\n",
      "ca            2.0\n",
      "thal          3.0\n",
      "target        0.0\n",
      "Name: 0, dtype: float64\n"
     ]
    }
   ],
   "source": [
    "ds =myCSV.df.loc[0]\n",
    "print(ds)"
   ]
  },
  {
   "cell_type": "markdown",
   "metadata": {},
   "source": [
    "## 9.5 MISSING DATA (Follow)\n",
    "\n",
    "**Learning Objectives:**\n",
    "\n",
    "1. Understand the concept of Missing Data.\n",
    "2. Learn to point out missing data.\n",
    "3. Understand how to deal with missing data.\n",
    "4. Learn different functions to deal with missing data."
   ]
  },
  {
   "cell_type": "code",
   "execution_count": null,
   "metadata": {},
   "outputs": [],
   "source": [
    "\"\"\"\n",
    "Add comments for you own reference\n",
    "\"\"\"\n",
    "\n",
    "import pandas as pd\n",
    "\n",
    "df = pd.read_csv(\"mamograph.csv\", na_values='NaN')\n",
    "print(df.head())\n"
   ]
  },
  {
   "cell_type": "code",
   "execution_count": null,
   "metadata": {},
   "outputs": [],
   "source": [
    "dn = df.copy()\n",
    "print(dn.shape)\n",
    "dx = dn.dropna()\n",
    "print(dx.shape)\n",
    "print(dx.head())\n"
   ]
  },
  {
   "cell_type": "code",
   "execution_count": null,
   "metadata": {},
   "outputs": [],
   "source": [
    "dn2 = df.copy()\n",
    "print(dn2.shape)\n",
    "dx2 = dn2.fillna(3.0)\n",
    "print(dx2.shape)\n",
    "print(dx2.head())\n"
   ]
  },
  {
   "cell_type": "code",
   "execution_count": null,
   "metadata": {},
   "outputs": [],
   "source": [
    "print(pd.isna(df).head())\n"
   ]
  },
  {
   "cell_type": "markdown",
   "metadata": {},
   "source": [
    "**Evaluation:**\n",
    "\n",
    "After running this program, think about and answer these questions:\n",
    "\n",
    "1. What does dropna() function do?\n",
    "1. What does fillna() function do?\n",
    "1. What does isna() function return?"
   ]
  },
  {
   "cell_type": "markdown",
   "metadata": {},
   "source": [
    "## 9.5 MISSING DATA (Group)\n",
    "\n",
    "Write a program that will do the following:\n",
    "\n",
    "1. Use 'marketing.csv'\n",
    "2. Perform these tasks seperately\n",
    "    - Drop all rows with NaN\n",
    "    - Replace NaN values in marketing.csv column with mean of each column."
   ]
  },
  {
   "cell_type": "code",
   "execution_count": null,
   "metadata": {},
   "outputs": [],
   "source": []
  },
  {
   "cell_type": "code",
   "execution_count": null,
   "metadata": {},
   "outputs": [],
   "source": []
  },
  {
   "cell_type": "code",
   "execution_count": null,
   "metadata": {},
   "outputs": [],
   "source": []
  },
  {
   "cell_type": "markdown",
   "metadata": {},
   "source": [
    "## 9.6 Pandas project (Group)\n",
    "\n",
    "**Write a program that will do the following:**\n",
    "1. Read in the teamsummaries.csv dataset included.  \n",
    "2. Do some basic statistical analysis.  \n",
    "3. Try to create an argument to determine the best NBA team of all time.  \n",
    "4. You may also use a different dataset and do a different analysis. \n",
    "5. Use the pandas library in your project."
   ]
  },
  {
   "cell_type": "code",
   "execution_count": null,
   "metadata": {},
   "outputs": [],
   "source": []
  },
  {
   "cell_type": "code",
   "execution_count": null,
   "metadata": {},
   "outputs": [],
   "source": []
  }
 ],
 "metadata": {
  "kernelspec": {
   "display_name": "Python 3",
   "language": "python",
   "name": "python3"
  },
  "language_info": {
   "codemirror_mode": {
    "name": "ipython",
    "version": 3
   },
   "file_extension": ".py",
   "mimetype": "text/x-python",
   "name": "python",
   "nbconvert_exporter": "python",
   "pygments_lexer": "ipython3",
   "version": "3.7.7"
  },
  "vscode": {
   "interpreter": {
    "hash": "5109d816b82be14675a6b11f8e0f0d2e80f029176ed3710d54e125caa8520dfd"
   }
  }
 },
 "nbformat": 4,
 "nbformat_minor": 2
}
