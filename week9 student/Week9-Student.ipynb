{
 "cells": [
  {
   "cell_type": "markdown",
   "metadata": {},
   "source": [
    "# Workshop 9 [Student]\n",
    "\n",
    "This notebook will cover the following topics:\n",
    "\n",
    "1. Series\n",
    "    - Indexing\n",
    "    - Modification\n",
    "2. Dataframe\n",
    "    - Read CSV to Dataframe\n",
    "    - Informative Functions\n",
    "    - Modification Functions\n",
    "    - Selection Functions\n",
    "4. Handling Missing Data"
   ]
  },
  {
   "cell_type": "markdown",
   "metadata": {},
   "source": [
    "## 9.1 SERIES (Follow)\n",
    "\n",
    "**Learning Objectives:**\n",
    "\n",
    "1. Understand Series in Pandas.\n",
    "2. Understand attributes of Series.\n",
    "3. Understand modification functions for Series.\n",
    "4. Manipulate data using Series."
   ]
  },
  {
   "cell_type": "code",
   "execution_count": null,
   "metadata": {},
   "outputs": [],
   "source": [
    "\"\"\"\n",
    "Add comments for you own reference\n",
    "\"\"\"\n",
    "\n",
    "import pandas as pd\n",
    "s = pd.Series([40, 50, 60])\n",
    "s.index = ['A','B','C']\n",
    "s.name = 'Values'\n",
    "print(s,\"\\n\")\n",
    "print(s['B'],\"\\n\")\n",
    "print(s[1:],\"\\n\")\n",
    "print(s[-1],\"\\n\")"
   ]
  },
  {
   "cell_type": "code",
   "execution_count": null,
   "metadata": {},
   "outputs": [],
   "source": [
    "\"\"\"\n",
    "Add comments for you own reference\n",
    "\"\"\"\n",
    "\n",
    "s.update(pd.Series([10], index=['A']))\n",
    "print(s)\n",
    "s.rename({'A': 'X'},inplace=True)\n",
    "print(s)\n",
    "s.replace(20,15,inplace=True)\n",
    "print(s)"
   ]
  },
  {
   "cell_type": "markdown",
   "metadata": {},
   "source": [
    "**Evaluation:**\n",
    "\n",
    "After running this program, think about and answer these questions:\n",
    "\n",
    "1. What is the use of Index and Name?\n",
    "2. Try to understand how slicing works in Series.\n",
    "3. What does the update() function do?\n",
    "3. What does the rename() function do?\n",
    "3. What does the replace() function do?"
   ]
  },
  {
   "cell_type": "markdown",
   "metadata": {},
   "source": [
    "## 9.1 SERIES (Group)\n",
    "\n",
    "Write a program that will do the following:\n",
    "\n",
    "1. Generate a series of grades for 10 Students (referenced by student ID)\n",
    "2. Add a 10 point boost to all grades\n",
    "3. Change the student IDs to contain a prefix ST\n",
    "4. Replace all grades below 50 to 0"
   ]
  },
  {
   "cell_type": "code",
   "execution_count": null,
   "metadata": {},
   "outputs": [],
   "source": [
    "\n"
   ]
  },
  {
   "cell_type": "markdown",
   "metadata": {},
   "source": [
    "## 9.2 DATAFRAME (Follow)\n",
    "\n",
    "**Learning Objectives:**\n",
    "\n",
    "1. Understand Dataframe in Pandas.\n",
    "2. Understand attributes of a Dataframe."
   ]
  },
  {
   "cell_type": "code",
   "execution_count": null,
   "metadata": {},
   "outputs": [],
   "source": [
    "\"\"\"\n",
    "Add comments for you own reference\n",
    "\"\"\"\n",
    "\n",
    "import pandas as pd\n",
    "\n",
    "df = pd.DataFrame([10,20,30])\n",
    "print(df)\n",
    "print(type(df))\n",
    "\n",
    "df = pd.DataFrame({'Name':['A','B','C'],'Age':[10,20,30]})\n",
    "print(df)\n",
    "print(type(df['Age'][0]))\n"
   ]
  },
  {
   "cell_type": "code",
   "execution_count": null,
   "metadata": {},
   "outputs": [],
   "source": [
    "\"\"\"\n",
    "Add comments for you own reference\n",
    "\"\"\"\n",
    "\n",
    "import pandas as pd\n",
    "import numpy as np\n",
    "\n",
    "df = pd.DataFrame(\n",
    "{\n",
    "        \"A\": 1.0,\n",
    "        \"B\": pd.Timestamp(\"20220102\"),\n",
    "        \"C\": pd.Series(1, index=list(range(4)), dtype=\"float32\"),\n",
    "        \"D\": np.array([3] * 4, dtype=\"int32\"),\n",
    "        \"E\": pd.Categorical([\"test\", \"train\", \"test\", \"train\"]),\n",
    "        \"F\": \"foo\"\n",
    " })\n",
    "print(df)\n",
    "print(type(df['E'][0]))"
   ]
  },
  {
   "cell_type": "markdown",
   "metadata": {},
   "source": [
    "**Evaluation:**\n",
    "\n",
    "After running this program, think about and answer these questions:\n",
    "\n",
    "1. How many dimentions does a dataframe have?\n",
    "2. How to Convert List into Dataframe?\n",
    "3. What types of data can a dataframe hold?\n",
    "4. How does Dataframe index its elements?"
   ]
  },
  {
   "cell_type": "markdown",
   "metadata": {},
   "source": [
    "## 9.2 DATAFRAME (Group)\n",
    "\n",
    "**Write a program that will do the following:**\n",
    "\n",
    "1. Create a dataframe with employees, job title, salary, and years worked.\n",
    "2. There should be at least 5 entries.\n",
    "3. Add indexes to the rows so when you print the dataframe it will display properly.\n",
    "4. Try exploring the pandas library writing commands from the library.\n",
    "5. You may be asked to share things you did."
   ]
  },
  {
   "cell_type": "code",
   "execution_count": null,
   "metadata": {},
   "outputs": [],
   "source": [
    "\n"
   ]
  },
  {
   "cell_type": "markdown",
   "metadata": {},
   "source": [
    "## 9.3 READING a CSV (Follow)\n",
    "1. Learn to import CSV in dataframe.\n",
    "2. Understand Descriptive functions for Dataframe.\n",
    "3. Understand Modification functions for Dataframe.\n",
    "4. Understand Selection functions for Dataframe.\n",
    "5. Manipulate data using Dataframe."
   ]
  },
  {
   "cell_type": "code",
   "execution_count": null,
   "metadata": {},
   "outputs": [],
   "source": [
    "\"\"\"\n",
    "Add comments for you own reference\n",
    "\"\"\"\n",
    "\n",
    "import pandas as pd\n",
    "\n",
    "df = pd.read_csv(\"Iris.csv\")\n",
    "print(df)"
   ]
  },
  {
   "cell_type": "code",
   "execution_count": null,
   "metadata": {},
   "outputs": [],
   "source": [
    "print(df.shape)"
   ]
  },
  {
   "cell_type": "code",
   "execution_count": null,
   "metadata": {},
   "outputs": [],
   "source": [
    "print(df.head())"
   ]
  },
  {
   "cell_type": "code",
   "execution_count": null,
   "metadata": {},
   "outputs": [],
   "source": [
    "print(df.tail())"
   ]
  },
  {
   "cell_type": "code",
   "execution_count": null,
   "metadata": {},
   "outputs": [],
   "source": [
    "print(df.describe())"
   ]
  },
  {
   "cell_type": "code",
   "execution_count": null,
   "metadata": {},
   "outputs": [],
   "source": [
    "\"\"\"\n",
    "Add comments for you own reference\n",
    "\"\"\"\n",
    "\n",
    "print(df.shape)\n",
    "dt = df.transpose()\n",
    "print(dt.shape)\n",
    "print(dt.head())"
   ]
  },
  {
   "cell_type": "code",
   "execution_count": null,
   "metadata": {},
   "outputs": [],
   "source": [
    "di = df.sort_index(axis=1, ascending=False)\n",
    "print(di.head())\n",
    "print(di.tail())"
   ]
  },
  {
   "cell_type": "code",
   "execution_count": null,
   "metadata": {},
   "outputs": [],
   "source": [
    "di = df.sort_values(by=\"SepalWidthCm\")\n",
    "print(di.head())\n",
    "print(di.tail())"
   ]
  },
  {
   "cell_type": "markdown",
   "metadata": {},
   "source": [
    "**Evaluation:**\n",
    "\n",
    "After running this program, think about and answer these questions:\n",
    "\n",
    "1. What does head() function do?\n",
    "2. What does tail() function do?\n",
    "3. What information does describe() give?\n",
    "4. What does transpose() function do?\n",
    "5. What is the difference between sort_index and sort_values?"
   ]
  },
  {
   "cell_type": "markdown",
   "metadata": {},
   "source": [
    "## 9.3 READING a CSV (Group)\n",
    "\n",
    "Write a program that will do the following:\n",
    "\n",
    "1. Use 'heart.csv' Data set.\n",
    "2. Perform all the above operations on the data set to understand the data"
   ]
  },
  {
   "cell_type": "code",
   "execution_count": null,
   "metadata": {},
   "outputs": [],
   "source": [
    "\n"
   ]
  },
  {
   "cell_type": "code",
   "execution_count": null,
   "metadata": {},
   "outputs": [],
   "source": [
    "\n"
   ]
  },
  {
   "cell_type": "code",
   "execution_count": null,
   "metadata": {},
   "outputs": [],
   "source": [
    "\n"
   ]
  },
  {
   "cell_type": "code",
   "execution_count": null,
   "metadata": {},
   "outputs": [],
   "source": [
    "\n"
   ]
  },
  {
   "cell_type": "markdown",
   "metadata": {},
   "source": [
    "## 9.4 Location functions in Pandas (Follow)\n",
    "1. Understand how to use loc and iloc in pandas.\n",
    "2. Understand what loc and iloc do in a dataframe."
   ]
  },
  {
   "cell_type": "code",
   "execution_count": null,
   "metadata": {},
   "outputs": [],
   "source": [
    "\"\"\"\n",
    "Add comments for you own reference\n",
    "\"\"\"\n",
    "import pandas as pd\n",
    "\n",
    "df = pd.read_csv(\"Iris.csv\")\n",
    "\n",
    "ds = df.loc[70]\n",
    "print(ds)"
   ]
  },
  {
   "cell_type": "code",
   "execution_count": null,
   "metadata": {},
   "outputs": [],
   "source": [
    "ds = df.iloc[70]\n",
    "print(ds)"
   ]
  },
  {
   "cell_type": "code",
   "execution_count": null,
   "metadata": {},
   "outputs": [],
   "source": [
    "ds = df.at[70,'SepalWidthCm']\n",
    "print(ds)"
   ]
  },
  {
   "cell_type": "code",
   "execution_count": null,
   "metadata": {},
   "outputs": [],
   "source": [
    "ds = df.iat[70,2]\n",
    "print(ds)"
   ]
  },
  {
   "cell_type": "code",
   "execution_count": null,
   "metadata": {},
   "outputs": [],
   "source": [
    "ds = df[df['SepalLengthCm']>7]\n",
    "print(ds.head())"
   ]
  },
  {
   "cell_type": "code",
   "execution_count": null,
   "metadata": {},
   "outputs": [],
   "source": [
    "ds = df[df['SepalLengthCm'].isin([5,6,7])]\n",
    "print(ds.head())"
   ]
  },
  {
   "cell_type": "code",
   "execution_count": null,
   "metadata": {},
   "outputs": [],
   "source": [
    "da = df.iloc[:,:-1].apply(lambda x: x.max()-x.min())\n",
    "print(da)"
   ]
  },
  {
   "cell_type": "markdown",
   "metadata": {},
   "source": [
    "**Evaluation:**\n",
    "\n",
    "After running this program, think about and answer these questions:\n",
    "\n",
    "1. What does loc() and at() do?\n",
    "2. What does iloc() and it() do?\n",
    "3. What is the difference between all selection functions?"
   ]
  },
  {
   "cell_type": "markdown",
   "metadata": {},
   "source": [
    "## 9.4 Location functions in Pandas (Group)\n",
    "\n",
    "Write a program that will do the following:\n",
    "\n",
    "1. Use Heart.csv Data set.\n",
    "2. Print the column names and number of rows in data\n",
    "2. Get a row number from the user.\n",
    "3. Get a column name from the user.\n",
    "4. Print:\n",
    "    - Row.\n",
    "    - Column.\n",
    "    - Row X Column"
   ]
  },
  {
   "cell_type": "code",
   "execution_count": null,
   "metadata": {},
   "outputs": [],
   "source": [
    "\n"
   ]
  },
  {
   "cell_type": "markdown",
   "metadata": {},
   "source": [
    "## 9.5 MISSING DATA (Follow)\n",
    "\n",
    "**Learning Objectives:**\n",
    "\n",
    "1. Understand the concept of Missing Data.\n",
    "2. Learn to point out missing data.\n",
    "3. Understand how to deal with missing data.\n",
    "4. Learn different functions to deal with missing data."
   ]
  },
  {
   "cell_type": "code",
   "execution_count": null,
   "metadata": {},
   "outputs": [],
   "source": [
    "\"\"\"\n",
    "Add comments for you own reference\n",
    "\"\"\"\n",
    "\n",
    "import pandas as pd\n",
    "\n",
    "df = pd.read_csv(\"mamograph.csv\",na_values='NaN')\n",
    "print(df.head())"
   ]
  },
  {
   "cell_type": "code",
   "execution_count": null,
   "metadata": {},
   "outputs": [],
   "source": [
    "dn = df.copy()\n",
    "print(dn.shape)\n",
    "dx = dn.dropna()\n",
    "print(dx.shape)\n",
    "print(dx.head())"
   ]
  },
  {
   "cell_type": "code",
   "execution_count": null,
   "metadata": {},
   "outputs": [],
   "source": [
    "dn2 = df.copy()\n",
    "print(dn2.shape)\n",
    "dx2 = dn2.fillna(3.0)\n",
    "print(dx2.shape)\n",
    "print(dx2.head())"
   ]
  },
  {
   "cell_type": "code",
   "execution_count": null,
   "metadata": {},
   "outputs": [],
   "source": [
    "print(pd.isna(df).head())"
   ]
  },
  {
   "cell_type": "markdown",
   "metadata": {},
   "source": [
    "**Evaluation:**\n",
    "\n",
    "After running this program, think about and answer these questions:\n",
    "\n",
    "1. What does dropna() function do?\n",
    "1. What does fillna() function do?\n",
    "1. What does isna() function return?"
   ]
  },
  {
   "cell_type": "markdown",
   "metadata": {},
   "source": [
    "## 9.5 MISSING DATA (Group)\n",
    "\n",
    "Write a program that will do the following:\n",
    "\n",
    "1. Use 'marketing.csv'\n",
    "2. Perform these tasks seperately\n",
    "    - Drop all rows with NaN\n",
    "    - Replace NaN values in marketing.csv column with mean of each column."
   ]
  },
  {
   "cell_type": "code",
   "execution_count": null,
   "metadata": {},
   "outputs": [],
   "source": [
    "\n"
   ]
  },
  {
   "cell_type": "code",
   "execution_count": null,
   "metadata": {},
   "outputs": [],
   "source": [
    "\n"
   ]
  },
  {
   "cell_type": "code",
   "execution_count": null,
   "metadata": {},
   "outputs": [],
   "source": [
    "\n"
   ]
  },
  {
   "cell_type": "markdown",
   "metadata": {},
   "source": [
    "## 9.6 Pandas project (Group)\n",
    "\n",
    "**Write a program that will do the following:**\n",
    "1. Read in the teamsummaries.csv dataset included.  \n",
    "2. Do some basic statistical analysis.  \n",
    "3. Try to create an argument to determine the best NBA team of all time.  \n",
    "4. You may also use a different dataset and do a different analysis. \n",
    "5. Use the pandas library in your project."
   ]
  },
  {
   "cell_type": "code",
   "execution_count": null,
   "metadata": {},
   "outputs": [],
   "source": []
  },
  {
   "cell_type": "code",
   "execution_count": null,
   "metadata": {},
   "outputs": [],
   "source": []
  }
 ],
 "metadata": {
  "kernelspec": {
   "display_name": "Python 3 (ipykernel)",
   "language": "python",
   "name": "python3"
  },
  "language_info": {
   "codemirror_mode": {
    "name": "ipython",
    "version": 3
   },
   "file_extension": ".py",
   "mimetype": "text/x-python",
   "name": "python",
   "nbconvert_exporter": "python",
   "pygments_lexer": "ipython3",
   "version": "3.9.12"
  }
 },
 "nbformat": 4,
 "nbformat_minor": 2
}
