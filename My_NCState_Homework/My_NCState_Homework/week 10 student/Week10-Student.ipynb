{
 "cells": [
  {
   "cell_type": "markdown",
   "metadata": {},
   "source": [
    "# Workshop 10 [Student]\n",
    "\n",
    "This notebook will cover the following topics:\n",
    "\n",
    "1. Basic statistics\n",
    "    - Central Tendancy\n",
    "    - Feature Scaling\n",
    "2. Visualization\n",
    "    - Plots\n",
    "3. Final project"
   ]
  },
  {
   "cell_type": "markdown",
   "metadata": {},
   "source": [
    "## 10.1 BASIC STATISTICS (Follow)\n",
    "\n",
    "**Learning Objectives**\n",
    "1. Understand mean, median, and mode and when to use each and what they mean\n",
    "2. Understand standard deviation\n",
    "3. Understand Z-Score\n",
    "4. Understand normalization"
   ]
  },
  {
   "cell_type": "code",
   "execution_count": null,
   "metadata": {},
   "outputs": [],
   "source": [
    "\"\"\"\n",
    "Add comments for you own reference\n",
    "\"\"\"\n",
    "\n",
    "import pandas as pd\n",
    "import numpy as np\n",
    "\n",
    "\n",
    "speed = pd.Series([99,86,87,88,111,86,103,87,94,78,77,85,86])\n",
    "print(speed)\n",
    "# print(speed.mean())\n",
    "print(speed.median())\n",
    "# print(speed.mode())\n",
    "# print(speed.std())\n",
    "# values, counts = np.unique(speed, return_counts=True)\n",
    "# print(values, '\\n', counts)\n",
    "\n",
    "velocity = pd.Series([99,86,87,88,111,86,103,87,94,78,77,85,86, 1000000])\n",
    "# print(velocity)\n",
    "# print(velocity.mean())\n",
    "# print(velocity.median())\n",
    "# print(velocity.mode())\n",
    "# print(velocity.std())\n",
    "\n",
    "postal_codes = pd.Series([52801, 52802, 52803, 52801, 78318, 90210, 77318, 27511, 27513, 27514, 49093, 49008])\n",
    "# print(postal_codes)\n",
    "# print(postal_codes.mean())\n",
    "# print(postal_codes.median())\n",
    "# print(postal_codes.mode())\n",
    "# print(postal_codes.std())\n"
   ]
  },
  {
   "cell_type": "code",
   "execution_count": null,
   "metadata": {},
   "outputs": [],
   "source": [
    "\"\"\"\n",
    "Add comments for you own reference\n",
    "\"\"\"\n",
    "\n",
    "def standardize(X, mean, std):\n",
    "    standardized_val = (X-mean)/std\n",
    "    return standardized_val\n",
    "\n",
    "def normalize(X, X_max, X_min):\n",
    "    normalized_value = (X-X_min)/(X_max-X_min)\n",
    "    return normalized_value\n"
   ]
  },
  {
   "cell_type": "code",
   "execution_count": null,
   "metadata": {},
   "outputs": [],
   "source": [
    "\"\"\"\n",
    "Add comments for you own reference\n",
    "\"\"\"\n",
    "\n",
    "for item in speed:\n",
    "    print(standardize(item, speed.mean(), speed.std()))\n",
    "    print(normalize(item, speed.max(), speed.min()))\n",
    "print('**************************************')\n",
    "for item in velocity:\n",
    "    print(standardize(item, velocity.mean(), velocity.std()))\n",
    "    print(normalize(item, velocity.max(), velocity.min())) "
   ]
  },
  {
   "cell_type": "markdown",
   "metadata": {},
   "source": [
    "**Evaluation:**\n",
    "\n",
    "After running this program, think about and answer these questions:\n",
    "\n",
    "1. How is Z_score Calculated?\n",
    "2. How is Data Normalized?\n",
    "3. What is the use of Standardization and Normalization?"
   ]
  },
  {
   "cell_type": "markdown",
   "metadata": {},
   "source": [
    "## 10.1 BASIC STATISTICS (Group)\n",
    "\n",
    "Write a program that will do the following:\n",
    "\n",
    "1. Use the Iris dataset.\n",
    "2. Calculate mean, median, mode of each column(Except Target class)\n",
    "3. Standardize and Normalize each column."
   ]
  },
  {
   "cell_type": "code",
   "execution_count": null,
   "metadata": {},
   "outputs": [],
   "source": [
    "import pandas as pd\n",
    "\n",
    "class BasicStats():\n",
    "    def __init__(self,Filename):\n",
    "        \n",
    "        self.filename = Filename\n",
    "        self.df = pd.read_csv(self.filename)\n",
    "\n",
    "\n",
    "    def displayStats(self):\n",
    "        display(self.df.mean())\n",
    "        display(self.df.mode())\n",
    "        display(self.df.median())\n",
    "\n",
    "    def standardize(self):\n",
    "        standardized_val = (self.df-self.df.mean())/self.df.std()\n",
    "        display( standardized_val)\n",
    "    \n",
    "    def normalize(self):\n",
    "        normalized_value = (self.df-self.df.min())/(self.df.max()-self.df.min())\n",
    "        print( normalized_value)"
   ]
  },
  {
   "cell_type": "code",
   "execution_count": null,
   "metadata": {},
   "outputs": [],
   "source": []
  },
  {
   "cell_type": "code",
   "execution_count": null,
   "metadata": {},
   "outputs": [],
   "source": [
    "myStats = BasicStats('Iris.csv')\n",
    "#myStats.displayStats()\n",
    "myStats.standardize()\n",
    "myStats.normalize()"
   ]
  },
  {
   "cell_type": "markdown",
   "metadata": {},
   "source": [
    "## 10.2 VISUALIZATION (Follow)\n",
    "\n",
    "**Learning Objectives**\n",
    "1. Understand importance of Visualization\n",
    "2. Learn visualization techniques\n",
    "3. Learn to relate data to visual graphs"
   ]
  },
  {
   "cell_type": "code",
   "execution_count": null,
   "metadata": {},
   "outputs": [],
   "source": [
    "import pandas as pd\n",
    "\n",
    "df = pd.read_csv(\"Iris.csv\")"
   ]
  },
  {
   "cell_type": "markdown",
   "metadata": {},
   "source": [
    "### BOX PLOT"
   ]
  },
  {
   "cell_type": "code",
   "execution_count": null,
   "metadata": {},
   "outputs": [],
   "source": [
    "import matplotlib.pyplot as plt\n",
    "\n",
    "fig = plt.figure(figsize =(5, 5))\n",
    " \n",
    "plt.boxplot(df['SepalWidthCm'])\n",
    "\n",
    "plt.show()"
   ]
  },
  {
   "cell_type": "markdown",
   "metadata": {},
   "source": [
    "### SCATTER PLOT"
   ]
  },
  {
   "cell_type": "code",
   "execution_count": null,
   "metadata": {},
   "outputs": [],
   "source": [
    "import matplotlib.pyplot as plt\n",
    "\n",
    "fig = plt.figure(figsize =(5, 5))\n",
    " \n",
    "plt.scatter(df['SepalLengthCm'],df['SepalWidthCm'])\n",
    "\n",
    "plt.show()"
   ]
  },
  {
   "cell_type": "markdown",
   "metadata": {},
   "source": [
    "### HISTOGRAM"
   ]
  },
  {
   "cell_type": "code",
   "execution_count": null,
   "metadata": {},
   "outputs": [],
   "source": [
    "import matplotlib.pyplot as plt\n",
    "\n",
    "fig = plt.figure(figsize =(5, 5))\n",
    " \n",
    "plt.hist(df['SepalWidthCm'])\n",
    "\n",
    "plt.show()"
   ]
  },
  {
   "cell_type": "markdown",
   "metadata": {},
   "source": [
    "### BAR PLOT"
   ]
  },
  {
   "cell_type": "code",
   "execution_count": null,
   "metadata": {},
   "outputs": [],
   "source": [
    "import matplotlib.pyplot as plt\n",
    "\n",
    "fig = plt.figure(figsize =(15, 5))\n",
    " \n",
    "plt.bar(df.columns,list(df.nunique()))\n",
    "\n",
    "plt.show()"
   ]
  },
  {
   "cell_type": "markdown",
   "metadata": {},
   "source": [
    "### PIE CHART"
   ]
  },
  {
   "cell_type": "code",
   "execution_count": null,
   "metadata": {
    "scrolled": true
   },
   "outputs": [],
   "source": [
    "import matplotlib.pyplot as plt\n",
    "\n",
    "fig = plt.figure(figsize =(15, 5))\n",
    " \n",
    "plt.pie(list(df.nunique())[1:],labels = df.columns[1:])\n",
    "\n",
    "plt.show()"
   ]
  },
  {
   "cell_type": "markdown",
   "metadata": {},
   "source": [
    "**Evaluation:**\n",
    "\n",
    "After running this program, think about and answer these questions:\n",
    "\n",
    "1. What does each graph represent?\n",
    "2. Try looking up the documentation for each visualization and add more changes to the graphs.\n",
    "3. What can be concluded from each of the representations?"
   ]
  },
  {
   "cell_type": "markdown",
   "metadata": {},
   "source": [
    "## 10.2 VISUALIZATION (Group)\n",
    "\n",
    "Write a program that will do the following:\n",
    "\n",
    "1. Use the heart dataset.\n",
    "2. Generate a:\n",
    "    - Box Plot\n",
    "    - Scatter Plot\n",
    "    - Histogram\n",
    "    - Bar Plot\n",
    "    - Pie Chart\n",
    "3. Use Columns of your liking. (The visualization must give appropriate and useful information)"
   ]
  },
  {
   "cell_type": "code",
   "execution_count": null,
   "metadata": {},
   "outputs": [],
   "source": [
    "import pandas as pd\n",
    "import matplotlib.pyplot as plt\n",
    "\n",
    "class Visualization():\n",
    "    def __init__(self,filename):\n",
    "        self.df = pd.read_csv(filename)\n",
    "\n",
    "    def getDF(self):\n",
    "        display(self.df)\n",
    "\n",
    "    def boxplot(self):\n",
    "        fig = plt.figure(figsize =(5, 5))\n",
    "        plt.boxplot(self.df['age'])\n",
    "        plt.show()\n",
    "        \n",
    "    def scatterplot(self):\n",
    "        fig = plt.figure(figsize =(5, 5)) \n",
    "        plt.scatter(self.df['age'],self.df['age'])\n",
    "        plt.show()\n",
    "\n",
    "    def histogram(self):\n",
    "        fig = plt.figure(figsize =(5, 5))\n",
    "        plt.hist(self.df['age'])\n",
    "        plt.show()\n",
    "    \n",
    "    def barplot(self):\n",
    "        fig = plt.figure(figsize =(15, 5))\n",
    "        plt.bar(self.df.columns,list(self.df.nunique()))\n",
    "        plt.show()\n",
    "\n",
    "    def piechart(self):\n",
    "        fig = plt.figure(figsize =(15, 5))\n",
    "        plt.pie(list(self.df.nunique())[1:],labels = self.df.columns[1:])\n",
    "        plt.show()"
   ]
  },
  {
   "cell_type": "markdown",
   "metadata": {},
   "source": [
    "### BOX PLOT"
   ]
  },
  {
   "cell_type": "code",
   "execution_count": null,
   "metadata": {},
   "outputs": [],
   "source": [
    "myGraph = Visualization('heart.csv')\n",
    "myGraph.boxplot()\n"
   ]
  },
  {
   "cell_type": "markdown",
   "metadata": {},
   "source": [
    "### SCATTER PLOT"
   ]
  },
  {
   "cell_type": "code",
   "execution_count": null,
   "metadata": {},
   "outputs": [],
   "source": [
    "myGraph.scatterplot()\n"
   ]
  },
  {
   "cell_type": "markdown",
   "metadata": {},
   "source": [
    "### HISTOGRAM"
   ]
  },
  {
   "cell_type": "code",
   "execution_count": null,
   "metadata": {},
   "outputs": [],
   "source": [
    "myGraph.histogram()\n"
   ]
  },
  {
   "cell_type": "markdown",
   "metadata": {},
   "source": [
    "### BAR PLOT"
   ]
  },
  {
   "cell_type": "code",
   "execution_count": null,
   "metadata": {},
   "outputs": [],
   "source": [
    "myGraph.barplot()\n"
   ]
  },
  {
   "cell_type": "markdown",
   "metadata": {},
   "source": [
    "### PIE CHART"
   ]
  },
  {
   "cell_type": "code",
   "execution_count": null,
   "metadata": {
    "scrolled": true
   },
   "outputs": [],
   "source": [
    "myGraph.piechart()\n"
   ]
  },
  {
   "cell_type": "markdown",
   "metadata": {},
   "source": [
    "# 10.3 PROJECT (Group)\n",
    "\n",
    "**Write a program that will do the following:**\n",
    "1. Read in the following 2 files:  NCEL-Cash5.csv and NCEL-Cash5-Detailed.csv\n",
    "2. Calculate the return on investment (ROI) from playing the same 5 numbers every time the game is offered.\n",
    "3. Calculate the ROI from playing 5 random numbers on each draw.\n",
    "4. For an added challenge, change this calculation to occur starting at an arbitrary start date (rather than the beginning of the data set).\n",
    "5. For an even greater challenge, run multiple trials for the above setup and report the average ROI for all trials.\n",
    "\n",
    "**Notes for calculating winnings:**\n",
    "1. Ball order does not matter.\n",
    "2. Costs \\\\$1 for each draw (ie. \\\\$2 for days that have double play)\n",
    "3. Each draw is five numbers and range from 1 to 43\n",
    "4. May 15, 2014 balls drawn changed from 39 -> 41\n",
    "5. Nov 4, 2018  balls drawn changed from 41 -> 43\n",
    "\n",
    "**Winners are as follows:**\n",
    "1. Match 0 balls = \\$0\n",
    "2. Match 1 ball = \\$0\n",
    "3. Match 2 balls = \\$1\n",
    "4. Match 3 balls = \\$5\n",
    "5. Match 4 balls = use prize_4 or prize_4_double_play from Detailed file\n",
    "6. Match 5 balls = use prize_5 or prize_5_double_play from Detailed file\n",
    "\n",
    "\n",
    "**Output the following:**\n",
    "1. 5 numbers played\n",
    "2. dollars spent playing\n",
    "3. dollars won\n",
    "4. return on investment as a percentage\n",
    "\n",
    "\n",
    "**Just for fun: What happened on July 11, 2007?**\n",
    "&nbsp;\n",
    "\n",
    "\n",
    "<center> <b> NCEL-Cash5.csv format: </b> </center>\n",
    "\n",
    "| Date:  | Ball N:  | DP: 0 - False, 1 - True |\n",
    "|--------|----------|-------------------------|\n",
    "|date of drawing | winning ball numbers  | \"Double Play\" | \n",
    "| (m/d/Y) | in order drawn | , or second play of the day. |\n",
    "|         |           |  First introduced 4/25/2021 |                             \n",
    "\n",
    "&nbsp;  \n",
    "\n",
    "<center> <b> NCEL-Cash5-Detailed.csv format: </b> </center>\n",
    "\n",
    "\n",
    "| Date: | prize_n: | winners_n: | *_double_play_*: |\n",
    "|-------|----------|------------|------------------|\n",
    "| date of drawing | prize amount for matching | winner count for | double play value |\n",
    "| (m/d/Y) | n numbers correctly | matching n numbers. |for that winner amount or prize pool. |\n"
   ]
  },
  {
   "cell_type": "code",
   "execution_count": 58,
   "metadata": {},
   "outputs": [],
   "source": [
    "import pandas as pd\n",
    "import random\n",
    "from datetime import datetime\n",
    "\n",
    "class Lottery():\n",
    "    def __init__(self,StartDate,drawings,prizes):\n",
    "        self.strStartTime = StartDate\n",
    "        self.startDate = datetime.strptime(StartDate,'%m/%d/%Y')       \n",
    "        self.drawings = pd.read_csv(drawings)\n",
    "        self.prizes = pd.read_csv(prizes)\n",
    "        self.drawingSlice = self.sliceByDate()\n",
    "        self.numbers = self.randomize()\n",
    "        self.matches = self.drawingSlice[self.drawingSlice.isin(self.numbers)]\n",
    "        self.winnings = 0 \n",
    "        self.cost =  self.drawingSlice.shape[0]\n",
    "        \n",
    "    def randomize(self):\n",
    "        numbers =[]\n",
    "        if self.startDate >= datetime.strptime('11/04/2018','%m/%d/%Y'):\n",
    "            enddate = 43\n",
    "        elif self.startDate >= datetime.strptime('5/15/2015','%m/%d/%Y'):\n",
    "            enddate = 41\n",
    "        else:\n",
    "            enddate = 39\n",
    "        for i in range(5):\n",
    "            number = random.randint(1,enddate)\n",
    "            numbers.append(number)\n",
    "        return numbers\n",
    "    \n",
    "    #slice df according to start date\n",
    "    def sliceByDate(self):\n",
    "        df = self.drawings[self.drawings['Date']==self.strStartTime]\n",
    "        return self.drawings.iloc[:df.index.values[0],:6]\n",
    "    \n",
    "    def Random_Numbers_per_Draw(self):\n",
    "        pd.set_option('display.max_rows', None)\n",
    "        df = self.drawingSlice\n",
    "        self.cost = 0\n",
    "        self.winnings = 0\n",
    "        for row in df.itertuples():\n",
    "            results = (pd.DataFrame(row)).transpose()\n",
    "            self.numbers = self.randomize()\n",
    "            self.matches = results[results.isin(self.numbers)]\n",
    "            self.cost +=1\n",
    "            self.assignPrize()\n",
    "        return self.winnings\n",
    "            \n",
    "    #assign Prizes\n",
    "    def assignPrize(self):\n",
    "        for index,count in self.matches.count(axis=1).items():\n",
    "            if count ==2:\n",
    "                self.winnings +=1\n",
    "            if count == 3:\n",
    "                self.winnings +=5\n",
    "            if count ==4:\n",
    "                prizedate = self.drawings.iat[index,0]\n",
    "                prize = self.prizes[self.prizes['date']== prizedate]             \n",
    "                self.winnings += int(prize.iat[0,2])\n",
    "            if count ==5:\n",
    "                prizedate = self.drawings.iat[index,0]\n",
    "                prize = self.prizes[self.prizes['date']== prizedate]             \n",
    "                self.winnings += int(prize.iat[0,1])\n",
    "        return self.winnings\n",
    "    \n",
    "    def GetWinnings(self):        \n",
    "        print(f\"Winnings: {self.winnings}\\nCost: {self.cost}\\nR.O.I is {((self.winnings / self.cost)*100):.2f}%\")\n",
    "\n",
    "         "
   ]
  },
  {
   "cell_type": "code",
   "execution_count": 59,
   "metadata": {},
   "outputs": [
    {
     "name": "stdout",
     "output_type": "stream",
     "text": [
      "Winnings: 113\n",
      "Cost: 1047\n",
      "R.O.I is 10.79%\n"
     ]
    }
   ],
   "source": [
    "#Static set of numbers\n",
    "myLotto = Lottery('11/02/2019','NCEL-Cash5.csv','NCEL-Cash5-Detailed.csv')\n",
    "myLotto.assignPrize()\n",
    "myLotto.GetWinnings()"
   ]
  },
  {
   "cell_type": "code",
   "execution_count": 60,
   "metadata": {},
   "outputs": [
    {
     "name": "stdout",
     "output_type": "stream",
     "text": [
      "Winnings: 91\n",
      "Cost: 1047\n",
      "R.O.I is 8.69%\n"
     ]
    }
   ],
   "source": [
    "#Dynamic set of Numbers\n",
    "myLotto = Lottery('11/02/2019','NCEL-Cash5.csv','NCEL-Cash5-Detailed.csv')\n",
    "myLotto.Random_Numbers_per_Draw()\n",
    "myLotto.GetWinnings()"
   ]
  },
  {
   "cell_type": "code",
   "execution_count": 61,
   "metadata": {},
   "outputs": [
    {
     "name": "stdout",
     "output_type": "stream",
     "text": [
      "Average 5 itteration winnings: 133.8\n",
      "Average R.O.I is 12.78%\n",
      "Average Cost: 1047\n"
     ]
    }
   ],
   "source": [
    "#static set of numbers calculated over 5 itterations\n",
    "winnings =[]\n",
    "for i in range(5):\n",
    "    myLotto = Lottery('11/02/2019','NCEL-Cash5.csv','NCEL-Cash5-Detailed.csv')\n",
    "    winnings.append(myLotto.assignPrize())\n",
    "winnings = pd.Series(winnings)\n",
    "cost = myLotto.cost\n",
    "print(f'Average 5 itteration winnings: {winnings.mean()}\\nAverage R.O.I is {((winnings.mean() / cost)*100):.2f}%\\nAverage Cost: {cost}')"
   ]
  },
  {
   "cell_type": "code",
   "execution_count": 62,
   "metadata": {},
   "outputs": [
    {
     "name": "stdout",
     "output_type": "stream",
     "text": [
      "Average 5 itteration winnings: 111.2\n",
      "Average R.O.I is 10.62%\n",
      "Average Cost: 1047\n"
     ]
    }
   ],
   "source": [
    "#static set of numbers calculated over 5 itteration\n",
    "winnings =[]\n",
    "cost = 0\n",
    "for i in range(5):\n",
    "    myLotto = Lottery('11/02/2019','NCEL-Cash5.csv','NCEL-Cash5-Detailed.csv')\n",
    "    winnings.append(myLotto.Random_Numbers_per_Draw())\n",
    "winnings = pd.Series(winnings)\n",
    "cost = myLotto.cost\n",
    "print(f'Average 5 itteration winnings: {winnings.mean()}\\nAverage R.O.I is {((winnings.mean() / cost)*100):.2f}%\\nAverage Cost: {cost}')"
   ]
  }
 ],
 "metadata": {
  "kernelspec": {
   "display_name": "Python 3 (ipykernel)",
   "language": "python",
   "name": "python3"
  },
  "language_info": {
   "codemirror_mode": {
    "name": "ipython",
    "version": 3
   },
   "file_extension": ".py",
   "mimetype": "text/x-python",
   "name": "python",
   "nbconvert_exporter": "python",
   "pygments_lexer": "ipython3",
   "version": "3.11.2"
  }
 },
 "nbformat": 4,
 "nbformat_minor": 2
}
