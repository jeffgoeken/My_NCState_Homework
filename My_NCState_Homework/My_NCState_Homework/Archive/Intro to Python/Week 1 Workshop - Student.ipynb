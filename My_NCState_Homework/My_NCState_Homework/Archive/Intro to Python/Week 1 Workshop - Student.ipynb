{
 "cells": [
  {
   "cell_type": "markdown",
   "id": "226e44d1",
   "metadata": {},
   "source": [
    "# Workshop 1 [Student]\n",
    "\n",
    "This notebook will cover the following topics:\n",
    "\n",
    "- Variables\n",
    "- Input / Output\n",
    "- Expressions\n",
    "- Functions\n",
    "- Conditional Control\n",
    "- Looping\n",
    "- Data Types\n",
    "    - Lists\n",
    "    - Tuples\n",
    "    - Dictionary\n",
    "\n"
   ]
  },
  {
   "cell_type": "markdown",
   "id": "f4b975ba",
   "metadata": {},
   "source": [
    "## 1. VARIABLES (Follow)\n",
    "**Learning Objectives:**\n",
    "1. Learn about variables and variable assignment.\n",
    "2. Learn Naming conventions"
   ]
  },
  {
   "cell_type": "code",
   "execution_count": null,
   "id": "3280d19f",
   "metadata": {},
   "outputs": [],
   "source": [
    "\"\"\"\n",
    "Add comments for you own reference\n",
    "\"\"\"\n",
    "\n",
    "full_name = \"Laila Ali\"\n",
    "StreetName = \"Butterfly Street\"\n",
    "\n",
    "XÆA12 = \"son\"\n",
    "#1st_name = \"Laila\"\n",
    "#first name = \"Laila\"\n",
    "\n",
    "# Check out the errors in code and analyse the reason why"
   ]
  },
  {
   "cell_type": "markdown",
   "id": "f205884c",
   "metadata": {},
   "source": [
    "### After running the above code, answer the following questions:\n",
    "1. Which names were valid above and which were not?full_name, StreetName and XÆA12 are valid\n",
    "2. Why were some names valid and some not?Variables cannot begin with a number or contain a space"
   ]
  },
  {
   "cell_type": "markdown",
   "id": "4464eace",
   "metadata": {},
   "source": [
    "## 2. INPUT, OUTPUT AND FORMATTING: (Follow) \n",
    "\n",
    "**Learning Objectives:**\n",
    "1. Perform basic input and output for a user\n",
    "2. Format input and output\n",
    "3. Perform basic math on input and output\n",
    "4. Understand different datatypes "
   ]
  },
  {
   "cell_type": "code",
   "execution_count": null,
   "id": "b2f2894e",
   "metadata": {},
   "outputs": [],
   "source": [
    "\"\"\"\n",
    "Add comments for you own reference\n",
    "\"\"\"\n",
    "\n",
    "print(\"This is a print statement\")\n",
    "print(\"Printing some different things including num8er5\")\n",
    "\n",
    "input_string = input(\"Enter a short string here: \")\n",
    "\n",
    "print(\"Your input string is: \", input_string)\n",
    "\n",
    "float_number = 2.676\n",
    "print(\"This will print a float number with 2 decimal places: \", format(float_number, '.2f'))\n",
    "\n",
    "print(f\"This will print a float number in a formatted string literal {float_number}\")\n",
    "\n",
    "num1 = 5\n",
    "num2 = 10\n",
    "print(f\"This will multiply {num1} times {num2} and display the result: \", num1 * num2)"
   ]
  },
  {
   "cell_type": "markdown",
   "id": "1b47deed",
   "metadata": {},
   "source": [
    "### After running the above code, answer the following questions:\n",
    "1. What do the {} do in line 15? Tells python to print the value of float_Number which is 2.676\n",
    "2. What does the .2f do in line 13? extends the floating number to 2 decimals\n",
    "3. What does the 'f' do at the beginning of line 15 and 19? - Specifies the variables will be printed rather than literea lext"
   ]
  },
  {
   "cell_type": "markdown",
   "id": "e3d70862",
   "metadata": {},
   "source": [
    "## 3. EXPRESSIONS (Follow)\n",
    "**Learning Objectives:**\n",
    "1. Understand operators\n",
    "2. Understand simple and complex expressions"
   ]
  },
  {
   "cell_type": "code",
   "execution_count": null,
   "id": "87809d92",
   "metadata": {},
   "outputs": [],
   "source": [
    "\"\"\"\n",
    "Add comments for you own reference\n",
    "\"\"\"\n",
    "\n",
    "x = 2\n",
    "y = 3\n",
    "print(f\"Value x = {x} and y = {y}\")\n",
    "\n",
    "a = b = 4\n",
    "print(f\"Value a = {a} and b = {b}\")\n",
    "\n",
    "c = a + b\n",
    "print(f\"Value c = {c}\")\n",
    "\n",
    "z = c % y\n",
    "print(f\"Value z = {z}\")\n",
    "\n",
    "z += 1\n",
    "print(f\"Value z = {z}\")\n",
    "\n",
    "z = (x+y) * (x-y) / (2*x)\n",
    "print(f\"Value z = {z}\")"
   ]
  },
  {
   "cell_type": "markdown",
   "id": "034c85c9",
   "metadata": {},
   "source": [
    "### After running the above code, answer the following questions:\n",
    "1. What does the % operator do? Modulus Operator Division Remainder\n",
    "2. What does the += operator do? Appends to a variable"
   ]
  },
  {
   "cell_type": "markdown",
   "id": "ccf8a483",
   "metadata": {},
   "source": [
    "# Group Activity 1:  \n",
    "\n",
    "1. Create a small program that will take a celcius temperature from the user and convert it to fahrenheit\n",
    "2. Print the output result to 3 decimal places\n",
    "3. Print a degree sign after the output\n",
    "4. Try to figure out how to create the program in the fewest lines possible \n",
    "\n",
    "Fahrenheit = (9/5)(Degrees Celcius) + 32"
   ]
  },
  {
   "cell_type": "code",
   "execution_count": null,
   "id": "b7612daa",
   "metadata": {},
   "outputs": [],
   "source": [
    "C =  float(input(\"Please enter degree in Celcius: \"))\n",
    "F = (9/5)*C +32\n",
    "print(f\"{F:.3f}°\")"
   ]
  },
  {
   "cell_type": "markdown",
   "id": "151392af",
   "metadata": {},
   "source": [
    "## 4. FUNCTIONS (Follow)\n",
    "**Learning Objectives:**\n",
    "1. Understand functions and how to create functions\n",
    "2. Understand function calls\n",
    "3. Understand parameters and return values"
   ]
  },
  {
   "cell_type": "code",
   "execution_count": null,
   "id": "c78c1d15",
   "metadata": {},
   "outputs": [],
   "source": [
    "\"\"\"\n",
    "Add comments for you own reference\n",
    "\"\"\"\n",
    "\n",
    "def my_summer(param1, param2 = 0):\n",
    "    '''\n",
    "    Sum two values.\n",
    "    Inputs: \n",
    "        param1 - int or float\n",
    "        param2 - int or float, optional\n",
    "    Returns:\n",
    "        sum - int or float\n",
    "    '''\n",
    "    return param1 + param2\n",
    "\n",
    "\n",
    "my_sum = my_summer(20,30)\n",
    "print(f\"My sum is {my_sum}\")\n",
    "      \n",
    "my_new_sum = my_summer(my_sum,10)\n",
    "print(f\"My sum + 10 is {my_new_sum}\")      \n"
   ]
  },
  {
   "cell_type": "markdown",
   "id": "dbbef4dc",
   "metadata": {},
   "source": [
    "### After running the above code, answer the following questions:\n",
    "1. What does param2 = 0 do on line 5? Assigns 0 as default for Param2\n",
    "2. What does the my summer function do? Adds 2 variables"
   ]
  },
  {
   "cell_type": "markdown",
   "id": "a18e1a25",
   "metadata": {},
   "source": [
    "## 5. CONDITIONAL CONTROL (Follow)\n",
    "**Learning Objectives:**\n",
    "1. Understand conditional statements\n",
    "2. Learn IF/ELSE control statements\n",
    "3. Learn nested IF statements\n",
    "4. Understand boolean logic and logical operators"
   ]
  },
  {
   "cell_type": "code",
   "execution_count": null,
   "id": "f610d620",
   "metadata": {},
   "outputs": [],
   "source": [
    "\"\"\"\n",
    "Add comments for you own reference\n",
    "\"\"\"\n",
    "\n",
    "day = int(input('Enter a number (1-7) for the day of the week: '))\n",
    "\n",
    "if day == 1:\n",
    "    print('Monday')\n",
    "elif day == 2:\n",
    "    print('Tuesday')\n",
    "elif day == 3:\n",
    "    print('Wednesday')\n",
    "elif day == 4:\n",
    "    print ('Thursday')\n",
    "elif day == 5:\n",
    "    print ('Friday')\n",
    "elif day == 6:\n",
    "    print ('Saturday')\n",
    "elif day == 7:\n",
    "    print ('Sunday')\n",
    "else:\n",
    "    print ('Error: Please enter a number in the range 1-7.')"
   ]
  },
  {
   "cell_type": "code",
   "execution_count": null,
   "id": "6e7e4a04",
   "metadata": {},
   "outputs": [],
   "source": [
    "\"\"\"\n",
    "Add comments for you own reference\n",
    "\"\"\"\n",
    "\n",
    "day = int(input('Enter a number (1-7) for the day of the week: '))\n",
    "time = int(input('Enter a number (1-24) for the hour of the day: '))\n",
    "\n",
    "if day > 1 and day <5:\n",
    "    print('Its a Work Day!')\n",
    "    if time >= 8 and time <=18:\n",
    "        print(\"You should be working!\")\n",
    "    else:\n",
    "        print(\"You should rest after work\")\n",
    "elif day <= 7:\n",
    "    print(\"Its the Weekend!\")\n",
    "    if time <= 8 or time >=22:\n",
    "        print(\"You should be sleeping!\")\n",
    "    else:\n",
    "        print(\"Enjoy the Weekend\")\n",
    "else:\n",
    "    print ('Error: Please enter a number in the range 1-7.')"
   ]
  },
  {
   "cell_type": "markdown",
   "id": "f7e45f78",
   "metadata": {},
   "source": [
    "**Evaluation:**\n",
    "\n",
    "After running both programs, think about and answer these questions:\n",
    "\n",
    "1. What is the program doing?Program asks for DOW and time to determin if you should be working or resting\n",
    "2. Does every line in the code execute, explain?It does not, If one on the if statements is true it runs the block of code and skips the false ones\n",
    "3. Could you find a way to break it?Input an Non Numeric Character"
   ]
  },
  {
   "cell_type": "markdown",
   "id": "632dac01",
   "metadata": {},
   "source": [
    "# Group Activity 2:  \n",
    "\n",
    "Develop a program that will do the following:\n",
    "\n",
    "1. Take input from the user for length and width for two different sets of numbers. Four total inputs.\n",
    "2. Multiply the length and width together and find the area for the two different sets of numbers.\n",
    "3. Compare the areas and print which one is larger.\n",
    "4. Display the difference in areas\n",
    "5. Be sure to handle non-numeric inputs and negative inputs.  \n",
    "\n",
    "area = length * width"
   ]
  },
  {
   "cell_type": "code",
   "execution_count": null,
   "id": "c9aac09c",
   "metadata": {},
   "outputs": [],
   "source": [
    "def CheckInput(value):\n",
    "    try:\n",
    "        int(value)\n",
    "    except:\n",
    "        print('Entry is non-numeric')\n",
    "        value = input(\"Please enter a numeric value for Lenth 1: \")\n",
    "        CheckInput(value)\n",
    "\n",
    "    if int(value) > -1: \n",
    "        return int(value)\n",
    "    else:\n",
    "        print('Value cannot be a negative number')\n",
    "        value = input(\"Please enter a numeric value for Lenth 1: \")\n",
    "        CheckInput(value)\n",
    "    \n",
    "    \n",
    "Length1 = CheckInput(input(\"Please enter a numeric value for Lenth 1: \"))\n",
    "Width1 = CheckInput(input(\"Please enter a numeric value for Width 1: \"))\n",
    "Length2 = CheckInput(input(\"Please enter a numeric value for Length 2: \"))\n",
    "Width2 = CheckInput(input(\"Please enter a numeric value for Width 2: \"))\n",
    "\n",
    "Area1 = Length1*Width1\n",
    "Area2 = Length2*Width2\n",
    "\n",
    "if Area1 > Area2:\n",
    "    print(\"Area 1 is greater than Area 2, The difference is: \",format(Area1-Area2))\n",
    "else:\n",
    "        print(\"Area 2 is greater than Area 1, The difference is: \",format(Area2-Area1))"
   ]
  },
  {
   "cell_type": "markdown",
   "id": "9383cb1e",
   "metadata": {},
   "source": [
    "## 6. LOOPING (Follow)\n",
    "**Learning Objectives:**\n",
    "1. Understanding repetitive structures\n",
    "2. Understanding while loops\n",
    "3. Understanding for loops\n",
    "4. Nested loops and order N run time"
   ]
  },
  {
   "cell_type": "markdown",
   "id": "2e0d37dd",
   "metadata": {},
   "source": [
    "### 6.1 While Loop"
   ]
  },
  {
   "cell_type": "code",
   "execution_count": null,
   "id": "0d342ff6",
   "metadata": {},
   "outputs": [],
   "source": [
    "\"\"\"\n",
    "Add comments for you own reference\n",
    "\"\"\"\n",
    "number = 1.0    \n",
    "total = 0.0\n",
    "\n",
    "while number > 0:\n",
    "    number = float(input('Enter a positive number (negative to quit): '))\n",
    "    if number > 0:\n",
    "        total = total + number\n",
    "\n",
    "print (f'Total = {total:.2f}') "
   ]
  },
  {
   "cell_type": "markdown",
   "id": "0927ef89",
   "metadata": {},
   "source": [
    "**Evaluation:**\n",
    "\n",
    "After running this program, think about and answer these questions:\n",
    "\n",
    "1. What is the program doing? Loop through the program until number variable is less than 0 (negative)\n",
    "2. How many time does each line in the code execute, explain?Code will execute as long as number variable is positive\n",
    "3. Could you find a way to break it?enter a non numberic character\n",
    "4. Try to rewrite the program using a for loop."
   ]
  },
  {
   "cell_type": "markdown",
   "id": "92104b68",
   "metadata": {},
   "source": [
    "### 6.2 For Loop"
   ]
  },
  {
   "cell_type": "code",
   "execution_count": null,
   "id": "12c15d15",
   "metadata": {},
   "outputs": [],
   "source": [
    "\"\"\"\n",
    "Add comments for you own reference\n",
    "\"\"\"\n",
    "caloriesPerMinute = 4.2\n",
    "\n",
    "print ('Minutes\\t\\tCalories Burned')\n",
    "print ('-------------------------------')\n",
    "\n",
    "for minutes in range(10, 30, 5):\n",
    "    caloriesBurned = caloriesPerMinute * minutes\n",
    "    print (minutes, \"\\t\\t\", caloriesBurned) "
   ]
  },
  {
   "cell_type": "markdown",
   "id": "8a2aeada",
   "metadata": {},
   "source": [
    "**Evaluation:**\n",
    "\n",
    "After running this program, think about and answer these questions:\n",
    "\n",
    "1. What is the program doing?Looping through a range beginning with 10 and ending with 30, in increments of 5\n",
    "2. How many time does each line in the code execute, explain?\n",
    "3. Could you find a way to break it?\n",
    "4. Try to rewrite the program using a while loop."
   ]
  },
  {
   "cell_type": "markdown",
   "id": "fbfe6f2f",
   "metadata": {},
   "source": [
    "### 6.3 Nested Loop"
   ]
  },
  {
   "cell_type": "code",
   "execution_count": null,
   "id": "31eb0961",
   "metadata": {},
   "outputs": [],
   "source": [
    "\"\"\"\n",
    "Add comments for you own reference\n",
    "\"\"\"\n",
    "\n",
    "totalRainfall = 0.0\n",
    "totalQuarters = 0\n",
    "\n",
    "years = int(input('Enter the number of years: '))\n",
    "\n",
    "for year in range(years):\n",
    "    print (f'\\nFor year {year + 1}:')\n",
    "    for quarter in range(4):\n",
    "        quarterRainfall = float(input(f'Enter the rainfall amount for the quarter {quarter+1}: '))\n",
    "        totalQuarters += 1\n",
    "        totalRainfall += quarterRainfall\n",
    "        \n",
    "\n",
    "print(f'\\nFor {totalQuarters} quarters / {years} years:')\n",
    "print(f'Total rainfall: {totalRainfall:,.2f} inches')\n",
    "print(f'Average quarterly rainfall: {totalRainfall / totalQuarters:,.2f} inches')\n",
    "print(f'Average yearly rainfall: {totalRainfall / years:,.2f} inches')"
   ]
  },
  {
   "cell_type": "markdown",
   "id": "9b967ade",
   "metadata": {},
   "source": [
    "**Evaluation:**\n",
    "\n",
    "After running this program, think about and answer these questions:\n",
    "\n",
    "1. What is the program doing? Calculating the rainfall per year by adding quarters\n",
    "2. How many time does each line in the code execute, explain?\n",
    "    Lines 1-5 and 18-21 execure once.\n",
    "    Lines 10 & 11 execute the number of times specified in variable years.\n",
    "    lines 12-15 exexute variable years multiplied by 4\n",
    "3. Could you find a way to break it?Enter a non numeric character\n",
    "4. Compare the number of executuions for the inner for loop to the outer for loop.\n",
    "5. What order of magnitude larger are the inner instructions executing? The inner loop is executng times as many as the outer loop"
   ]
  },
  {
   "cell_type": "markdown",
   "id": "e9fa01eb",
   "metadata": {},
   "source": [
    "## Group Activity 3:\n",
    "\n",
    "Develop a program that will:\n",
    "\n",
    "1. Take input from the user asking how many organisms to start with.\n",
    "2. Take input from the user asking the average daily increase for the organisms.\n",
    "3. Take input from the user asking the number of days to multiply.\n",
    "4. Make sure the daily increase was entered as a percentage, if not correct it.\n",
    "5. Print each day and the increase in organsisms for each day. \n",
    "6. Make sure to format the printing so that it is readable."
   ]
  },
  {
   "cell_type": "code",
   "execution_count": null,
   "id": "f19c1bbe",
   "metadata": {},
   "outputs": [],
   "source": [
    "def CheckInput(value):\n",
    "    try:\n",
    "        float(value)\n",
    "        if float(value) > .99:\n",
    "            value =float(value)*.01\n",
    "\n",
    "    except:\n",
    "            print('Entry is non-numeric')\n",
    "            value = input(\"What is the average daily increase in percent: \")\n",
    "            CheckInput(value)\n",
    "    return float(value)\n",
    "        \n",
    "\n",
    "NumberofOrganisms = int(input(\"Please enter the base number of organisms: \"))\n",
    "AverageDailyIncrease = CheckInput(input(\"What is the average daily increase in percent: \"))\n",
    "NumberofDays = int(input(\"How many days to multiply: \"))\n",
    "i = 0\n",
    "\n",
    "for Day in range(NumberofDays):\n",
    "    i += 1\n",
    "    OrganismsToday = NumberofOrganisms*AverageDailyIncrease\n",
    "    print (f\"Day {i}: \",OrganismsToday)\n",
    "    NumberofOrganisms += OrganismsToday\n"
   ]
  },
  {
   "cell_type": "markdown",
   "id": "d1a38a11",
   "metadata": {},
   "source": [
    "## 7. Data Structures (Follow)\n",
    "\n",
    "**Learning Objectives:**\n",
    "\n",
    "1. Understand lists and Nested Lists\n",
    "2. Understand tuples\n",
    "3. Understand dictionaries and sets\n",
    "4. Understand List Comprehension"
   ]
  },
  {
   "cell_type": "markdown",
   "id": "87800b86",
   "metadata": {},
   "source": [
    "### 7.1 Lists and Nested Lists"
   ]
  },
  {
   "cell_type": "code",
   "execution_count": null,
   "id": "f6d0b3b8",
   "metadata": {},
   "outputs": [],
   "source": [
    "\"\"\"\n",
    "Add comments for you own reference\n",
    "\"\"\"\n",
    "\n",
    "profit = 0\n",
    "\n",
    "days = ['Sunday', 'Monday', 'Tuesday','Wednesday', 'Thursday', 'Friday', 'Saturday']\n",
    "prices = [20,15,25]\n",
    "\n",
    "# prices[1] = 35\n",
    "\n",
    "sales_by_day = [[2,3,4],[10,3,0],[5,6,2],[6,6,6],[0,0,20],[8,5,3],[3,5,7]]\n",
    "\n",
    "# sales_by_day[5] = [10,10,20]\n",
    "\n",
    "total_sales_by_day = []\n",
    "\n",
    "for i in range(len(days)):\n",
    "    daily_profit = 0\n",
    "    for j in range(len(prices)):\n",
    "        daily_profit += (sales_by_day[i][j]*prices[j])\n",
    "    total_sales_by_day.append(daily_profit)\n",
    "    \n",
    "print(\"Daily Profit:\")\n",
    "for i in range(len(days)):\n",
    "    print(f\"{days[i]} - Profit: {total_sales_by_day[i]}\")\n",
    "    \n",
    "for i in total_sales_by_day:\n",
    "    profit += i\n",
    "    \n",
    "print(f\"\\nTotal Profit - {profit}\")\n"
   ]
  },
  {
   "attachments": {},
   "cell_type": "markdown",
   "id": "4b2350c8",
   "metadata": {},
   "source": [
    "**Evaluation:**\n",
    "\n",
    "After running the above code, think about and answer the following questions:\n",
    "\n",
    "1. What is the program doing? Calculating the daily total of profit by multiplying nmber of sales per day by the price in Lists\n",
    "2. What does the append function do? Inserts data into a list\n",
    "3. What changes when the commented sections are uncommented?  Changed the price from 15 to 35 in the prices list and changes [3,5,7] to [10,10,20] in Sales by day\n",
    "4. Is a more efficient code possible? How? "
   ]
  },
  {
   "cell_type": "markdown",
   "id": "4e934e37",
   "metadata": {},
   "source": [
    "### 7.2 Tuples"
   ]
  },
  {
   "cell_type": "code",
   "execution_count": null,
   "id": "59d56ca1",
   "metadata": {},
   "outputs": [],
   "source": [
    "\"\"\"\n",
    "Add comments for you own reference\n",
    "\"\"\"\n",
    "\n",
    "payer = ('Alex','Bob','Cathy')\n",
    "payee = ('Neil','Mason','Oxford')\n",
    "amount = (200,500,350)\n",
    "\n",
    "def PrintTransactions(payer,payee,amount):\n",
    "    for i in range(len(payer)):\n",
    "        print(f\"{payer[i]} gave {payee[i]} $ {amount[i]}\")\n",
    "        \n",
    "PrintTransactions(payer,payee,amount)\n",
    "\n",
    "#amount[2] = 300\n",
    "\n",
    "new_payer = input(\"Enter Payer: \")\n",
    "new_payee = input(\"Enter Payee: \")\n",
    "new_amount = int(input(\"Enter Amount: \"))\n",
    "\n",
    "payer += (new_payer,)\n",
    "payee += (new_payee,)\n",
    "amount += (new_amount,)\n",
    "\n",
    "PrintTransactions(payer,payee,amount)"
   ]
  },
  {
   "attachments": {},
   "cell_type": "markdown",
   "id": "eb200ad0",
   "metadata": {},
   "source": [
    "**Evaluation:**\n",
    "\n",
    "After running the above code, think about and answer the following questions:\n",
    "\n",
    "1. What is the program doing? Keeping track of Pyors and Payees\n",
    "2. What changes when the commented sections are uncommented? Throws an error because Tuples cannot be changed\n",
    "3. Is a more efficient code possible? How?\n",
    "4. Compare Lists and Tuples Lists are changable, Tulpes are not."
   ]
  },
  {
   "cell_type": "markdown",
   "id": "52eda7a0",
   "metadata": {},
   "source": [
    "### 7.3 Dictionary"
   ]
  },
  {
   "cell_type": "code",
   "execution_count": null,
   "id": "7ac95096",
   "metadata": {},
   "outputs": [],
   "source": [
    "\"\"\"\n",
    "Add comments for you own reference\n",
    "\"\"\"\n",
    "\n",
    "profit = 0\n",
    "\n",
    "days = ['Sunday', 'Monday', 'Tuesday','Wednesday', 'Thursday', 'Friday', 'Saturday']\n",
    "\n",
    "prices = {\n",
    "    'Sunday':20,\n",
    "    'Monday':10,\n",
    "    'Tuesday':15,\n",
    "    'Wednesday':15,\n",
    "    'Thursday': 10,\n",
    "    'Friday':5,\n",
    "    'Saturday':20\n",
    "}\n",
    "\n",
    "sales = {\n",
    "    'Sunday':200,\n",
    "    'Monday':140,\n",
    "    'Tuesday':155,\n",
    "    'Wednesday':150,\n",
    "    'Thursday': 210,\n",
    "    'Friday':75,\n",
    "    'Saturday':205\n",
    "}\n",
    "\n",
    "# prices['Sunday'] = 30\n",
    "\n",
    "# sales['Monday'] = 145\n",
    "\n",
    "for i in days:\n",
    "    print(f\"For {i}: \")\n",
    "    print(f\"Profit is ${sales[i] * prices[i]}\\n\")\n",
    "    profit += sales[i] * prices[i]\n",
    "    \n",
    "print(f\"\\nTotal Profit - {profit}\")\n"
   ]
  },
  {
   "attachments": {},
   "cell_type": "markdown",
   "id": "a7289c4e",
   "metadata": {},
   "source": [
    "**Evaluation:**\n",
    "\n",
    "After running the above code, think about and answer the following questions:\n",
    "\n",
    "1. What is the program doing? Itterates through the Days list using the value to match key - values in two different dictionaries to calulate profit.\n",
    "2. What changes when the commented sections are uncommented? Changes the Prices value for Sunday and the sales value for Monday\n",
    "3. Is a more efficient code possible? How?\n",
    "4. What is the most effient use case for dictionaries? when you need to use key-value pairs"
   ]
  },
  {
   "cell_type": "markdown",
   "id": "33a4c2af",
   "metadata": {},
   "source": [
    "### 7.4 Sets"
   ]
  },
  {
   "cell_type": "code",
   "execution_count": null,
   "id": "19720ee6",
   "metadata": {},
   "outputs": [],
   "source": [
    "\"\"\"\n",
    "Add comments for you own reference\n",
    "\"\"\"\n",
    "\n",
    "baseball = set(['Jodi', 'Carmen', 'Aida', 'Alicia'])\n",
    "basketball = set(['Eva', 'Carmen', 'Alicia', 'Sarah'])\n",
    "\n",
    "print('The following students are on the baseball team:')\n",
    "for name in baseball:\n",
    "    print(name)\n",
    "\n",
    "print()\n",
    "print('The following students are on the basketball team:')\n",
    "for name in basketball:\n",
    "    print(name)\n",
    "\n",
    "print()\n",
    "print('The following students play both baseball and basketball:')\n",
    "for name in baseball.intersection(basketball):\n",
    "    print(name)\n",
    "\n",
    "print()\n",
    "print('The following students play either baseball or basketball:')\n",
    "for name in baseball.union(basketball):\n",
    "    print(name)\n",
    "\n",
    "print()\n",
    "print('The following students play baseball, but not basketball:')\n",
    "for name in baseball.difference(basketball):\n",
    "    print(name)\n",
    "\n",
    "print()\n",
    "print('The following students play basketball, but not baseball:')\n",
    "for name in basketball.difference(baseball):\n",
    "    print(name)\n",
    "\n",
    "print()\n",
    "print('The following students play one sport, but not both:')\n",
    "for name in baseball.symmetric_difference(basketball):\n",
    "    print(name)"
   ]
  },
  {
   "cell_type": "code",
   "execution_count": 4,
   "id": "e4d2a235",
   "metadata": {},
   "outputs": [
    {
     "name": "stdout",
     "output_type": "stream",
     "text": [
      "{'jack', 'the', 'over', 'be', 'nimble', 'quick', 'candlestick', 'jumps'}\n"
     ]
    }
   ],
   "source": [
    "\"\"\"\n",
    "Add comments for you own reference\n",
    "\"\"\"\n",
    "\n",
    "words = ['jack', 'be', 'nimble', 'jack', 'be', 'quick', 'jack', 'jumps', 'over', 'the', 'candlestick']\n",
    "\n",
    "print(set(words))"
   ]
  },
  {
   "cell_type": "markdown",
   "id": "5f024134",
   "metadata": {},
   "source": [
    "**Evaluation:**\n",
    "\n",
    "After running the above codes, think about and answer the following questions:\n",
    "\n",
    "1. What is the programs doing?\n",
    "2. What purpose does sets serve?\n",
    "3. In the second Code block, what inferences do you derive?\n",
    "4. What is the most effient use case for sets?\n",
    "5. Summerize lists, tuples, dictionaries, and sets for future reference."
   ]
  },
  {
   "cell_type": "markdown",
   "id": "15d1b0d9",
   "metadata": {},
   "source": [
    "# Group Activity 4: "
   ]
  },
  {
   "cell_type": "markdown",
   "id": "dac55057",
   "metadata": {},
   "source": [
    "Create a game, that does the following:\n",
    "\n",
    "1. Asks the player what is the capital of a state\n",
    "2. Keeps track of correct and incorrect answers\n",
    "3. Makes sure no questions are repeated\n",
    "4. Gives user option to quit any time\n",
    "5. Make sure the game ends when all questions are asked\n",
    "6. Maybe shows the correct answer when user is wrong.\n",
    "\n",
    "Use the following data to begin\n",
    "\n",
    "capitals = {\n",
    "'Alabama':'Montgomery', 'Alaska':'Juneau',\n",
    "'Arizona':'Phoenix', 'Arkansas':'Little Rock',\n",
    "'California':'Sacramento', 'Colorado':'Denver',\n",
    "'Connecticut':'Hartford', 'Delaware':'Dover',\n",
    "'Florida':'Tallahassee', 'Georgia':'Atlanta',\n",
    "'Hawaii':'Honolulu', 'Idaho':'Boise',\n",
    "'Illinois':'Springfield', 'Indiana':'Indianapolis',\n",
    "'Iowa':'Des Moines', 'Kansas':'Topeka',\n",
    "'Kentucky':'Frankfort', 'Louisiana':'Baton Rouge',\n",
    "'Maine':'Augusta', 'Maryland':'Annapolis',\n",
    "'Massachusetts':'Boston', 'Michigan':'Lansing',\n",
    "'Minnesota':'Saint Paul', 'Mississippi':'Jackson',\n",
    "'Missouri':'Jefferson City', 'Montana':'Helena',\n",
    "'Nebraska':'Lincoln', 'Nevada':'Carson City',\n",
    "'New Hampshire':'Concord', 'New Jersey':'Trenton',\n",
    "'New Mexico':'Santa Fe', 'New York':'Albany',\n",
    "'North Carolina':'Raleigh', 'North Dakota':'Bismarck',\n",
    "'Ohio':'Columbus', 'Oklahoma':'Oklahoma City',\n",
    "'Oregon':'Salem', 'Pennsylvania':'Harrisburg',\n",
    "'Rhode Island':'Providence', 'South Carolina':'Columbia',\n",
    "'South Dakota':'Pierre', 'Tennessee':'Nashville',\n",
    "'Texas':'Austin', 'Utah':'Salt Lake City',\n",
    "'Vermont':'Montpelier', 'Virginia':'Richmond',\n",
    "'Washington':'Olympia', 'West Virginia':'Charleston',\n",
    "'Wisconsin':'Madison', 'Wyoming':'Cheyenne'\n",
    "}"
   ]
  },
  {
   "cell_type": "code",
   "execution_count": null,
   "id": "b69cc021",
   "metadata": {},
   "outputs": [],
   "source": []
  },
  {
   "cell_type": "code",
   "execution_count": null,
   "id": "89400327",
   "metadata": {},
   "outputs": [],
   "source": [
    "\n",
    "capitals = {'Alabama':'Montgomery', 'Alaska':'Juneau',\n",
    "                'Arizona':'Phoenix', 'Arkansas':'Little Rock',\n",
    "                'California':'Sacramento', 'Colorado':'Denver',\n",
    "                'Connecticut':'Hartford', 'Delaware':'Dover',\n",
    "                'Florida':'Tallahassee', 'Georgia':'Atlanta',\n",
    "                'Hawaii':'Honolulu', 'Idaho':'Boise',\n",
    "                'Illinois':'Springfield', 'Indiana':'Indianapolis',\n",
    "                'Iowa':'Des Moines', 'Kansas':'Topeka',\n",
    "                'Kentucky':'Frankfort', 'Louisiana':'Baton Rouge',\n",
    "                'Maine':'Augusta', 'Maryland':'Annapolis',\n",
    "                'Massachusetts':'Boston', 'Michigan':'Lansing',\n",
    "                'Minnesota':'Saint Paul', 'Mississippi':'Jackson',\n",
    "                'Missouri':'Jefferson City', 'Montana':'Helena',\n",
    "                'Nebraska':'Lincoln', 'Nevada':'Carson City',\n",
    "                'New Hampshire':'Concord', 'New Jersey':'Trenton',\n",
    "                'New Mexico':'Santa Fe', 'New York':'Albany',\n",
    "                'North Carolina':'Raleigh', 'North Dakota':'Bismarck',\n",
    "                'Ohio':'Columbus', 'Oklahoma':'Oklahoma City',\n",
    "                'Oregon':'Salem', 'Pennsylvania':'Harrisburg',\n",
    "                'Rhode Island':'Providence', 'South Carolina':'Columbia',\n",
    "                'South Dakota':'Pierre', 'Tennessee':'Nashville',\n",
    "                'Texas':'Austin', 'Utah':'Salt Lake City',\n",
    "                'Vermont':'Montpelier', 'Virginia':'Richmond',\n",
    "                'Washington':'Olympia', 'West Virginia':'Charleston',\n",
    "                'Wisconsin':'Madison', 'Wyoming':'Cheyenne'}\n",
    "\n",
    "def questions():\n",
    "    RightAnswers = 0\n",
    "    WrongAnswers = 0\n",
    "    TotalAttempts = 0\n",
    "    for (state,capital) in capitals.items():\n",
    "        answer = input(f\"what is the Capital for {state}? Type 'Quit' anytime to quit.  \")\n",
    "        if answer.lower() == 'quit':\n",
    "            print(f\"You have answered {RightAnswers} correctly out of {TotalAttempts}. Thank you for playing.\")\n",
    "            break\n",
    "        elif answer.lower() == capital.lower():\n",
    "            print(\"Congrats\")\n",
    "            RightAnswers +=1\n",
    "        else:\n",
    "            print(f\"sorry, the capital of {state} is {capital.upper()}\")\n",
    "            WrongAnswers +=1\n",
    "        TotalAttempts +=1\n",
    "        \n",
    "    PlayAgain = input(f\"You have answered {RightAnswers} correctly out of {TotalAttempts}, would you like to play again? Yes\")\n",
    "    if PlayAgain.lower() == 'yes':\n",
    "        questions()\n",
    "    else:\n",
    "        print(f\"You have answered {RightAnswers} correctly out of {TotalAttempts}. Thank you for playing.\")\n",
    "questions()\n"
   ]
  },
  {
   "cell_type": "markdown",
   "id": "c50a9d85",
   "metadata": {},
   "source": [
    "# THANK YOU"
   ]
  },
  {
   "cell_type": "code",
   "execution_count": null,
   "id": "2259586d",
   "metadata": {},
   "outputs": [],
   "source": []
  },
  {
   "cell_type": "code",
   "execution_count": null,
   "id": "9460b66e",
   "metadata": {},
   "outputs": [],
   "source": []
  },
  {
   "cell_type": "code",
   "execution_count": null,
   "id": "107e3e21",
   "metadata": {},
   "outputs": [],
   "source": []
  }
 ],
 "metadata": {
  "kernelspec": {
   "display_name": "Python 3",
   "language": "python",
   "name": "python3"
  },
  "language_info": {
   "codemirror_mode": {
    "name": "ipython",
    "version": 3
   },
   "file_extension": ".py",
   "mimetype": "text/x-python",
   "name": "python",
   "nbconvert_exporter": "python",
   "pygments_lexer": "ipython3",
   "version": "3.7.7 (tags/v3.7.7:d7c567b08f, Mar 10 2020, 10:41:24) [MSC v.1900 64 bit (AMD64)]"
  },
  "vscode": {
   "interpreter": {
    "hash": "5109d816b82be14675a6b11f8e0f0d2e80f029176ed3710d54e125caa8520dfd"
   }
  }
 },
 "nbformat": 4,
 "nbformat_minor": 5
}
