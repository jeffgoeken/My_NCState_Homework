{
 "cells": [
  {
   "attachments": {},
   "cell_type": "markdown",
   "id": "91738b61",
   "metadata": {
    "id": "c3e413d5"
   },
   "source": [
    "# Workshop 4 [Student]\n",
    "\n",
    "This notebook will cover the following topics:\n",
    "\n",
    "1. Composition   \n",
    "2. Encapsulation\n",
    "3. Public v/s Private\n",
    "4. Dunder Methods\n",
    "5. Inheritance\n",
    "6. Mini Project\n"
   ]
  },
  {
   "attachments": {},
   "cell_type": "markdown",
   "id": "67399032",
   "metadata": {
    "id": "41e9aaec"
   },
   "source": [
    "## 4.1 COMPOSITION (Follow):  \n",
    "\n",
    "**Learning Objectives:**\n",
    "\n",
    "1. Understand what things can be placed inside objects - \n",
    "2. Understand how to implement an object\n",
    "3. Understand what a program can do with those things inside objects\n",
    "4. Understand what constructors are"
   ]
  },
  {
   "cell_type": "code",
   "execution_count": null,
   "id": "ff229155",
   "metadata": {
    "id": "4da24d64"
   },
   "outputs": [],
   "source": [
    "\"\"\"\n",
    "Add comments for you own reference\n",
    "\"\"\"\n",
    "\n",
    "class Pet:\n",
    "    def __init__(self, name, animal_type, age):\n",
    "        self.name = name \n",
    "        self.animal_type = animal_type\n",
    "        self.age = age\n",
    "        "
   ]
  },
  {
   "cell_type": "code",
   "execution_count": null,
   "id": "64cd7937",
   "metadata": {
    "id": "af3e33de",
    "outputId": "6d0b848e-ac3d-4cc7-e0d6-d4c349d24ed2"
   },
   "outputs": [],
   "source": [
    "\"\"\"\n",
    "Add comments for you own reference\n",
    "\"\"\"\n",
    "\n",
    "def main():\n",
    "    \n",
    "    age = 5\n",
    "    name = \"Spot\"\n",
    "    animal_type = \"Goldfish\"\n",
    "    \n",
    "    mypet = Pet(name, animal_type, age)\n",
    "\n",
    "    print_object(mypet)\n",
    "    \n",
    "    \n",
    "def print_object(object_name):\n",
    "    print(object_name.name)\n",
    "    print(object_name.age)\n",
    "    print(object_name.animal_type)\n",
    "    \n",
    "    \n",
    "main()"
   ]
  },
  {
   "attachments": {},
   "cell_type": "markdown",
   "id": "b4c3f7b5",
   "metadata": {
    "id": "8de49e9a"
   },
   "source": [
    "### As the above code executes, think about the following questions:\n",
    "\n",
    "1. What does the __init__ function do? Intitializes the class object\n",
    "2. What does the __ in front of a vairable do? Identifies it as a Dunder method\n",
    "3. What is a class?The out line of an object\n",
    "4. How could you use a class in programming?Spawn objects "
   ]
  },
  {
   "cell_type": "markdown",
   "id": "a62520e8",
   "metadata": {
    "id": "c53381e8"
   },
   "source": [
    "## 4.1 Composition (Group): \n",
    "\n",
    "**Write a program that will do the following:**\n",
    "\n",
    "1. Implement a class car.\n",
    "2. The class car will have the following attributes: year, make, and model.\n",
    "3. The user can input the information or it may be hard coded.\n",
    "4. The program will create an object of type car and store this information.\n",
    "5. Print the information stored in the object."
   ]
  },
  {
   "cell_type": "code",
   "execution_count": null,
   "id": "170d8999",
   "metadata": {
    "id": "012e22e3",
    "outputId": "f6dc1283-624f-4402-f806-7e4e1cbaae43"
   },
   "outputs": [],
   "source": [
    "class car:\n",
    "    def __init__(self,make,model,year,color):\n",
    "        self.make = make\n",
    "        self.model = model\n",
    "        self.year = year\n",
    "        self.color = color\n"
   ]
  },
  {
   "cell_type": "code",
   "execution_count": null,
   "id": "eef6c185",
   "metadata": {},
   "outputs": [],
   "source": [
    "mycar = car('Ford','Mustang',2013,'black')\n",
    "mycar2 = car('Chevy','Silverado',2008,'Slate Gray')\n",
    "print(mycar.make)\n",
    "print(mycar2.color)\n"
   ]
  },
  {
   "cell_type": "markdown",
   "id": "aa213e60",
   "metadata": {
    "id": "df0073c0"
   },
   "source": [
    "## 4.2 Encapsulation (Follow):\n",
    "\n",
    "**Learning Objectives:**\n",
    "\n",
    "1. Understand how functions behave inside classes\n",
    "2. Understand how to call functions on classes\n",
    "3. Understand how to manipulate date using function inside classes\n",
    "4. Understand what can and cannot be called inside functions "
   ]
  },
  {
   "cell_type": "code",
   "execution_count": null,
   "id": "06af37ab",
   "metadata": {
    "id": "e32ec1ff"
   },
   "outputs": [],
   "source": [
    "\"\"\"\n",
    "Add comments for you own reference\n",
    "\"\"\"\n",
    "\n",
    "class BankAccount:\n",
    "\n",
    "    def __init__(self, bal):\n",
    "        self.__balance = bal \n",
    "\n",
    "    def deposit(self, amount):\n",
    "        self.__balance += amount\n",
    "\n",
    "    def withdraw(self, amount):\n",
    "        if self.__balance >= amount:\n",
    "            self.__balance -= amount\n",
    "        else:\n",
    "            print('Error: Insufficient funds')\n",
    "\n",
    "    def get_balance(self):\n",
    "        return self.__balance\n",
    "    "
   ]
  },
  {
   "cell_type": "code",
   "execution_count": null,
   "id": "d83c2b91",
   "metadata": {
    "id": "aa637898",
    "outputId": "08a1c213-80c0-434e-d150-9358d6f193cb"
   },
   "outputs": [],
   "source": [
    "\"\"\"\n",
    "Add comments for you own reference\n",
    "\"\"\"\n",
    "\n",
    "if __name__ == '__main__':\n",
    "\n",
    "    start_bal = float(input('Enter your starting balance: '))\n",
    "\n",
    "    savings = BankAccount(start_bal)\n",
    "\n",
    "    pay = float(input('How much were you paid this week? '))\n",
    "    print('I will deposit that into your account.')\n",
    "    savings.deposit(pay)\n",
    "\n",
    "    balance = savings.get_balance()\n",
    "    print(balance)\n",
    "\n",
    "    cash = float(input('How much would you like to withdraw? '))\n",
    "    print('I will withdraw that from your account.')\n",
    "    savings.withdraw(cash)\n",
    "\n",
    "    print(savings.get_balance())\n",
    "    "
   ]
  },
  {
   "cell_type": "markdown",
   "id": "bac88999",
   "metadata": {
    "id": "137bac34"
   },
   "source": [
    "### As the above code executes, think about the following questions:\n",
    "\n",
    "1. What are the \"__\" for in python?\n",
    "2. Can you directly return the balance from the account?  Explain.\n",
    "3. What does the \"if __ name __ == '__ main __':\" line do?\n",
    "4. How do you call functions inside classes?"
   ]
  },
  {
   "cell_type": "markdown",
   "id": "eda93b4d",
   "metadata": {
    "id": "0f1d2448"
   },
   "source": [
    "## 4.2 Encapsulation (Group): \n",
    "\n",
    "**Write a program that will do the following:**\n",
    "\n",
    "1. Create class information.\n",
    "2. The information class' attributes are name, address, age, and phone number.\n",
    "3. Provide methods to modify and print attributes.\n",
    "4. Outside of the class, accept input from the console to instantiate at least three information objects.  Alternatively, you may hard code these objects.  \n",
    "5. Print the contents to the screen.  "
   ]
  },
  {
   "cell_type": "code",
   "execution_count": null,
   "id": "bc4b60a8",
   "metadata": {
    "id": "370bb894"
   },
   "outputs": [],
   "source": [
    "\n",
    "class person:\n",
    "    def __init__ (self,name,address,age,phone):\n",
    "        self.__name = name\n",
    "        self.__address = address\n",
    "        self.__age = age\n",
    "        self.__phone = phone\n",
    "    \n",
    "    def ChangeName(self):\n",
    "        newValue = input('Please enter the new name. ')\n",
    "        self.__name = newValue\n",
    "        \n",
    "    def ChangeAddress(self):\n",
    "        newValue = input('Please enter the new address. ')\n",
    "        self.__address = newValue\n",
    "        \n",
    "    def ChangeAge(self):\n",
    "        newValue = input('Please enter the new Age.')\n",
    "        self.__age = newValue\n",
    "        \n",
    "    def ChangePhone(self):\n",
    "        newValue = input('Please enter the new phone number.')\n",
    "        self.__phone = newValue\n",
    "        \n",
    "    \n",
    "        \n",
    "    def __str__(self):\n",
    "        return (f'Name:{self.__name} \\n Age: {self.__age} \\n Address {self.__address} \\nPhone: {self.__phone}\\n')\n",
    "        \n",
    "    "
   ]
  },
  {
   "cell_type": "code",
   "execution_count": null,
   "id": "78f7d3e3",
   "metadata": {},
   "outputs": [],
   "source": [
    "Mycat = person('Pita','7208 EagleGate',3,'123-456-7890')\n",
    "print(Mycat)\n",
    "Mycat.ChangeName()\n",
    "print(Mycat)"
   ]
  },
  {
   "cell_type": "code",
   "execution_count": null,
   "id": "ca49bc13",
   "metadata": {},
   "outputs": [],
   "source": [
    "Ryan = person('Ryan','Somewhere in WA',25,'123-456-7890')\n",
    "print(Ryan)\n",
    "Ryan.ChangeAddress()\n",
    "print(Ryan)"
   ]
  },
  {
   "cell_type": "code",
   "execution_count": null,
   "id": "065d4d44",
   "metadata": {
    "id": "6bb3392b",
    "outputId": "50d4a25f-080c-4231-e316-a0fcdf68e227"
   },
   "outputs": [],
   "source": [
    "me = person('Jeff','7208 EagleGate',50,'123-456-7890')\n",
    "print(me)\n",
    "me.ChangeAge()\n",
    "print(me)"
   ]
  },
  {
   "attachments": {},
   "cell_type": "markdown",
   "id": "85e90bfe",
   "metadata": {},
   "source": [
    "## 4.3 PUBLIC VS PRIVATE (Follow):\n",
    "\n",
    "**Learning Objectives:**\n",
    "\n",
    "1. Understand how public and private scope work with classes - Here is a change\n",
    "2. Learn how to use public and private entities\n",
    "3. Understand the requirement of private and public methods"
   ]
  },
  {
   "cell_type": "code",
   "execution_count": null,
   "id": "e9bb712d",
   "metadata": {},
   "outputs": [],
   "source": []
  },
  {
   "cell_type": "code",
   "execution_count": null,
   "id": "ac42562d",
   "metadata": {},
   "outputs": [],
   "source": [
    "\n",
    "\"\"\"\n",
    "Add comments for you own reference\n",
    "\"\"\"\n",
    "\n",
    "class Car:\n",
    "    def __init__(self, year, color):\n",
    "        self.year = year\n",
    "        self.color = color\n",
    "        self.__engineNum = 101\n",
    "    def changeColor(self,color):\n",
    "        self.color = color \n",
    "    def __newEngine(self):\n",
    "        self.__engineNum = 202  \n",
    "    def changeEngine(self):\n",
    "        print(\"Old Engine=\", self.__engineNum)\n",
    "        self.__newEngine()\n",
    "        print(\"New Engine=\", self.__engineNum)"
   ]
  },
  {
   "cell_type": "code",
   "execution_count": null,
   "id": "03be8175",
   "metadata": {},
   "outputs": [],
   "source": [
    "\"\"\"\n",
    "Add comments for you own reference\n",
    "\"\"\"\n",
    "\n",
    "car1 = Car(2002,'Black')\n",
    "print(car1.year,\"-\",car1.color)\n",
    "car1.changeColor(\"Blue\")\n",
    "print(car1.year,\"-\",car1.color)\n",
    "car1.changeEngine()\n",
    "#print(car1.__engineNum)\n",
    "\n",
    "\n",
    "print(dir(car1))\n",
    "car1._Car_engineNum = 1\n",
    "print(car1._Car__engineNum)"
   ]
  },
  {
   "cell_type": "markdown",
   "id": "f25c33ac",
   "metadata": {},
   "source": [
    "### As the above code executes, think about the following questions:\n",
    "\n",
    "1. Which methods are public and which are private?\n",
    "2. What is the use for private methods and variables?\n",
    "3. What is the difference between a public and private variable?"
   ]
  },
  {
   "cell_type": "markdown",
   "id": "47d52d1e",
   "metadata": {},
   "source": [
    "## 4.3 PUBLIC VS PRIVATE (Group):\n",
    "\n",
    "**Write a program that will do the following:**\n",
    "\n",
    "1. Create a class that is capable of catergorizing football teams.\n",
    "2. The class should have at least three attributes.\n",
    "3. All of these attributes should be private.\n",
    "4. The class should have functions to print all attributes.\n",
    "5. All functions should be public.\n",
    "6. Create three to four different team objects and print the attributes for each team."
   ]
  },
  {
   "cell_type": "code",
   "execution_count": null,
   "id": "58555258",
   "metadata": {},
   "outputs": [],
   "source": [
    "class nfl:\n",
    "    def __init__(self,city,name,division):\n",
    "        self.__city = city\n",
    "        self.__name = name\n",
    "        self.__division = division\n",
    "        \n",
    "    def printname(self):\n",
    "        print (f'Team name is {self.__name}')\n",
    "        \n",
    "    def printcity(self):\n",
    "        print(f'Team city is {self.__city}')\n",
    "        \n",
    "    def printdivision(self):\n",
    "        print(f'Team division is {self.__division}')\n",
    "    def __str__(self):\n",
    "        return (f'The {self.__city} {self.__name} are in the {self.__division} division.')\n",
    "    "
   ]
  },
  {
   "cell_type": "code",
   "execution_count": null,
   "id": "52fdc676",
   "metadata": {},
   "outputs": [],
   "source": [
    "Raiders = nfl('Las Vegas','Raiders','AFC West')\n",
    "print(Raiders)"
   ]
  },
  {
   "cell_type": "code",
   "execution_count": null,
   "id": "22a3444d",
   "metadata": {},
   "outputs": [],
   "source": [
    "Seahawks = nfl('Seattle','Seahawks','NFC West')\n",
    "print(Seahawks)"
   ]
  },
  {
   "cell_type": "code",
   "execution_count": null,
   "id": "d7496db3",
   "metadata": {},
   "outputs": [],
   "source": [
    "Cowboys = nfl('Dallas','Cowboys','NFC EAST')\n",
    "print(Cowboys)"
   ]
  },
  {
   "cell_type": "code",
   "execution_count": null,
   "id": "181b2e43",
   "metadata": {},
   "outputs": [],
   "source": [
    "Titans = nfl('Tennessee','Titans','AFC South')\n",
    "print(Titans)\n"
   ]
  },
  {
   "cell_type": "markdown",
   "id": "576c8a4b",
   "metadata": {},
   "source": [
    "## 4.4 DUNDER METHODS (Follow)\n",
    "\n",
    "**Learning Objectives:**\n",
    "\n",
    "1. Understand how functions behave inside classes\n",
    "2. Understand how to call functions on classes\n",
    "3. Understand how to manipulate date using function inside classes\n",
    "4. Understand what can and cannot be called inside functions "
   ]
  },
  {
   "cell_type": "code",
   "execution_count": null,
   "id": "6f33ea93",
   "metadata": {},
   "outputs": [],
   "source": [
    "\"\"\"\n",
    "Add comments for you own reference\n",
    "\"\"\"\n",
    "\n",
    "class Car:\n",
    "    def __init__(self, year, model, color):\n",
    "        self.year = year\n",
    "        self.model = model\n",
    "        self.color = color\n",
    "    def __str__(self):\n",
    "        return f\"A {self.year}-{self.model} in {self.color}\"\n",
    "\n",
    "this_car = Car(2002,\"BMW\",\"black\")\n",
    "print(this_car)\n"
   ]
  },
  {
   "cell_type": "markdown",
   "id": "8ccd5ba6",
   "metadata": {},
   "source": [
    "**Evaluation:**\n",
    "\n",
    "After running this program, think about and answer these questions:\n",
    "\n",
    "1. What other dunder methods exist?\n",
    "2. What is the use for dunder methods?"
   ]
  },
  {
   "cell_type": "markdown",
   "id": "50b30740",
   "metadata": {},
   "source": [
    "# 4.4 DUNDER METHODS (Group)\n",
    "\n",
    "**Write a program that will do the following:**\n",
    "\n",
    "1. Create class Library\n",
    "2. All meta data about the book must be private\n",
    "3. When an object is displayed, it should display important details of a library\n",
    "    - Name\n",
    "    - Number of Books\n",
    "    - List of Books and details\n",
    "4. User should be able to add books by addBook() function of library"
   ]
  },
  {
   "cell_type": "code",
   "execution_count": null,
   "id": "ed6d9f84",
   "metadata": {},
   "outputs": [],
   "source": [
    "\n",
    "import pandas as pd\n",
    "class library:\n",
    "    def __init__(self,name):\n",
    "        self.__name = name\n",
    "        books = {'Title':[],\n",
    "                 'Author':[],\n",
    "                 'Genre':[]}\n",
    "        self.__books = books\n",
    "    def AddBook(self,Title,Author,Genre):\n",
    "        self.__books['Title'].append(Title)\n",
    "        self.__books['Author'].append(Author)\n",
    "        self.__books['Genre'].append(Genre)\n",
    "    def __str__(self): \n",
    "        bks = pd.DataFrame(self.__books)\n",
    "        return f'{self.__name} library contains the following {bks.shape[0]} books:\\n {bks}'\n",
    "    def BookCount(self):\n",
    "        print (self.__books.__len__()-1)\n"
   ]
  },
  {
   "cell_type": "code",
   "execution_count": null,
   "id": "43d7c83d",
   "metadata": {},
   "outputs": [],
   "source": []
  },
  {
   "cell_type": "code",
   "execution_count": null,
   "id": "0199c945",
   "metadata": {},
   "outputs": [],
   "source": [
    "Cent_Hills = library('Centennial Hills Library')\n",
    "\n",
    "Cent_Hills.AddBook('Quantum Shadow','Jeff Goeken','Sci-Fi')\n",
    "Cent_Hills.AddBook('Frost and Ice','Lori Smith','Romance',)\n",
    "\n",
    "print(Cent_Hills)\n",
    "\n"
   ]
  },
  {
   "cell_type": "code",
   "execution_count": null,
   "id": "992fe49d",
   "metadata": {},
   "outputs": [],
   "source": [
    "Summerlin = library('Summerlin')\n",
    "\n",
    "Summerlin.AddBook('Into the Storm','Rufus Blue','Crime')\n",
    "Summerlin.AddBook('Theif of light','Pete G','Fantasy')\n",
    "Summerlin.AddBook('Frost and Ice','Lori Smith','Romance',)\n",
    "print(Summerlin)\n",
    "print(Summerlin.BookCount())"
   ]
  },
  {
   "cell_type": "markdown",
   "id": "fc469214",
   "metadata": {
    "id": "b9f5681d"
   },
   "source": [
    "## 4.5 INHERITANCE (Follow):  \n",
    "\n",
    "**Learning Objectives:**\n",
    "\n",
    "1. Understand how inheritance works\n",
    "2. Understand how to declare inheritance\n",
    "3. Understand what is inherited by a class"
   ]
  },
  {
   "cell_type": "code",
   "execution_count": null,
   "id": "0eb6d562",
   "metadata": {
    "id": "a386b86c"
   },
   "outputs": [],
   "source": [
    "\"\"\"\n",
    "Add comments for you own reference\n",
    "\"\"\"\n",
    "\n",
    "class Automobile:\n",
    "    \n",
    "    def __init__(self, make, model, mileage, price):\n",
    "        self.__make = make\n",
    "        self.__model = model\n",
    "        self.__mileage = mileage\n",
    "        self.__price = price\n",
    "\n",
    "    \n",
    "    def set_make(self, make):\n",
    "        self.__make = make\n",
    "\n",
    "    def set_model(self, model):\n",
    "        self.__model = model\n",
    "\n",
    "    def set_mileage(self, mileage):\n",
    "        self.__mileage = mileage\n",
    "\n",
    "    def set_price(self, price):\n",
    "        self.__price = price\n",
    "\n",
    "    \n",
    "    def get_make(self):\n",
    "        return self.__make\n",
    "\n",
    "    def get_model(self):\n",
    "        return self.__model\n",
    "\n",
    "    def get_mileage(self):\n",
    "        return self.__mileage\n",
    "\n",
    "    def get_price(self):\n",
    "        return self.__price\n"
   ]
  },
  {
   "cell_type": "code",
   "execution_count": null,
   "id": "d0fda477",
   "metadata": {
    "id": "7q6wI8HygYO8"
   },
   "outputs": [],
   "source": [
    "\"\"\"\n",
    "Add comments for you own reference\n",
    "\"\"\"\n",
    "\n",
    "class Car(Automobile):\n",
    "    \n",
    "    def __init__(self, make, model, mileage, price, doors):\n",
    "\n",
    "        Automobile.__init__(self, make, model, mileage, price)\n",
    "        self.__doors = doors\n",
    "\n",
    "    \n",
    "    def set_doors(self, doors):\n",
    "        self.__doors = doors\n",
    "\n",
    "    def get_doors(self):\n",
    "        return self.__doors\n",
    "    \n",
    "    #def get_make(self):\n",
    "     #   return self.__make\n"
   ]
  },
  {
   "cell_type": "code",
   "execution_count": null,
   "id": "918e0b42",
   "metadata": {
    "id": "uCYc3kZ3giy7"
   },
   "outputs": [],
   "source": [
    "\"\"\"\n",
    "Add comments for you own reference\n",
    "\"\"\"\n",
    "\n",
    "class Truck(Automobile):\n",
    "    \n",
    "    def __init__(self, make, model, mileage, price, drive_type):\n",
    "        Automobile.__init__(self, make, model, mileage, price)\n",
    "        \n",
    "        self.__drive_type = drive_type\n",
    "\n",
    "    \n",
    "    def set_drive_type(self, drive_type):\n",
    "        self.__drive_type = drive_type\n",
    "\n",
    "    def get_drive_type(self):\n",
    "        return self.__drive_type\n"
   ]
  },
  {
   "cell_type": "code",
   "execution_count": null,
   "id": "8082f33e",
   "metadata": {
    "id": "XePI46Evgqbv"
   },
   "outputs": [],
   "source": [
    "\"\"\"\n",
    "Add comments for you own reference\n",
    "\"\"\"\n",
    "\n",
    "class SUV(Automobile):\n",
    "    \n",
    "    def __init__(self, make, model, mileage, price, pass_cap):\n",
    "        Automobile.__init__(self, make, model, mileage, price)\n",
    "        \n",
    "        self.__pass_cap = pass_cap\n",
    "\n",
    "    \n",
    "    def set_pass_cap(self, pass_cap):\n",
    "        self.__pass_cap = pass_cap\n",
    "\n",
    "    def get_pass_cap(self):\n",
    "        return self.__pass_cap"
   ]
  },
  {
   "cell_type": "code",
   "execution_count": null,
   "id": "edf2bca1",
   "metadata": {
    "id": "2cc062ca"
   },
   "outputs": [],
   "source": [
    "\"\"\"\n",
    "Add comments for you own reference\n",
    "\"\"\"\n",
    "\n",
    "used_car = Car('Audi', 2007, 12500, 21500.00, 4)\n",
    "\n",
    "print('Make:', used_car.get_make())\n",
    "print('Model:', used_car.get_model())\n",
    "print('Mileage:', used_car.get_mileage())\n",
    "print('Price:', used_car.get_price())\n",
    "print('Number of doors:', used_car.get_doors())\n",
    "\n",
    "print(dir(used_car))\n"
   ]
  },
  {
   "cell_type": "markdown",
   "id": "896760e1",
   "metadata": {
    "id": "dQaOC50_hhvk"
   },
   "source": [
    "### As the above code executes, think about the following questions:\n",
    "\n",
    "1. Create objects for the truck and SUV classes for the above code.\n",
    "2. Print the information for each created object.\n",
    "3. What does putting Automobile in parenthesis do? "
   ]
  },
  {
   "cell_type": "markdown",
   "id": "6e3f529a",
   "metadata": {
    "id": "ff0066ba"
   },
   "source": [
    "# 4.5 Inheritance (Group):  \n",
    "\n",
    "**Write a program that will do the following:**\n",
    "\n",
    "1. Create a savings account base class.\n",
    "2. Create a class CD which inherits class savings.\n",
    "3. The savings class should contain account number, interest rate, and balance.\n",
    "4. CD class should contain maturity date along with all inherited attributes.\n",
    "5. Both classes should have functions to access and change all attributes.\n",
    "6. Write some code to access and change the attributes."
   ]
  },
  {
   "cell_type": "code",
   "execution_count": 63,
   "id": "bfd25b84",
   "metadata": {
    "executionInfo": {
     "elapsed": 4,
     "status": "ok",
     "timestamp": 1643218896122,
     "user": {
      "displayName": "Travis Martin",
      "photoUrl": "https://lh3.googleusercontent.com/a/default-user=s64",
      "userId": "17005528951968776844"
     },
     "user_tz": 360
    },
    "id": "ab1742b9"
   },
   "outputs": [],
   "source": [
    "\n",
    "class SavingsAccount:\n",
    "    def __init__(self,AccountNumber,IntrestRate,Balance):\n",
    "        self.__AccountNumber = AccountNumber\n",
    "        self.__IntrestRate = IntrestRate\n",
    "        self.__Balance = Balance\n",
    "        \n",
    "    def __str__(self):\n",
    "        return f'Account Number:{self.__AccountNumber}\\nIntrest Rate:{self.__IntrestRate}\\nBalance: {self.__Balance}'\n",
    "    \n",
    "    def SetAccountNumber(self):\n",
    "        NewAccountNumber = input(f\"The old accountnumber is {self.__AccountNumber}. Please enter the new account number: \")\n",
    "        self.__AccountNumber = NewAccountNumber\n",
    "        print(self)\n",
    "        \n",
    "    def SetIntrestRate(self):\n",
    "        Attribute = \"IntrestRate\"\n",
    "        Value = input(f\"The old {Attribute} is {self.__AccountNumber}. Please enter the new {Attribute}: \")\n",
    "        self.__IntrestRate = Value\n",
    "        print(self)\n",
    "        \n",
    "    def SetBalance(self):\n",
    "        Attribute = \"Balance\"\n",
    "        Value = input(f\"The old {Attribute} is {self.__AccountNumber}. Please enter the new {Attribute}: \")\n",
    "        self.__Balance = Value\n",
    "        print(self)"
   ]
  },
  {
   "cell_type": "code",
   "execution_count": 65,
   "id": "29654b20",
   "metadata": {
    "executionInfo": {
     "elapsed": 406,
     "status": "ok",
     "timestamp": 1643218901215,
     "user": {
      "displayName": "Travis Martin",
      "photoUrl": "https://lh3.googleusercontent.com/a/default-user=s64",
      "userId": "17005528951968776844"
     },
     "user_tz": 360
    },
    "id": "bWN9I3ndeLh7"
   },
   "outputs": [],
   "source": [
    "class CD(SavingsAccount):\n",
    "    def __init__(self,AccountNumber,IntrestRate,Balance,MaturityDate):\n",
    "        SavingsAccount.__init__(self,AccountNumber,IntrestRate,Balance)\n",
    "        \n",
    "        self.__MaturityDate = MaturityDate\n",
    "    \n",
    "    def GetMaturityDate(self):\n",
    "            print( f\"{self} \\nMaturity Date: {self.__MaturityDate}\")\n",
    "            \n",
    "    def SetMaturityDate(self):\n",
    "        Attribute = \"MaturityDate\"\n",
    "        Value = input(f\"The old {Attribute} is {self.__MaturityDate}. Please enter the new {Attribute}: \")\n",
    "        self.__MaturityDate = Value\n",
    "        print(self) \n"
   ]
  },
  {
   "cell_type": "code",
   "execution_count": 66,
   "id": "9b9b9da4",
   "metadata": {
    "colab": {
     "base_uri": "https://localhost:8080/"
    },
    "executionInfo": {
     "elapsed": 41205,
     "status": "ok",
     "timestamp": 1643218945139,
     "user": {
      "displayName": "Travis Martin",
      "photoUrl": "https://lh3.googleusercontent.com/a/default-user=s64",
      "userId": "17005528951968776844"
     },
     "user_tz": 360
    },
    "id": "3779d26c",
    "outputId": "68e7a265-18f0-41cd-ce13-f22a48bfa8c4"
   },
   "outputs": [
    {
     "name": "stdout",
     "output_type": "stream",
     "text": [
      "Account Number:365412\n",
      "Intrest Rate:0.01\n",
      "Balance: 300.0\n"
     ]
    }
   ],
   "source": [
    "Account1 = SavingsAccount(12345,.01,300.00)\n",
    "Account1.SetAccountNumber()"
   ]
  },
  {
   "cell_type": "code",
   "execution_count": 68,
   "id": "bd8d2eec",
   "metadata": {},
   "outputs": [
    {
     "name": "stdout",
     "output_type": "stream",
     "text": [
      "Account Number:12345\n",
      "Intrest Rate:0.01\n",
      "Balance: 300.0 \n",
      "Maturity Date: 1-1-2030\n"
     ]
    }
   ],
   "source": [
    "MyCD = CD(12345,.01,300.00,'1-1-2030')\n",
    "MyCD.GetMaturityDate()"
   ]
  },
  {
   "cell_type": "code",
   "execution_count": null,
   "id": "b2ac6aef",
   "metadata": {},
   "outputs": [],
   "source": [
    "MyCD.GetMaturityDate()"
   ]
  },
  {
   "cell_type": "markdown",
   "id": "71a1fabb",
   "metadata": {
    "id": "Lv4WoegwSfcq"
   },
   "source": [
    "## Week 4 MINI PROJECT\n",
    "\n",
    "The project should be created to be useful in your life.  Here are some guidelines for the project.\n",
    "\n",
    "1. Create a class employee.\n",
    "2. Class employee should contain 2 to 3 attributes.\n",
    "3. Create 1-2 other classes that inherit employee class.\n",
    "4. Each of the sub classes should have 2-3 attributes.\n",
    "5. Make sure to write functions that can both change and print attributes."
   ]
  },
  {
   "cell_type": "code",
   "execution_count": 82,
   "id": "5b4bae5b",
   "metadata": {
    "executionInfo": {
     "elapsed": 155,
     "status": "ok",
     "timestamp": 1643222178342,
     "user": {
      "displayName": "Travis Martin",
      "photoUrl": "https://lh3.googleusercontent.com/a/default-user=s64",
      "userId": "17005528951968776844"
     },
     "user_tz": 360
    },
    "id": "4evC8OBxTUsd"
   },
   "outputs": [],
   "source": [
    "class employee:\n",
    "    def __init__(self,firstname,lastname,ssn):\n",
    "        self.__firstname = firstname\n",
    "        self.__lastname = lastname\n",
    "        self.__ssn = ssn\n",
    "        self.Value = ''\n",
    "        self.Attribute = ''\n",
    "        self.InputRequest = f\"The old {self.Attribute} is {self.Value}. Please enter the new {self.Attribute}: \"\n",
    "        \n",
    "    def __str__(self):\n",
    "        return f'First Name: {self.__firstname}\\nLast Name:{self.__lastname}\\nSSN:{self.__ssn}'\n",
    "        \n",
    "    def SetFirstName(self):\n",
    "        Attribute = \"Firstname\"\n",
    "        Value = self.__firstname\n",
    "        newValue = input(f\"The old {Attribute} is {Value}. Please enter the new {Attribute}: \")\n",
    "        self.__firstname = newValue\n",
    "        print(self)\n",
    "        \n",
    "    def SetLastname(self):\n",
    "        Attribute = \"lastname\"\n",
    "        Value = self.__lastname\n",
    "        newValue = input(f\"The old {Attribute} is {Value}. Please enter the new {Attribute}: \")\n",
    "        self.__lastname = newValue\n",
    "        print(self)\n",
    "        \n",
    "    def SetSSN(self):\n",
    "        Attribute = \"Social Security Number\"\n",
    "        Value = self.__ssn\n",
    "        newValue = input(f\"The old {Attribute} is {Value}. Please enter the new {Attribute}: \")\n",
    "        self.__ssn = newValue\n",
    "        print(self)\n",
    "        "
   ]
  },
  {
   "cell_type": "code",
   "execution_count": 74,
   "id": "7de08046",
   "metadata": {
    "executionInfo": {
     "elapsed": 164,
     "status": "ok",
     "timestamp": 1643222303421,
     "user": {
      "displayName": "Travis Martin",
      "photoUrl": "https://lh3.googleusercontent.com/a/default-user=s64",
      "userId": "17005528951968776844"
     },
     "user_tz": 360
    },
    "id": "OY70eOxeqjyv"
   },
   "outputs": [],
   "source": [
    "class wage(employee):\n",
    "    \n",
    "    def __init__(self,firstname,lastname,ssn,paygrade,bonus):\n",
    "        employee.__init__(self,firstname,lastname,ssn,)\n",
    "        self.__paytype = 'Hourly'\n",
    "        self.__paygrade = paygrade\n",
    "        self.__bonus = bonus\n",
    "        self.__printWage()\n",
    "    \n",
    "    def SetPayType(self):\n",
    "        self.__paytype = 'Salery'\n",
    "        self.__printWage()\n",
    "        \n",
    "    def SetPayGrade(self):\n",
    "        Attribute = \"Pay Grade\"\n",
    "        Value = self.__paygrade\n",
    "        newValue = input(f\"The old {Attribute} is {Value}. Please enter the new {Attribute}: \")\n",
    "        self.__paygrade = newValue\n",
    "        self.__printWage()\n",
    "    \n",
    "    def SetBonus(self):\n",
    "        Attribute = \"Bonus Structure\"\n",
    "        Value = self.__bonus\n",
    "        newValue = input(f\"The old {Attribute} is {Value}. Please enter the new {Attribute}: \")\n",
    "        self.__bonus = newValue\n",
    "        self.__printWage() \n",
    "    \n",
    "    def __printWage(self):\n",
    "        print(f'{self}\\nPay Type: {self.__paytype}\\nPay Grade: {self.__paygrade}\\nBonus Structure: {self.__bonus}\\n*************************************')\n",
    "        \n",
    "         \n",
    "    \n",
    "        \n",
    "        \n"
   ]
  },
  {
   "cell_type": "code",
   "execution_count": 83,
   "id": "d338b44a",
   "metadata": {},
   "outputs": [
    {
     "ename": "IndentationError",
     "evalue": "expected an indented block (2637643096.py, line 26)",
     "output_type": "error",
     "traceback": [
      "\u001b[1;36m  File \u001b[1;32m\"C:\\Users\\jgoek\\AppData\\Local\\Temp\\ipykernel_3768\\2637643096.py\"\u001b[1;36m, line \u001b[1;32m26\u001b[0m\n\u001b[1;33m    def __printpersonal(self):\u001b[0m\n\u001b[1;37m    ^\u001b[0m\n\u001b[1;31mIndentationError\u001b[0m\u001b[1;31m:\u001b[0m expected an indented block\n"
     ]
    }
   ],
   "source": [
    "class personalinfo(employee):\n",
    "    \n",
    "    def __init__(self,firstname,lastname,ssn,address,phone):\n",
    "        employee.__init__(self,firstname,lastname,ssn)\n",
    "        self.__address = address\n",
    "        self.__phone = phone\n",
    "        self.__printpersonal()\n",
    "    \n",
    "\n",
    "    \n",
    "    def Setaddress(self):\n",
    "        self.Attribute = \"Address\"\n",
    "        self.Value = self.__address\n",
    "        self.__address = input(self.InputRequest)\n",
    "        self.__printpersonal()\n",
    "        \n",
    "    def SetPhone(self):\n",
    "        Attribute = \"Phone Number\"\n",
    "        Value = self.__phone\n",
    "        self.__phone = input(self.InputRequest)\n",
    "        self.__printpersonal()\n",
    "        \n",
    "    def printValue():\n",
    "        \n",
    "    \n",
    "    def __printpersonal(self):\n",
    "        print(f'{self}\\nPay Type: {self.__address}\\nPay Grade: {self.__phone}\\n*************************************')"
   ]
  },
  {
   "cell_type": "code",
   "execution_count": null,
   "id": "a7932885",
   "metadata": {
    "colab": {
     "base_uri": "https://localhost:8080/"
    },
    "executionInfo": {
     "elapsed": 6633,
     "status": "ok",
     "timestamp": 1643222312321,
     "user": {
      "displayName": "Travis Martin",
      "photoUrl": "https://lh3.googleusercontent.com/a/default-user=s64",
      "userId": "17005528951968776844"
     },
     "user_tz": 360
    },
    "id": "sMUtesyxqnCX",
    "outputId": "1d9d149f-fb69-47af-d962-535336147288"
   },
   "outputs": [],
   "source": [
    "me = employee('Jeff','Goeken','123-456-7890')\n",
    "print(me)\n",
    "me.SetSSN()\n",
    "\n"
   ]
  },
  {
   "cell_type": "code",
   "execution_count": null,
   "id": "90f91783",
   "metadata": {},
   "outputs": [],
   "source": [
    "myWage = wage('Jeff','Goeken','123-456-7890','A1','2%')\n",
    "myWage.SetPayType()\n",
    "myWage.SetBonus()\n",
    "\n"
   ]
  },
  {
   "cell_type": "code",
   "execution_count": 84,
   "id": "e9bae35d",
   "metadata": {},
   "outputs": [
    {
     "ename": "AttributeError",
     "evalue": "'personalinfo' object has no attribute '_personalinfo__Attribute'",
     "output_type": "error",
     "traceback": [
      "\u001b[1;31m---------------------------------------------------------------------------\u001b[0m",
      "\u001b[1;31mAttributeError\u001b[0m                            Traceback (most recent call last)",
      "\u001b[1;32m~\\AppData\\Local\\Temp\\ipykernel_3768\\2720529225.py\u001b[0m in \u001b[0;36m<module>\u001b[1;34m\u001b[0m\n\u001b[1;32m----> 1\u001b[1;33m \u001b[0mmyinfo\u001b[0m \u001b[1;33m=\u001b[0m \u001b[0mpersonalinfo\u001b[0m\u001b[1;33m(\u001b[0m\u001b[1;34m'Jeff'\u001b[0m\u001b[1;33m,\u001b[0m\u001b[1;34m'Goeken'\u001b[0m\u001b[1;33m,\u001b[0m\u001b[1;34m'123-456-7890'\u001b[0m\u001b[1;33m,\u001b[0m\u001b[1;34m'Somewhere, Las Vegas NV 88888'\u001b[0m\u001b[1;33m,\u001b[0m\u001b[1;34m'123-234-5678'\u001b[0m\u001b[1;33m)\u001b[0m\u001b[1;33m\u001b[0m\u001b[1;33m\u001b[0m\u001b[0m\n\u001b[0m\u001b[0;32m      2\u001b[0m \u001b[0mmyinfo\u001b[0m\u001b[1;33m.\u001b[0m\u001b[0mSetaddress\u001b[0m\u001b[1;33m(\u001b[0m\u001b[1;33m)\u001b[0m\u001b[1;33m\u001b[0m\u001b[1;33m\u001b[0m\u001b[0m\n",
      "\u001b[1;32m~\\AppData\\Local\\Temp\\ipykernel_3768\\1479956895.py\u001b[0m in \u001b[0;36m__init__\u001b[1;34m(self, firstname, lastname, ssn, address, phone)\u001b[0m\n\u001b[0;32m      2\u001b[0m \u001b[1;33m\u001b[0m\u001b[0m\n\u001b[0;32m      3\u001b[0m     \u001b[1;32mdef\u001b[0m \u001b[0m__init__\u001b[0m\u001b[1;33m(\u001b[0m\u001b[0mself\u001b[0m\u001b[1;33m,\u001b[0m\u001b[0mfirstname\u001b[0m\u001b[1;33m,\u001b[0m\u001b[0mlastname\u001b[0m\u001b[1;33m,\u001b[0m\u001b[0mssn\u001b[0m\u001b[1;33m,\u001b[0m\u001b[0maddress\u001b[0m\u001b[1;33m,\u001b[0m\u001b[0mphone\u001b[0m\u001b[1;33m)\u001b[0m\u001b[1;33m:\u001b[0m\u001b[1;33m\u001b[0m\u001b[1;33m\u001b[0m\u001b[0m\n\u001b[1;32m----> 4\u001b[1;33m         \u001b[0memployee\u001b[0m\u001b[1;33m.\u001b[0m\u001b[0m__init__\u001b[0m\u001b[1;33m(\u001b[0m\u001b[0mself\u001b[0m\u001b[1;33m,\u001b[0m\u001b[0mfirstname\u001b[0m\u001b[1;33m,\u001b[0m\u001b[0mlastname\u001b[0m\u001b[1;33m,\u001b[0m\u001b[0mssn\u001b[0m\u001b[1;33m,\u001b[0m\u001b[0mself\u001b[0m\u001b[1;33m.\u001b[0m\u001b[0m__Attribute\u001b[0m\u001b[1;33m,\u001b[0m\u001b[0mself\u001b[0m\u001b[1;33m.\u001b[0m\u001b[0m__Value\u001b[0m\u001b[1;33m,\u001b[0m\u001b[0mself\u001b[0m\u001b[1;33m.\u001b[0m\u001b[0m__InputRequest\u001b[0m\u001b[1;33m)\u001b[0m\u001b[1;33m\u001b[0m\u001b[1;33m\u001b[0m\u001b[0m\n\u001b[0m\u001b[0;32m      5\u001b[0m         \u001b[0mself\u001b[0m\u001b[1;33m.\u001b[0m\u001b[0m__address\u001b[0m \u001b[1;33m=\u001b[0m \u001b[0maddress\u001b[0m\u001b[1;33m\u001b[0m\u001b[1;33m\u001b[0m\u001b[0m\n\u001b[0;32m      6\u001b[0m         \u001b[0mself\u001b[0m\u001b[1;33m.\u001b[0m\u001b[0m__phone\u001b[0m \u001b[1;33m=\u001b[0m \u001b[0mphone\u001b[0m\u001b[1;33m\u001b[0m\u001b[1;33m\u001b[0m\u001b[0m\n",
      "\u001b[1;31mAttributeError\u001b[0m: 'personalinfo' object has no attribute '_personalinfo__Attribute'"
     ]
    }
   ],
   "source": [
    "myinfo = personalinfo('Jeff','Goeken','123-456-7890','Somewhere, Las Vegas NV 88888','123-234-5678')\n",
    "myinfo.Setaddress()"
   ]
  }
 ],
 "metadata": {
  "colab": {
   "collapsed_sections": [],
   "name": "WSK Week 4 Solutions.ipynb",
   "provenance": []
  },
  "kernelspec": {
   "display_name": "base",
   "language": "python",
   "name": "python3"
  },
  "language_info": {
   "codemirror_mode": {
    "name": "ipython",
    "version": 3
   },
   "file_extension": ".py",
   "mimetype": "text/x-python",
   "name": "python",
   "nbconvert_exporter": "python",
   "pygments_lexer": "ipython3",
   "version": "3.9.13"
  },
  "vscode": {
   "interpreter": {
    "hash": "054c85486a66535c2b3fecc77c6a630c9927e428edb2c7aa68a05df233200e9b"
   }
  }
 },
 "nbformat": 4,
 "nbformat_minor": 5
}
