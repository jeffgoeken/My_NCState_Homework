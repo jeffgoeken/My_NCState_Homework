{
 "cells": [
  {
   "cell_type": "markdown",
   "id": "2f4a642b",
   "metadata": {},
   "source": [
    "# Workshop 3 [Student]\n",
    "\n",
    "This notebook will cover the following topics:\n",
    "\n",
    "1. Basic Recursion\n",
    "2. Mathematical problem solving using recursion.\n",
    "3. Recursion versus iteration\n",
    "4. Dynamic programming and big O notation.\n",
    "5. Try and except blocks"
   ]
  },
  {
   "cell_type": "markdown",
   "id": "b638de8a",
   "metadata": {},
   "source": [
    "## 3.1 Basic Recursion (Follow):  \n",
    "\n",
    "**Learning Objectives:**\n",
    "\n",
    "    1. Understand how recursion works\n",
    "    2. Understand how to implement a simple recursion program\n",
    "    3. Understand how a program executes through recursion"
   ]
  },
  {
   "cell_type": "code",
   "execution_count": null,
   "id": "7f9e28e4",
   "metadata": {},
   "outputs": [],
   "source": [
    "# add comments \n",
    "\n",
    "def main():\n",
    "    number = 0\n",
    "    number = int(input('How many numbers to display? '))\n",
    "\n",
    "    print_num(number)\n",
    "\n",
    "    \n",
    "def print_num(n):\n",
    "    \n",
    "    #print(n)\n",
    "    if n > 1:\n",
    "        print_num(n - 1)\n",
    "    print (n)\n",
    "\n",
    "\n",
    "if __name__ == '__main__':\n",
    "    main()"
   ]
  },
  {
   "cell_type": "markdown",
   "id": "c55b4780",
   "metadata": {},
   "source": [
    "### As the above code executes, think about the following questions:\n",
    "\n",
    "1. Map out the execution of the program with print statements.\n",
    "2. Follow the value of n as the program executes.\n",
    "3. How many times does print_num execute before the program terminates?"
   ]
  },
  {
   "cell_type": "markdown",
   "id": "1c843288",
   "metadata": {},
   "source": [
    "## 3.1 Basic Recursion (Group):  \n",
    "\n",
    "**Write a program that will do the following:**\n",
    "\n",
    "    1. Take an integer N input from the user.\n",
    "    2. The program will recursively create N rows of asterisks.\n",
    "    3. Each row N will have N asterisks.\n",
    "    4. Use recursion to accomplish this task.\n",
    "    \n",
    "    For example: N = 3 will produce the following results\n",
    "    1. *\n",
    "    2. **\n",
    "    3. ***\n",
    "    "
   ]
  },
  {
   "cell_type": "code",
   "execution_count": null,
   "id": "bd778336",
   "metadata": {},
   "outputs": [],
   "source": [
    "def main():\n",
    "    number = 0\n",
    "    number = int(input('How many rows of * to display? '))\n",
    "\n",
    "    print_num(number)\n",
    "\n",
    "    \n",
    "def print_num(n):\n",
    "    \n",
    "    #print(n)\n",
    "    if n > 1:\n",
    "        print_num(n - 1)\n",
    "    print ('*')\n",
    "\n",
    "\n",
    "if __name__ == '__main__':\n",
    "    main()\n"
   ]
  },
  {
   "cell_type": "markdown",
   "id": "3a88f60c",
   "metadata": {},
   "source": [
    "## 3.2 Mathematical Problem Solving Using Recursion (Follow):  \n",
    "\n",
    "**Learning Objectives:**\n",
    "\n",
    "    1. Understand how mathematical operations can be accomplished using recursion\n",
    "    2. Understand base case and recursive case in recursion"
   ]
  },
  {
   "cell_type": "code",
   "execution_count": null,
   "id": "4c11de03",
   "metadata": {
    "scrolled": true
   },
   "outputs": [],
   "source": [
    "\n",
    "# add comments\n",
    "\n",
    "\n",
    "def main():  \n",
    "    number = 1000 #int(input('Enter a nonnegative integer: '))\n",
    "    fact = factorial(number)\n",
    "    print('The factorial of', number, 'is', fact)\n",
    "\n",
    "    \n",
    "def factorial(num):\n",
    "    if num == 0:\n",
    "        return 1\n",
    "    else:\n",
    "        return num * factorial(num - 1)\n",
    "\n",
    "print(runtime)\n",
    "main()\n"
   ]
  },
  {
   "cell_type": "code",
   "execution_count": null,
   "id": "26dd64dc",
   "metadata": {},
   "outputs": [],
   "source": [
    "\"\"\"\n",
    "Add comments for you own reference\n",
    "\"\"\"\n",
    "\n",
    "def main():\n",
    "    num = int(input(\"Enter Number: \"))\n",
    "    print(fibonacci(num))\n",
    "    \n",
    "def fibonacci(n):\n",
    "    if n == 0 or n == 1:\n",
    "        return n\n",
    "    else:\n",
    "        return (fibonacci(n-1) + fibonacci(n-2))\n",
    "\n",
    "main()"
   ]
  },
  {
   "cell_type": "markdown",
   "id": "923eabe7",
   "metadata": {},
   "source": [
    "### As the above code executes, think about the following questions:\n",
    "\n",
    "1. Trace the execution of the code by placing print statements throughout.\n",
    "2. As the above programs execute, what are the values of the variables?\n",
    "3. Why would python change a multiplication problem into a recursive addition problem?"
   ]
  },
  {
   "cell_type": "markdown",
   "id": "2ac98e0f",
   "metadata": {},
   "source": [
    "## 3.2 Mathematical Problem Solving Using Recursion (Group): \n",
    "\n",
    "Write a program that will do the following:\n",
    "\n",
    "1. Get integer input from the user \n",
    "2. Store all odd numbers less than the given number in a list and display list\n",
    "3. Compute sum of all even numbers less than the given number\n",
    "3. Use recursion\n",
    "4. Input from user can be odd or even"
   ]
  },
  {
   "cell_type": "code",
   "execution_count": null,
   "id": "02343d66",
   "metadata": {},
   "outputs": [],
   "source": [
    "def main():  \n",
    "    number = int(input('Enter a nonnegative integer: '))\n",
    "    fact = Seq(number)\n",
    "    print('The factorial of', number, 'is', fact)\n",
    "\n",
    "    \n",
    "def Seq(num):\n",
    "    if num == 0:\n",
    "        return 1\n",
    "    elif num % 2 == 0:\n",
    "        return num * Seq(num - 1)\n",
    "    else:\n",
    "        pass\n",
    "def Add_Evens(even):\n",
    "    pass\n",
    "\n",
    "def Seq-Odds(odd):\n",
    "    pass\n",
    "\n",
    "\n",
    "main()\n"
   ]
  },
  {
   "attachments": {},
   "cell_type": "markdown",
   "id": "5456bac5",
   "metadata": {},
   "source": [
    "## 3.3 Recursion versus Iteration (Follow):  \n",
    "\n",
    "**Learning Objectives:**\n",
    "\n",
    "    1. Understand the benefits of doing recursion versus iteration\n",
    "    2. Understand why iteration is faster than recursion - Itteration is faster because it uses more memory"
   ]
  },
  {
   "cell_type": "code",
   "execution_count": null,
   "id": "2e0ba5fa",
   "metadata": {},
   "outputs": [],
   "source": [
    "%%time\n",
    "# add comments\n",
    "\n",
    "def main(factorial_number): \n",
    "    number = compute_factorial(factorial_number)\n",
    "    print('The factorial of', factorial_number, 'is', number)\n",
    "    \n",
    "    \n",
    "def compute_factorial(number):\n",
    "    \n",
    "    factorial = 1\n",
    "    \n",
    "    for value in range(number, 1, -1):\n",
    "        factorial *= value\n",
    "    \n",
    "    return factorial\n",
    "\n",
    "factorial_number = 1000\n",
    "main(factorial_number)"
   ]
  },
  {
   "cell_type": "code",
   "execution_count": null,
   "id": "1aa439d6",
   "metadata": {},
   "outputs": [],
   "source": [
    "%%time\n",
    "# add comments\n",
    "\n",
    "def main(number):\n",
    "    fact = factorial(number)\n",
    "    print('The factorial of', number, 'is', fact)\n",
    "\n",
    "    \n",
    "def factorial(num):\n",
    "    if num == 0:\n",
    "        return 1\n",
    "    else:\n",
    "        return num * factorial(num - 1)\n",
    "\n",
    "\n",
    "number = 1000\n",
    "main(number)"
   ]
  },
  {
   "cell_type": "markdown",
   "id": "7f04b8ca",
   "metadata": {},
   "source": [
    "### As the above code executes, think about the following questions:\n",
    "\n",
    "1. Explain how iteration is faster than recursion.\n",
    "2. Give the programs above a few runs with different values and see how they perform.  Do not forget to clear the kernel between runs."
   ]
  },
  {
   "cell_type": "markdown",
   "id": "2effa503",
   "metadata": {},
   "source": [
    "## 3.3 Recursion versus Iteration (Group): \n",
    "\n",
    "Write a program that will do the following:\n",
    "\n",
    "1. Use the fibonacci series program from above\n",
    "2. Write an iterative function for the same.\n",
    "3. Time both programs using the above code."
   ]
  },
  {
   "cell_type": "code",
   "execution_count": null,
   "id": "798bb2af",
   "metadata": {},
   "outputs": [],
   "source": [
    "%%time\n",
    "\n",
    "\"\"\"\n",
    "Add comments for you own reference\n",
    "\"\"\"\n",
    "\n",
    "def main():\n",
    "    num = 34 #int(input(\"Enter Number: \"))\n",
    "    print(fibonacci(num))\n",
    "    \n",
    "def fibonacci(n):\n",
    "    if n == 0 or n == 1:\n",
    "        return n\n",
    "    else:\n",
    "        return (fibonacci(n-1) + fibonacci(n-2))\n",
    "\n",
    "main()\n"
   ]
  },
  {
   "cell_type": "code",
   "execution_count": null,
   "id": "882c9a5f",
   "metadata": {},
   "outputs": [],
   "source": [
    "%%time\n",
    "\n",
    "def main():\n",
    "    \n",
    "    num = 34\n",
    "    #num = int(input('Please enter a number: '))\n",
    "    print(fibonacci(num))\n",
    "    \n",
    "def fibonacci(n):\n",
    "    sequence = [0,1]\n",
    "     \n",
    "    for i in range(n):\n",
    "        x = sequence[-1]+sequence[-2]\n",
    "        sequence.append(x)\n",
    "    return sequence[-2]\n",
    "    \n",
    "\n",
    "main()\n"
   ]
  },
  {
   "cell_type": "code",
   "execution_count": null,
   "id": "a82112e3",
   "metadata": {},
   "outputs": [],
   "source": [
    "\n"
   ]
  },
  {
   "cell_type": "markdown",
   "id": "eda44ab5",
   "metadata": {},
   "source": [
    "## 3.4 Dynamic Programming and Big O Notation (Follow):  \n",
    "\n",
    "**Learning Objectives:**\n",
    "\n",
    "    1. Understand how to use dynamic programming\n",
    "    2. Understand why dynamic programming is considered faster than basic recursion\n",
    "    3. Understand when to use dynamic programming\n",
    "    4. Understand basic big O notation"
   ]
  },
  {
   "cell_type": "code",
   "execution_count": null,
   "id": "6ee92729",
   "metadata": {},
   "outputs": [],
   "source": [
    "%%time\n",
    "\n",
    "def DPfact(N):\n",
    "    arr = {}\n",
    "    arr[0] = 1\n",
    "    arr[1] = 1\n",
    "    \n",
    "    if N in arr:\n",
    "        return arr[N]\n",
    "    else:\n",
    "        for i in range(2, N+1):\n",
    "            arr[i] = i * arr[i-1]\n",
    "    \n",
    "    return arr[N]\n",
    "      \n",
    "num = 10\n",
    "\n",
    "print(\"factorial of \",num,\" (dynamic): \",end=\"\")\n",
    "print(DPfact(num))\n",
    "print(count)"
   ]
  },
  {
   "cell_type": "markdown",
   "id": "517f083a",
   "metadata": {},
   "source": [
    "### As the above code executes, think about the following questions:\n",
    "\n",
    "1. Trace the value of N as the program executes.\n",
    "2. Trace the value of arr as the program executes."
   ]
  },
  {
   "cell_type": "markdown",
   "id": "135f6878",
   "metadata": {},
   "source": [
    "## 3.4 Dynamic Programming and Big O Notation (Group):  \n",
    "\n",
    "**Write a program that will do the following:**\n",
    "\n",
    "    1. Write a program that will compute the first N Fibonacci numbers.\n",
    "    2. Write the program using dynamic programming.\n",
    "    3. Refer to excercise 3.2 for the formula if needed."
   ]
  },
  {
   "cell_type": "code",
   "execution_count": null,
   "id": "363e5a89",
   "metadata": {},
   "outputs": [],
   "source": [
    "def main():\n",
    "    \n",
    "    num = 34\n",
    "    #num = int(input('Please enter a number: '))\n",
    "    print(fibonacci(num))\n",
    "    \n",
    "def fibonacci(n):\n",
    "    sequence = [0,1]\n",
    "     \n",
    "    for i in range(n):\n",
    "        x = sequence[-1]+sequence[-2]\n",
    "        sequence.append(x)\n",
    "    return sequence[-2]\n",
    "    \n",
    "\n",
    "main()\n"
   ]
  },
  {
   "cell_type": "markdown",
   "id": "387d5681",
   "metadata": {},
   "source": [
    "## 3.5 Try and Except Blocks (Follow):  \n",
    "\n",
    "**Learning Objectives:**\n",
    "\n",
    "    1. Understand try and except blocks\n",
    "    2. Understand how a try and except block executes\n",
    "    3. Understand the flow of a try except block"
   ]
  },
  {
   "cell_type": "code",
   "execution_count": 7,
   "id": "c2cc2ae3",
   "metadata": {},
   "outputs": [
    {
     "name": "stdout",
     "output_type": "stream",
     "text": [
      "Entered value must be a number. Please try again.\n",
      "This will always execute.\n"
     ]
    }
   ],
   "source": [
    "# add comments to the code\n",
    "try:\n",
    "    a = int(input(\"Enter numerator, a:\"))\n",
    "    b = int(input(\"Enter denominator, b:\"))\n",
    "    c = a/b\n",
    "    print(f\"Result of a/b={c:.3f}\")\n",
    "    \n",
    "except ValueError:\n",
    "    print(\"Entered value must be a number. Please try again.\")\n",
    " \n",
    "except ZeroDivisionError:\n",
    "    print(\"Unable to divide by zero. Please try again.\")\n",
    "    \n",
    "else:\n",
    "    print(\"This will execute if the try executes.\")\n",
    "    \n",
    "finally:\n",
    "    print(\"This will always execute.\")"
   ]
  },
  {
   "cell_type": "markdown",
   "id": "b90b7da6",
   "metadata": {},
   "source": [
    "### As the above code executes, think about the following questions:\n",
    "\n",
    "1. Which part executes first, second, third?\n",
    "2. Under what circumstances do each of the parts execute?\n",
    "3. Where would this sort of setup be useful when programming?"
   ]
  },
  {
   "cell_type": "markdown",
   "id": "46a2393b",
   "metadata": {},
   "source": [
    "## 3.5 Try and Except Blocks (Group):  \n",
    "\n",
    "Write a program that will do the following:\n",
    "\n",
    "1. Take values of n and m from user (any input)\n",
    "2. Compute the division of nth element by mth element of given list (this may not be possible, but you need to handle that)\n",
    "3. The Program should be able to deal with all possible errors\n",
    "4. Regardless of errors, the program should print values of n and m\n",
    "5. The List to use is given below\n",
    "\n",
    "given_list = [3, 1.2 ,0,'hello',1000,(1,2),50]"
   ]
  },
  {
   "cell_type": "code",
   "execution_count": 13,
   "id": "59478f5c",
   "metadata": {},
   "outputs": [
    {
     "name": "stdout",
     "output_type": "stream",
     "text": [
      "Non Numeric value entered.\n",
      "Unable to index given_list\n",
      "None\n"
     ]
    }
   ],
   "source": [
    "def main():\n",
    "    given_list = [3, 1.2 ,0,'hello',1000,(1,2),50]\n",
    "    n=0\n",
    "    m=0\n",
    "    n = input (f\"Please enter an integer from 0 to {len(given_list)-1} for the location of the 'n th element: \")\n",
    "    m = input (f\"Please enter an integer from 0 to  {len(given_list)-1} for the location of the 'm th element: \")\n",
    "    \n",
    "\n",
    "    try:   \n",
    "        while int(n) > len(given_list)-1 or int(n)<0  ==False :\n",
    "            n = input (f\"Value {n} out of range! Enter an integer from 0 to {len(given_list)-1} for the location of the 'n th element: \")\n",
    "        while int(m) >len(given_list)-1 or int(m)<0 :\n",
    "            m = input (f\"Value {m} out of range! Enter an integer from 0 to {len(given_list)-1} for the location of the 'm th element: \")\n",
    "        x = float(int(given_list[int(n)]))/float(int(given_list[int(m)]))\n",
    "        \n",
    "        return x\n",
    "    except ValueError:\n",
    "        print(\"Non Numeric value entered.\")\n",
    "        \n",
    "    except ZeroDivisionError:\n",
    "        print(\"Cannot divide by 0 error.\")\n",
    "        \n",
    "    except Exception as err:\n",
    "        print(f'cannot divide {given_list[int(n)]} by {given_list[int(m)]}: {err}')\n",
    "        \n",
    "    finally:\n",
    "        try:\n",
    "            print(given_list[int(n)])\n",
    "            print(given_list[int(m)])\n",
    "        except:\n",
    "            print(\"Unable to index given_list\")    \n",
    "        \n",
    "    \n",
    "print(main())"
   ]
  }
 ],
 "metadata": {
  "kernelspec": {
   "display_name": "base",
   "language": "python",
   "name": "python3"
  },
  "language_info": {
   "codemirror_mode": {
    "name": "ipython",
    "version": 3
   },
   "file_extension": ".py",
   "mimetype": "text/x-python",
   "name": "python",
   "nbconvert_exporter": "python",
   "pygments_lexer": "ipython3",
   "version": "3.9.13"
  },
  "vscode": {
   "interpreter": {
    "hash": "054c85486a66535c2b3fecc77c6a630c9927e428edb2c7aa68a05df233200e9b"
   }
  }
 },
 "nbformat": 4,
 "nbformat_minor": 5
}
