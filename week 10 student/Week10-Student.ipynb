{
 "cells": [
  {
   "cell_type": "markdown",
   "metadata": {},
   "source": [
    "# Workshop 10 [Student]\n",
    "\n",
    "This notebook will cover the following topics:\n",
    "\n",
    "1. Basic statistics\n",
    "    - Central Tendancy\n",
    "    - Feature Scaling\n",
    "2. Visualization\n",
    "    - Plots\n",
    "3. Final project"
   ]
  },
  {
   "cell_type": "markdown",
   "metadata": {},
   "source": [
    "## 10.1 BASIC STATISTICS (Follow)\n",
    "\n",
    "**Learning Objectives**\n",
    "1. Understand mean, median, and mode and when to use each and what they mean\n",
    "2. Understand standard deviation\n",
    "3. Understand Z-Score\n",
    "4. Understand normalization"
   ]
  },
  {
   "cell_type": "code",
   "execution_count": 42,
   "metadata": {},
   "outputs": [
    {
     "name": "stdout",
     "output_type": "stream",
     "text": [
      "0      99\n",
      "1      86\n",
      "2      87\n",
      "3      88\n",
      "4     111\n",
      "5      86\n",
      "6     103\n",
      "7      87\n",
      "8      94\n",
      "9      78\n",
      "10     77\n",
      "11     85\n",
      "12     86\n",
      "dtype: int64\n",
      "87.0\n"
     ]
    }
   ],
   "source": [
    "\"\"\"\n",
    "Add comments for you own reference\n",
    "\"\"\"\n",
    "\n",
    "import pandas as pd\n",
    "import numpy as np\n",
    "\n",
    "\n",
    "speed = pd.Series([99,86,87,88,111,86,103,87,94,78,77,85,86])\n",
    "print(speed)\n",
    "# print(speed.mean())\n",
    "print(speed.median())\n",
    "# print(speed.mode())\n",
    "# print(speed.std())\n",
    "# values, counts = np.unique(speed, return_counts=True)\n",
    "# print(values, '\\n', counts)\n",
    "\n",
    "velocity = pd.Series([99,86,87,88,111,86,103,87,94,78,77,85,86, 1000000])\n",
    "# print(velocity)\n",
    "# print(velocity.mean())\n",
    "# print(velocity.median())\n",
    "# print(velocity.mode())\n",
    "# print(velocity.std())\n",
    "\n",
    "postal_codes = pd.Series([52801, 52802, 52803, 52801, 78318, 90210, 77318, 27511, 27513, 27514, 49093, 49008])\n",
    "# print(postal_codes)\n",
    "# print(postal_codes.mean())\n",
    "# print(postal_codes.median())\n",
    "# print(postal_codes.mode())\n",
    "# print(postal_codes.std())\n"
   ]
  },
  {
   "cell_type": "code",
   "execution_count": 53,
   "metadata": {},
   "outputs": [],
   "source": [
    "\"\"\"\n",
    "Add comments for you own reference\n",
    "\"\"\"\n",
    "\n",
    "def standardize(X, mean, std):\n",
    "    standardized_val = (X-mean)/std\n",
    "    return standardized_val\n",
    "\n",
    "def normalize(X, X_max, X_min):\n",
    "    normalized_value = (X-X_min)/(X_max-X_min)\n",
    "    return normalized_value\n"
   ]
  },
  {
   "cell_type": "code",
   "execution_count": 52,
   "metadata": {},
   "outputs": [
    {
     "name": "stdout",
     "output_type": "stream",
     "text": [
      "0.9579127470142705\n",
      "0.6470588235294118\n",
      "-0.39114770503082774\n",
      "0.2647058823529412\n",
      "-0.28737382410428175\n",
      "0.29411764705882354\n",
      "**************************************\n",
      "-0.2672267002754167\n",
      "2.2001694130448044e-05\n",
      "-0.2672753461883217\n",
      "9.00069305336511e-06\n",
      "-0.26727160419502133\n",
      "1.0000770059294565e-05\n"
     ]
    }
   ],
   "source": [
    "\"\"\"\n",
    "Add comments for you own reference\n",
    "\"\"\"\n",
    "\n",
    "for item in speed:\n",
    "    print(standardize(item, speed.mean(), speed.std()))\n",
    "    print(normalize(item, speed.max(), speed.min()))\n",
    "print('**************************************')\n",
    "for item in velocity:\n",
    "    print(standardize(item, velocity.mean(), velocity.std()))\n",
    "    print(normalize(item, velocity.max(), velocity.min())) "
   ]
  },
  {
   "cell_type": "markdown",
   "metadata": {},
   "source": [
    "**Evaluation:**\n",
    "\n",
    "After running this program, think about and answer these questions:\n",
    "\n",
    "1. How is Z_score Calculated?\n",
    "2. How is Data Normalized?\n",
    "3. What is the use of Standardization and Normalization?"
   ]
  },
  {
   "cell_type": "markdown",
   "metadata": {},
   "source": [
    "## 10.1 BASIC STATISTICS (Group)\n",
    "\n",
    "Write a program that will do the following:\n",
    "\n",
    "1. Use the Iris dataset.\n",
    "2. Calculate mean, median, mode of each column(Except Target class)\n",
    "3. Standardize and Normalize each column."
   ]
  },
  {
   "cell_type": "code",
   "execution_count": 64,
   "metadata": {},
   "outputs": [],
   "source": [
    "import pandas as pd\n",
    "\n",
    "class BasicStats():\n",
    "    def __init__(self,Filename):\n",
    "        \n",
    "        self.filename = Filename\n",
    "        self.df =None\n",
    "        self.setDataframe()\n",
    "\n",
    "    def setDataframe(self):\n",
    "        self.df = pd.read_csv(self.filename)\n",
    "\n",
    "    def displayStats(self):\n",
    "        display(self.df.mean())\n",
    "        display(self.df.mode())\n",
    "        display(self.df.median())\n",
    "\n",
    "    def standardize(self):\n",
    "        standardized_val = (self.df-self.df.mean())/self.df.std()\n",
    "        display( standardized_val)\n",
    "    \n",
    "    def normalize(self):\n",
    "        normalized_value = (self.df-self.df.min())/(self.df.max()-self.df.min())\n",
    "        display( normalized_value)"
   ]
  },
  {
   "cell_type": "code",
   "execution_count": 65,
   "metadata": {},
   "outputs": [
    {
     "name": "stderr",
     "output_type": "stream",
     "text": [
      "C:\\Users\\jgoek\\AppData\\Local\\Temp\\ipykernel_10004\\1645307397.py:19: FutureWarning: The default value of numeric_only in DataFrame.mean is deprecated. In a future version, it will default to False. In addition, specifying 'numeric_only=None' is deprecated. Select only valid columns or specify the value of numeric_only to silence this warning.\n",
      "  standardized_val = (self.df-self.df.mean())/self.df.std()\n",
      "C:\\Users\\jgoek\\AppData\\Local\\Temp\\ipykernel_10004\\1645307397.py:19: FutureWarning: The default value of numeric_only in DataFrame.std is deprecated. In a future version, it will default to False. In addition, specifying 'numeric_only=None' is deprecated. Select only valid columns or specify the value of numeric_only to silence this warning.\n",
      "  standardized_val = (self.df-self.df.mean())/self.df.std()\n"
     ]
    },
    {
     "data": {
      "text/html": [
       "<div>\n",
       "<style scoped>\n",
       "    .dataframe tbody tr th:only-of-type {\n",
       "        vertical-align: middle;\n",
       "    }\n",
       "\n",
       "    .dataframe tbody tr th {\n",
       "        vertical-align: top;\n",
       "    }\n",
       "\n",
       "    .dataframe thead th {\n",
       "        text-align: right;\n",
       "    }\n",
       "</style>\n",
       "<table border=\"1\" class=\"dataframe\">\n",
       "  <thead>\n",
       "    <tr style=\"text-align: right;\">\n",
       "      <th></th>\n",
       "      <th>Id</th>\n",
       "      <th>PetalLengthCm</th>\n",
       "      <th>PetalWidthCm</th>\n",
       "      <th>SepalLengthCm</th>\n",
       "      <th>SepalWidthCm</th>\n",
       "      <th>Species</th>\n",
       "    </tr>\n",
       "  </thead>\n",
       "  <tbody>\n",
       "    <tr>\n",
       "      <th>0</th>\n",
       "      <td>-1.714797</td>\n",
       "      <td>-1.336794</td>\n",
       "      <td>-1.308593</td>\n",
       "      <td>-0.897674</td>\n",
       "      <td>1.028611</td>\n",
       "      <td>NaN</td>\n",
       "    </tr>\n",
       "    <tr>\n",
       "      <th>1</th>\n",
       "      <td>-1.691780</td>\n",
       "      <td>-1.336794</td>\n",
       "      <td>-1.308593</td>\n",
       "      <td>-1.139200</td>\n",
       "      <td>-0.124540</td>\n",
       "      <td>NaN</td>\n",
       "    </tr>\n",
       "    <tr>\n",
       "      <th>2</th>\n",
       "      <td>-1.668762</td>\n",
       "      <td>-1.393470</td>\n",
       "      <td>-1.308593</td>\n",
       "      <td>-1.380727</td>\n",
       "      <td>0.336720</td>\n",
       "      <td>NaN</td>\n",
       "    </tr>\n",
       "    <tr>\n",
       "      <th>3</th>\n",
       "      <td>-1.645745</td>\n",
       "      <td>-1.280118</td>\n",
       "      <td>-1.308593</td>\n",
       "      <td>-1.501490</td>\n",
       "      <td>0.106090</td>\n",
       "      <td>NaN</td>\n",
       "    </tr>\n",
       "    <tr>\n",
       "      <th>4</th>\n",
       "      <td>-1.622728</td>\n",
       "      <td>-1.336794</td>\n",
       "      <td>-1.308593</td>\n",
       "      <td>-1.018437</td>\n",
       "      <td>1.259242</td>\n",
       "      <td>NaN</td>\n",
       "    </tr>\n",
       "    <tr>\n",
       "      <th>...</th>\n",
       "      <td>...</td>\n",
       "      <td>...</td>\n",
       "      <td>...</td>\n",
       "      <td>...</td>\n",
       "      <td>...</td>\n",
       "      <td>...</td>\n",
       "    </tr>\n",
       "    <tr>\n",
       "      <th>145</th>\n",
       "      <td>1.622728</td>\n",
       "      <td>0.816888</td>\n",
       "      <td>1.443121</td>\n",
       "      <td>1.034539</td>\n",
       "      <td>-0.124540</td>\n",
       "      <td>NaN</td>\n",
       "    </tr>\n",
       "    <tr>\n",
       "      <th>146</th>\n",
       "      <td>1.645745</td>\n",
       "      <td>0.703536</td>\n",
       "      <td>0.918985</td>\n",
       "      <td>0.551486</td>\n",
       "      <td>-1.277692</td>\n",
       "      <td>NaN</td>\n",
       "    </tr>\n",
       "    <tr>\n",
       "      <th>147</th>\n",
       "      <td>1.668762</td>\n",
       "      <td>0.816888</td>\n",
       "      <td>1.050019</td>\n",
       "      <td>0.793012</td>\n",
       "      <td>-0.124540</td>\n",
       "      <td>NaN</td>\n",
       "    </tr>\n",
       "    <tr>\n",
       "      <th>148</th>\n",
       "      <td>1.691780</td>\n",
       "      <td>0.930239</td>\n",
       "      <td>1.443121</td>\n",
       "      <td>0.430722</td>\n",
       "      <td>0.797981</td>\n",
       "      <td>NaN</td>\n",
       "    </tr>\n",
       "    <tr>\n",
       "      <th>149</th>\n",
       "      <td>1.714797</td>\n",
       "      <td>0.760212</td>\n",
       "      <td>0.787951</td>\n",
       "      <td>0.068433</td>\n",
       "      <td>-0.124540</td>\n",
       "      <td>NaN</td>\n",
       "    </tr>\n",
       "  </tbody>\n",
       "</table>\n",
       "<p>150 rows × 6 columns</p>\n",
       "</div>"
      ],
      "text/plain": [
       "           Id  PetalLengthCm  PetalWidthCm  SepalLengthCm  SepalWidthCm  \\\n",
       "0   -1.714797      -1.336794     -1.308593      -0.897674      1.028611   \n",
       "1   -1.691780      -1.336794     -1.308593      -1.139200     -0.124540   \n",
       "2   -1.668762      -1.393470     -1.308593      -1.380727      0.336720   \n",
       "3   -1.645745      -1.280118     -1.308593      -1.501490      0.106090   \n",
       "4   -1.622728      -1.336794     -1.308593      -1.018437      1.259242   \n",
       "..        ...            ...           ...            ...           ...   \n",
       "145  1.622728       0.816888      1.443121       1.034539     -0.124540   \n",
       "146  1.645745       0.703536      0.918985       0.551486     -1.277692   \n",
       "147  1.668762       0.816888      1.050019       0.793012     -0.124540   \n",
       "148  1.691780       0.930239      1.443121       0.430722      0.797981   \n",
       "149  1.714797       0.760212      0.787951       0.068433     -0.124540   \n",
       "\n",
       "    Species  \n",
       "0       NaN  \n",
       "1       NaN  \n",
       "2       NaN  \n",
       "3       NaN  \n",
       "4       NaN  \n",
       "..      ...  \n",
       "145     NaN  \n",
       "146     NaN  \n",
       "147     NaN  \n",
       "148     NaN  \n",
       "149     NaN  \n",
       "\n",
       "[150 rows x 6 columns]"
      ]
     },
     "metadata": {},
     "output_type": "display_data"
    }
   ],
   "source": [
    "myStats = BasicStats('Iris.csv')\n",
    "#myStats.displayStats()\n",
    "myStats.standardize()\n",
    "myStats.normalize()"
   ]
  },
  {
   "cell_type": "markdown",
   "metadata": {},
   "source": [
    "## 10.2 VISUALIZATION (Follow)\n",
    "\n",
    "**Learning Objectives**\n",
    "1. Understand importance of Visualization\n",
    "2. Learn visualization techniques\n",
    "3. Learn to relate data to visual graphs"
   ]
  },
  {
   "cell_type": "code",
   "execution_count": null,
   "metadata": {},
   "outputs": [],
   "source": [
    "import pandas as pd\n",
    "\n",
    "df = pd.read_csv(\"Iris.csv\")"
   ]
  },
  {
   "cell_type": "markdown",
   "metadata": {},
   "source": [
    "### BOX PLOT"
   ]
  },
  {
   "cell_type": "code",
   "execution_count": null,
   "metadata": {},
   "outputs": [],
   "source": [
    "import matplotlib.pyplot as plt\n",
    "\n",
    "fig = plt.figure(figsize =(5, 5))\n",
    " \n",
    "plt.boxplot(df['SepalWidthCm'])\n",
    "\n",
    "plt.show()"
   ]
  },
  {
   "cell_type": "markdown",
   "metadata": {},
   "source": [
    "### SCATTER PLOT"
   ]
  },
  {
   "cell_type": "code",
   "execution_count": null,
   "metadata": {},
   "outputs": [],
   "source": [
    "import matplotlib.pyplot as plt\n",
    "\n",
    "fig = plt.figure(figsize =(5, 5))\n",
    " \n",
    "plt.scatter(df['SepalLengthCm'],df['SepalWidthCm'])\n",
    "\n",
    "plt.show()"
   ]
  },
  {
   "cell_type": "markdown",
   "metadata": {},
   "source": [
    "### HISTOGRAM"
   ]
  },
  {
   "cell_type": "code",
   "execution_count": null,
   "metadata": {},
   "outputs": [],
   "source": [
    "import matplotlib.pyplot as plt\n",
    "\n",
    "fig = plt.figure(figsize =(5, 5))\n",
    " \n",
    "plt.hist(df['SepalWidthCm'])\n",
    "\n",
    "plt.show()"
   ]
  },
  {
   "cell_type": "markdown",
   "metadata": {},
   "source": [
    "### BAR PLOT"
   ]
  },
  {
   "cell_type": "code",
   "execution_count": null,
   "metadata": {},
   "outputs": [],
   "source": [
    "import matplotlib.pyplot as plt\n",
    "\n",
    "fig = plt.figure(figsize =(15, 5))\n",
    " \n",
    "plt.bar(df.columns,list(df.nunique()))\n",
    "\n",
    "plt.show()"
   ]
  },
  {
   "cell_type": "markdown",
   "metadata": {},
   "source": [
    "### PIE CHART"
   ]
  },
  {
   "cell_type": "code",
   "execution_count": null,
   "metadata": {
    "scrolled": true
   },
   "outputs": [],
   "source": [
    "import matplotlib.pyplot as plt\n",
    "\n",
    "fig = plt.figure(figsize =(15, 5))\n",
    " \n",
    "plt.pie(list(df.nunique())[1:],labels = df.columns[1:])\n",
    "\n",
    "plt.show()"
   ]
  },
  {
   "cell_type": "markdown",
   "metadata": {},
   "source": [
    "**Evaluation:**\n",
    "\n",
    "After running this program, think about and answer these questions:\n",
    "\n",
    "1. What does each graph represent?\n",
    "2. Try looking up the documentation for each visualization and add more changes to the graphs.\n",
    "3. What can be concluded from each of the representations?"
   ]
  },
  {
   "cell_type": "markdown",
   "metadata": {},
   "source": [
    "## 10.2 VISUALIZATION (Group)\n",
    "\n",
    "Write a program that will do the following:\n",
    "\n",
    "1. Use the heart dataset.\n",
    "2. Generate a:\n",
    "    - Box Plot\n",
    "    - Scatter Plot\n",
    "    - Histogram\n",
    "    - Bar Plot\n",
    "    - Pie Chart\n",
    "3. Use Columns of your liking. (The visualization must give appropriate and useful information)"
   ]
  },
  {
   "cell_type": "code",
   "execution_count": null,
   "metadata": {},
   "outputs": [],
   "source": [
    "\n"
   ]
  },
  {
   "cell_type": "markdown",
   "metadata": {},
   "source": [
    "### BOX PLOT"
   ]
  },
  {
   "cell_type": "code",
   "execution_count": null,
   "metadata": {},
   "outputs": [],
   "source": [
    "\n"
   ]
  },
  {
   "cell_type": "markdown",
   "metadata": {},
   "source": [
    "### SCATTER PLOT"
   ]
  },
  {
   "cell_type": "code",
   "execution_count": null,
   "metadata": {},
   "outputs": [],
   "source": [
    "\n"
   ]
  },
  {
   "cell_type": "markdown",
   "metadata": {},
   "source": [
    "### HISTOGRAM"
   ]
  },
  {
   "cell_type": "code",
   "execution_count": null,
   "metadata": {},
   "outputs": [],
   "source": [
    "\n"
   ]
  },
  {
   "cell_type": "markdown",
   "metadata": {},
   "source": [
    "### BAR PLOT"
   ]
  },
  {
   "cell_type": "code",
   "execution_count": null,
   "metadata": {},
   "outputs": [],
   "source": [
    "\n"
   ]
  },
  {
   "cell_type": "markdown",
   "metadata": {},
   "source": [
    "### PIE CHART"
   ]
  },
  {
   "cell_type": "code",
   "execution_count": null,
   "metadata": {
    "scrolled": true
   },
   "outputs": [],
   "source": [
    "\n"
   ]
  },
  {
   "cell_type": "markdown",
   "metadata": {},
   "source": [
    "# 10.3 PROJECT (Group)\n",
    "\n",
    "**Write a program that will do the following:**\n",
    "1. Read in the following 2 files:  NCEL-Cash5.csv and NCEL-Cash5-Detailed.csv\n",
    "2. Calculate the return on investment (ROI) from playing the same 5 numbers every time the game is offered.\n",
    "3. Calculate the ROI from playing 5 random numbers on each draw.\n",
    "4. For an added challenge, change this calculation to occur starting at an arbitrary start date (rather than the beginning of the data set).\n",
    "5. For an even greater challenge, run multiple trials for the above setup and report the average ROI for all trials.\n",
    "\n",
    "**Notes for calculating winnings:**\n",
    "1. Ball order does not matter.\n",
    "2. Costs \\\\$1 for each draw (ie. \\\\$2 for days that have double play)\n",
    "3. Each draw is five numbers and range from 1 to 43\n",
    "4. May 15, 2014 balls drawn changed from 39 -> 41\n",
    "5. Nov 4, 2018  balls drawn changed from 41 -> 43\n",
    "\n",
    "**Winners are as follows:**\n",
    "1. Match 0 balls = \\$0\n",
    "2. Match 1 ball = \\$0\n",
    "3. Match 2 balls = \\$1\n",
    "4. Match 3 balls = \\$5\n",
    "5. Match 4 balls = use prize_4 or prize_4_double_play from Detailed file\n",
    "6. Match 5 balls = use prize_5 or prize_5_double_play from Detailed file\n",
    "\n",
    "\n",
    "**Output the following:**\n",
    "1. 5 numbers played\n",
    "2. dollars spent playing\n",
    "3. dollars won\n",
    "4. return on investment as a percentage\n",
    "\n",
    "\n",
    "**Just for fun: What happened on July 11, 2007?**\n",
    "&nbsp;\n",
    "\n",
    "\n",
    "<center> <b> NCEL-Cash5.csv format: </b> </center>\n",
    "\n",
    "| Date:  | Ball N:  | DP: 0 - False, 1 - True |\n",
    "|--------|----------|-------------------------|\n",
    "|date of drawing | winning ball numbers  | \"Double Play\" | \n",
    "| (m/d/Y) | in order drawn | , or second play of the day. |\n",
    "|         |           |  First introduced 4/25/2021 |                             \n",
    "\n",
    "&nbsp;  \n",
    "\n",
    "<center> <b> NCEL-Cash5-Detailed.csv format: </b> </center>\n",
    "\n",
    "\n",
    "| Date: | prize_n: | winners_n: | *_double_play_*: |\n",
    "|-------|----------|------------|------------------|\n",
    "| date of drawing | prize amount for matching | winner count for | double play value |\n",
    "| (m/d/Y) | n numbers correctly | matching n numbers. |for that winner amount or prize pool. |\n"
   ]
  },
  {
   "cell_type": "code",
   "execution_count": null,
   "metadata": {},
   "outputs": [],
   "source": [
    "\n"
   ]
  },
  {
   "cell_type": "code",
   "execution_count": null,
   "metadata": {},
   "outputs": [],
   "source": [
    "\n"
   ]
  },
  {
   "cell_type": "code",
   "execution_count": null,
   "metadata": {},
   "outputs": [],
   "source": [
    "\n"
   ]
  }
 ],
 "metadata": {
  "kernelspec": {
   "display_name": "Python 3 (ipykernel)",
   "language": "python",
   "name": "python3"
  },
  "language_info": {
   "codemirror_mode": {
    "name": "ipython",
    "version": 3
   },
   "file_extension": ".py",
   "mimetype": "text/x-python",
   "name": "python",
   "nbconvert_exporter": "python",
   "pygments_lexer": "ipython3",
   "version": "3.11.2"
  }
 },
 "nbformat": 4,
 "nbformat_minor": 2
}
