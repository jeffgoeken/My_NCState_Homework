{
 "cells": [
  {
   "cell_type": "markdown",
   "metadata": {},
   "source": [
    "# Workshop 10 [Student]\n",
    "\n",
    "This notebook will cover the following topics:\n",
    "\n",
    "1. Basic statistics\n",
    "    - Central Tendancy\n",
    "    - Feature Scaling\n",
    "2. Visualization\n",
    "    - Plots\n",
    "3. Final project"
   ]
  },
  {
   "cell_type": "markdown",
   "metadata": {},
   "source": [
    "## 10.1 BASIC STATISTICS (Follow)\n",
    "\n",
    "**Learning Objectives**\n",
    "1. Understand mean, median, and mode and when to use each and what they mean\n",
    "2. Understand standard deviation\n",
    "3. Understand Z-Score\n",
    "4. Understand normalization"
   ]
  },
  {
   "cell_type": "code",
   "execution_count": null,
   "metadata": {},
   "outputs": [],
   "source": [
    "\"\"\"\n",
    "Add comments for you own reference\n",
    "\"\"\"\n",
    "\n",
    "import pandas as pd\n",
    "import numpy as np\n",
    "\n",
    "\n",
    "speed = pd.Series([99,86,87,88,111,86,103,87,94,78,77,85,86])\n",
    "# print(speed)\n",
    "# print(speed.mean())\n",
    "# print(speed.median())\n",
    "# print(speed.mode())\n",
    "# print(speed.std())\n",
    "# values, counts = np.unique(speed, return_counts=True)\n",
    "# print(values, '\\n', counts)\n",
    "\n",
    "velocity = pd.Series([99,86,87,88,111,86,103,87,94,78,77,85,86, 1000000])\n",
    "# print(velocity)\n",
    "# print(velocity.mean())\n",
    "# print(velocity.median())\n",
    "# print(velocity.mode())\n",
    "# print(velocity.std())\n",
    "\n",
    "postal_codes = pd.Series([52801, 52802, 52803, 52801, 78318, 90210, 77318, 27511, 27513, 27514, 49093, 49008])\n",
    "# print(postal_codes)\n",
    "# print(postal_codes.mean())\n",
    "# print(postal_codes.median())\n",
    "# print(postal_codes.mode())\n",
    "# print(postal_codes.std())\n"
   ]
  },
  {
   "cell_type": "code",
   "execution_count": null,
   "metadata": {},
   "outputs": [],
   "source": [
    "\"\"\"\n",
    "Add comments for you own reference\n",
    "\"\"\"\n",
    "\n",
    "def standardize(X, mean, std):\n",
    "    standardized_val = (X-mean)/std\n",
    "    return standardized_val\n",
    "\n",
    "def normalize(X, X_max, X_min):\n",
    "    normalized_value = (X-X_min)/(X_max-X_min)\n",
    "    return normalized_value\n"
   ]
  },
  {
   "cell_type": "code",
   "execution_count": null,
   "metadata": {},
   "outputs": [],
   "source": [
    "\"\"\"\n",
    "Add comments for you own reference\n",
    "\"\"\"\n",
    "\n",
    "for item in speed:\n",
    "    print(standardize(item, speed.mean(), speed.std()))\n",
    "    print(normalize(item, speed.max(), speed.min()))\n",
    "\n",
    "for item in velocity:\n",
    "    print(standardize(item, velocity.mean(), velocity.std()))\n",
    "    print(normalize(item, velocity.max(), velocity.min())) "
   ]
  },
  {
   "cell_type": "markdown",
   "metadata": {},
   "source": [
    "**Evaluation:**\n",
    "\n",
    "After running this program, think about and answer these questions:\n",
    "\n",
    "1. How is Z_score Calculated?\n",
    "2. How is Data Normalized?\n",
    "3. What is the use of Standardization and Normalization?"
   ]
  },
  {
   "cell_type": "markdown",
   "metadata": {},
   "source": [
    "## 10.1 BASIC STATISTICS (Group)\n",
    "\n",
    "Write a program that will do the following:\n",
    "\n",
    "1. Use the Iris dataset.\n",
    "2. Calculate mean, median, mode of each column(Except Target class)\n",
    "3. Standardize and Normalize each column."
   ]
  },
  {
   "cell_type": "code",
   "execution_count": null,
   "metadata": {},
   "outputs": [],
   "source": [
    "\n"
   ]
  },
  {
   "cell_type": "markdown",
   "metadata": {},
   "source": [
    "## 10.2 VISUALIZATION (Follow)\n",
    "\n",
    "**Learning Objectives**\n",
    "1. Understand importance of Visualization\n",
    "2. Learn visualization techniques\n",
    "3. Learn to relate data to visual graphs"
   ]
  },
  {
   "cell_type": "code",
   "execution_count": null,
   "metadata": {},
   "outputs": [],
   "source": [
    "import pandas as pd\n",
    "\n",
    "df = pd.read_csv(\"Iris.csv\")"
   ]
  },
  {
   "cell_type": "markdown",
   "metadata": {},
   "source": [
    "### BOX PLOT"
   ]
  },
  {
   "cell_type": "code",
   "execution_count": null,
   "metadata": {},
   "outputs": [],
   "source": [
    "import matplotlib.pyplot as plt\n",
    "\n",
    "fig = plt.figure(figsize =(5, 5))\n",
    " \n",
    "plt.boxplot(df['SepalWidthCm'])\n",
    "\n",
    "plt.show()"
   ]
  },
  {
   "cell_type": "markdown",
   "metadata": {},
   "source": [
    "### SCATTER PLOT"
   ]
  },
  {
   "cell_type": "code",
   "execution_count": null,
   "metadata": {},
   "outputs": [],
   "source": [
    "import matplotlib.pyplot as plt\n",
    "\n",
    "fig = plt.figure(figsize =(5, 5))\n",
    " \n",
    "plt.scatter(df['SepalLengthCm'],df['SepalWidthCm'])\n",
    "\n",
    "plt.show()"
   ]
  },
  {
   "cell_type": "markdown",
   "metadata": {},
   "source": [
    "### HISTOGRAM"
   ]
  },
  {
   "cell_type": "code",
   "execution_count": null,
   "metadata": {},
   "outputs": [],
   "source": [
    "import matplotlib.pyplot as plt\n",
    "\n",
    "fig = plt.figure(figsize =(5, 5))\n",
    " \n",
    "plt.hist(df['SepalWidthCm'])\n",
    "\n",
    "plt.show()"
   ]
  },
  {
   "cell_type": "markdown",
   "metadata": {},
   "source": [
    "### BAR PLOT"
   ]
  },
  {
   "cell_type": "code",
   "execution_count": null,
   "metadata": {},
   "outputs": [],
   "source": [
    "import matplotlib.pyplot as plt\n",
    "\n",
    "fig = plt.figure(figsize =(15, 5))\n",
    " \n",
    "plt.bar(df.columns,list(df.nunique()))\n",
    "\n",
    "plt.show()"
   ]
  },
  {
   "cell_type": "markdown",
   "metadata": {},
   "source": [
    "### PIE CHART"
   ]
  },
  {
   "cell_type": "code",
   "execution_count": null,
   "metadata": {
    "scrolled": true
   },
   "outputs": [],
   "source": [
    "import matplotlib.pyplot as plt\n",
    "\n",
    "fig = plt.figure(figsize =(15, 5))\n",
    " \n",
    "plt.pie(list(df.nunique())[1:],labels = df.columns[1:])\n",
    "\n",
    "plt.show()"
   ]
  },
  {
   "cell_type": "markdown",
   "metadata": {},
   "source": [
    "**Evaluation:**\n",
    "\n",
    "After running this program, think about and answer these questions:\n",
    "\n",
    "1. What does each graph represent?\n",
    "2. Try looking up the documentation for each visualization and add more changes to the graphs.\n",
    "3. What can be concluded from each of the representations?"
   ]
  },
  {
   "cell_type": "markdown",
   "metadata": {},
   "source": [
    "## 10.2 VISUALIZATION (Group)\n",
    "\n",
    "Write a program that will do the following:\n",
    "\n",
    "1. Use the heart dataset.\n",
    "2. Generate a:\n",
    "    - Box Plot\n",
    "    - Scatter Plot\n",
    "    - Histogram\n",
    "    - Bar Plot\n",
    "    - Pie Chart\n",
    "3. Use Columns of your liking. (The visualization must give appropriate and useful information)"
   ]
  },
  {
   "cell_type": "code",
   "execution_count": null,
   "metadata": {},
   "outputs": [],
   "source": [
    "\n"
   ]
  },
  {
   "cell_type": "markdown",
   "metadata": {},
   "source": [
    "### BOX PLOT"
   ]
  },
  {
   "cell_type": "code",
   "execution_count": null,
   "metadata": {},
   "outputs": [],
   "source": [
    "\n"
   ]
  },
  {
   "cell_type": "markdown",
   "metadata": {},
   "source": [
    "### SCATTER PLOT"
   ]
  },
  {
   "cell_type": "code",
   "execution_count": null,
   "metadata": {},
   "outputs": [],
   "source": [
    "\n"
   ]
  },
  {
   "cell_type": "markdown",
   "metadata": {},
   "source": [
    "### HISTOGRAM"
   ]
  },
  {
   "cell_type": "code",
   "execution_count": null,
   "metadata": {},
   "outputs": [],
   "source": [
    "\n"
   ]
  },
  {
   "cell_type": "markdown",
   "metadata": {},
   "source": [
    "### BAR PLOT"
   ]
  },
  {
   "cell_type": "code",
   "execution_count": null,
   "metadata": {},
   "outputs": [],
   "source": [
    "\n"
   ]
  },
  {
   "cell_type": "markdown",
   "metadata": {},
   "source": [
    "### PIE CHART"
   ]
  },
  {
   "cell_type": "code",
   "execution_count": null,
   "metadata": {
    "scrolled": true
   },
   "outputs": [],
   "source": [
    "\n"
   ]
  },
  {
   "cell_type": "markdown",
   "metadata": {},
   "source": [
    "# 10.3 PROJECT (Group)\n",
    "\n",
    "**Write a program that will do the following:**\n",
    "1. Read in the following 2 files:  NCEL-Cash5.csv and NCEL-Cash5-Detailed.csv\n",
    "2. Calculate the return on investment (ROI) from playing the same 5 numbers every time the game is offered.\n",
    "3. Calculate the ROI from playing 5 random numbers on each draw.\n",
    "4. For an added challenge, change this calculation to occur starting at an arbitrary start date (rather than the beginning of the data set).\n",
    "5. For an even greater challenge, run multiple trials for the above setup and report the average ROI for all trials.\n",
    "\n",
    "**Notes for calculating winnings:**\n",
    "1. Ball order does not matter.\n",
    "2. Costs \\\\$1 for each draw (ie. \\\\$2 for days that have double play)\n",
    "3. Each draw is five numbers and range from 1 to 43\n",
    "4. May 15, 2014 balls drawn changed from 39 -> 41\n",
    "5. Nov 4, 2018  balls drawn changed from 41 -> 43\n",
    "\n",
    "**Winners are as follows:**\n",
    "1. Match 0 balls = \\$0\n",
    "2. Match 1 ball = \\$0\n",
    "3. Match 2 balls = \\$1\n",
    "4. Match 3 balls = \\$5\n",
    "5. Match 4 balls = use prize_4 or prize_4_double_play from Detailed file\n",
    "6. Match 5 balls = use prize_5 or prize_5_double_play from Detailed file\n",
    "\n",
    "\n",
    "**Output the following:**\n",
    "1. 5 numbers played\n",
    "2. dollars spent playing\n",
    "3. dollars won\n",
    "4. return on investment as a percentage\n",
    "\n",
    "\n",
    "**Just for fun: What happened on July 11, 2007?**\n",
    "&nbsp;\n",
    "\n",
    "\n",
    "<center> <b> NCEL-Cash5.csv format: </b> </center>\n",
    "\n",
    "| Date:  | Ball N:  | DP: 0 - False, 1 - True |\n",
    "|--------|----------|-------------------------|\n",
    "|date of drawing | winning ball numbers  | \"Double Play\" | \n",
    "| (m/d/Y) | in order drawn | , or second play of the day. |\n",
    "|         |           |  First introduced 4/25/2021 |                             \n",
    "\n",
    "&nbsp;  \n",
    "\n",
    "<center> <b> NCEL-Cash5-Detailed.csv format: </b> </center>\n",
    "\n",
    "\n",
    "| Date: | prize_n: | winners_n: | *_double_play_*: |\n",
    "|-------|----------|------------|------------------|\n",
    "| date of drawing | prize amount for matching | winner count for | double play value |\n",
    "| (m/d/Y) | n numbers correctly | matching n numbers. |for that winner amount or prize pool. |\n"
   ]
  },
  {
   "cell_type": "code",
   "execution_count": null,
   "metadata": {},
   "outputs": [],
   "source": [
    "\n"
   ]
  },
  {
   "cell_type": "code",
   "execution_count": null,
   "metadata": {},
   "outputs": [],
   "source": [
    "\n"
   ]
  },
  {
   "cell_type": "code",
   "execution_count": null,
   "metadata": {},
   "outputs": [],
   "source": [
    "\n"
   ]
  }
 ],
 "metadata": {
  "kernelspec": {
   "display_name": "Python 3 (ipykernel)",
   "language": "python",
   "name": "python3"
  },
  "language_info": {
   "codemirror_mode": {
    "name": "ipython",
    "version": 3
   },
   "file_extension": ".py",
   "mimetype": "text/x-python",
   "name": "python",
   "nbconvert_exporter": "python",
   "pygments_lexer": "ipython3",
   "version": "3.9.12"
  }
 },
 "nbformat": 4,
 "nbformat_minor": 2
}
