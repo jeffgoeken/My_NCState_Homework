{
 "cells": [
  {
   "cell_type": "markdown",
   "metadata": {},
   "source": [
    "# Workshop 10 [Student]\n",
    "\n",
    "This notebook will cover the following topics:\n",
    "\n",
    "1. Basic statistics\n",
    "    - Central Tendancy\n",
    "    - Feature Scaling\n",
    "2. Visualization\n",
    "    - Plots\n",
    "3. Final project"
   ]
  },
  {
   "cell_type": "markdown",
   "metadata": {},
   "source": [
    "## 10.1 BASIC STATISTICS (Follow)\n",
    "\n",
    "**Learning Objectives**\n",
    "1. Understand mean, median, and mode and when to use each and what they mean\n",
    "2. Understand standard deviation\n",
    "3. Understand Z-Score\n",
    "4. Understand normalization"
   ]
  },
  {
   "cell_type": "code",
   "execution_count": null,
   "metadata": {},
   "outputs": [],
   "source": [
    "\"\"\"\n",
    "Add comments for you own reference\n",
    "\"\"\"\n",
    "\n",
    "import pandas as pd\n",
    "import numpy as np\n",
    "\n",
    "\n",
    "speed = pd.Series([99,86,87,88,111,86,103,87,94,78,77,85,86])\n",
    "print(speed)\n",
    "# print(speed.mean())\n",
    "print(speed.median())\n",
    "# print(speed.mode())\n",
    "# print(speed.std())\n",
    "# values, counts = np.unique(speed, return_counts=True)\n",
    "# print(values, '\\n', counts)\n",
    "\n",
    "velocity = pd.Series([99,86,87,88,111,86,103,87,94,78,77,85,86, 1000000])\n",
    "# print(velocity)\n",
    "# print(velocity.mean())\n",
    "# print(velocity.median())\n",
    "# print(velocity.mode())\n",
    "# print(velocity.std())\n",
    "\n",
    "postal_codes = pd.Series([52801, 52802, 52803, 52801, 78318, 90210, 77318, 27511, 27513, 27514, 49093, 49008])\n",
    "# print(postal_codes)\n",
    "# print(postal_codes.mean())\n",
    "# print(postal_codes.median())\n",
    "# print(postal_codes.mode())\n",
    "# print(postal_codes.std())\n"
   ]
  },
  {
   "cell_type": "code",
   "execution_count": null,
   "metadata": {},
   "outputs": [],
   "source": [
    "\"\"\"\n",
    "Add comments for you own reference\n",
    "\"\"\"\n",
    "\n",
    "def standardize(X, mean, std):\n",
    "    standardized_val = (X-mean)/std\n",
    "    return standardized_val\n",
    "\n",
    "def normalize(X, X_max, X_min):\n",
    "    normalized_value = (X-X_min)/(X_max-X_min)\n",
    "    return normalized_value\n"
   ]
  },
  {
   "cell_type": "code",
   "execution_count": null,
   "metadata": {},
   "outputs": [],
   "source": [
    "\"\"\"\n",
    "Add comments for you own reference\n",
    "\"\"\"\n",
    "\n",
    "for item in speed:\n",
    "    print(standardize(item, speed.mean(), speed.std()))\n",
    "    print(normalize(item, speed.max(), speed.min()))\n",
    "print('**************************************')\n",
    "for item in velocity:\n",
    "    print(standardize(item, velocity.mean(), velocity.std()))\n",
    "    print(normalize(item, velocity.max(), velocity.min())) "
   ]
  },
  {
   "cell_type": "markdown",
   "metadata": {},
   "source": [
    "**Evaluation:**\n",
    "\n",
    "After running this program, think about and answer these questions:\n",
    "\n",
    "1. How is Z_score Calculated?\n",
    "2. How is Data Normalized?\n",
    "3. What is the use of Standardization and Normalization?"
   ]
  },
  {
   "cell_type": "markdown",
   "metadata": {},
   "source": [
    "## 10.1 BASIC STATISTICS (Group)\n",
    "\n",
    "Write a program that will do the following:\n",
    "\n",
    "1. Use the Iris dataset.\n",
    "2. Calculate mean, median, mode of each column(Except Target class)\n",
    "3. Standardize and Normalize each column."
   ]
  },
  {
   "cell_type": "code",
   "execution_count": 10,
   "metadata": {},
   "outputs": [],
   "source": [
    "import pandas as pd\n",
    "\n",
    "class BasicStats():\n",
    "    def __init__(self,Filename):\n",
    "        \n",
    "        self.filename = Filename\n",
    "        self.df = pd.read_csv(self.filename)\n",
    "\n",
    "\n",
    "    def displayStats(self):\n",
    "        display(self.df.mean())\n",
    "        display(self.df.mode())\n",
    "        display(self.df.median())\n",
    "\n",
    "    def standardize(self):\n",
    "        standardized_val = (self.df-self.df.mean())/self.df.std()\n",
    "        display( standardized_val)\n",
    "    \n",
    "    def normalize(self):\n",
    "        normalized_value = (self.df-self.df.min())/(self.df.max()-self.df.min())\n",
    "        print( normalized_value)"
   ]
  },
  {
   "cell_type": "code",
   "execution_count": null,
   "metadata": {},
   "outputs": [],
   "source": []
  },
  {
   "cell_type": "code",
   "execution_count": 11,
   "metadata": {},
   "outputs": [
    {
     "name": "stderr",
     "output_type": "stream",
     "text": [
      "C:\\Users\\jgoek\\AppData\\Local\\Temp\\ipykernel_13228\\2347144324.py:16: FutureWarning: The default value of numeric_only in DataFrame.mean is deprecated. In a future version, it will default to False. In addition, specifying 'numeric_only=None' is deprecated. Select only valid columns or specify the value of numeric_only to silence this warning.\n",
      "  standardized_val = (self.df-self.df.mean())/self.df.std()\n",
      "C:\\Users\\jgoek\\AppData\\Local\\Temp\\ipykernel_13228\\2347144324.py:16: FutureWarning: The default value of numeric_only in DataFrame.std is deprecated. In a future version, it will default to False. In addition, specifying 'numeric_only=None' is deprecated. Select only valid columns or specify the value of numeric_only to silence this warning.\n",
      "  standardized_val = (self.df-self.df.mean())/self.df.std()\n"
     ]
    },
    {
     "data": {
      "text/html": [
       "<div>\n",
       "<style scoped>\n",
       "    .dataframe tbody tr th:only-of-type {\n",
       "        vertical-align: middle;\n",
       "    }\n",
       "\n",
       "    .dataframe tbody tr th {\n",
       "        vertical-align: top;\n",
       "    }\n",
       "\n",
       "    .dataframe thead th {\n",
       "        text-align: right;\n",
       "    }\n",
       "</style>\n",
       "<table border=\"1\" class=\"dataframe\">\n",
       "  <thead>\n",
       "    <tr style=\"text-align: right;\">\n",
       "      <th></th>\n",
       "      <th>Id</th>\n",
       "      <th>PetalLengthCm</th>\n",
       "      <th>PetalWidthCm</th>\n",
       "      <th>SepalLengthCm</th>\n",
       "      <th>SepalWidthCm</th>\n",
       "      <th>Species</th>\n",
       "    </tr>\n",
       "  </thead>\n",
       "  <tbody>\n",
       "    <tr>\n",
       "      <th>0</th>\n",
       "      <td>-1.714797</td>\n",
       "      <td>-1.336794</td>\n",
       "      <td>-1.308593</td>\n",
       "      <td>-0.897674</td>\n",
       "      <td>1.028611</td>\n",
       "      <td>NaN</td>\n",
       "    </tr>\n",
       "    <tr>\n",
       "      <th>1</th>\n",
       "      <td>-1.691780</td>\n",
       "      <td>-1.336794</td>\n",
       "      <td>-1.308593</td>\n",
       "      <td>-1.139200</td>\n",
       "      <td>-0.124540</td>\n",
       "      <td>NaN</td>\n",
       "    </tr>\n",
       "    <tr>\n",
       "      <th>2</th>\n",
       "      <td>-1.668762</td>\n",
       "      <td>-1.393470</td>\n",
       "      <td>-1.308593</td>\n",
       "      <td>-1.380727</td>\n",
       "      <td>0.336720</td>\n",
       "      <td>NaN</td>\n",
       "    </tr>\n",
       "    <tr>\n",
       "      <th>3</th>\n",
       "      <td>-1.645745</td>\n",
       "      <td>-1.280118</td>\n",
       "      <td>-1.308593</td>\n",
       "      <td>-1.501490</td>\n",
       "      <td>0.106090</td>\n",
       "      <td>NaN</td>\n",
       "    </tr>\n",
       "    <tr>\n",
       "      <th>4</th>\n",
       "      <td>-1.622728</td>\n",
       "      <td>-1.336794</td>\n",
       "      <td>-1.308593</td>\n",
       "      <td>-1.018437</td>\n",
       "      <td>1.259242</td>\n",
       "      <td>NaN</td>\n",
       "    </tr>\n",
       "    <tr>\n",
       "      <th>...</th>\n",
       "      <td>...</td>\n",
       "      <td>...</td>\n",
       "      <td>...</td>\n",
       "      <td>...</td>\n",
       "      <td>...</td>\n",
       "      <td>...</td>\n",
       "    </tr>\n",
       "    <tr>\n",
       "      <th>145</th>\n",
       "      <td>1.622728</td>\n",
       "      <td>0.816888</td>\n",
       "      <td>1.443121</td>\n",
       "      <td>1.034539</td>\n",
       "      <td>-0.124540</td>\n",
       "      <td>NaN</td>\n",
       "    </tr>\n",
       "    <tr>\n",
       "      <th>146</th>\n",
       "      <td>1.645745</td>\n",
       "      <td>0.703536</td>\n",
       "      <td>0.918985</td>\n",
       "      <td>0.551486</td>\n",
       "      <td>-1.277692</td>\n",
       "      <td>NaN</td>\n",
       "    </tr>\n",
       "    <tr>\n",
       "      <th>147</th>\n",
       "      <td>1.668762</td>\n",
       "      <td>0.816888</td>\n",
       "      <td>1.050019</td>\n",
       "      <td>0.793012</td>\n",
       "      <td>-0.124540</td>\n",
       "      <td>NaN</td>\n",
       "    </tr>\n",
       "    <tr>\n",
       "      <th>148</th>\n",
       "      <td>1.691780</td>\n",
       "      <td>0.930239</td>\n",
       "      <td>1.443121</td>\n",
       "      <td>0.430722</td>\n",
       "      <td>0.797981</td>\n",
       "      <td>NaN</td>\n",
       "    </tr>\n",
       "    <tr>\n",
       "      <th>149</th>\n",
       "      <td>1.714797</td>\n",
       "      <td>0.760212</td>\n",
       "      <td>0.787951</td>\n",
       "      <td>0.068433</td>\n",
       "      <td>-0.124540</td>\n",
       "      <td>NaN</td>\n",
       "    </tr>\n",
       "  </tbody>\n",
       "</table>\n",
       "<p>150 rows × 6 columns</p>\n",
       "</div>"
      ],
      "text/plain": [
       "           Id  PetalLengthCm  PetalWidthCm  SepalLengthCm  SepalWidthCm  \\\n",
       "0   -1.714797      -1.336794     -1.308593      -0.897674      1.028611   \n",
       "1   -1.691780      -1.336794     -1.308593      -1.139200     -0.124540   \n",
       "2   -1.668762      -1.393470     -1.308593      -1.380727      0.336720   \n",
       "3   -1.645745      -1.280118     -1.308593      -1.501490      0.106090   \n",
       "4   -1.622728      -1.336794     -1.308593      -1.018437      1.259242   \n",
       "..        ...            ...           ...            ...           ...   \n",
       "145  1.622728       0.816888      1.443121       1.034539     -0.124540   \n",
       "146  1.645745       0.703536      0.918985       0.551486     -1.277692   \n",
       "147  1.668762       0.816888      1.050019       0.793012     -0.124540   \n",
       "148  1.691780       0.930239      1.443121       0.430722      0.797981   \n",
       "149  1.714797       0.760212      0.787951       0.068433     -0.124540   \n",
       "\n",
       "    Species  \n",
       "0       NaN  \n",
       "1       NaN  \n",
       "2       NaN  \n",
       "3       NaN  \n",
       "4       NaN  \n",
       "..      ...  \n",
       "145     NaN  \n",
       "146     NaN  \n",
       "147     NaN  \n",
       "148     NaN  \n",
       "149     NaN  \n",
       "\n",
       "[150 rows x 6 columns]"
      ]
     },
     "metadata": {},
     "output_type": "display_data"
    },
    {
     "ename": "TypeError",
     "evalue": "unsupported operand type(s) for -: 'str' and 'str'",
     "output_type": "error",
     "traceback": [
      "\u001b[1;31m---------------------------------------------------------------------------\u001b[0m",
      "\u001b[1;31mTypeError\u001b[0m                                 Traceback (most recent call last)",
      "File \u001b[1;32m~\\AppData\\Roaming\\Python\\Python311\\site-packages\\pandas\\core\\ops\\array_ops.py:165\u001b[0m, in \u001b[0;36m_na_arithmetic_op\u001b[1;34m(left, right, op, is_cmp)\u001b[0m\n\u001b[0;32m    164\u001b[0m \u001b[39mtry\u001b[39;00m:\n\u001b[1;32m--> 165\u001b[0m     result \u001b[39m=\u001b[39m func(left, right)\n\u001b[0;32m    166\u001b[0m \u001b[39mexcept\u001b[39;00m \u001b[39mTypeError\u001b[39;00m:\n",
      "File \u001b[1;32m~\\AppData\\Roaming\\Python\\Python311\\site-packages\\pandas\\core\\computation\\expressions.py:241\u001b[0m, in \u001b[0;36mevaluate\u001b[1;34m(op, a, b, use_numexpr)\u001b[0m\n\u001b[0;32m    239\u001b[0m     \u001b[39mif\u001b[39;00m use_numexpr:\n\u001b[0;32m    240\u001b[0m         \u001b[39m# error: \"None\" not callable\u001b[39;00m\n\u001b[1;32m--> 241\u001b[0m         \u001b[39mreturn\u001b[39;00m _evaluate(op, op_str, a, b)  \u001b[39m# type: ignore[misc]\u001b[39;00m\n\u001b[0;32m    242\u001b[0m \u001b[39mreturn\u001b[39;00m _evaluate_standard(op, op_str, a, b)\n",
      "File \u001b[1;32m~\\AppData\\Roaming\\Python\\Python311\\site-packages\\pandas\\core\\computation\\expressions.py:70\u001b[0m, in \u001b[0;36m_evaluate_standard\u001b[1;34m(op, op_str, a, b)\u001b[0m\n\u001b[0;32m     69\u001b[0m     _store_test_result(\u001b[39mFalse\u001b[39;00m)\n\u001b[1;32m---> 70\u001b[0m \u001b[39mreturn\u001b[39;00m op(a, b)\n",
      "\u001b[1;31mTypeError\u001b[0m: unsupported operand type(s) for -: 'str' and 'str'",
      "\nDuring handling of the above exception, another exception occurred:\n",
      "\u001b[1;31mTypeError\u001b[0m                                 Traceback (most recent call last)",
      "Cell \u001b[1;32mIn[11], line 4\u001b[0m\n\u001b[0;32m      2\u001b[0m \u001b[39m#myStats.displayStats()\u001b[39;00m\n\u001b[0;32m      3\u001b[0m myStats\u001b[39m.\u001b[39mstandardize()\n\u001b[1;32m----> 4\u001b[0m myStats\u001b[39m.\u001b[39;49mnormalize()\n",
      "Cell \u001b[1;32mIn[10], line 20\u001b[0m, in \u001b[0;36mBasicStats.normalize\u001b[1;34m(self)\u001b[0m\n\u001b[0;32m     19\u001b[0m \u001b[39mdef\u001b[39;00m \u001b[39mnormalize\u001b[39m(\u001b[39mself\u001b[39m):\n\u001b[1;32m---> 20\u001b[0m     normalized_value \u001b[39m=\u001b[39m (\u001b[39mself\u001b[39;49m\u001b[39m.\u001b[39;49mdf\u001b[39m-\u001b[39;49m\u001b[39mself\u001b[39;49m\u001b[39m.\u001b[39;49mdf\u001b[39m.\u001b[39;49mmin())\u001b[39m/\u001b[39m(\u001b[39mself\u001b[39m\u001b[39m.\u001b[39mdf\u001b[39m.\u001b[39mmax()\u001b[39m-\u001b[39m\u001b[39mself\u001b[39m\u001b[39m.\u001b[39mdf\u001b[39m.\u001b[39mmin())\n\u001b[0;32m     21\u001b[0m     \u001b[39mprint\u001b[39m( normalized_value)\n",
      "File \u001b[1;32m~\\AppData\\Roaming\\Python\\Python311\\site-packages\\pandas\\core\\ops\\common.py:72\u001b[0m, in \u001b[0;36m_unpack_zerodim_and_defer.<locals>.new_method\u001b[1;34m(self, other)\u001b[0m\n\u001b[0;32m     68\u001b[0m             \u001b[39mreturn\u001b[39;00m \u001b[39mNotImplemented\u001b[39m\n\u001b[0;32m     70\u001b[0m other \u001b[39m=\u001b[39m item_from_zerodim(other)\n\u001b[1;32m---> 72\u001b[0m \u001b[39mreturn\u001b[39;00m method(\u001b[39mself\u001b[39;49m, other)\n",
      "File \u001b[1;32m~\\AppData\\Roaming\\Python\\Python311\\site-packages\\pandas\\core\\arraylike.py:110\u001b[0m, in \u001b[0;36mOpsMixin.__sub__\u001b[1;34m(self, other)\u001b[0m\n\u001b[0;32m    108\u001b[0m \u001b[39m@unpack_zerodim_and_defer\u001b[39m(\u001b[39m\"\u001b[39m\u001b[39m__sub__\u001b[39m\u001b[39m\"\u001b[39m)\n\u001b[0;32m    109\u001b[0m \u001b[39mdef\u001b[39;00m \u001b[39m__sub__\u001b[39m(\u001b[39mself\u001b[39m, other):\n\u001b[1;32m--> 110\u001b[0m     \u001b[39mreturn\u001b[39;00m \u001b[39mself\u001b[39;49m\u001b[39m.\u001b[39;49m_arith_method(other, operator\u001b[39m.\u001b[39;49msub)\n",
      "File \u001b[1;32m~\\AppData\\Roaming\\Python\\Python311\\site-packages\\pandas\\core\\frame.py:7594\u001b[0m, in \u001b[0;36mDataFrame._arith_method\u001b[1;34m(self, other, op)\u001b[0m\n\u001b[0;32m   7590\u001b[0m other \u001b[39m=\u001b[39m ops\u001b[39m.\u001b[39mmaybe_prepare_scalar_for_op(other, (\u001b[39mself\u001b[39m\u001b[39m.\u001b[39mshape[axis],))\n\u001b[0;32m   7592\u001b[0m \u001b[39mself\u001b[39m, other \u001b[39m=\u001b[39m ops\u001b[39m.\u001b[39malign_method_FRAME(\u001b[39mself\u001b[39m, other, axis, flex\u001b[39m=\u001b[39m\u001b[39mTrue\u001b[39;00m, level\u001b[39m=\u001b[39m\u001b[39mNone\u001b[39;00m)\n\u001b[1;32m-> 7594\u001b[0m new_data \u001b[39m=\u001b[39m \u001b[39mself\u001b[39;49m\u001b[39m.\u001b[39;49m_dispatch_frame_op(other, op, axis\u001b[39m=\u001b[39;49maxis)\n\u001b[0;32m   7595\u001b[0m \u001b[39mreturn\u001b[39;00m \u001b[39mself\u001b[39m\u001b[39m.\u001b[39m_construct_result(new_data)\n",
      "File \u001b[1;32m~\\AppData\\Roaming\\Python\\Python311\\site-packages\\pandas\\core\\frame.py:7633\u001b[0m, in \u001b[0;36mDataFrame._dispatch_frame_op\u001b[1;34m(self, right, func, axis)\u001b[0m\n\u001b[0;32m   7627\u001b[0m     \u001b[39m# TODO: The previous assertion `assert right._indexed_same(self)`\u001b[39;00m\n\u001b[0;32m   7628\u001b[0m     \u001b[39m#  fails in cases with empty columns reached via\u001b[39;00m\n\u001b[0;32m   7629\u001b[0m     \u001b[39m#  _frame_arith_method_with_reindex\u001b[39;00m\n\u001b[0;32m   7630\u001b[0m \n\u001b[0;32m   7631\u001b[0m     \u001b[39m# TODO operate_blockwise expects a manager of the same type\u001b[39;00m\n\u001b[0;32m   7632\u001b[0m     \u001b[39mwith\u001b[39;00m np\u001b[39m.\u001b[39merrstate(\u001b[39mall\u001b[39m\u001b[39m=\u001b[39m\u001b[39m\"\u001b[39m\u001b[39mignore\u001b[39m\u001b[39m\"\u001b[39m):\n\u001b[1;32m-> 7633\u001b[0m         bm \u001b[39m=\u001b[39m \u001b[39mself\u001b[39;49m\u001b[39m.\u001b[39;49m_mgr\u001b[39m.\u001b[39;49moperate_blockwise(\n\u001b[0;32m   7634\u001b[0m             \u001b[39m# error: Argument 1 to \"operate_blockwise\" of \"ArrayManager\" has\u001b[39;49;00m\n\u001b[0;32m   7635\u001b[0m             \u001b[39m# incompatible type \"Union[ArrayManager, BlockManager]\"; expected\u001b[39;49;00m\n\u001b[0;32m   7636\u001b[0m             \u001b[39m# \"ArrayManager\"\u001b[39;49;00m\n\u001b[0;32m   7637\u001b[0m             \u001b[39m# error: Argument 1 to \"operate_blockwise\" of \"BlockManager\" has\u001b[39;49;00m\n\u001b[0;32m   7638\u001b[0m             \u001b[39m# incompatible type \"Union[ArrayManager, BlockManager]\"; expected\u001b[39;49;00m\n\u001b[0;32m   7639\u001b[0m             \u001b[39m# \"BlockManager\"\u001b[39;49;00m\n\u001b[0;32m   7640\u001b[0m             right\u001b[39m.\u001b[39;49m_mgr,  \u001b[39m# type: ignore[arg-type]\u001b[39;49;00m\n\u001b[0;32m   7641\u001b[0m             array_op,\n\u001b[0;32m   7642\u001b[0m         )\n\u001b[0;32m   7643\u001b[0m     \u001b[39mreturn\u001b[39;00m \u001b[39mself\u001b[39m\u001b[39m.\u001b[39m_constructor(bm)\n\u001b[0;32m   7645\u001b[0m \u001b[39melif\u001b[39;00m \u001b[39misinstance\u001b[39m(right, Series) \u001b[39mand\u001b[39;00m axis \u001b[39m==\u001b[39m \u001b[39m1\u001b[39m:\n\u001b[0;32m   7646\u001b[0m     \u001b[39m# axis=1 means we want to operate row-by-row\u001b[39;00m\n",
      "File \u001b[1;32m~\\AppData\\Roaming\\Python\\Python311\\site-packages\\pandas\\core\\internals\\managers.py:1589\u001b[0m, in \u001b[0;36mBlockManager.operate_blockwise\u001b[1;34m(self, other, array_op)\u001b[0m\n\u001b[0;32m   1585\u001b[0m \u001b[39mdef\u001b[39;00m \u001b[39moperate_blockwise\u001b[39m(\u001b[39mself\u001b[39m, other: BlockManager, array_op) \u001b[39m-\u001b[39m\u001b[39m>\u001b[39m BlockManager:\n\u001b[0;32m   1586\u001b[0m \u001b[39m    \u001b[39m\u001b[39m\"\"\"\u001b[39;00m\n\u001b[0;32m   1587\u001b[0m \u001b[39m    Apply array_op blockwise with another (aligned) BlockManager.\u001b[39;00m\n\u001b[0;32m   1588\u001b[0m \u001b[39m    \"\"\"\u001b[39;00m\n\u001b[1;32m-> 1589\u001b[0m     \u001b[39mreturn\u001b[39;00m operate_blockwise(\u001b[39mself\u001b[39;49m, other, array_op)\n",
      "File \u001b[1;32m~\\AppData\\Roaming\\Python\\Python311\\site-packages\\pandas\\core\\internals\\ops.py:63\u001b[0m, in \u001b[0;36moperate_blockwise\u001b[1;34m(left, right, array_op)\u001b[0m\n\u001b[0;32m     61\u001b[0m res_blks: \u001b[39mlist\u001b[39m[Block] \u001b[39m=\u001b[39m []\n\u001b[0;32m     62\u001b[0m \u001b[39mfor\u001b[39;00m lvals, rvals, locs, left_ea, right_ea, rblk \u001b[39min\u001b[39;00m _iter_block_pairs(left, right):\n\u001b[1;32m---> 63\u001b[0m     res_values \u001b[39m=\u001b[39m array_op(lvals, rvals)\n\u001b[0;32m     64\u001b[0m     \u001b[39mif\u001b[39;00m left_ea \u001b[39mand\u001b[39;00m \u001b[39mnot\u001b[39;00m right_ea \u001b[39mand\u001b[39;00m \u001b[39mhasattr\u001b[39m(res_values, \u001b[39m\"\u001b[39m\u001b[39mreshape\u001b[39m\u001b[39m\"\u001b[39m):\n\u001b[0;32m     65\u001b[0m         res_values \u001b[39m=\u001b[39m res_values\u001b[39m.\u001b[39mreshape(\u001b[39m1\u001b[39m, \u001b[39m-\u001b[39m\u001b[39m1\u001b[39m)\n",
      "File \u001b[1;32m~\\AppData\\Roaming\\Python\\Python311\\site-packages\\pandas\\core\\ops\\array_ops.py:226\u001b[0m, in \u001b[0;36marithmetic_op\u001b[1;34m(left, right, op)\u001b[0m\n\u001b[0;32m    222\u001b[0m     _bool_arith_check(op, left, right)\n\u001b[0;32m    224\u001b[0m     \u001b[39m# error: Argument 1 to \"_na_arithmetic_op\" has incompatible type\u001b[39;00m\n\u001b[0;32m    225\u001b[0m     \u001b[39m# \"Union[ExtensionArray, ndarray[Any, Any]]\"; expected \"ndarray[Any, Any]\"\u001b[39;00m\n\u001b[1;32m--> 226\u001b[0m     res_values \u001b[39m=\u001b[39m _na_arithmetic_op(left, right, op)  \u001b[39m# type: ignore[arg-type]\u001b[39;00m\n\u001b[0;32m    228\u001b[0m \u001b[39mreturn\u001b[39;00m res_values\n",
      "File \u001b[1;32m~\\AppData\\Roaming\\Python\\Python311\\site-packages\\pandas\\core\\ops\\array_ops.py:172\u001b[0m, in \u001b[0;36m_na_arithmetic_op\u001b[1;34m(left, right, op, is_cmp)\u001b[0m\n\u001b[0;32m    166\u001b[0m \u001b[39mexcept\u001b[39;00m \u001b[39mTypeError\u001b[39;00m:\n\u001b[0;32m    167\u001b[0m     \u001b[39mif\u001b[39;00m \u001b[39mnot\u001b[39;00m is_cmp \u001b[39mand\u001b[39;00m (is_object_dtype(left\u001b[39m.\u001b[39mdtype) \u001b[39mor\u001b[39;00m is_object_dtype(right)):\n\u001b[0;32m    168\u001b[0m         \u001b[39m# For object dtype, fallback to a masked operation (only operating\u001b[39;00m\n\u001b[0;32m    169\u001b[0m         \u001b[39m#  on the non-missing values)\u001b[39;00m\n\u001b[0;32m    170\u001b[0m         \u001b[39m# Don't do this for comparisons, as that will handle complex numbers\u001b[39;00m\n\u001b[0;32m    171\u001b[0m         \u001b[39m#  incorrectly, see GH#32047\u001b[39;00m\n\u001b[1;32m--> 172\u001b[0m         result \u001b[39m=\u001b[39m _masked_arith_op(left, right, op)\n\u001b[0;32m    173\u001b[0m     \u001b[39melse\u001b[39;00m:\n\u001b[0;32m    174\u001b[0m         \u001b[39mraise\u001b[39;00m\n",
      "File \u001b[1;32m~\\AppData\\Roaming\\Python\\Python311\\site-packages\\pandas\\core\\ops\\array_ops.py:110\u001b[0m, in \u001b[0;36m_masked_arith_op\u001b[1;34m(x, y, op)\u001b[0m\n\u001b[0;32m    108\u001b[0m     \u001b[39m# See GH#5284, GH#5035, GH#19448 for historical reference\u001b[39;00m\n\u001b[0;32m    109\u001b[0m     \u001b[39mif\u001b[39;00m mask\u001b[39m.\u001b[39many():\n\u001b[1;32m--> 110\u001b[0m         result[mask] \u001b[39m=\u001b[39m op(xrav[mask], yrav[mask])\n\u001b[0;32m    112\u001b[0m \u001b[39melse\u001b[39;00m:\n\u001b[0;32m    113\u001b[0m     \u001b[39mif\u001b[39;00m \u001b[39mnot\u001b[39;00m is_scalar(y):\n",
      "\u001b[1;31mTypeError\u001b[0m: unsupported operand type(s) for -: 'str' and 'str'"
     ]
    }
   ],
   "source": [
    "myStats = BasicStats('Iris.csv')\n",
    "#myStats.displayStats()\n",
    "myStats.standardize()\n",
    "myStats.normalize()"
   ]
  },
  {
   "cell_type": "markdown",
   "metadata": {},
   "source": [
    "## 10.2 VISUALIZATION (Follow)\n",
    "\n",
    "**Learning Objectives**\n",
    "1. Understand importance of Visualization\n",
    "2. Learn visualization techniques\n",
    "3. Learn to relate data to visual graphs"
   ]
  },
  {
   "cell_type": "code",
   "execution_count": 3,
   "metadata": {},
   "outputs": [],
   "source": [
    "import pandas as pd\n",
    "\n",
    "df = pd.read_csv(\"Iris.csv\")"
   ]
  },
  {
   "cell_type": "markdown",
   "metadata": {},
   "source": [
    "### BOX PLOT"
   ]
  },
  {
   "cell_type": "code",
   "execution_count": 5,
   "metadata": {},
   "outputs": [
    {
     "data": {
      "image/png": "[encoded data removed]",
      "text/plain": [
       "<Figure size 500x500 with 1 Axes>"
      ]
     },
     "metadata": {},
     "output_type": "display_data"
    }
   ],
   "source": [
    "import matplotlib.pyplot as plt\n",
    "\n",
    "fig = plt.figure(figsize =(5, 5))\n",
    " \n",
    "plt.boxplot(df['SepalWidthCm'])\n",
    "\n",
    "plt.show()"
   ]
  },
  {
   "cell_type": "markdown",
   "metadata": {},
   "source": [
    "### SCATTER PLOT"
   ]
  },
  {
   "cell_type": "code",
   "execution_count": 4,
   "metadata": {},
   "outputs": [
    {
     "data": {
      "image/png": "[encoded data removed]",
      "text/plain": [
       "<Figure size 500x500 with 1 Axes>"
      ]
     },
     "metadata": {},
     "output_type": "display_data"
    }
   ],
   "source": [
    "import matplotlib.pyplot as plt\n",
    "\n",
    "fig = plt.figure(figsize =(5, 5))\n",
    " \n",
    "plt.scatter(df['SepalLengthCm'],df['SepalWidthCm'])\n",
    "\n",
    "plt.show()"
   ]
  },
  {
   "cell_type": "markdown",
   "metadata": {},
   "source": [
    "### HISTOGRAM"
   ]
  },
  {
   "cell_type": "code",
   "execution_count": null,
   "metadata": {},
   "outputs": [],
   "source": [
    "import matplotlib.pyplot as plt\n",
    "\n",
    "fig = plt.figure(figsize =(5, 5))\n",
    " \n",
    "plt.hist(df['SepalWidthCm'])\n",
    "\n",
    "plt.show()"
   ]
  },
  {
   "cell_type": "markdown",
   "metadata": {},
   "source": [
    "### BAR PLOT"
   ]
  },
  {
   "cell_type": "code",
   "execution_count": null,
   "metadata": {},
   "outputs": [],
   "source": [
    "import matplotlib.pyplot as plt\n",
    "\n",
    "fig = plt.figure(figsize =(15, 5))\n",
    " \n",
    "plt.bar(df.columns,list(df.nunique()))\n",
    "\n",
    "plt.show()"
   ]
  },
  {
   "cell_type": "markdown",
   "metadata": {},
   "source": [
    "### PIE CHART"
   ]
  },
  {
   "cell_type": "code",
   "execution_count": null,
   "metadata": {
    "scrolled": true
   },
   "outputs": [],
   "source": [
    "import matplotlib.pyplot as plt\n",
    "\n",
    "fig = plt.figure(figsize =(15, 5))\n",
    " \n",
    "plt.pie(list(df.nunique())[1:],labels = df.columns[1:])\n",
    "\n",
    "plt.show()"
   ]
  },
  {
   "cell_type": "markdown",
   "metadata": {},
   "source": [
    "**Evaluation:**\n",
    "\n",
    "After running this program, think about and answer these questions:\n",
    "\n",
    "1. What does each graph represent?\n",
    "2. Try looking up the documentation for each visualization and add more changes to the graphs.\n",
    "3. What can be concluded from each of the representations?"
   ]
  },
  {
   "cell_type": "markdown",
   "metadata": {},
   "source": [
    "## 10.2 VISUALIZATION (Group)\n",
    "\n",
    "Write a program that will do the following:\n",
    "\n",
    "1. Use the heart dataset.\n",
    "2. Generate a:\n",
    "    - Box Plot\n",
    "    - Scatter Plot\n",
    "    - Histogram\n",
    "    - Bar Plot\n",
    "    - Pie Chart\n",
    "3. Use Columns of your liking. (The visualization must give appropriate and useful information)"
   ]
  },
  {
   "cell_type": "code",
   "execution_count": 12,
   "metadata": {},
   "outputs": [],
   "source": [
    "import pandas as pd\n",
    "import matplotlib.pyplot as plt\n",
    "\n",
    "class Visualization():\n",
    "    def __init__(self,filename):\n",
    "        self.df = pd.read_csv(filename)\n",
    "\n",
    "    def getDF(self):\n",
    "        display(self.df)\n",
    "\n",
    "    def boxplot(self):\n",
    "        fig = plt.figure(figsize =(5, 5))\n",
    "        plt.boxplot(self.df['age'])\n",
    "        plt.show()\n",
    "        \n",
    "    def scatterplot(self):\n",
    "        fig = plt.figure(figsize =(5, 5)) \n",
    "        plt.scatter(self.df['age'],self.df['age'])\n",
    "        plt.show()\n",
    "\n",
    "    def histogram(self):\n",
    "        fig = plt.figure(figsize =(5, 5))\n",
    "        plt.hist(self.df['age'])\n",
    "        plt.show()\n",
    "    \n",
    "    def barplot(self):\n",
    "        fig = plt.figure(figsize =(15, 5))\n",
    "        plt.bar(self.df.columns,list(self.df.nunique()))\n",
    "        plt.show()\n",
    "\n",
    "    def piechart(self):\n",
    "        fig = plt.figure(figsize =(15, 5))\n",
    "        plt.pie(list(self.df.nunique())[1:],labels = self.df.columns[1:])\n",
    "        plt.show()"
   ]
  },
  {
   "cell_type": "markdown",
   "metadata": {},
   "source": [
    "### BOX PLOT"
   ]
  },
  {
   "cell_type": "code",
   "execution_count": 34,
   "metadata": {},
   "outputs": [
    {
     "data": {
      "image/png": "[encoded data removed]",
      "text/plain": [
       "<Figure size 500x500 with 1 Axes>"
      ]
     },
     "metadata": {},
     "output_type": "display_data"
    }
   ],
   "source": [
    "myGraph = Visualization('heart.csv')\n",
    "myGraph.boxplot()\n"
   ]
  },
  {
   "cell_type": "markdown",
   "metadata": {},
   "source": [
    "### SCATTER PLOT"
   ]
  },
  {
   "cell_type": "code",
   "execution_count": 35,
   "metadata": {},
   "outputs": [
    {
     "data": {
      "image/png": "[encoded data removed]",
      "text/plain": [
       "<Figure size 500x500 with 1 Axes>"
      ]
     },
     "metadata": {},
     "output_type": "display_data"
    }
   ],
   "source": [
    "myGraph.scatterplot()\n"
   ]
  },
  {
   "cell_type": "markdown",
   "metadata": {},
   "source": [
    "### HISTOGRAM"
   ]
  },
  {
   "cell_type": "code",
   "execution_count": 36,
   "metadata": {},
   "outputs": [
    {
     "data": {
      "image/png": "[encoded data removed]",
      "text/plain": [
       "<Figure size 500x500 with 1 Axes>"
      ]
     },
     "metadata": {},
     "output_type": "display_data"
    }
   ],
   "source": [
    "myGraph.histogram()\n"
   ]
  },
  {
   "cell_type": "markdown",
   "metadata": {},
   "source": [
    "### BAR PLOT"
   ]
  },
  {
   "cell_type": "code",
   "execution_count": 37,
   "metadata": {},
   "outputs": [
    {
     "data": {
      "image/png": "[encoded data removed]",
      "text/plain": [
       "<Figure size 1500x500 with 1 Axes>"
      ]
     },
     "metadata": {},
     "output_type": "display_data"
    }
   ],
   "source": [
    "myGraph.barplot()\n"
   ]
  },
  {
   "cell_type": "markdown",
   "metadata": {},
   "source": [
    "### PIE CHART"
   ]
  },
  {
   "cell_type": "code",
   "execution_count": 38,
   "metadata": {
    "scrolled": true
   },
   "outputs": [
    {
     "data": {
      "image/png": "[encoded data removed]",
      "text/plain": [
       "<Figure size 1500x500 with 1 Axes>"
      ]
     },
     "metadata": {},
     "output_type": "display_data"
    }
   ],
   "source": [
    "myGraph.piechart()\n"
   ]
  },
  {
   "cell_type": "markdown",
   "metadata": {},
   "source": [
    "# 10.3 PROJECT (Group)\n",
    "\n",
    "**Write a program that will do the following:**\n",
    "1. Read in the following 2 files:  NCEL-Cash5.csv and NCEL-Cash5-Detailed.csv\n",
    "2. Calculate the return on investment (ROI) from playing the same 5 numbers every time the game is offered.\n",
    "3. Calculate the ROI from playing 5 random numbers on each draw.\n",
    "4. For an added challenge, change this calculation to occur starting at an arbitrary start date (rather than the beginning of the data set).\n",
    "5. For an even greater challenge, run multiple trials for the above setup and report the average ROI for all trials.\n",
    "\n",
    "**Notes for calculating winnings:**\n",
    "1. Ball order does not matter.\n",
    "2. Costs \\\\$1 for each draw (ie. \\\\$2 for days that have double play)\n",
    "3. Each draw is five numbers and range from 1 to 43\n",
    "4. May 15, 2014 balls drawn changed from 39 -> 41\n",
    "5. Nov 4, 2018  balls drawn changed from 41 -> 43\n",
    "\n",
    "**Winners are as follows:**\n",
    "1. Match 0 balls = \\$0\n",
    "2. Match 1 ball = \\$0\n",
    "3. Match 2 balls = \\$1\n",
    "4. Match 3 balls = \\$5\n",
    "5. Match 4 balls = use prize_4 or prize_4_double_play from Detailed file\n",
    "6. Match 5 balls = use prize_5 or prize_5_double_play from Detailed file\n",
    "\n",
    "\n",
    "**Output the following:**\n",
    "1. 5 numbers played\n",
    "2. dollars spent playing\n",
    "3. dollars won\n",
    "4. return on investment as a percentage\n",
    "\n",
    "\n",
    "**Just for fun: What happened on July 11, 2007?**\n",
    "&nbsp;\n",
    "\n",
    "\n",
    "<center> <b> NCEL-Cash5.csv format: </b> </center>\n",
    "\n",
    "| Date:  | Ball N:  | DP: 0 - False, 1 - True |\n",
    "|--------|----------|-------------------------|\n",
    "|date of drawing | winning ball numbers  | \"Double Play\" | \n",
    "| (m/d/Y) | in order drawn | , or second play of the day. |\n",
    "|         |           |  First introduced 4/25/2021 |                             \n",
    "\n",
    "&nbsp;  \n",
    "\n",
    "<center> <b> NCEL-Cash5-Detailed.csv format: </b> </center>\n",
    "\n",
    "\n",
    "| Date: | prize_n: | winners_n: | *_double_play_*: |\n",
    "|-------|----------|------------|------------------|\n",
    "| date of drawing | prize amount for matching | winner count for | double play value |\n",
    "| (m/d/Y) | n numbers correctly | matching n numbers. |for that winner amount or prize pool. |\n"
   ]
  },
  {
   "cell_type": "code",
   "execution_count": 44,
   "metadata": {},
   "outputs": [],
   "source": [
    "import pandas as pd\n",
    "import random\n",
    "from datetime import datetime\n",
    "\n",
    "class Lottery():\n",
    "    def __init__(self,StartDate):\n",
    "        self.numbers = []\n",
    "        self.startDate = datetime.strptime(StartDate,'%m-%d-%Y')\n",
    "    def randomize(self):\n",
    "\n",
    "        if self.startDate >= datetime.strptime('11-04-2015','%m-%d-%Y'):\n",
    "            enddate = 43\n",
    "        elif self.startDate >= datetime.strptime('5-15-2015','%m-%d-%Y'):\n",
    "            enddate = 41\n",
    "        else:\n",
    "            enddate = 39\n",
    "\n",
    "        for i in range(5):\n",
    "            print(enddate)\n",
    "            number = random.randint(1,enddate)\n",
    "            self.numbers.append(number)\n",
    "        print(self.numbers)\n",
    "            \n"
   ]
  },
  {
   "cell_type": "code",
   "execution_count": 47,
   "metadata": {},
   "outputs": [
    {
     "name": "stdout",
     "output_type": "stream",
     "text": [
      "39\n",
      "39\n",
      "39\n",
      "39\n",
      "39\n",
      "[26, 17, 4, 13, 11]\n"
     ]
    }
   ],
   "source": [
    "myLotto = Lottery('05-12-2015')\n",
    "myLotto.randomize()\n"
   ]
  },
  {
   "cell_type": "code",
   "execution_count": null,
   "metadata": {},
   "outputs": [],
   "source": [
    "\n"
   ]
  }
 ],
 "metadata": {
  "kernelspec": {
   "display_name": "Python 3 (ipykernel)",
   "language": "python",
   "name": "python3"
  },
  "language_info": {
   "codemirror_mode": {
    "name": "ipython",
    "version": 3
   },
   "file_extension": ".py",
   "mimetype": "text/x-python",
   "name": "python",
   "nbconvert_exporter": "python",
   "pygments_lexer": "ipython3",
   "version": "3.11.2"
  }
 },
 "nbformat": 4,
 "nbformat_minor": 2
}
